{
  "cells": [
    {
      "cell_type": "code",
      "execution_count": null,
      "metadata": {
        "colab": {
          "base_uri": "https://localhost:8080/"
        },
        "id": "zpebXD70TcFC",
        "outputId": "0b7804e0-f5cd-4f07-c489-61d3b99e28d1"
      },
      "outputs": [
        {
          "output_type": "stream",
          "name": "stdout",
          "text": [
            "Looking in indexes: https://pypi.org/simple, https://us-python.pkg.dev/colab-wheels/public/simple/\n",
            "Collecting contractions\n",
            "  Downloading contractions-0.1.73-py2.py3-none-any.whl (8.7 kB)\n",
            "Collecting textsearch>=0.0.21\n",
            "  Downloading textsearch-0.0.24-py2.py3-none-any.whl (7.6 kB)\n",
            "Collecting anyascii\n",
            "  Downloading anyascii-0.3.1-py3-none-any.whl (287 kB)\n",
            "\u001b[K     |████████████████████████████████| 287 kB 4.9 MB/s \n",
            "\u001b[?25hCollecting pyahocorasick\n",
            "  Downloading pyahocorasick-1.4.4-cp38-cp38-manylinux_2_17_x86_64.manylinux2014_x86_64.whl (110 kB)\n",
            "\u001b[K     |████████████████████████████████| 110 kB 55.6 MB/s \n",
            "\u001b[?25hInstalling collected packages: pyahocorasick, anyascii, textsearch, contractions\n",
            "Successfully installed anyascii-0.3.1 contractions-0.1.73 pyahocorasick-1.4.4 textsearch-0.0.24\n"
          ]
        },
        {
          "output_type": "stream",
          "name": "stderr",
          "text": [
            "[nltk_data] Downloading package wordnet to /root/nltk_data...\n"
          ]
        },
        {
          "output_type": "execute_result",
          "data": {
            "text/plain": [
              "True"
            ]
          },
          "metadata": {},
          "execution_count": 2
        }
      ],
      "source": [
        "!pip install contractions\n",
        "import pandas as pd\n",
        "import os\n",
        "import warnings\n",
        "import re\n",
        "import contractions\n",
        "import nltk\n",
        "warnings.filterwarnings(\"ignore\", category=FutureWarning)\n",
        "import re\n",
        "from bs4 import BeautifulSoup\n",
        "nltk.download('wordnet')"
      ]
    },
    {
      "cell_type": "code",
      "execution_count": null,
      "metadata": {
        "colab": {
          "base_uri": "https://localhost:8080/"
        },
        "id": "z-j3OqlmVWG_",
        "outputId": "09634363-8f3f-493d-bc71-0c026de35932"
      },
      "outputs": [
        {
          "output_type": "stream",
          "name": "stdout",
          "text": [
            "Drive already mounted at /content/gdrive; to attempt to forcibly remount, call drive.mount(\"/content/gdrive\", force_remount=True).\n"
          ]
        }
      ],
      "source": [
        "from google.colab import drive\n",
        "drive.mount('/content/gdrive')"
      ]
    },
    {
      "cell_type": "code",
      "execution_count": null,
      "metadata": {
        "id": "JQlDCnmFVCUv"
      },
      "outputs": [],
      "source": [
        "# amazon_reviews_data=pd.read_csv('/content/gdrive/MyDrive/Colab Notebooks/amazon_reviews_us_Jewelry_v1_00.tsv',sep='\\t',on_bad_lines='skip')\n",
        "# amazon_reviews_data.head()\n",
        "path = \"/content/gdrive/MyDrive/Colab Notebooks/data/data/\"\n",
        "#path = \"/content/gdrive/MyDrive/group_17/data\"\n",
        "dir_list = os.listdir(path)\n",
        "pd.set_option('display.max_colwidth', None)"
      ]
    },
    {
      "cell_type": "code",
      "execution_count": null,
      "metadata": {
        "id": "2pKI1CVgYI0C"
      },
      "outputs": [],
      "source": [
        "all_lines_list=list()\n",
        "labels_list=list()\n",
        "for filename in dir_list:\n",
        "    file_extension_val=filename.split('.')\n",
        "    file_extension=file_extension_val[1]\n",
        "    if(file_extension=='txt'):\n",
        "        label=filename.split('_')\n",
        "        label=label[2]\n",
        "        label=label.split('.')\n",
        "        label=label[0]\n",
        "        labels_list.append(label)\n",
        "        # with open(\"/content/gdrive/MyDrive/Colab Notebooks/data/data/\"+filename, encoding='unicode_escape') as file_ptr:\n",
        "        with open(path + \"/\" + filename, encoding='utf-8') as file_ptr:\n",
        "            lines_temp = list()\n",
        "            for line in file_ptr:\n",
        "                if(line.strip()!=\"-----------------------------\"):\n",
        "                    lines_temp.append(line)\n",
        "            all_lines_list.append(lines_temp)"
      ]
    },
    {
      "cell_type": "code",
      "execution_count": null,
      "metadata": {
        "id": "j3qe0M-QZuz6"
      },
      "outputs": [],
      "source": [
        "df_posts=pd.DataFrame()\n",
        "labels_global_list=list()\n",
        "label_index=0\n",
        "for lst in all_lines_list:\n",
        "    df_temp = pd.DataFrame(lst)\n",
        "    df_posts=df_posts.append(df_temp,ignore_index=True,)\n",
        "#     label_length=len(lst)\n",
        "    for i in range(len(lst)):\n",
        "        labels_global_list.append(labels_list[label_index])\n",
        "    label_index=label_index+1\n",
        "    \n",
        "df_labels = pd.DataFrame(labels_global_list)"
      ]
    },
    {
      "cell_type": "code",
      "execution_count": null,
      "metadata": {
        "colab": {
          "base_uri": "https://localhost:8080/",
          "height": 849
        },
        "id": "fNWkCeKvZx5Z",
        "outputId": "0cef7696-1f77-4d15-c516-234bc7779ffc"
      },
      "outputs": [
        {
          "output_type": "execute_result",
          "data": {
            "text/plain": [
              "                                                                                                                                                                                                                                                                                                                                                                                                                                                                                                                                                                                                                                                                                                                                                                                                                                                                                                                                                                                                                                                                                                                                                                                                                                                                                                                                                                                                                                                           0\n",
              "0                                                                                                                                                                                                                                                                                                                                                                                                                                                                                                                                                                                                                                                                                                                                                                                                                                                                                                                                                                                                                                                                                                                                                          Let our Experienced Techno-Functional Teams Support your existing #Applications while you focus on your New initiatives and #Innovations.  Globally based #Offshore, Hybrid or Onsite.  #applicationdevelopment #technicalsupport #apolis #nearshore #itmanangedservice #managedserviceprovider\\n\n",
              "1                                                                                                                                                                                                                                                                                                                                                                                                                                                                                                                                                                                                                                                                                                                                                                                              Personally, I strongly support activists and I even admire their activities (send petitions to the government & Parliament, or peacefully protest outside Westminster). However, I do not support blocking roads to demand changes, as this action does not convince people. Instead, it makes people feel absurd and annoying, especially when someone is in emergency and they want to go to hospital for treatment immediately. In case they could not get treatment on time, their life will be at risk and protesters who blocks roads will have to take responsibility for their actions. #protests Just Stop Oil: What is it and what are its goals?\\n\n",
              "2                                                                                                                                                                                                                                                                                                                                                                                                                                                                                                                                                                                                                                                                                                                                                                                                                                                                            Let’s not be hoodwinked by Just StopOil’s ill-considered ‘Remembrance’ comment They stopped because they’ve alienated the very people they need to support them, and a grown up in the group has realised thatIt’s a perfect example of not thinking through the consequences of actions - a total lack of risk management or awareness Maybe they’ll think through their approaches in future and make them more targeted?What do people think would be an effective way for them to protest?#juststopoil #riskmanagement #protests Just Stop Oil: M25 protests to be halted\\n\n",
              "3                                                                                                                                                                                                                                                                                                                                                                                                                                                                                                                                                                                                                                                                                                                                                                                                                                                                                                                                                                                      What is the fallout from another morning of protests on the M25? Massive disruption across North West Kent - it's not just the motorway affected. This is the traffic through the usually sleepy Hamlet of Bean; just off the Bluewater junction from the A2. Do 'Just Stop Oil' have a justifiable right to cause this mayhem? Or are their methods alienating people that could help them influence MPs?#juststopoil #protests #traffic #m25 #northwestkent #kent\\n\n",
              "4                                                                                                                                                                                                                                                                                                                                                                                                                                                                                                                                                                                                                                                                                                                                                                                                                                                                                                                                                                                                                                                                                                                                                                                            Given the forthcoming general election in Nigeria, how much youth participation are you witnessing, especially with the lingering emotions from the EndSars protest.Do you think Nigerian youths are ready to make 2023 count? #nigeria #governance #protests\\n\n",
              "...                                                                                                                                                                                                                                                                                                                                                                                                                                                                                                                                                                                                                                                                                                                                                                                                                                                                                                                                                                                                                                                                                                                                                                                                                                                                                                                                                                                                                                                      ...\n",
              "16742                                                                                                                                                                                                                                                                                                                                                                                                                                                                                                                                                                                                                                                                                                                                                                                                                                                                                                                                                                                                              🤔 Le bilan de compétence est-il suffisant pour créer un nouveau projet professionnel?Quelques éléments de réponse dans ma video:  L'aspect mental et émotionnel de l'individu est au cœur d'un changement de carrière réussi!Amandine#wellbeing #coaching #developpementpersonnel #transition #impactpositif #pnl #nlp #travail #healthymindset #carrière #reconversionprofessionnelle #bilandecompetences #entreprise #motivation #job\\n\n",
              "16743                                                                                                                                                                                                                                                                                                                                                                                                                                                                                                                                                                                                                                                                                                                                                                                                                                                                                                                                                           Monday Motivation Healthy food for Energy boosting. * Bananas * Avocados * Eggs * Yogurt * Nuts * Berries * Apples * Oatmeal * BeansLearn about my Health Makeover Program and schedule a Free 20 minute consultation …https://lnkd.in/emtdmMQD.#eatcleanbevital #putyourselffirst #healthcoach #healthylifestyle #healthyfood #healthy #wellnesscoach #hardworkingwomen#nutritioncoach #lifestylechange #nutureyourself #holistichealth #healthymindset #healthyhabits #womensempowerment\\n\n",
              "16744  It’s Day #28 of our 2nd Annual “Can We Laugh at Cancer?” Comedy Challenge. Rating Warning: Language and Concept. This is a very atypical joke for us. I was asked to write 4 more intense cancer-centric jokes (of 31 posts) for people who like more raw humor.My Story Behind The Joke: This is my most risque joke but it is true… My husband does not care.Next Steps: DM your email if you want to be notified of our upcoming ComedyCures research study and my Fall podcast launch.⁠⁠Please LIKE and SHARE this comedy post. Please also consider a donation to The ComedyCures Foundation to support our free, live and digital, award-winning therapeutic ComedyCures programming for patients, caregivers, and healthcare workers.⁠⁠Tell everyone to follow @comedycures and @sarannelive⁠⁠To learn more about my stage IV cancer story, ComedyCures programs or to donate: visit www.ComedyCures.org or click the link in our bio!⁠⁠#ComedyCures #HealthyMindset #ComicRelief⁠ #HumorHeals #DailyFunny #FindingTheFunny #CancerHumor⁠⁠ #CancerComedian #CancerComedy #Oncology #CancerSupport #CancerSurvivor #MetastaticCancer #CancerWarrior #BreastCancer #CancerAwareness #CancerProgram #womenshealthcoach #stage4cancer #womenshealthcare #womenshealthmagazine #CancerSupportCommunity #womenwithcancer #momswithcancer #1888HaHaHaHa #ComedyCuresLaughLine #Psychoneuroimmunology #CancerResearch #ResearchStudy #HealthCareHero\\n\n",
              "16745                                                                                                                                                                                                                                                                                                                                                                                                                                                                                                                                                                                                                                                                                                                                                                                                                                                                                                                                                                                                                                                                                   Check your Lung Capacity in 1 min#FitnessFight#FatLossFun #GetFitAtHome #FitnessAtHome #LoseWeightAtHome #LosingWeightAtHome #Gethealthy #WeightLossChallenge #FatLossChallenge #InchLossChallenge #WajanGhatao #PetKamKaro #FitRaho #6PackAbs #WorkoutFromHome #IntentionalLiving #HealthyYou #FatFreeLife #FitnessMindset #HealthyMindset #LooseWeightGainHealth\\n\n",
              "16746                                                                                                                                                                                                                                                                                                                                                                                                                                                                                                                                                                                                                                                                                                                                                                                                                                                                                                                                                                                           Many people find it difficult to start doing workouts. Tell me your reason behind it & I'll tell you how to overcome it 😀#FitnessFight#FatLossFun #GetFitAtHome #FitnessAtHome #LoseWeightAtHome #LosingWeightAtHome #Gethealthy #WeightLossChallenge #FatLossChallenge #InchLossChallenge #WajanGhatao #PetKamKaro #FitRaho #6PackAbs #WorkoutFromHome #IntentionalLiving #HealthyYou #FatFreeLife #FitnessMindset #HealthyMindset #LooseWeightGainHealth\\n\n",
              "\n",
              "[16747 rows x 1 columns]"
            ],
            "text/html": [
              "\n",
              "  <div id=\"df-28c88772-87d9-4283-be23-27b7374506f0\">\n",
              "    <div class=\"colab-df-container\">\n",
              "      <div>\n",
              "<style scoped>\n",
              "    .dataframe tbody tr th:only-of-type {\n",
              "        vertical-align: middle;\n",
              "    }\n",
              "\n",
              "    .dataframe tbody tr th {\n",
              "        vertical-align: top;\n",
              "    }\n",
              "\n",
              "    .dataframe thead th {\n",
              "        text-align: right;\n",
              "    }\n",
              "</style>\n",
              "<table border=\"1\" class=\"dataframe\">\n",
              "  <thead>\n",
              "    <tr style=\"text-align: right;\">\n",
              "      <th></th>\n",
              "      <th>0</th>\n",
              "    </tr>\n",
              "  </thead>\n",
              "  <tbody>\n",
              "    <tr>\n",
              "      <th>0</th>\n",
              "      <td>Let our Experienced Techno-Functional Teams Support your existing #Applications while you focus on your New initiatives and #Innovations.  Globally based #Offshore, Hybrid or Onsite.  #applicationdevelopment #technicalsupport #apolis #nearshore #itmanangedservice #managedserviceprovider\\n</td>\n",
              "    </tr>\n",
              "    <tr>\n",
              "      <th>1</th>\n",
              "      <td>Personally, I strongly support activists and I even admire their activities (send petitions to the government &amp; Parliament, or peacefully protest outside Westminster). However, I do not support blocking roads to demand changes, as this action does not convince people. Instead, it makes people feel absurd and annoying, especially when someone is in emergency and they want to go to hospital for treatment immediately. In case they could not get treatment on time, their life will be at risk and protesters who blocks roads will have to take responsibility for their actions. #protests Just Stop Oil: What is it and what are its goals?\\n</td>\n",
              "    </tr>\n",
              "    <tr>\n",
              "      <th>2</th>\n",
              "      <td>Let’s not be hoodwinked by Just StopOil’s ill-considered ‘Remembrance’ comment They stopped because they’ve alienated the very people they need to support them, and a grown up in the group has realised thatIt’s a perfect example of not thinking through the consequences of actions - a total lack of risk management or awareness Maybe they’ll think through their approaches in future and make them more targeted?What do people think would be an effective way for them to protest?#juststopoil #riskmanagement #protests Just Stop Oil: M25 protests to be halted\\n</td>\n",
              "    </tr>\n",
              "    <tr>\n",
              "      <th>3</th>\n",
              "      <td>What is the fallout from another morning of protests on the M25? Massive disruption across North West Kent - it's not just the motorway affected. This is the traffic through the usually sleepy Hamlet of Bean; just off the Bluewater junction from the A2. Do 'Just Stop Oil' have a justifiable right to cause this mayhem? Or are their methods alienating people that could help them influence MPs?#juststopoil #protests #traffic #m25 #northwestkent #kent\\n</td>\n",
              "    </tr>\n",
              "    <tr>\n",
              "      <th>4</th>\n",
              "      <td>Given the forthcoming general election in Nigeria, how much youth participation are you witnessing, especially with the lingering emotions from the EndSars protest.Do you think Nigerian youths are ready to make 2023 count? #nigeria #governance #protests\\n</td>\n",
              "    </tr>\n",
              "    <tr>\n",
              "      <th>...</th>\n",
              "      <td>...</td>\n",
              "    </tr>\n",
              "    <tr>\n",
              "      <th>16742</th>\n",
              "      <td>🤔 Le bilan de compétence est-il suffisant pour créer un nouveau projet professionnel?Quelques éléments de réponse dans ma video:  L'aspect mental et émotionnel de l'individu est au cœur d'un changement de carrière réussi!Amandine#wellbeing #coaching #developpementpersonnel #transition #impactpositif #pnl #nlp #travail #healthymindset #carrière #reconversionprofessionnelle #bilandecompetences #entreprise #motivation #job\\n</td>\n",
              "    </tr>\n",
              "    <tr>\n",
              "      <th>16743</th>\n",
              "      <td>Monday Motivation Healthy food for Energy boosting. * Bananas * Avocados * Eggs * Yogurt * Nuts * Berries * Apples * Oatmeal * BeansLearn about my Health Makeover Program and schedule a Free 20 minute consultation …https://lnkd.in/emtdmMQD.#eatcleanbevital #putyourselffirst #healthcoach #healthylifestyle #healthyfood #healthy #wellnesscoach #hardworkingwomen#nutritioncoach #lifestylechange #nutureyourself #holistichealth #healthymindset #healthyhabits #womensempowerment\\n</td>\n",
              "    </tr>\n",
              "    <tr>\n",
              "      <th>16744</th>\n",
              "      <td>It’s Day #28 of our 2nd Annual “Can We Laugh at Cancer?” Comedy Challenge. Rating Warning: Language and Concept. This is a very atypical joke for us. I was asked to write 4 more intense cancer-centric jokes (of 31 posts) for people who like more raw humor.My Story Behind The Joke: This is my most risque joke but it is true… My husband does not care.Next Steps: DM your email if you want to be notified of our upcoming ComedyCures research study and my Fall podcast launch.⁠⁠Please LIKE and SHARE this comedy post. Please also consider a donation to The ComedyCures Foundation to support our free, live and digital, award-winning therapeutic ComedyCures programming for patients, caregivers, and healthcare workers.⁠⁠Tell everyone to follow @comedycures and @sarannelive⁠⁠To learn more about my stage IV cancer story, ComedyCures programs or to donate: visit www.ComedyCures.org or click the link in our bio!⁠⁠#ComedyCures #HealthyMindset #ComicRelief⁠ #HumorHeals #DailyFunny #FindingTheFunny #CancerHumor⁠⁠ #CancerComedian #CancerComedy #Oncology #CancerSupport #CancerSurvivor #MetastaticCancer #CancerWarrior #BreastCancer #CancerAwareness #CancerProgram #womenshealthcoach #stage4cancer #womenshealthcare #womenshealthmagazine #CancerSupportCommunity #womenwithcancer #momswithcancer #1888HaHaHaHa #ComedyCuresLaughLine #Psychoneuroimmunology #CancerResearch #ResearchStudy #HealthCareHero\\n</td>\n",
              "    </tr>\n",
              "    <tr>\n",
              "      <th>16745</th>\n",
              "      <td>Check your Lung Capacity in 1 min#FitnessFight#FatLossFun #GetFitAtHome #FitnessAtHome #LoseWeightAtHome #LosingWeightAtHome #Gethealthy #WeightLossChallenge #FatLossChallenge #InchLossChallenge #WajanGhatao #PetKamKaro #FitRaho #6PackAbs #WorkoutFromHome #IntentionalLiving #HealthyYou #FatFreeLife #FitnessMindset #HealthyMindset #LooseWeightGainHealth\\n</td>\n",
              "    </tr>\n",
              "    <tr>\n",
              "      <th>16746</th>\n",
              "      <td>Many people find it difficult to start doing workouts. Tell me your reason behind it &amp; I'll tell you how to overcome it 😀#FitnessFight#FatLossFun #GetFitAtHome #FitnessAtHome #LoseWeightAtHome #LosingWeightAtHome #Gethealthy #WeightLossChallenge #FatLossChallenge #InchLossChallenge #WajanGhatao #PetKamKaro #FitRaho #6PackAbs #WorkoutFromHome #IntentionalLiving #HealthyYou #FatFreeLife #FitnessMindset #HealthyMindset #LooseWeightGainHealth\\n</td>\n",
              "    </tr>\n",
              "  </tbody>\n",
              "</table>\n",
              "<p>16747 rows × 1 columns</p>\n",
              "</div>\n",
              "      <button class=\"colab-df-convert\" onclick=\"convertToInteractive('df-28c88772-87d9-4283-be23-27b7374506f0')\"\n",
              "              title=\"Convert this dataframe to an interactive table.\"\n",
              "              style=\"display:none;\">\n",
              "        \n",
              "  <svg xmlns=\"http://www.w3.org/2000/svg\" height=\"24px\"viewBox=\"0 0 24 24\"\n",
              "       width=\"24px\">\n",
              "    <path d=\"M0 0h24v24H0V0z\" fill=\"none\"/>\n",
              "    <path d=\"M18.56 5.44l.94 2.06.94-2.06 2.06-.94-2.06-.94-.94-2.06-.94 2.06-2.06.94zm-11 1L8.5 8.5l.94-2.06 2.06-.94-2.06-.94L8.5 2.5l-.94 2.06-2.06.94zm10 10l.94 2.06.94-2.06 2.06-.94-2.06-.94-.94-2.06-.94 2.06-2.06.94z\"/><path d=\"M17.41 7.96l-1.37-1.37c-.4-.4-.92-.59-1.43-.59-.52 0-1.04.2-1.43.59L10.3 9.45l-7.72 7.72c-.78.78-.78 2.05 0 2.83L4 21.41c.39.39.9.59 1.41.59.51 0 1.02-.2 1.41-.59l7.78-7.78 2.81-2.81c.8-.78.8-2.07 0-2.86zM5.41 20L4 18.59l7.72-7.72 1.47 1.35L5.41 20z\"/>\n",
              "  </svg>\n",
              "      </button>\n",
              "      \n",
              "  <style>\n",
              "    .colab-df-container {\n",
              "      display:flex;\n",
              "      flex-wrap:wrap;\n",
              "      gap: 12px;\n",
              "    }\n",
              "\n",
              "    .colab-df-convert {\n",
              "      background-color: #E8F0FE;\n",
              "      border: none;\n",
              "      border-radius: 50%;\n",
              "      cursor: pointer;\n",
              "      display: none;\n",
              "      fill: #1967D2;\n",
              "      height: 32px;\n",
              "      padding: 0 0 0 0;\n",
              "      width: 32px;\n",
              "    }\n",
              "\n",
              "    .colab-df-convert:hover {\n",
              "      background-color: #E2EBFA;\n",
              "      box-shadow: 0px 1px 2px rgba(60, 64, 67, 0.3), 0px 1px 3px 1px rgba(60, 64, 67, 0.15);\n",
              "      fill: #174EA6;\n",
              "    }\n",
              "\n",
              "    [theme=dark] .colab-df-convert {\n",
              "      background-color: #3B4455;\n",
              "      fill: #D2E3FC;\n",
              "    }\n",
              "\n",
              "    [theme=dark] .colab-df-convert:hover {\n",
              "      background-color: #434B5C;\n",
              "      box-shadow: 0px 1px 3px 1px rgba(0, 0, 0, 0.15);\n",
              "      filter: drop-shadow(0px 1px 2px rgba(0, 0, 0, 0.3));\n",
              "      fill: #FFFFFF;\n",
              "    }\n",
              "  </style>\n",
              "\n",
              "      <script>\n",
              "        const buttonEl =\n",
              "          document.querySelector('#df-28c88772-87d9-4283-be23-27b7374506f0 button.colab-df-convert');\n",
              "        buttonEl.style.display =\n",
              "          google.colab.kernel.accessAllowed ? 'block' : 'none';\n",
              "\n",
              "        async function convertToInteractive(key) {\n",
              "          const element = document.querySelector('#df-28c88772-87d9-4283-be23-27b7374506f0');\n",
              "          const dataTable =\n",
              "            await google.colab.kernel.invokeFunction('convertToInteractive',\n",
              "                                                     [key], {});\n",
              "          if (!dataTable) return;\n",
              "\n",
              "          const docLinkHtml = 'Like what you see? Visit the ' +\n",
              "            '<a target=\"_blank\" href=https://colab.research.google.com/notebooks/data_table.ipynb>data table notebook</a>'\n",
              "            + ' to learn more about interactive tables.';\n",
              "          element.innerHTML = '';\n",
              "          dataTable['output_type'] = 'display_data';\n",
              "          await google.colab.output.renderOutput(dataTable, element);\n",
              "          const docLink = document.createElement('div');\n",
              "          docLink.innerHTML = docLinkHtml;\n",
              "          element.appendChild(docLink);\n",
              "        }\n",
              "      </script>\n",
              "    </div>\n",
              "  </div>\n",
              "  "
            ]
          },
          "metadata": {},
          "execution_count": 8
        }
      ],
      "source": [
        "df_posts"
      ]
    },
    {
      "cell_type": "code",
      "execution_count": null,
      "metadata": {
        "colab": {
          "base_uri": "https://localhost:8080/",
          "height": 884
        },
        "id": "k40HrY-jZ5iR",
        "outputId": "50991630-b884-4aa4-8148-3cee7d924c0e"
      },
      "outputs": [
        {
          "output_type": "execute_result",
          "data": {
            "text/plain": [
              "                                                                                                                                                                                                                                                                                                                                                                                                                                                                                                                                                                                                                                                                                                                                                                                                                                                                                                                                                                                                                                                                                                                                                                                                                                                                                                                                                                                                                                                       POSTS  \\\n",
              "0                                                                                                                                                                                                                                                                                                                                                                                                                                                                                                                                                                                                                                                                                                                                                                                                                                                                                                                                                                                                                                                                                                                                                          Let our Experienced Techno-Functional Teams Support your existing #Applications while you focus on your New initiatives and #Innovations.  Globally based #Offshore, Hybrid or Onsite.  #applicationdevelopment #technicalsupport #apolis #nearshore #itmanangedservice #managedserviceprovider\\n   \n",
              "1                                                                                                                                                                                                                                                                                                                                                                                                                                                                                                                                                                                                                                                                                                                                                                                              Personally, I strongly support activists and I even admire their activities (send petitions to the government & Parliament, or peacefully protest outside Westminster). However, I do not support blocking roads to demand changes, as this action does not convince people. Instead, it makes people feel absurd and annoying, especially when someone is in emergency and they want to go to hospital for treatment immediately. In case they could not get treatment on time, their life will be at risk and protesters who blocks roads will have to take responsibility for their actions. #protests Just Stop Oil: What is it and what are its goals?\\n   \n",
              "2                                                                                                                                                                                                                                                                                                                                                                                                                                                                                                                                                                                                                                                                                                                                                                                                                                                                            Let’s not be hoodwinked by Just StopOil’s ill-considered ‘Remembrance’ comment They stopped because they’ve alienated the very people they need to support them, and a grown up in the group has realised thatIt’s a perfect example of not thinking through the consequences of actions - a total lack of risk management or awareness Maybe they’ll think through their approaches in future and make them more targeted?What do people think would be an effective way for them to protest?#juststopoil #riskmanagement #protests Just Stop Oil: M25 protests to be halted\\n   \n",
              "3                                                                                                                                                                                                                                                                                                                                                                                                                                                                                                                                                                                                                                                                                                                                                                                                                                                                                                                                                                                      What is the fallout from another morning of protests on the M25? Massive disruption across North West Kent - it's not just the motorway affected. This is the traffic through the usually sleepy Hamlet of Bean; just off the Bluewater junction from the A2. Do 'Just Stop Oil' have a justifiable right to cause this mayhem? Or are their methods alienating people that could help them influence MPs?#juststopoil #protests #traffic #m25 #northwestkent #kent\\n   \n",
              "4                                                                                                                                                                                                                                                                                                                                                                                                                                                                                                                                                                                                                                                                                                                                                                                                                                                                                                                                                                                                                                                                                                                                                                                            Given the forthcoming general election in Nigeria, how much youth participation are you witnessing, especially with the lingering emotions from the EndSars protest.Do you think Nigerian youths are ready to make 2023 count? #nigeria #governance #protests\\n   \n",
              "...                                                                                                                                                                                                                                                                                                                                                                                                                                                                                                                                                                                                                                                                                                                                                                                                                                                                                                                                                                                                                                                                                                                                                                                                                                                                                                                                                                                                                                                      ...   \n",
              "16742                                                                                                                                                                                                                                                                                                                                                                                                                                                                                                                                                                                                                                                                                                                                                                                                                                                                                                                                                                                                              🤔 Le bilan de compétence est-il suffisant pour créer un nouveau projet professionnel?Quelques éléments de réponse dans ma video:  L'aspect mental et émotionnel de l'individu est au cœur d'un changement de carrière réussi!Amandine#wellbeing #coaching #developpementpersonnel #transition #impactpositif #pnl #nlp #travail #healthymindset #carrière #reconversionprofessionnelle #bilandecompetences #entreprise #motivation #job\\n   \n",
              "16743                                                                                                                                                                                                                                                                                                                                                                                                                                                                                                                                                                                                                                                                                                                                                                                                                                                                                                                                                           Monday Motivation Healthy food for Energy boosting. * Bananas * Avocados * Eggs * Yogurt * Nuts * Berries * Apples * Oatmeal * BeansLearn about my Health Makeover Program and schedule a Free 20 minute consultation …https://lnkd.in/emtdmMQD.#eatcleanbevital #putyourselffirst #healthcoach #healthylifestyle #healthyfood #healthy #wellnesscoach #hardworkingwomen#nutritioncoach #lifestylechange #nutureyourself #holistichealth #healthymindset #healthyhabits #womensempowerment\\n   \n",
              "16744  It’s Day #28 of our 2nd Annual “Can We Laugh at Cancer?” Comedy Challenge. Rating Warning: Language and Concept. This is a very atypical joke for us. I was asked to write 4 more intense cancer-centric jokes (of 31 posts) for people who like more raw humor.My Story Behind The Joke: This is my most risque joke but it is true… My husband does not care.Next Steps: DM your email if you want to be notified of our upcoming ComedyCures research study and my Fall podcast launch.⁠⁠Please LIKE and SHARE this comedy post. Please also consider a donation to The ComedyCures Foundation to support our free, live and digital, award-winning therapeutic ComedyCures programming for patients, caregivers, and healthcare workers.⁠⁠Tell everyone to follow @comedycures and @sarannelive⁠⁠To learn more about my stage IV cancer story, ComedyCures programs or to donate: visit www.ComedyCures.org or click the link in our bio!⁠⁠#ComedyCures #HealthyMindset #ComicRelief⁠ #HumorHeals #DailyFunny #FindingTheFunny #CancerHumor⁠⁠ #CancerComedian #CancerComedy #Oncology #CancerSupport #CancerSurvivor #MetastaticCancer #CancerWarrior #BreastCancer #CancerAwareness #CancerProgram #womenshealthcoach #stage4cancer #womenshealthcare #womenshealthmagazine #CancerSupportCommunity #womenwithcancer #momswithcancer #1888HaHaHaHa #ComedyCuresLaughLine #Psychoneuroimmunology #CancerResearch #ResearchStudy #HealthCareHero\\n   \n",
              "16745                                                                                                                                                                                                                                                                                                                                                                                                                                                                                                                                                                                                                                                                                                                                                                                                                                                                                                                                                                                                                                                                                   Check your Lung Capacity in 1 min#FitnessFight#FatLossFun #GetFitAtHome #FitnessAtHome #LoseWeightAtHome #LosingWeightAtHome #Gethealthy #WeightLossChallenge #FatLossChallenge #InchLossChallenge #WajanGhatao #PetKamKaro #FitRaho #6PackAbs #WorkoutFromHome #IntentionalLiving #HealthyYou #FatFreeLife #FitnessMindset #HealthyMindset #LooseWeightGainHealth\\n   \n",
              "16746                                                                                                                                                                                                                                                                                                                                                                                                                                                                                                                                                                                                                                                                                                                                                                                                                                                                                                                                                                                           Many people find it difficult to start doing workouts. Tell me your reason behind it & I'll tell you how to overcome it 😀#FitnessFight#FatLossFun #GetFitAtHome #FitnessAtHome #LoseWeightAtHome #LosingWeightAtHome #Gethealthy #WeightLossChallenge #FatLossChallenge #InchLossChallenge #WajanGhatao #PetKamKaro #FitRaho #6PackAbs #WorkoutFromHome #IntentionalLiving #HealthyYou #FatFreeLife #FitnessMindset #HealthyMindset #LooseWeightGainHealth\\n   \n",
              "\n",
              "                LABEL  \n",
              "0            protests  \n",
              "1            protests  \n",
              "2            protests  \n",
              "3            protests  \n",
              "4            protests  \n",
              "...               ...  \n",
              "16742  healthymindset  \n",
              "16743  healthymindset  \n",
              "16744  healthymindset  \n",
              "16745  healthymindset  \n",
              "16746  healthymindset  \n",
              "\n",
              "[16747 rows x 2 columns]"
            ],
            "text/html": [
              "\n",
              "  <div id=\"df-8aa34985-7a51-4a5f-ae02-428621261b1e\">\n",
              "    <div class=\"colab-df-container\">\n",
              "      <div>\n",
              "<style scoped>\n",
              "    .dataframe tbody tr th:only-of-type {\n",
              "        vertical-align: middle;\n",
              "    }\n",
              "\n",
              "    .dataframe tbody tr th {\n",
              "        vertical-align: top;\n",
              "    }\n",
              "\n",
              "    .dataframe thead th {\n",
              "        text-align: right;\n",
              "    }\n",
              "</style>\n",
              "<table border=\"1\" class=\"dataframe\">\n",
              "  <thead>\n",
              "    <tr style=\"text-align: right;\">\n",
              "      <th></th>\n",
              "      <th>POSTS</th>\n",
              "      <th>LABEL</th>\n",
              "    </tr>\n",
              "  </thead>\n",
              "  <tbody>\n",
              "    <tr>\n",
              "      <th>0</th>\n",
              "      <td>Let our Experienced Techno-Functional Teams Support your existing #Applications while you focus on your New initiatives and #Innovations.  Globally based #Offshore, Hybrid or Onsite.  #applicationdevelopment #technicalsupport #apolis #nearshore #itmanangedservice #managedserviceprovider\\n</td>\n",
              "      <td>protests</td>\n",
              "    </tr>\n",
              "    <tr>\n",
              "      <th>1</th>\n",
              "      <td>Personally, I strongly support activists and I even admire their activities (send petitions to the government &amp; Parliament, or peacefully protest outside Westminster). However, I do not support blocking roads to demand changes, as this action does not convince people. Instead, it makes people feel absurd and annoying, especially when someone is in emergency and they want to go to hospital for treatment immediately. In case they could not get treatment on time, their life will be at risk and protesters who blocks roads will have to take responsibility for their actions. #protests Just Stop Oil: What is it and what are its goals?\\n</td>\n",
              "      <td>protests</td>\n",
              "    </tr>\n",
              "    <tr>\n",
              "      <th>2</th>\n",
              "      <td>Let’s not be hoodwinked by Just StopOil’s ill-considered ‘Remembrance’ comment They stopped because they’ve alienated the very people they need to support them, and a grown up in the group has realised thatIt’s a perfect example of not thinking through the consequences of actions - a total lack of risk management or awareness Maybe they’ll think through their approaches in future and make them more targeted?What do people think would be an effective way for them to protest?#juststopoil #riskmanagement #protests Just Stop Oil: M25 protests to be halted\\n</td>\n",
              "      <td>protests</td>\n",
              "    </tr>\n",
              "    <tr>\n",
              "      <th>3</th>\n",
              "      <td>What is the fallout from another morning of protests on the M25? Massive disruption across North West Kent - it's not just the motorway affected. This is the traffic through the usually sleepy Hamlet of Bean; just off the Bluewater junction from the A2. Do 'Just Stop Oil' have a justifiable right to cause this mayhem? Or are their methods alienating people that could help them influence MPs?#juststopoil #protests #traffic #m25 #northwestkent #kent\\n</td>\n",
              "      <td>protests</td>\n",
              "    </tr>\n",
              "    <tr>\n",
              "      <th>4</th>\n",
              "      <td>Given the forthcoming general election in Nigeria, how much youth participation are you witnessing, especially with the lingering emotions from the EndSars protest.Do you think Nigerian youths are ready to make 2023 count? #nigeria #governance #protests\\n</td>\n",
              "      <td>protests</td>\n",
              "    </tr>\n",
              "    <tr>\n",
              "      <th>...</th>\n",
              "      <td>...</td>\n",
              "      <td>...</td>\n",
              "    </tr>\n",
              "    <tr>\n",
              "      <th>16742</th>\n",
              "      <td>🤔 Le bilan de compétence est-il suffisant pour créer un nouveau projet professionnel?Quelques éléments de réponse dans ma video:  L'aspect mental et émotionnel de l'individu est au cœur d'un changement de carrière réussi!Amandine#wellbeing #coaching #developpementpersonnel #transition #impactpositif #pnl #nlp #travail #healthymindset #carrière #reconversionprofessionnelle #bilandecompetences #entreprise #motivation #job\\n</td>\n",
              "      <td>healthymindset</td>\n",
              "    </tr>\n",
              "    <tr>\n",
              "      <th>16743</th>\n",
              "      <td>Monday Motivation Healthy food for Energy boosting. * Bananas * Avocados * Eggs * Yogurt * Nuts * Berries * Apples * Oatmeal * BeansLearn about my Health Makeover Program and schedule a Free 20 minute consultation …https://lnkd.in/emtdmMQD.#eatcleanbevital #putyourselffirst #healthcoach #healthylifestyle #healthyfood #healthy #wellnesscoach #hardworkingwomen#nutritioncoach #lifestylechange #nutureyourself #holistichealth #healthymindset #healthyhabits #womensempowerment\\n</td>\n",
              "      <td>healthymindset</td>\n",
              "    </tr>\n",
              "    <tr>\n",
              "      <th>16744</th>\n",
              "      <td>It’s Day #28 of our 2nd Annual “Can We Laugh at Cancer?” Comedy Challenge. Rating Warning: Language and Concept. This is a very atypical joke for us. I was asked to write 4 more intense cancer-centric jokes (of 31 posts) for people who like more raw humor.My Story Behind The Joke: This is my most risque joke but it is true… My husband does not care.Next Steps: DM your email if you want to be notified of our upcoming ComedyCures research study and my Fall podcast launch.⁠⁠Please LIKE and SHARE this comedy post. Please also consider a donation to The ComedyCures Foundation to support our free, live and digital, award-winning therapeutic ComedyCures programming for patients, caregivers, and healthcare workers.⁠⁠Tell everyone to follow @comedycures and @sarannelive⁠⁠To learn more about my stage IV cancer story, ComedyCures programs or to donate: visit www.ComedyCures.org or click the link in our bio!⁠⁠#ComedyCures #HealthyMindset #ComicRelief⁠ #HumorHeals #DailyFunny #FindingTheFunny #CancerHumor⁠⁠ #CancerComedian #CancerComedy #Oncology #CancerSupport #CancerSurvivor #MetastaticCancer #CancerWarrior #BreastCancer #CancerAwareness #CancerProgram #womenshealthcoach #stage4cancer #womenshealthcare #womenshealthmagazine #CancerSupportCommunity #womenwithcancer #momswithcancer #1888HaHaHaHa #ComedyCuresLaughLine #Psychoneuroimmunology #CancerResearch #ResearchStudy #HealthCareHero\\n</td>\n",
              "      <td>healthymindset</td>\n",
              "    </tr>\n",
              "    <tr>\n",
              "      <th>16745</th>\n",
              "      <td>Check your Lung Capacity in 1 min#FitnessFight#FatLossFun #GetFitAtHome #FitnessAtHome #LoseWeightAtHome #LosingWeightAtHome #Gethealthy #WeightLossChallenge #FatLossChallenge #InchLossChallenge #WajanGhatao #PetKamKaro #FitRaho #6PackAbs #WorkoutFromHome #IntentionalLiving #HealthyYou #FatFreeLife #FitnessMindset #HealthyMindset #LooseWeightGainHealth\\n</td>\n",
              "      <td>healthymindset</td>\n",
              "    </tr>\n",
              "    <tr>\n",
              "      <th>16746</th>\n",
              "      <td>Many people find it difficult to start doing workouts. Tell me your reason behind it &amp; I'll tell you how to overcome it 😀#FitnessFight#FatLossFun #GetFitAtHome #FitnessAtHome #LoseWeightAtHome #LosingWeightAtHome #Gethealthy #WeightLossChallenge #FatLossChallenge #InchLossChallenge #WajanGhatao #PetKamKaro #FitRaho #6PackAbs #WorkoutFromHome #IntentionalLiving #HealthyYou #FatFreeLife #FitnessMindset #HealthyMindset #LooseWeightGainHealth\\n</td>\n",
              "      <td>healthymindset</td>\n",
              "    </tr>\n",
              "  </tbody>\n",
              "</table>\n",
              "<p>16747 rows × 2 columns</p>\n",
              "</div>\n",
              "      <button class=\"colab-df-convert\" onclick=\"convertToInteractive('df-8aa34985-7a51-4a5f-ae02-428621261b1e')\"\n",
              "              title=\"Convert this dataframe to an interactive table.\"\n",
              "              style=\"display:none;\">\n",
              "        \n",
              "  <svg xmlns=\"http://www.w3.org/2000/svg\" height=\"24px\"viewBox=\"0 0 24 24\"\n",
              "       width=\"24px\">\n",
              "    <path d=\"M0 0h24v24H0V0z\" fill=\"none\"/>\n",
              "    <path d=\"M18.56 5.44l.94 2.06.94-2.06 2.06-.94-2.06-.94-.94-2.06-.94 2.06-2.06.94zm-11 1L8.5 8.5l.94-2.06 2.06-.94-2.06-.94L8.5 2.5l-.94 2.06-2.06.94zm10 10l.94 2.06.94-2.06 2.06-.94-2.06-.94-.94-2.06-.94 2.06-2.06.94z\"/><path d=\"M17.41 7.96l-1.37-1.37c-.4-.4-.92-.59-1.43-.59-.52 0-1.04.2-1.43.59L10.3 9.45l-7.72 7.72c-.78.78-.78 2.05 0 2.83L4 21.41c.39.39.9.59 1.41.59.51 0 1.02-.2 1.41-.59l7.78-7.78 2.81-2.81c.8-.78.8-2.07 0-2.86zM5.41 20L4 18.59l7.72-7.72 1.47 1.35L5.41 20z\"/>\n",
              "  </svg>\n",
              "      </button>\n",
              "      \n",
              "  <style>\n",
              "    .colab-df-container {\n",
              "      display:flex;\n",
              "      flex-wrap:wrap;\n",
              "      gap: 12px;\n",
              "    }\n",
              "\n",
              "    .colab-df-convert {\n",
              "      background-color: #E8F0FE;\n",
              "      border: none;\n",
              "      border-radius: 50%;\n",
              "      cursor: pointer;\n",
              "      display: none;\n",
              "      fill: #1967D2;\n",
              "      height: 32px;\n",
              "      padding: 0 0 0 0;\n",
              "      width: 32px;\n",
              "    }\n",
              "\n",
              "    .colab-df-convert:hover {\n",
              "      background-color: #E2EBFA;\n",
              "      box-shadow: 0px 1px 2px rgba(60, 64, 67, 0.3), 0px 1px 3px 1px rgba(60, 64, 67, 0.15);\n",
              "      fill: #174EA6;\n",
              "    }\n",
              "\n",
              "    [theme=dark] .colab-df-convert {\n",
              "      background-color: #3B4455;\n",
              "      fill: #D2E3FC;\n",
              "    }\n",
              "\n",
              "    [theme=dark] .colab-df-convert:hover {\n",
              "      background-color: #434B5C;\n",
              "      box-shadow: 0px 1px 3px 1px rgba(0, 0, 0, 0.15);\n",
              "      filter: drop-shadow(0px 1px 2px rgba(0, 0, 0, 0.3));\n",
              "      fill: #FFFFFF;\n",
              "    }\n",
              "  </style>\n",
              "\n",
              "      <script>\n",
              "        const buttonEl =\n",
              "          document.querySelector('#df-8aa34985-7a51-4a5f-ae02-428621261b1e button.colab-df-convert');\n",
              "        buttonEl.style.display =\n",
              "          google.colab.kernel.accessAllowed ? 'block' : 'none';\n",
              "\n",
              "        async function convertToInteractive(key) {\n",
              "          const element = document.querySelector('#df-8aa34985-7a51-4a5f-ae02-428621261b1e');\n",
              "          const dataTable =\n",
              "            await google.colab.kernel.invokeFunction('convertToInteractive',\n",
              "                                                     [key], {});\n",
              "          if (!dataTable) return;\n",
              "\n",
              "          const docLinkHtml = 'Like what you see? Visit the ' +\n",
              "            '<a target=\"_blank\" href=https://colab.research.google.com/notebooks/data_table.ipynb>data table notebook</a>'\n",
              "            + ' to learn more about interactive tables.';\n",
              "          element.innerHTML = '';\n",
              "          dataTable['output_type'] = 'display_data';\n",
              "          await google.colab.output.renderOutput(dataTable, element);\n",
              "          const docLink = document.createElement('div');\n",
              "          docLink.innerHTML = docLinkHtml;\n",
              "          element.appendChild(docLink);\n",
              "        }\n",
              "      </script>\n",
              "    </div>\n",
              "  </div>\n",
              "  "
            ]
          },
          "metadata": {},
          "execution_count": 9
        }
      ],
      "source": [
        "complete_data = pd.concat([df_posts, df_labels], axis=1)\n",
        "complete_data.columns = ['POSTS', 'LABEL']\n",
        "complete_data"
      ]
    },
    {
      "cell_type": "code",
      "execution_count": null,
      "metadata": {
        "id": "HuTNTfJnretF"
      },
      "outputs": [],
      "source": [
        "complete_data.to_csv(\"/content/gdrive/MyDrive/Colab Notebooks/output2.csv\",encoding='utf-8') "
      ]
    },
    {
      "cell_type": "code",
      "execution_count": null,
      "metadata": {
        "id": "qNzhiDOsaEjY"
      },
      "outputs": [],
      "source": [
        "#convert to lowercase\n",
        "complete_data['POSTS']=complete_data['POSTS'].str.lower()"
      ]
    },
    {
      "cell_type": "code",
      "execution_count": null,
      "metadata": {
        "id": "L79MBX4MaEtX"
      },
      "outputs": [],
      "source": [
        "#remove html content\n",
        "complete_data['POSTS'] = complete_data['POSTS'].apply(lambda x: re.split('<[^<>]*>', str(x))[0])"
      ]
    },
    {
      "cell_type": "code",
      "execution_count": null,
      "metadata": {
        "id": "7lGCW80RaExP"
      },
      "outputs": [],
      "source": [
        "def contr(post_text):\n",
        "     posts_body_list=[]\n",
        "     for r in post_text:\n",
        "         decontract_posts_body = contractions.fix(r)\n",
        "         r = ''.join(decontract_posts_body)\n",
        "         r = re.sub(\"\\s\\s+\", \" \", r) # remove extra spaces\n",
        "         posts_body_list.append(r)\n",
        "     return posts_body_list"
      ]
    },
    {
      "cell_type": "code",
      "execution_count": null,
      "metadata": {
        "id": "l8y4uTtpaEz4"
      },
      "outputs": [],
      "source": [
        "complete_data['POSTS']=contr(complete_data['POSTS'].values)"
      ]
    },
    {
      "cell_type": "code",
      "execution_count": null,
      "metadata": {
        "id": "ohWnC6mIbkqM"
      },
      "outputs": [],
      "source": [
        "# remove posts w/o hastags"
      ]
    },
    {
      "cell_type": "code",
      "execution_count": null,
      "metadata": {
        "id": "_d1V_32AaE2u"
      },
      "outputs": [],
      "source": [
        "#remove non-alphabetical values\n",
        "complete_data['POSTS'] = complete_data['POSTS'].replace('[^a-zA-Z ]', '', regex=True)"
      ]
    },
    {
      "cell_type": "code",
      "execution_count": null,
      "metadata": {
        "colab": {
          "base_uri": "https://localhost:8080/",
          "height": 867
        },
        "id": "JgCmltefaE5R",
        "outputId": "d4b3f0e0-0cfb-47de-8443-fc6909df5d41"
      },
      "outputs": [
        {
          "output_type": "execute_result",
          "data": {
            "text/plain": [
              "                                                                                                                                                                                                                                                                                                                                                                                                                                                                                                                                                                                                                                                                                                                                                                                                                                                                                                                                                                                                                                                                                                                                                                                                                                                                                                                                                                   POSTS  \\\n",
              "0                                                                                                                                                                                                                                                                                                                                                                                                                                                                                                                                                                                                                                                                                                                                                                                                                                                                                                                                                                                                                                                                                       let our experienced technofunctional teams support your existing applications while you focus on your new initiatives and innovations globally based offshore hybrid or onsite applicationdevelopment technicalsupport apolis nearshore itmanangedservice managedserviceprovider   \n",
              "1                                                                                                                                                                                                                                                                                                                                                                                                                                                                                                                                                                                                                                                                                                                             personally i strongly support activists and i even admire their activities send petitions to the government  parliament or peacefully protest outside westminster however i do not support blocking roads to demand changes as this action does not convince people instead it makes people feel absurd and annoying especially when someone is in emergency and they want to go to hospital for treatment immediately in case they could not get treatment on time their life will be at risk and protesters who blocks roads will have to take responsibility for their actions protests just stop oil what is it and what are its goals   \n",
              "2                                                                                                                                                                                                                                                                                                                                                                                                                                                                                                                                                                                                                                                                                                                                                                                                    let us not be hoodwinked by just stopoils illconsidered remembrance comment they stopped because they have alienated the very people they need to support them and a grown up in the group has realised thatits a perfect example of not thinking through the consequences of actions  a total lack of risk management or awareness maybe they will think through their approaches in future and make them more targetedwhat do people think would be an effective way for them to protestjuststopoil riskmanagement protests just stop oil m protests to be halted   \n",
              "3                                                                                                                                                                                                                                                                                                                                                                                                                                                                                                                                                                                                                                                                                                                                                                                                                                                                                                                       what is the fallout from another morning of protests on the m massive disruption across north west kent  it is not just the motorway affected this is the traffic through the usually sleepy hamlet of bean just off the bluewater junction from the a do just stop oil have a justifiable right to cause this mayhem or are their methods alienating people that could help them influence mpsjuststopoil protests traffic m northwestkent kent   \n",
              "4                                                                                                                                                                                                                                                                                                                                                                                                                                                                                                                                                                                                                                                                                                                                                                                                                                                                                                                                                                                                                                                                                                                     given the forthcoming general election in nigeria how much youth participation are you witnessing especially with the lingering emotions from the endsars protestdo you think nigerian youths are ready to make  count nigeria governance protests   \n",
              "...                                                                                                                                                                                                                                                                                                                                                                                                                                                                                                                                                                                                                                                                                                                                                                                                                                                                                                                                                                                                                                                                                                                                                                                                                                                                                                                                                                  ...   \n",
              "16742                                                                                                                                                                                                                                                                                                                                                                                                                                                                                                                                                                                                                                                                                                                                                                                                                                                                                                                                                          le bilan de comptence estil suffisant pour crer un nouveau projet professionnelquelques lments de rponse dans ma video laspect mental et motionnel de lindividu est au cyou are dun changement de carrire russiamandinewellbeing coaching developpementpersonnel transition impactpositif pnl nlp travail healthymindset carrire reconversionprofessionnelle bilandecompetences entreprise motivation job   \n",
              "16743                                                                                                                                                                                                                                                                                                                                                                                                                                                                                                                                                                                                                                                                                                                                                                                                                                                                                                                     monday motivationhealthy food for energy boosting bananas avocados eggs yogurt nuts berries apples oatmeal beanslearn about my health makeover program and schedule a free  minute consultation httpslnkdinemtdmmqdeatcleanbevital putyourselffirst healthcoach healthylifestyle healthyfood healthy wellnesscoach hardworkingwomennutritioncoach lifestylechange nutureyourself holistichealth healthymindset healthyhabits womensempowerment   \n",
              "16744  it is day  of our nd annual can we laugh at cancer comedy challenge rating warning language and concept this is a very atypical joke for us i was asked to write  more intense cancercentric jokes of  posts for people who like more raw humormy story behind the joke this is my most risque joke but it is true my husband does not carenext steps dm your email if you want to be notified of our upcoming comedycures research study and my fall podcast launchplease like and share this comedy post please also consider a donation to the comedycures foundation to support our free live and digital awardwinning therapeutic comedycures programming for patients caregivers and healthcare workerstell everyone to follow comedycures and saranneliveto learn more about my stage iv cancer story comedycures programs or to donate visit wwwcomedycuresorg or click the link in our biocomedycures healthymindset comicrelief humorheals dailyfunny findingthefunny cancerhumor cancercomedian cancercomedy oncology cancersupport cancersurvivor metastaticcancer cancerwarrior breastcancer cancerawareness cancerprogram womenshealthcoach stagecancer womenshealthcare womenshealthmagazine cancersupportcommunity womenwithcancer momswithcancer hahahaha comedycureslaughline psychoneuroimmunology cancerresearch researchstudy healthcarehero   \n",
              "16745                                                                                                                                                                                                                                                                                                                                                                                                                                                                                                                                                                                                                                                                                                                                                                                                                                                                                                                                                                                                                        check your lung capacity in  minfitnessfightfatlossfun getfitathome fitnessathome loseweightathome losingweightathome gethealthy weightlosschallenge fatlosschallenge inchlosschallenge wajanghatao petkamkaro fitraho packabs workoutfromhome intentionalliving healthyyou fatfreelife fitnessmindset healthymindset looseweightgainhealth   \n",
              "16746                                                                                                                                                                                                                                                                                                                                                                                                                                                                                                                                                                                                                                                                                                                                                                                                                                                                                                                                many people find it difficult to start doing workouts tell me your reason behind it  i will tell you how to overcome it fitnessfightfatlossfun getfitathome fitnessathome loseweightathome losingweightathome gethealthy weightlosschallenge fatlosschallenge inchlosschallenge wajanghatao petkamkaro fitraho packabs workoutfromhome intentionalliving healthyyou fatfreelife fitnessmindset healthymindset looseweightgainhealth   \n",
              "\n",
              "                LABEL  \n",
              "0            protests  \n",
              "1            protests  \n",
              "2            protests  \n",
              "3            protests  \n",
              "4            protests  \n",
              "...               ...  \n",
              "16742  healthymindset  \n",
              "16743  healthymindset  \n",
              "16744  healthymindset  \n",
              "16745  healthymindset  \n",
              "16746  healthymindset  \n",
              "\n",
              "[16747 rows x 2 columns]"
            ],
            "text/html": [
              "\n",
              "  <div id=\"df-1b91474b-ade0-4a00-8388-5fde03705d53\">\n",
              "    <div class=\"colab-df-container\">\n",
              "      <div>\n",
              "<style scoped>\n",
              "    .dataframe tbody tr th:only-of-type {\n",
              "        vertical-align: middle;\n",
              "    }\n",
              "\n",
              "    .dataframe tbody tr th {\n",
              "        vertical-align: top;\n",
              "    }\n",
              "\n",
              "    .dataframe thead th {\n",
              "        text-align: right;\n",
              "    }\n",
              "</style>\n",
              "<table border=\"1\" class=\"dataframe\">\n",
              "  <thead>\n",
              "    <tr style=\"text-align: right;\">\n",
              "      <th></th>\n",
              "      <th>POSTS</th>\n",
              "      <th>LABEL</th>\n",
              "    </tr>\n",
              "  </thead>\n",
              "  <tbody>\n",
              "    <tr>\n",
              "      <th>0</th>\n",
              "      <td>let our experienced technofunctional teams support your existing applications while you focus on your new initiatives and innovations globally based offshore hybrid or onsite applicationdevelopment technicalsupport apolis nearshore itmanangedservice managedserviceprovider</td>\n",
              "      <td>protests</td>\n",
              "    </tr>\n",
              "    <tr>\n",
              "      <th>1</th>\n",
              "      <td>personally i strongly support activists and i even admire their activities send petitions to the government  parliament or peacefully protest outside westminster however i do not support blocking roads to demand changes as this action does not convince people instead it makes people feel absurd and annoying especially when someone is in emergency and they want to go to hospital for treatment immediately in case they could not get treatment on time their life will be at risk and protesters who blocks roads will have to take responsibility for their actions protests just stop oil what is it and what are its goals</td>\n",
              "      <td>protests</td>\n",
              "    </tr>\n",
              "    <tr>\n",
              "      <th>2</th>\n",
              "      <td>let us not be hoodwinked by just stopoils illconsidered remembrance comment they stopped because they have alienated the very people they need to support them and a grown up in the group has realised thatits a perfect example of not thinking through the consequences of actions  a total lack of risk management or awareness maybe they will think through their approaches in future and make them more targetedwhat do people think would be an effective way for them to protestjuststopoil riskmanagement protests just stop oil m protests to be halted</td>\n",
              "      <td>protests</td>\n",
              "    </tr>\n",
              "    <tr>\n",
              "      <th>3</th>\n",
              "      <td>what is the fallout from another morning of protests on the m massive disruption across north west kent  it is not just the motorway affected this is the traffic through the usually sleepy hamlet of bean just off the bluewater junction from the a do just stop oil have a justifiable right to cause this mayhem or are their methods alienating people that could help them influence mpsjuststopoil protests traffic m northwestkent kent</td>\n",
              "      <td>protests</td>\n",
              "    </tr>\n",
              "    <tr>\n",
              "      <th>4</th>\n",
              "      <td>given the forthcoming general election in nigeria how much youth participation are you witnessing especially with the lingering emotions from the endsars protestdo you think nigerian youths are ready to make  count nigeria governance protests</td>\n",
              "      <td>protests</td>\n",
              "    </tr>\n",
              "    <tr>\n",
              "      <th>...</th>\n",
              "      <td>...</td>\n",
              "      <td>...</td>\n",
              "    </tr>\n",
              "    <tr>\n",
              "      <th>16742</th>\n",
              "      <td>le bilan de comptence estil suffisant pour crer un nouveau projet professionnelquelques lments de rponse dans ma video laspect mental et motionnel de lindividu est au cyou are dun changement de carrire russiamandinewellbeing coaching developpementpersonnel transition impactpositif pnl nlp travail healthymindset carrire reconversionprofessionnelle bilandecompetences entreprise motivation job</td>\n",
              "      <td>healthymindset</td>\n",
              "    </tr>\n",
              "    <tr>\n",
              "      <th>16743</th>\n",
              "      <td>monday motivationhealthy food for energy boosting bananas avocados eggs yogurt nuts berries apples oatmeal beanslearn about my health makeover program and schedule a free  minute consultation httpslnkdinemtdmmqdeatcleanbevital putyourselffirst healthcoach healthylifestyle healthyfood healthy wellnesscoach hardworkingwomennutritioncoach lifestylechange nutureyourself holistichealth healthymindset healthyhabits womensempowerment</td>\n",
              "      <td>healthymindset</td>\n",
              "    </tr>\n",
              "    <tr>\n",
              "      <th>16744</th>\n",
              "      <td>it is day  of our nd annual can we laugh at cancer comedy challenge rating warning language and concept this is a very atypical joke for us i was asked to write  more intense cancercentric jokes of  posts for people who like more raw humormy story behind the joke this is my most risque joke but it is true my husband does not carenext steps dm your email if you want to be notified of our upcoming comedycures research study and my fall podcast launchplease like and share this comedy post please also consider a donation to the comedycures foundation to support our free live and digital awardwinning therapeutic comedycures programming for patients caregivers and healthcare workerstell everyone to follow comedycures and saranneliveto learn more about my stage iv cancer story comedycures programs or to donate visit wwwcomedycuresorg or click the link in our biocomedycures healthymindset comicrelief humorheals dailyfunny findingthefunny cancerhumor cancercomedian cancercomedy oncology cancersupport cancersurvivor metastaticcancer cancerwarrior breastcancer cancerawareness cancerprogram womenshealthcoach stagecancer womenshealthcare womenshealthmagazine cancersupportcommunity womenwithcancer momswithcancer hahahaha comedycureslaughline psychoneuroimmunology cancerresearch researchstudy healthcarehero</td>\n",
              "      <td>healthymindset</td>\n",
              "    </tr>\n",
              "    <tr>\n",
              "      <th>16745</th>\n",
              "      <td>check your lung capacity in  minfitnessfightfatlossfun getfitathome fitnessathome loseweightathome losingweightathome gethealthy weightlosschallenge fatlosschallenge inchlosschallenge wajanghatao petkamkaro fitraho packabs workoutfromhome intentionalliving healthyyou fatfreelife fitnessmindset healthymindset looseweightgainhealth</td>\n",
              "      <td>healthymindset</td>\n",
              "    </tr>\n",
              "    <tr>\n",
              "      <th>16746</th>\n",
              "      <td>many people find it difficult to start doing workouts tell me your reason behind it  i will tell you how to overcome it fitnessfightfatlossfun getfitathome fitnessathome loseweightathome losingweightathome gethealthy weightlosschallenge fatlosschallenge inchlosschallenge wajanghatao petkamkaro fitraho packabs workoutfromhome intentionalliving healthyyou fatfreelife fitnessmindset healthymindset looseweightgainhealth</td>\n",
              "      <td>healthymindset</td>\n",
              "    </tr>\n",
              "  </tbody>\n",
              "</table>\n",
              "<p>16747 rows × 2 columns</p>\n",
              "</div>\n",
              "      <button class=\"colab-df-convert\" onclick=\"convertToInteractive('df-1b91474b-ade0-4a00-8388-5fde03705d53')\"\n",
              "              title=\"Convert this dataframe to an interactive table.\"\n",
              "              style=\"display:none;\">\n",
              "        \n",
              "  <svg xmlns=\"http://www.w3.org/2000/svg\" height=\"24px\"viewBox=\"0 0 24 24\"\n",
              "       width=\"24px\">\n",
              "    <path d=\"M0 0h24v24H0V0z\" fill=\"none\"/>\n",
              "    <path d=\"M18.56 5.44l.94 2.06.94-2.06 2.06-.94-2.06-.94-.94-2.06-.94 2.06-2.06.94zm-11 1L8.5 8.5l.94-2.06 2.06-.94-2.06-.94L8.5 2.5l-.94 2.06-2.06.94zm10 10l.94 2.06.94-2.06 2.06-.94-2.06-.94-.94-2.06-.94 2.06-2.06.94z\"/><path d=\"M17.41 7.96l-1.37-1.37c-.4-.4-.92-.59-1.43-.59-.52 0-1.04.2-1.43.59L10.3 9.45l-7.72 7.72c-.78.78-.78 2.05 0 2.83L4 21.41c.39.39.9.59 1.41.59.51 0 1.02-.2 1.41-.59l7.78-7.78 2.81-2.81c.8-.78.8-2.07 0-2.86zM5.41 20L4 18.59l7.72-7.72 1.47 1.35L5.41 20z\"/>\n",
              "  </svg>\n",
              "      </button>\n",
              "      \n",
              "  <style>\n",
              "    .colab-df-container {\n",
              "      display:flex;\n",
              "      flex-wrap:wrap;\n",
              "      gap: 12px;\n",
              "    }\n",
              "\n",
              "    .colab-df-convert {\n",
              "      background-color: #E8F0FE;\n",
              "      border: none;\n",
              "      border-radius: 50%;\n",
              "      cursor: pointer;\n",
              "      display: none;\n",
              "      fill: #1967D2;\n",
              "      height: 32px;\n",
              "      padding: 0 0 0 0;\n",
              "      width: 32px;\n",
              "    }\n",
              "\n",
              "    .colab-df-convert:hover {\n",
              "      background-color: #E2EBFA;\n",
              "      box-shadow: 0px 1px 2px rgba(60, 64, 67, 0.3), 0px 1px 3px 1px rgba(60, 64, 67, 0.15);\n",
              "      fill: #174EA6;\n",
              "    }\n",
              "\n",
              "    [theme=dark] .colab-df-convert {\n",
              "      background-color: #3B4455;\n",
              "      fill: #D2E3FC;\n",
              "    }\n",
              "\n",
              "    [theme=dark] .colab-df-convert:hover {\n",
              "      background-color: #434B5C;\n",
              "      box-shadow: 0px 1px 3px 1px rgba(0, 0, 0, 0.15);\n",
              "      filter: drop-shadow(0px 1px 2px rgba(0, 0, 0, 0.3));\n",
              "      fill: #FFFFFF;\n",
              "    }\n",
              "  </style>\n",
              "\n",
              "      <script>\n",
              "        const buttonEl =\n",
              "          document.querySelector('#df-1b91474b-ade0-4a00-8388-5fde03705d53 button.colab-df-convert');\n",
              "        buttonEl.style.display =\n",
              "          google.colab.kernel.accessAllowed ? 'block' : 'none';\n",
              "\n",
              "        async function convertToInteractive(key) {\n",
              "          const element = document.querySelector('#df-1b91474b-ade0-4a00-8388-5fde03705d53');\n",
              "          const dataTable =\n",
              "            await google.colab.kernel.invokeFunction('convertToInteractive',\n",
              "                                                     [key], {});\n",
              "          if (!dataTable) return;\n",
              "\n",
              "          const docLinkHtml = 'Like what you see? Visit the ' +\n",
              "            '<a target=\"_blank\" href=https://colab.research.google.com/notebooks/data_table.ipynb>data table notebook</a>'\n",
              "            + ' to learn more about interactive tables.';\n",
              "          element.innerHTML = '';\n",
              "          dataTable['output_type'] = 'display_data';\n",
              "          await google.colab.output.renderOutput(dataTable, element);\n",
              "          const docLink = document.createElement('div');\n",
              "          docLink.innerHTML = docLinkHtml;\n",
              "          element.appendChild(docLink);\n",
              "        }\n",
              "      </script>\n",
              "    </div>\n",
              "  </div>\n",
              "  "
            ]
          },
          "metadata": {},
          "execution_count": 16
        }
      ],
      "source": [
        "complete_data"
      ]
    },
    {
      "cell_type": "code",
      "execution_count": null,
      "metadata": {
        "colab": {
          "base_uri": "https://localhost:8080/"
        },
        "id": "8wiZOLcxaFCt",
        "outputId": "aa6d3058-dff6-4274-c5ff-e2d7ec98c004"
      },
      "outputs": [
        {
          "output_type": "execute_result",
          "data": {
            "text/plain": [
              "32"
            ]
          },
          "metadata": {},
          "execution_count": 17
        }
      ],
      "source": [
        "len(complete_data['LABEL'].unique())"
      ]
    },
    {
      "cell_type": "code",
      "execution_count": null,
      "metadata": {
        "colab": {
          "base_uri": "https://localhost:8080/"
        },
        "id": "RhScGpvGn4bL",
        "outputId": "631fe782-cc27-490b-d3ce-4e1d39c9e7ab"
      },
      "outputs": [
        {
          "output_type": "execute_result",
          "data": {
            "text/plain": [
              "array(['protests', 'racism', 'lmao', 'layoffs', 'excited', 'womensafety',\n",
              "       'depression', 'funny', 'fun', 'sad', 'layoff', 'recession2022',\n",
              "       'anxiety', 'womenequality', 'protest', 'grief', 'referral',\n",
              "       'hiring', 'painpoint', 'lol', 'positivity', 'positivevibes',\n",
              "       'grateful', 'jobsearch', 'unemployment', 'newjob', 'blessed',\n",
              "       'rejection', 'hiringfreeze', 'happy', 'growthmindset',\n",
              "       'healthymindset'], dtype=object)"
            ]
          },
          "metadata": {},
          "execution_count": 17
        }
      ],
      "source": [
        "complete_data['LABEL'].unique()"
      ]
    },
    {
      "cell_type": "markdown",
      "metadata": {
        "id": "mUO4TNa6oHLq"
      },
      "source": [
        "**NEGATIVE**: protests, racism, layoffs, depression, sad, layoff, recession2022,anxiety,  protest, grief, painpoint, unemployment, rejection, hiringfreeze\n",
        "\n",
        "**POSITIVE**: excited, hiring, positivity, positivevibes, grateful, newjob, blessed, happy, lmao, funny, fun, lol\n",
        "\n",
        "womenequality, womensafety, job search\n",
        "\n",
        "**ROBERTA**: NEG= anger+sad\n",
        "         POS= joy+optimism"
      ]
    },
    {
      "cell_type": "code",
      "execution_count": null,
      "metadata": {
        "id": "7AxT5XkooD4W"
      },
      "outputs": [],
      "source": [
        "import numpy as np\n",
        "complete_data['TAGS']=np.where( (complete_data['LABEL']=='healthymindset') | (complete_data['LABEL']=='growthmindset') | (complete_data['LABEL']=='excited') | (complete_data['LABEL']=='hiring') | (complete_data['LABEL']=='positivity') | (complete_data['LABEL']=='positivevibes') | (complete_data['LABEL']=='grateful') | (complete_data['LABEL']=='newjob') | (complete_data['LABEL']=='blessed') | (complete_data['LABEL']=='happy') | (complete_data['LABEL']=='lmao') | (complete_data['LABEL']=='funny') | (complete_data['LABEL']=='fun') | (complete_data['LABEL']=='lol') , 1, -1)"
      ]
    },
    {
      "cell_type": "code",
      "execution_count": null,
      "metadata": {
        "colab": {
          "base_uri": "https://localhost:8080/",
          "height": 406
        },
        "id": "uKAoAbGMbs5z",
        "outputId": "17f55e3e-fbd1-482f-e38a-d0e4a42d1412"
      },
      "outputs": [
        {
          "output_type": "execute_result",
          "data": {
            "text/plain": [
              "                                                                                                                                                                                                                                                                                                                                                                                                                                                                                                                                                                                                                                        POSTS  \\\n",
              "0                                                                                                                                                                                                                                                                                                                                                            let our experienced technofunctional teams support your existing applications while you focus on your new initiatives and innovations globally based offshore hybrid or onsite applicationdevelopment technicalsupport apolis nearshore itmanangedservice managedserviceprovider   \n",
              "1  personally i strongly support activists and i even admire their activities send petitions to the government  parliament or peacefully protest outside westminster however i do not support blocking roads to demand changes as this action does not convince people instead it makes people feel absurd and annoying especially when someone is in emergency and they want to go to hospital for treatment immediately in case they could not get treatment on time their life will be at risk and protesters who blocks roads will have to take responsibility for their actions protests just stop oil what is it and what are its goals   \n",
              "2                                                                         let us not be hoodwinked by just stopoils illconsidered remembrance comment they stopped because they have alienated the very people they need to support them and a grown up in the group has realised thatits a perfect example of not thinking through the consequences of actions  a total lack of risk management or awareness maybe they will think through their approaches in future and make them more targetedwhat do people think would be an effective way for them to protestjuststopoil riskmanagement protests just stop oil m protests to be halted   \n",
              "3                                                                                                                                                                                            what is the fallout from another morning of protests on the m massive disruption across north west kent  it is not just the motorway affected this is the traffic through the usually sleepy hamlet of bean just off the bluewater junction from the a do just stop oil have a justifiable right to cause this mayhem or are their methods alienating people that could help them influence mpsjuststopoil protests traffic m northwestkent kent   \n",
              "4                                                                                                                                                                                                                                                                                                                                                                                          given the forthcoming general election in nigeria how much youth participation are you witnessing especially with the lingering emotions from the endsars protestdo you think nigerian youths are ready to make  count nigeria governance protests   \n",
              "\n",
              "      LABEL  TAGS  \n",
              "0  protests    -1  \n",
              "1  protests    -1  \n",
              "2  protests    -1  \n",
              "3  protests    -1  \n",
              "4  protests    -1  "
            ],
            "text/html": [
              "\n",
              "  <div id=\"df-62ce4e48-70aa-4fa8-8181-37ba233d8dfe\">\n",
              "    <div class=\"colab-df-container\">\n",
              "      <div>\n",
              "<style scoped>\n",
              "    .dataframe tbody tr th:only-of-type {\n",
              "        vertical-align: middle;\n",
              "    }\n",
              "\n",
              "    .dataframe tbody tr th {\n",
              "        vertical-align: top;\n",
              "    }\n",
              "\n",
              "    .dataframe thead th {\n",
              "        text-align: right;\n",
              "    }\n",
              "</style>\n",
              "<table border=\"1\" class=\"dataframe\">\n",
              "  <thead>\n",
              "    <tr style=\"text-align: right;\">\n",
              "      <th></th>\n",
              "      <th>POSTS</th>\n",
              "      <th>LABEL</th>\n",
              "      <th>TAGS</th>\n",
              "    </tr>\n",
              "  </thead>\n",
              "  <tbody>\n",
              "    <tr>\n",
              "      <th>0</th>\n",
              "      <td>let our experienced technofunctional teams support your existing applications while you focus on your new initiatives and innovations globally based offshore hybrid or onsite applicationdevelopment technicalsupport apolis nearshore itmanangedservice managedserviceprovider</td>\n",
              "      <td>protests</td>\n",
              "      <td>-1</td>\n",
              "    </tr>\n",
              "    <tr>\n",
              "      <th>1</th>\n",
              "      <td>personally i strongly support activists and i even admire their activities send petitions to the government  parliament or peacefully protest outside westminster however i do not support blocking roads to demand changes as this action does not convince people instead it makes people feel absurd and annoying especially when someone is in emergency and they want to go to hospital for treatment immediately in case they could not get treatment on time their life will be at risk and protesters who blocks roads will have to take responsibility for their actions protests just stop oil what is it and what are its goals</td>\n",
              "      <td>protests</td>\n",
              "      <td>-1</td>\n",
              "    </tr>\n",
              "    <tr>\n",
              "      <th>2</th>\n",
              "      <td>let us not be hoodwinked by just stopoils illconsidered remembrance comment they stopped because they have alienated the very people they need to support them and a grown up in the group has realised thatits a perfect example of not thinking through the consequences of actions  a total lack of risk management or awareness maybe they will think through their approaches in future and make them more targetedwhat do people think would be an effective way for them to protestjuststopoil riskmanagement protests just stop oil m protests to be halted</td>\n",
              "      <td>protests</td>\n",
              "      <td>-1</td>\n",
              "    </tr>\n",
              "    <tr>\n",
              "      <th>3</th>\n",
              "      <td>what is the fallout from another morning of protests on the m massive disruption across north west kent  it is not just the motorway affected this is the traffic through the usually sleepy hamlet of bean just off the bluewater junction from the a do just stop oil have a justifiable right to cause this mayhem or are their methods alienating people that could help them influence mpsjuststopoil protests traffic m northwestkent kent</td>\n",
              "      <td>protests</td>\n",
              "      <td>-1</td>\n",
              "    </tr>\n",
              "    <tr>\n",
              "      <th>4</th>\n",
              "      <td>given the forthcoming general election in nigeria how much youth participation are you witnessing especially with the lingering emotions from the endsars protestdo you think nigerian youths are ready to make  count nigeria governance protests</td>\n",
              "      <td>protests</td>\n",
              "      <td>-1</td>\n",
              "    </tr>\n",
              "  </tbody>\n",
              "</table>\n",
              "</div>\n",
              "      <button class=\"colab-df-convert\" onclick=\"convertToInteractive('df-62ce4e48-70aa-4fa8-8181-37ba233d8dfe')\"\n",
              "              title=\"Convert this dataframe to an interactive table.\"\n",
              "              style=\"display:none;\">\n",
              "        \n",
              "  <svg xmlns=\"http://www.w3.org/2000/svg\" height=\"24px\"viewBox=\"0 0 24 24\"\n",
              "       width=\"24px\">\n",
              "    <path d=\"M0 0h24v24H0V0z\" fill=\"none\"/>\n",
              "    <path d=\"M18.56 5.44l.94 2.06.94-2.06 2.06-.94-2.06-.94-.94-2.06-.94 2.06-2.06.94zm-11 1L8.5 8.5l.94-2.06 2.06-.94-2.06-.94L8.5 2.5l-.94 2.06-2.06.94zm10 10l.94 2.06.94-2.06 2.06-.94-2.06-.94-.94-2.06-.94 2.06-2.06.94z\"/><path d=\"M17.41 7.96l-1.37-1.37c-.4-.4-.92-.59-1.43-.59-.52 0-1.04.2-1.43.59L10.3 9.45l-7.72 7.72c-.78.78-.78 2.05 0 2.83L4 21.41c.39.39.9.59 1.41.59.51 0 1.02-.2 1.41-.59l7.78-7.78 2.81-2.81c.8-.78.8-2.07 0-2.86zM5.41 20L4 18.59l7.72-7.72 1.47 1.35L5.41 20z\"/>\n",
              "  </svg>\n",
              "      </button>\n",
              "      \n",
              "  <style>\n",
              "    .colab-df-container {\n",
              "      display:flex;\n",
              "      flex-wrap:wrap;\n",
              "      gap: 12px;\n",
              "    }\n",
              "\n",
              "    .colab-df-convert {\n",
              "      background-color: #E8F0FE;\n",
              "      border: none;\n",
              "      border-radius: 50%;\n",
              "      cursor: pointer;\n",
              "      display: none;\n",
              "      fill: #1967D2;\n",
              "      height: 32px;\n",
              "      padding: 0 0 0 0;\n",
              "      width: 32px;\n",
              "    }\n",
              "\n",
              "    .colab-df-convert:hover {\n",
              "      background-color: #E2EBFA;\n",
              "      box-shadow: 0px 1px 2px rgba(60, 64, 67, 0.3), 0px 1px 3px 1px rgba(60, 64, 67, 0.15);\n",
              "      fill: #174EA6;\n",
              "    }\n",
              "\n",
              "    [theme=dark] .colab-df-convert {\n",
              "      background-color: #3B4455;\n",
              "      fill: #D2E3FC;\n",
              "    }\n",
              "\n",
              "    [theme=dark] .colab-df-convert:hover {\n",
              "      background-color: #434B5C;\n",
              "      box-shadow: 0px 1px 3px 1px rgba(0, 0, 0, 0.15);\n",
              "      filter: drop-shadow(0px 1px 2px rgba(0, 0, 0, 0.3));\n",
              "      fill: #FFFFFF;\n",
              "    }\n",
              "  </style>\n",
              "\n",
              "      <script>\n",
              "        const buttonEl =\n",
              "          document.querySelector('#df-62ce4e48-70aa-4fa8-8181-37ba233d8dfe button.colab-df-convert');\n",
              "        buttonEl.style.display =\n",
              "          google.colab.kernel.accessAllowed ? 'block' : 'none';\n",
              "\n",
              "        async function convertToInteractive(key) {\n",
              "          const element = document.querySelector('#df-62ce4e48-70aa-4fa8-8181-37ba233d8dfe');\n",
              "          const dataTable =\n",
              "            await google.colab.kernel.invokeFunction('convertToInteractive',\n",
              "                                                     [key], {});\n",
              "          if (!dataTable) return;\n",
              "\n",
              "          const docLinkHtml = 'Like what you see? Visit the ' +\n",
              "            '<a target=\"_blank\" href=https://colab.research.google.com/notebooks/data_table.ipynb>data table notebook</a>'\n",
              "            + ' to learn more about interactive tables.';\n",
              "          element.innerHTML = '';\n",
              "          dataTable['output_type'] = 'display_data';\n",
              "          await google.colab.output.renderOutput(dataTable, element);\n",
              "          const docLink = document.createElement('div');\n",
              "          docLink.innerHTML = docLinkHtml;\n",
              "          element.appendChild(docLink);\n",
              "        }\n",
              "      </script>\n",
              "    </div>\n",
              "  </div>\n",
              "  "
            ]
          },
          "metadata": {},
          "execution_count": 19
        }
      ],
      "source": [
        "complete_data.head()"
      ]
    },
    {
      "cell_type": "code",
      "execution_count": null,
      "metadata": {
        "colab": {
          "base_uri": "https://localhost:8080/",
          "height": 285
        },
        "id": "7NDfMqbkcZaB",
        "outputId": "0d63255d-4792-4e6b-e8a1-5bc235069309"
      },
      "outputs": [
        {
          "output_type": "execute_result",
          "data": {
            "text/plain": [
              "<matplotlib.axes._subplots.AxesSubplot at 0x7ff66deeae80>"
            ]
          },
          "metadata": {},
          "execution_count": 17
        },
        {
          "output_type": "display_data",
          "data": {
            "text/plain": [
              "<Figure size 432x288 with 1 Axes>"
            ],
            "image/png": "[encoded data removed]"
          },
          "metadata": {
            "needs_background": "light"
          }
        }
      ],
      "source": [
        "complete_data['TAGS'].hist()"
      ]
    },
    {
      "cell_type": "code",
      "execution_count": null,
      "metadata": {
        "colab": {
          "base_uri": "https://localhost:8080/"
        },
        "id": "BQxiobO9Dx6U",
        "outputId": "da8b01b2-a4fb-4c43-b09c-e0ac126d3235"
      },
      "outputs": [
        {
          "output_type": "execute_result",
          "data": {
            "text/plain": [
              "-1    9603\n",
              " 1    7144\n",
              "Name: TAGS, dtype: int64"
            ]
          },
          "metadata": {},
          "execution_count": 20
        }
      ],
      "source": [
        "complete_data['TAGS'].value_counts()"
      ]
    },
    {
      "cell_type": "code",
      "execution_count": null,
      "metadata": {
        "colab": {
          "base_uri": "https://localhost:8080/",
          "height": 884
        },
        "id": "fLOBo7lFovEc",
        "outputId": "d9ef881e-04a3-458f-889a-385070dea177"
      },
      "outputs": [
        {
          "output_type": "execute_result",
          "data": {
            "text/plain": [
              "       index  \\\n",
              "0          0   \n",
              "1          1   \n",
              "2          2   \n",
              "3          3   \n",
              "4          4   \n",
              "...      ...   \n",
              "14395  16742   \n",
              "14396  16743   \n",
              "14397  16744   \n",
              "14398  16745   \n",
              "14399  16746   \n",
              "\n",
              "                                                                                                                                                                                                                                                                                                                                                                                                                                                                                                                                                                                                                                                                                                                                                                                                                                                                                                                                                                                                                                                                                                                                                                                                                                                                                                                                                                   POSTS  \\\n",
              "0                                                                                                                                                                                                                                                                                                                                                                                                                                                                                                                                                                                                                                                                                                                                                                                                                                                                                                                                                                                                                                                                                       let our experienced technofunctional teams support your existing applications while you focus on your new initiatives and innovations globally based offshore hybrid or onsite applicationdevelopment technicalsupport apolis nearshore itmanangedservice managedserviceprovider   \n",
              "1                                                                                                                                                                                                                                                                                                                                                                                                                                                                                                                                                                                                                                                                                                                             personally i strongly support activists and i even admire their activities send petitions to the government  parliament or peacefully protest outside westminster however i do not support blocking roads to demand changes as this action does not convince people instead it makes people feel absurd and annoying especially when someone is in emergency and they want to go to hospital for treatment immediately in case they could not get treatment on time their life will be at risk and protesters who blocks roads will have to take responsibility for their actions protests just stop oil what is it and what are its goals   \n",
              "2                                                                                                                                                                                                                                                                                                                                                                                                                                                                                                                                                                                                                                                                                                                                                                                                    let us not be hoodwinked by just stopoils illconsidered remembrance comment they stopped because they have alienated the very people they need to support them and a grown up in the group has realised thatits a perfect example of not thinking through the consequences of actions  a total lack of risk management or awareness maybe they will think through their approaches in future and make them more targetedwhat do people think would be an effective way for them to protestjuststopoil riskmanagement protests just stop oil m protests to be halted   \n",
              "3                                                                                                                                                                                                                                                                                                                                                                                                                                                                                                                                                                                                                                                                                                                                                                                                                                                                                                                       what is the fallout from another morning of protests on the m massive disruption across north west kent  it is not just the motorway affected this is the traffic through the usually sleepy hamlet of bean just off the bluewater junction from the a do just stop oil have a justifiable right to cause this mayhem or are their methods alienating people that could help them influence mpsjuststopoil protests traffic m northwestkent kent   \n",
              "4                                                                                                                                                                                                                                                                                                                                                                                                                                                                                                                                                                                                                                                                                                                                                                                                                                                                                                                                                                                                                                                                                                                     given the forthcoming general election in nigeria how much youth participation are you witnessing especially with the lingering emotions from the endsars protestdo you think nigerian youths are ready to make  count nigeria governance protests   \n",
              "...                                                                                                                                                                                                                                                                                                                                                                                                                                                                                                                                                                                                                                                                                                                                                                                                                                                                                                                                                                                                                                                                                                                                                                                                                                                                                                                                                                  ...   \n",
              "14395                                                                                                                                                                                                                                                                                                                                                                                                                                                                                                                                                                                                                                                                                                                                                                                                                                                                                                                                                          le bilan de comptence estil suffisant pour crer un nouveau projet professionnelquelques lments de rponse dans ma video laspect mental et motionnel de lindividu est au cyou are dun changement de carrire russiamandinewellbeing coaching developpementpersonnel transition impactpositif pnl nlp travail healthymindset carrire reconversionprofessionnelle bilandecompetences entreprise motivation job   \n",
              "14396                                                                                                                                                                                                                                                                                                                                                                                                                                                                                                                                                                                                                                                                                                                                                                                                                                                                                                                     monday motivationhealthy food for energy boosting bananas avocados eggs yogurt nuts berries apples oatmeal beanslearn about my health makeover program and schedule a free  minute consultation httpslnkdinemtdmmqdeatcleanbevital putyourselffirst healthcoach healthylifestyle healthyfood healthy wellnesscoach hardworkingwomennutritioncoach lifestylechange nutureyourself holistichealth healthymindset healthyhabits womensempowerment   \n",
              "14397  it is day  of our nd annual can we laugh at cancer comedy challenge rating warning language and concept this is a very atypical joke for us i was asked to write  more intense cancercentric jokes of  posts for people who like more raw humormy story behind the joke this is my most risque joke but it is true my husband does not carenext steps dm your email if you want to be notified of our upcoming comedycures research study and my fall podcast launchplease like and share this comedy post please also consider a donation to the comedycures foundation to support our free live and digital awardwinning therapeutic comedycures programming for patients caregivers and healthcare workerstell everyone to follow comedycures and saranneliveto learn more about my stage iv cancer story comedycures programs or to donate visit wwwcomedycuresorg or click the link in our biocomedycures healthymindset comicrelief humorheals dailyfunny findingthefunny cancerhumor cancercomedian cancercomedy oncology cancersupport cancersurvivor metastaticcancer cancerwarrior breastcancer cancerawareness cancerprogram womenshealthcoach stagecancer womenshealthcare womenshealthmagazine cancersupportcommunity womenwithcancer momswithcancer hahahaha comedycureslaughline psychoneuroimmunology cancerresearch researchstudy healthcarehero   \n",
              "14398                                                                                                                                                                                                                                                                                                                                                                                                                                                                                                                                                                                                                                                                                                                                                                                                                                                                                                                                                                                                                        check your lung capacity in  minfitnessfightfatlossfun getfitathome fitnessathome loseweightathome losingweightathome gethealthy weightlosschallenge fatlosschallenge inchlosschallenge wajanghatao petkamkaro fitraho packabs workoutfromhome intentionalliving healthyyou fatfreelife fitnessmindset healthymindset looseweightgainhealth   \n",
              "14399                                                                                                                                                                                                                                                                                                                                                                                                                                                                                                                                                                                                                                                                                                                                                                                                                                                                                                                                many people find it difficult to start doing workouts tell me your reason behind it  i will tell you how to overcome it fitnessfightfatlossfun getfitathome fitnessathome loseweightathome losingweightathome gethealthy weightlosschallenge fatlosschallenge inchlosschallenge wajanghatao petkamkaro fitraho packabs workoutfromhome intentionalliving healthyyou fatfreelife fitnessmindset healthymindset looseweightgainhealth   \n",
              "\n",
              "                LABEL  TAGS  \n",
              "0            protests    -1  \n",
              "1            protests    -1  \n",
              "2            protests    -1  \n",
              "3            protests    -1  \n",
              "4            protests    -1  \n",
              "...               ...   ...  \n",
              "14395  healthymindset     1  \n",
              "14396  healthymindset     1  \n",
              "14397  healthymindset     1  \n",
              "14398  healthymindset     1  \n",
              "14399  healthymindset     1  \n",
              "\n",
              "[14400 rows x 4 columns]"
            ],
            "text/html": [
              "\n",
              "  <div id=\"df-5e144a28-e736-4b5a-be9f-e46b9f5c2ae7\">\n",
              "    <div class=\"colab-df-container\">\n",
              "      <div>\n",
              "<style scoped>\n",
              "    .dataframe tbody tr th:only-of-type {\n",
              "        vertical-align: middle;\n",
              "    }\n",
              "\n",
              "    .dataframe tbody tr th {\n",
              "        vertical-align: top;\n",
              "    }\n",
              "\n",
              "    .dataframe thead th {\n",
              "        text-align: right;\n",
              "    }\n",
              "</style>\n",
              "<table border=\"1\" class=\"dataframe\">\n",
              "  <thead>\n",
              "    <tr style=\"text-align: right;\">\n",
              "      <th></th>\n",
              "      <th>index</th>\n",
              "      <th>POSTS</th>\n",
              "      <th>LABEL</th>\n",
              "      <th>TAGS</th>\n",
              "    </tr>\n",
              "  </thead>\n",
              "  <tbody>\n",
              "    <tr>\n",
              "      <th>0</th>\n",
              "      <td>0</td>\n",
              "      <td>let our experienced technofunctional teams support your existing applications while you focus on your new initiatives and innovations globally based offshore hybrid or onsite applicationdevelopment technicalsupport apolis nearshore itmanangedservice managedserviceprovider</td>\n",
              "      <td>protests</td>\n",
              "      <td>-1</td>\n",
              "    </tr>\n",
              "    <tr>\n",
              "      <th>1</th>\n",
              "      <td>1</td>\n",
              "      <td>personally i strongly support activists and i even admire their activities send petitions to the government  parliament or peacefully protest outside westminster however i do not support blocking roads to demand changes as this action does not convince people instead it makes people feel absurd and annoying especially when someone is in emergency and they want to go to hospital for treatment immediately in case they could not get treatment on time their life will be at risk and protesters who blocks roads will have to take responsibility for their actions protests just stop oil what is it and what are its goals</td>\n",
              "      <td>protests</td>\n",
              "      <td>-1</td>\n",
              "    </tr>\n",
              "    <tr>\n",
              "      <th>2</th>\n",
              "      <td>2</td>\n",
              "      <td>let us not be hoodwinked by just stopoils illconsidered remembrance comment they stopped because they have alienated the very people they need to support them and a grown up in the group has realised thatits a perfect example of not thinking through the consequences of actions  a total lack of risk management or awareness maybe they will think through their approaches in future and make them more targetedwhat do people think would be an effective way for them to protestjuststopoil riskmanagement protests just stop oil m protests to be halted</td>\n",
              "      <td>protests</td>\n",
              "      <td>-1</td>\n",
              "    </tr>\n",
              "    <tr>\n",
              "      <th>3</th>\n",
              "      <td>3</td>\n",
              "      <td>what is the fallout from another morning of protests on the m massive disruption across north west kent  it is not just the motorway affected this is the traffic through the usually sleepy hamlet of bean just off the bluewater junction from the a do just stop oil have a justifiable right to cause this mayhem or are their methods alienating people that could help them influence mpsjuststopoil protests traffic m northwestkent kent</td>\n",
              "      <td>protests</td>\n",
              "      <td>-1</td>\n",
              "    </tr>\n",
              "    <tr>\n",
              "      <th>4</th>\n",
              "      <td>4</td>\n",
              "      <td>given the forthcoming general election in nigeria how much youth participation are you witnessing especially with the lingering emotions from the endsars protestdo you think nigerian youths are ready to make  count nigeria governance protests</td>\n",
              "      <td>protests</td>\n",
              "      <td>-1</td>\n",
              "    </tr>\n",
              "    <tr>\n",
              "      <th>...</th>\n",
              "      <td>...</td>\n",
              "      <td>...</td>\n",
              "      <td>...</td>\n",
              "      <td>...</td>\n",
              "    </tr>\n",
              "    <tr>\n",
              "      <th>14395</th>\n",
              "      <td>16742</td>\n",
              "      <td>le bilan de comptence estil suffisant pour crer un nouveau projet professionnelquelques lments de rponse dans ma video laspect mental et motionnel de lindividu est au cyou are dun changement de carrire russiamandinewellbeing coaching developpementpersonnel transition impactpositif pnl nlp travail healthymindset carrire reconversionprofessionnelle bilandecompetences entreprise motivation job</td>\n",
              "      <td>healthymindset</td>\n",
              "      <td>1</td>\n",
              "    </tr>\n",
              "    <tr>\n",
              "      <th>14396</th>\n",
              "      <td>16743</td>\n",
              "      <td>monday motivationhealthy food for energy boosting bananas avocados eggs yogurt nuts berries apples oatmeal beanslearn about my health makeover program and schedule a free  minute consultation httpslnkdinemtdmmqdeatcleanbevital putyourselffirst healthcoach healthylifestyle healthyfood healthy wellnesscoach hardworkingwomennutritioncoach lifestylechange nutureyourself holistichealth healthymindset healthyhabits womensempowerment</td>\n",
              "      <td>healthymindset</td>\n",
              "      <td>1</td>\n",
              "    </tr>\n",
              "    <tr>\n",
              "      <th>14397</th>\n",
              "      <td>16744</td>\n",
              "      <td>it is day  of our nd annual can we laugh at cancer comedy challenge rating warning language and concept this is a very atypical joke for us i was asked to write  more intense cancercentric jokes of  posts for people who like more raw humormy story behind the joke this is my most risque joke but it is true my husband does not carenext steps dm your email if you want to be notified of our upcoming comedycures research study and my fall podcast launchplease like and share this comedy post please also consider a donation to the comedycures foundation to support our free live and digital awardwinning therapeutic comedycures programming for patients caregivers and healthcare workerstell everyone to follow comedycures and saranneliveto learn more about my stage iv cancer story comedycures programs or to donate visit wwwcomedycuresorg or click the link in our biocomedycures healthymindset comicrelief humorheals dailyfunny findingthefunny cancerhumor cancercomedian cancercomedy oncology cancersupport cancersurvivor metastaticcancer cancerwarrior breastcancer cancerawareness cancerprogram womenshealthcoach stagecancer womenshealthcare womenshealthmagazine cancersupportcommunity womenwithcancer momswithcancer hahahaha comedycureslaughline psychoneuroimmunology cancerresearch researchstudy healthcarehero</td>\n",
              "      <td>healthymindset</td>\n",
              "      <td>1</td>\n",
              "    </tr>\n",
              "    <tr>\n",
              "      <th>14398</th>\n",
              "      <td>16745</td>\n",
              "      <td>check your lung capacity in  minfitnessfightfatlossfun getfitathome fitnessathome loseweightathome losingweightathome gethealthy weightlosschallenge fatlosschallenge inchlosschallenge wajanghatao petkamkaro fitraho packabs workoutfromhome intentionalliving healthyyou fatfreelife fitnessmindset healthymindset looseweightgainhealth</td>\n",
              "      <td>healthymindset</td>\n",
              "      <td>1</td>\n",
              "    </tr>\n",
              "    <tr>\n",
              "      <th>14399</th>\n",
              "      <td>16746</td>\n",
              "      <td>many people find it difficult to start doing workouts tell me your reason behind it  i will tell you how to overcome it fitnessfightfatlossfun getfitathome fitnessathome loseweightathome losingweightathome gethealthy weightlosschallenge fatlosschallenge inchlosschallenge wajanghatao petkamkaro fitraho packabs workoutfromhome intentionalliving healthyyou fatfreelife fitnessmindset healthymindset looseweightgainhealth</td>\n",
              "      <td>healthymindset</td>\n",
              "      <td>1</td>\n",
              "    </tr>\n",
              "  </tbody>\n",
              "</table>\n",
              "<p>14400 rows × 4 columns</p>\n",
              "</div>\n",
              "      <button class=\"colab-df-convert\" onclick=\"convertToInteractive('df-5e144a28-e736-4b5a-be9f-e46b9f5c2ae7')\"\n",
              "              title=\"Convert this dataframe to an interactive table.\"\n",
              "              style=\"display:none;\">\n",
              "        \n",
              "  <svg xmlns=\"http://www.w3.org/2000/svg\" height=\"24px\"viewBox=\"0 0 24 24\"\n",
              "       width=\"24px\">\n",
              "    <path d=\"M0 0h24v24H0V0z\" fill=\"none\"/>\n",
              "    <path d=\"M18.56 5.44l.94 2.06.94-2.06 2.06-.94-2.06-.94-.94-2.06-.94 2.06-2.06.94zm-11 1L8.5 8.5l.94-2.06 2.06-.94-2.06-.94L8.5 2.5l-.94 2.06-2.06.94zm10 10l.94 2.06.94-2.06 2.06-.94-2.06-.94-.94-2.06-.94 2.06-2.06.94z\"/><path d=\"M17.41 7.96l-1.37-1.37c-.4-.4-.92-.59-1.43-.59-.52 0-1.04.2-1.43.59L10.3 9.45l-7.72 7.72c-.78.78-.78 2.05 0 2.83L4 21.41c.39.39.9.59 1.41.59.51 0 1.02-.2 1.41-.59l7.78-7.78 2.81-2.81c.8-.78.8-2.07 0-2.86zM5.41 20L4 18.59l7.72-7.72 1.47 1.35L5.41 20z\"/>\n",
              "  </svg>\n",
              "      </button>\n",
              "      \n",
              "  <style>\n",
              "    .colab-df-container {\n",
              "      display:flex;\n",
              "      flex-wrap:wrap;\n",
              "      gap: 12px;\n",
              "    }\n",
              "\n",
              "    .colab-df-convert {\n",
              "      background-color: #E8F0FE;\n",
              "      border: none;\n",
              "      border-radius: 50%;\n",
              "      cursor: pointer;\n",
              "      display: none;\n",
              "      fill: #1967D2;\n",
              "      height: 32px;\n",
              "      padding: 0 0 0 0;\n",
              "      width: 32px;\n",
              "    }\n",
              "\n",
              "    .colab-df-convert:hover {\n",
              "      background-color: #E2EBFA;\n",
              "      box-shadow: 0px 1px 2px rgba(60, 64, 67, 0.3), 0px 1px 3px 1px rgba(60, 64, 67, 0.15);\n",
              "      fill: #174EA6;\n",
              "    }\n",
              "\n",
              "    [theme=dark] .colab-df-convert {\n",
              "      background-color: #3B4455;\n",
              "      fill: #D2E3FC;\n",
              "    }\n",
              "\n",
              "    [theme=dark] .colab-df-convert:hover {\n",
              "      background-color: #434B5C;\n",
              "      box-shadow: 0px 1px 3px 1px rgba(0, 0, 0, 0.15);\n",
              "      filter: drop-shadow(0px 1px 2px rgba(0, 0, 0, 0.3));\n",
              "      fill: #FFFFFF;\n",
              "    }\n",
              "  </style>\n",
              "\n",
              "      <script>\n",
              "        const buttonEl =\n",
              "          document.querySelector('#df-5e144a28-e736-4b5a-be9f-e46b9f5c2ae7 button.colab-df-convert');\n",
              "        buttonEl.style.display =\n",
              "          google.colab.kernel.accessAllowed ? 'block' : 'none';\n",
              "\n",
              "        async function convertToInteractive(key) {\n",
              "          const element = document.querySelector('#df-5e144a28-e736-4b5a-be9f-e46b9f5c2ae7');\n",
              "          const dataTable =\n",
              "            await google.colab.kernel.invokeFunction('convertToInteractive',\n",
              "                                                     [key], {});\n",
              "          if (!dataTable) return;\n",
              "\n",
              "          const docLinkHtml = 'Like what you see? Visit the ' +\n",
              "            '<a target=\"_blank\" href=https://colab.research.google.com/notebooks/data_table.ipynb>data table notebook</a>'\n",
              "            + ' to learn more about interactive tables.';\n",
              "          element.innerHTML = '';\n",
              "          dataTable['output_type'] = 'display_data';\n",
              "          await google.colab.output.renderOutput(dataTable, element);\n",
              "          const docLink = document.createElement('div');\n",
              "          docLink.innerHTML = docLinkHtml;\n",
              "          element.appendChild(docLink);\n",
              "        }\n",
              "      </script>\n",
              "    </div>\n",
              "  </div>\n",
              "  "
            ]
          },
          "metadata": {},
          "execution_count": 20
        }
      ],
      "source": [
        "complete_data=complete_data.drop_duplicates(keep='last').reset_index()\n",
        "complete_data"
      ]
    },
    {
      "cell_type": "code",
      "source": [
        "complete_data['POSTS'].replace('', np.nan, inplace=True)\n",
        "complete_data.dropna(subset=['POSTS'], inplace=True)\n",
        "complete_data"
      ],
      "metadata": {
        "colab": {
          "base_uri": "https://localhost:8080/",
          "height": 884
        },
        "id": "n0oHOeGbkh2j",
        "outputId": "9beca32d-6473-49f3-892e-810f5230bcbb"
      },
      "execution_count": null,
      "outputs": [
        {
          "output_type": "execute_result",
          "data": {
            "text/plain": [
              "       index  \\\n",
              "0          0   \n",
              "1          1   \n",
              "2          2   \n",
              "3          3   \n",
              "4          4   \n",
              "...      ...   \n",
              "14395  16742   \n",
              "14396  16743   \n",
              "14397  16744   \n",
              "14398  16745   \n",
              "14399  16746   \n",
              "\n",
              "                                                                                                                                                                                                                                                                                                                                                                                                                                                                                                                                                                                                                                                                                                                                                                                                                                                                                                                                                                                                                                                                                                                                                                                                                                                                                                                                                                   POSTS  \\\n",
              "0                                                                                                                                                                                                                                                                                                                                                                                                                                                                                                                                                                                                                                                                                                                                                                                                                                                                                                                                                                                                                                                                                       let our experienced technofunctional teams support your existing applications while you focus on your new initiatives and innovations globally based offshore hybrid or onsite applicationdevelopment technicalsupport apolis nearshore itmanangedservice managedserviceprovider   \n",
              "1                                                                                                                                                                                                                                                                                                                                                                                                                                                                                                                                                                                                                                                                                                                             personally i strongly support activists and i even admire their activities send petitions to the government  parliament or peacefully protest outside westminster however i do not support blocking roads to demand changes as this action does not convince people instead it makes people feel absurd and annoying especially when someone is in emergency and they want to go to hospital for treatment immediately in case they could not get treatment on time their life will be at risk and protesters who blocks roads will have to take responsibility for their actions protests just stop oil what is it and what are its goals   \n",
              "2                                                                                                                                                                                                                                                                                                                                                                                                                                                                                                                                                                                                                                                                                                                                                                                                    let us not be hoodwinked by just stopoils illconsidered remembrance comment they stopped because they have alienated the very people they need to support them and a grown up in the group has realised thatits a perfect example of not thinking through the consequences of actions  a total lack of risk management or awareness maybe they will think through their approaches in future and make them more targetedwhat do people think would be an effective way for them to protestjuststopoil riskmanagement protests just stop oil m protests to be halted   \n",
              "3                                                                                                                                                                                                                                                                                                                                                                                                                                                                                                                                                                                                                                                                                                                                                                                                                                                                                                                       what is the fallout from another morning of protests on the m massive disruption across north west kent  it is not just the motorway affected this is the traffic through the usually sleepy hamlet of bean just off the bluewater junction from the a do just stop oil have a justifiable right to cause this mayhem or are their methods alienating people that could help them influence mpsjuststopoil protests traffic m northwestkent kent   \n",
              "4                                                                                                                                                                                                                                                                                                                                                                                                                                                                                                                                                                                                                                                                                                                                                                                                                                                                                                                                                                                                                                                                                                                     given the forthcoming general election in nigeria how much youth participation are you witnessing especially with the lingering emotions from the endsars protestdo you think nigerian youths are ready to make  count nigeria governance protests   \n",
              "...                                                                                                                                                                                                                                                                                                                                                                                                                                                                                                                                                                                                                                                                                                                                                                                                                                                                                                                                                                                                                                                                                                                                                                                                                                                                                                                                                                  ...   \n",
              "14395                                                                                                                                                                                                                                                                                                                                                                                                                                                                                                                                                                                                                                                                                                                                                                                                                                                                                                                                                          le bilan de comptence estil suffisant pour crer un nouveau projet professionnelquelques lments de rponse dans ma video laspect mental et motionnel de lindividu est au cyou are dun changement de carrire russiamandinewellbeing coaching developpementpersonnel transition impactpositif pnl nlp travail healthymindset carrire reconversionprofessionnelle bilandecompetences entreprise motivation job   \n",
              "14396                                                                                                                                                                                                                                                                                                                                                                                                                                                                                                                                                                                                                                                                                                                                                                                                                                                                                                                     monday motivationhealthy food for energy boosting bananas avocados eggs yogurt nuts berries apples oatmeal beanslearn about my health makeover program and schedule a free  minute consultation httpslnkdinemtdmmqdeatcleanbevital putyourselffirst healthcoach healthylifestyle healthyfood healthy wellnesscoach hardworkingwomennutritioncoach lifestylechange nutureyourself holistichealth healthymindset healthyhabits womensempowerment   \n",
              "14397  it is day  of our nd annual can we laugh at cancer comedy challenge rating warning language and concept this is a very atypical joke for us i was asked to write  more intense cancercentric jokes of  posts for people who like more raw humormy story behind the joke this is my most risque joke but it is true my husband does not carenext steps dm your email if you want to be notified of our upcoming comedycures research study and my fall podcast launchplease like and share this comedy post please also consider a donation to the comedycures foundation to support our free live and digital awardwinning therapeutic comedycures programming for patients caregivers and healthcare workerstell everyone to follow comedycures and saranneliveto learn more about my stage iv cancer story comedycures programs or to donate visit wwwcomedycuresorg or click the link in our biocomedycures healthymindset comicrelief humorheals dailyfunny findingthefunny cancerhumor cancercomedian cancercomedy oncology cancersupport cancersurvivor metastaticcancer cancerwarrior breastcancer cancerawareness cancerprogram womenshealthcoach stagecancer womenshealthcare womenshealthmagazine cancersupportcommunity womenwithcancer momswithcancer hahahaha comedycureslaughline psychoneuroimmunology cancerresearch researchstudy healthcarehero   \n",
              "14398                                                                                                                                                                                                                                                                                                                                                                                                                                                                                                                                                                                                                                                                                                                                                                                                                                                                                                                                                                                                                        check your lung capacity in  minfitnessfightfatlossfun getfitathome fitnessathome loseweightathome losingweightathome gethealthy weightlosschallenge fatlosschallenge inchlosschallenge wajanghatao petkamkaro fitraho packabs workoutfromhome intentionalliving healthyyou fatfreelife fitnessmindset healthymindset looseweightgainhealth   \n",
              "14399                                                                                                                                                                                                                                                                                                                                                                                                                                                                                                                                                                                                                                                                                                                                                                                                                                                                                                                                many people find it difficult to start doing workouts tell me your reason behind it  i will tell you how to overcome it fitnessfightfatlossfun getfitathome fitnessathome loseweightathome losingweightathome gethealthy weightlosschallenge fatlosschallenge inchlosschallenge wajanghatao petkamkaro fitraho packabs workoutfromhome intentionalliving healthyyou fatfreelife fitnessmindset healthymindset looseweightgainhealth   \n",
              "\n",
              "                LABEL  TAGS  \n",
              "0            protests    -1  \n",
              "1            protests    -1  \n",
              "2            protests    -1  \n",
              "3            protests    -1  \n",
              "4            protests    -1  \n",
              "...               ...   ...  \n",
              "14395  healthymindset     1  \n",
              "14396  healthymindset     1  \n",
              "14397  healthymindset     1  \n",
              "14398  healthymindset     1  \n",
              "14399  healthymindset     1  \n",
              "\n",
              "[14376 rows x 4 columns]"
            ],
            "text/html": [
              "\n",
              "  <div id=\"df-a97fcc1e-f984-494e-91ce-3143a23528b7\">\n",
              "    <div class=\"colab-df-container\">\n",
              "      <div>\n",
              "<style scoped>\n",
              "    .dataframe tbody tr th:only-of-type {\n",
              "        vertical-align: middle;\n",
              "    }\n",
              "\n",
              "    .dataframe tbody tr th {\n",
              "        vertical-align: top;\n",
              "    }\n",
              "\n",
              "    .dataframe thead th {\n",
              "        text-align: right;\n",
              "    }\n",
              "</style>\n",
              "<table border=\"1\" class=\"dataframe\">\n",
              "  <thead>\n",
              "    <tr style=\"text-align: right;\">\n",
              "      <th></th>\n",
              "      <th>index</th>\n",
              "      <th>POSTS</th>\n",
              "      <th>LABEL</th>\n",
              "      <th>TAGS</th>\n",
              "    </tr>\n",
              "  </thead>\n",
              "  <tbody>\n",
              "    <tr>\n",
              "      <th>0</th>\n",
              "      <td>0</td>\n",
              "      <td>let our experienced technofunctional teams support your existing applications while you focus on your new initiatives and innovations globally based offshore hybrid or onsite applicationdevelopment technicalsupport apolis nearshore itmanangedservice managedserviceprovider</td>\n",
              "      <td>protests</td>\n",
              "      <td>-1</td>\n",
              "    </tr>\n",
              "    <tr>\n",
              "      <th>1</th>\n",
              "      <td>1</td>\n",
              "      <td>personally i strongly support activists and i even admire their activities send petitions to the government  parliament or peacefully protest outside westminster however i do not support blocking roads to demand changes as this action does not convince people instead it makes people feel absurd and annoying especially when someone is in emergency and they want to go to hospital for treatment immediately in case they could not get treatment on time their life will be at risk and protesters who blocks roads will have to take responsibility for their actions protests just stop oil what is it and what are its goals</td>\n",
              "      <td>protests</td>\n",
              "      <td>-1</td>\n",
              "    </tr>\n",
              "    <tr>\n",
              "      <th>2</th>\n",
              "      <td>2</td>\n",
              "      <td>let us not be hoodwinked by just stopoils illconsidered remembrance comment they stopped because they have alienated the very people they need to support them and a grown up in the group has realised thatits a perfect example of not thinking through the consequences of actions  a total lack of risk management or awareness maybe they will think through their approaches in future and make them more targetedwhat do people think would be an effective way for them to protestjuststopoil riskmanagement protests just stop oil m protests to be halted</td>\n",
              "      <td>protests</td>\n",
              "      <td>-1</td>\n",
              "    </tr>\n",
              "    <tr>\n",
              "      <th>3</th>\n",
              "      <td>3</td>\n",
              "      <td>what is the fallout from another morning of protests on the m massive disruption across north west kent  it is not just the motorway affected this is the traffic through the usually sleepy hamlet of bean just off the bluewater junction from the a do just stop oil have a justifiable right to cause this mayhem or are their methods alienating people that could help them influence mpsjuststopoil protests traffic m northwestkent kent</td>\n",
              "      <td>protests</td>\n",
              "      <td>-1</td>\n",
              "    </tr>\n",
              "    <tr>\n",
              "      <th>4</th>\n",
              "      <td>4</td>\n",
              "      <td>given the forthcoming general election in nigeria how much youth participation are you witnessing especially with the lingering emotions from the endsars protestdo you think nigerian youths are ready to make  count nigeria governance protests</td>\n",
              "      <td>protests</td>\n",
              "      <td>-1</td>\n",
              "    </tr>\n",
              "    <tr>\n",
              "      <th>...</th>\n",
              "      <td>...</td>\n",
              "      <td>...</td>\n",
              "      <td>...</td>\n",
              "      <td>...</td>\n",
              "    </tr>\n",
              "    <tr>\n",
              "      <th>14395</th>\n",
              "      <td>16742</td>\n",
              "      <td>le bilan de comptence estil suffisant pour crer un nouveau projet professionnelquelques lments de rponse dans ma video laspect mental et motionnel de lindividu est au cyou are dun changement de carrire russiamandinewellbeing coaching developpementpersonnel transition impactpositif pnl nlp travail healthymindset carrire reconversionprofessionnelle bilandecompetences entreprise motivation job</td>\n",
              "      <td>healthymindset</td>\n",
              "      <td>1</td>\n",
              "    </tr>\n",
              "    <tr>\n",
              "      <th>14396</th>\n",
              "      <td>16743</td>\n",
              "      <td>monday motivationhealthy food for energy boosting bananas avocados eggs yogurt nuts berries apples oatmeal beanslearn about my health makeover program and schedule a free  minute consultation httpslnkdinemtdmmqdeatcleanbevital putyourselffirst healthcoach healthylifestyle healthyfood healthy wellnesscoach hardworkingwomennutritioncoach lifestylechange nutureyourself holistichealth healthymindset healthyhabits womensempowerment</td>\n",
              "      <td>healthymindset</td>\n",
              "      <td>1</td>\n",
              "    </tr>\n",
              "    <tr>\n",
              "      <th>14397</th>\n",
              "      <td>16744</td>\n",
              "      <td>it is day  of our nd annual can we laugh at cancer comedy challenge rating warning language and concept this is a very atypical joke for us i was asked to write  more intense cancercentric jokes of  posts for people who like more raw humormy story behind the joke this is my most risque joke but it is true my husband does not carenext steps dm your email if you want to be notified of our upcoming comedycures research study and my fall podcast launchplease like and share this comedy post please also consider a donation to the comedycures foundation to support our free live and digital awardwinning therapeutic comedycures programming for patients caregivers and healthcare workerstell everyone to follow comedycures and saranneliveto learn more about my stage iv cancer story comedycures programs or to donate visit wwwcomedycuresorg or click the link in our biocomedycures healthymindset comicrelief humorheals dailyfunny findingthefunny cancerhumor cancercomedian cancercomedy oncology cancersupport cancersurvivor metastaticcancer cancerwarrior breastcancer cancerawareness cancerprogram womenshealthcoach stagecancer womenshealthcare womenshealthmagazine cancersupportcommunity womenwithcancer momswithcancer hahahaha comedycureslaughline psychoneuroimmunology cancerresearch researchstudy healthcarehero</td>\n",
              "      <td>healthymindset</td>\n",
              "      <td>1</td>\n",
              "    </tr>\n",
              "    <tr>\n",
              "      <th>14398</th>\n",
              "      <td>16745</td>\n",
              "      <td>check your lung capacity in  minfitnessfightfatlossfun getfitathome fitnessathome loseweightathome losingweightathome gethealthy weightlosschallenge fatlosschallenge inchlosschallenge wajanghatao petkamkaro fitraho packabs workoutfromhome intentionalliving healthyyou fatfreelife fitnessmindset healthymindset looseweightgainhealth</td>\n",
              "      <td>healthymindset</td>\n",
              "      <td>1</td>\n",
              "    </tr>\n",
              "    <tr>\n",
              "      <th>14399</th>\n",
              "      <td>16746</td>\n",
              "      <td>many people find it difficult to start doing workouts tell me your reason behind it  i will tell you how to overcome it fitnessfightfatlossfun getfitathome fitnessathome loseweightathome losingweightathome gethealthy weightlosschallenge fatlosschallenge inchlosschallenge wajanghatao petkamkaro fitraho packabs workoutfromhome intentionalliving healthyyou fatfreelife fitnessmindset healthymindset looseweightgainhealth</td>\n",
              "      <td>healthymindset</td>\n",
              "      <td>1</td>\n",
              "    </tr>\n",
              "  </tbody>\n",
              "</table>\n",
              "<p>14376 rows × 4 columns</p>\n",
              "</div>\n",
              "      <button class=\"colab-df-convert\" onclick=\"convertToInteractive('df-a97fcc1e-f984-494e-91ce-3143a23528b7')\"\n",
              "              title=\"Convert this dataframe to an interactive table.\"\n",
              "              style=\"display:none;\">\n",
              "        \n",
              "  <svg xmlns=\"http://www.w3.org/2000/svg\" height=\"24px\"viewBox=\"0 0 24 24\"\n",
              "       width=\"24px\">\n",
              "    <path d=\"M0 0h24v24H0V0z\" fill=\"none\"/>\n",
              "    <path d=\"M18.56 5.44l.94 2.06.94-2.06 2.06-.94-2.06-.94-.94-2.06-.94 2.06-2.06.94zm-11 1L8.5 8.5l.94-2.06 2.06-.94-2.06-.94L8.5 2.5l-.94 2.06-2.06.94zm10 10l.94 2.06.94-2.06 2.06-.94-2.06-.94-.94-2.06-.94 2.06-2.06.94z\"/><path d=\"M17.41 7.96l-1.37-1.37c-.4-.4-.92-.59-1.43-.59-.52 0-1.04.2-1.43.59L10.3 9.45l-7.72 7.72c-.78.78-.78 2.05 0 2.83L4 21.41c.39.39.9.59 1.41.59.51 0 1.02-.2 1.41-.59l7.78-7.78 2.81-2.81c.8-.78.8-2.07 0-2.86zM5.41 20L4 18.59l7.72-7.72 1.47 1.35L5.41 20z\"/>\n",
              "  </svg>\n",
              "      </button>\n",
              "      \n",
              "  <style>\n",
              "    .colab-df-container {\n",
              "      display:flex;\n",
              "      flex-wrap:wrap;\n",
              "      gap: 12px;\n",
              "    }\n",
              "\n",
              "    .colab-df-convert {\n",
              "      background-color: #E8F0FE;\n",
              "      border: none;\n",
              "      border-radius: 50%;\n",
              "      cursor: pointer;\n",
              "      display: none;\n",
              "      fill: #1967D2;\n",
              "      height: 32px;\n",
              "      padding: 0 0 0 0;\n",
              "      width: 32px;\n",
              "    }\n",
              "\n",
              "    .colab-df-convert:hover {\n",
              "      background-color: #E2EBFA;\n",
              "      box-shadow: 0px 1px 2px rgba(60, 64, 67, 0.3), 0px 1px 3px 1px rgba(60, 64, 67, 0.15);\n",
              "      fill: #174EA6;\n",
              "    }\n",
              "\n",
              "    [theme=dark] .colab-df-convert {\n",
              "      background-color: #3B4455;\n",
              "      fill: #D2E3FC;\n",
              "    }\n",
              "\n",
              "    [theme=dark] .colab-df-convert:hover {\n",
              "      background-color: #434B5C;\n",
              "      box-shadow: 0px 1px 3px 1px rgba(0, 0, 0, 0.15);\n",
              "      filter: drop-shadow(0px 1px 2px rgba(0, 0, 0, 0.3));\n",
              "      fill: #FFFFFF;\n",
              "    }\n",
              "  </style>\n",
              "\n",
              "      <script>\n",
              "        const buttonEl =\n",
              "          document.querySelector('#df-a97fcc1e-f984-494e-91ce-3143a23528b7 button.colab-df-convert');\n",
              "        buttonEl.style.display =\n",
              "          google.colab.kernel.accessAllowed ? 'block' : 'none';\n",
              "\n",
              "        async function convertToInteractive(key) {\n",
              "          const element = document.querySelector('#df-a97fcc1e-f984-494e-91ce-3143a23528b7');\n",
              "          const dataTable =\n",
              "            await google.colab.kernel.invokeFunction('convertToInteractive',\n",
              "                                                     [key], {});\n",
              "          if (!dataTable) return;\n",
              "\n",
              "          const docLinkHtml = 'Like what you see? Visit the ' +\n",
              "            '<a target=\"_blank\" href=https://colab.research.google.com/notebooks/data_table.ipynb>data table notebook</a>'\n",
              "            + ' to learn more about interactive tables.';\n",
              "          element.innerHTML = '';\n",
              "          dataTable['output_type'] = 'display_data';\n",
              "          await google.colab.output.renderOutput(dataTable, element);\n",
              "          const docLink = document.createElement('div');\n",
              "          docLink.innerHTML = docLinkHtml;\n",
              "          element.appendChild(docLink);\n",
              "        }\n",
              "      </script>\n",
              "    </div>\n",
              "  </div>\n",
              "  "
            ]
          },
          "metadata": {},
          "execution_count": 21
        }
      ]
    },
    {
      "cell_type": "markdown",
      "metadata": {
        "id": "XlcQKO18nIWi"
      },
      "source": [
        "**FastText Embeddings using pretrained embeddings (Facebook model)**"
      ]
    },
    {
      "cell_type": "code",
      "execution_count": null,
      "metadata": {
        "colab": {
          "base_uri": "https://localhost:8080/"
        },
        "id": "4Xc-wavVnM2a",
        "outputId": "687c14b7-0d6a-400e-89af-0484ba45c146"
      },
      "outputs": [
        {
          "output_type": "stream",
          "name": "stdout",
          "text": [
            "Looking in indexes: https://pypi.org/simple, https://us-python.pkg.dev/colab-wheels/public/simple/\n",
            "Collecting fasttext\n",
            "  Downloading fasttext-0.9.2.tar.gz (68 kB)\n",
            "\u001b[K     |████████████████████████████████| 68 kB 3.2 MB/s \n",
            "\u001b[?25hCollecting pybind11>=2.2\n",
            "  Using cached pybind11-2.10.1-py3-none-any.whl (216 kB)\n",
            "Requirement already satisfied: setuptools>=0.7.0 in /usr/local/lib/python3.8/dist-packages (from fasttext) (57.4.0)\n",
            "Requirement already satisfied: numpy in /usr/local/lib/python3.8/dist-packages (from fasttext) (1.21.6)\n",
            "Building wheels for collected packages: fasttext\n",
            "  Building wheel for fasttext (setup.py) ... \u001b[?25l\u001b[?25hdone\n",
            "  Created wheel for fasttext: filename=fasttext-0.9.2-cp38-cp38-linux_x86_64.whl size=3127440 sha256=ea54bfc551b04ce9e6cf72dcf864f0aecb3b8a8d5c4f47885e8c72d1e08e9f13\n",
            "  Stored in directory: /root/.cache/pip/wheels/93/61/2a/c54711a91c418ba06ba195b1d78ff24fcaad8592f2a694ac94\n",
            "Successfully built fasttext\n",
            "Installing collected packages: pybind11, fasttext\n",
            "Successfully installed fasttext-0.9.2 pybind11-2.10.1\n"
          ]
        }
      ],
      "source": [
        "!pip install fasttext\n",
        "import fasttext\n",
        "import fasttext.util"
      ]
    },
    {
      "cell_type": "code",
      "execution_count": null,
      "metadata": {
        "id": "O8xc94ylnM6F"
      },
      "outputs": [],
      "source": [
        "# fasttext.util.download_model('en', if_exists='ignore')\n",
        "# ft = fasttext.load_model('cc.en.300.bin')"
      ]
    },
    {
      "cell_type": "code",
      "execution_count": null,
      "metadata": {
        "id": "BqXDBjfaYhYG"
      },
      "outputs": [],
      "source": [
        "# ft.save_model('/content/gdrive/MyDrive/Colab Notebooks/cc.en.100.bin')"
      ]
    },
    {
      "cell_type": "code",
      "execution_count": null,
      "metadata": {
        "colab": {
          "base_uri": "https://localhost:8080/"
        },
        "id": "Z90Q1LjInM_Z",
        "outputId": "682046d3-e47e-4c62-ee31-44af4ffe27c9"
      },
      "outputs": [
        {
          "output_type": "stream",
          "name": "stderr",
          "text": [
            "Warning : `load_model` does not return WordVectorModel or SupervisedModel any more, but a `FastText` object which is very similar.\n"
          ]
        }
      ],
      "source": [
        "model = fasttext.load_model('/content/gdrive/MyDrive/Colab Notebooks/cc.en.100.bin')"
      ]
    },
    {
      "cell_type": "code",
      "execution_count": null,
      "metadata": {
        "colab": {
          "base_uri": "https://localhost:8080/"
        },
        "id": "_oxRTTsmQtks",
        "outputId": "a9f49525-fb0c-422a-bbb2-fec2ff0b85e6"
      },
      "outputs": [
        {
          "output_type": "execute_result",
          "data": {
            "text/plain": [
              "300"
            ]
          },
          "metadata": {},
          "execution_count": 82
        }
      ],
      "source": [
        "model.get_dimension()"
      ]
    },
    {
      "cell_type": "code",
      "execution_count": null,
      "metadata": {
        "colab": {
          "base_uri": "https://localhost:8080/"
        },
        "id": "bw7fHvrRmEa9",
        "outputId": "b4dd4b03-3425-4b8f-9255-06592799b70a"
      },
      "outputs": [
        {
          "output_type": "stream",
          "name": "stderr",
          "text": [
            "100%|██████████| 14376/14376 [00:00<00:00, 34690.59it/s]\n"
          ]
        }
      ],
      "source": [
        "post_lst=complete_data['POSTS']\n",
        "from tqdm import tqdm\n",
        "word_tokenizer = nltk.WordPunctTokenizer()\n",
        "word_tokens = [word_tokenizer.tokenize(sent) for sent in tqdm(post_lst)]"
      ]
    },
    {
      "cell_type": "code",
      "execution_count": null,
      "metadata": {
        "id": "RlDMJA81PLZv"
      },
      "outputs": [],
      "source": [
        "from keras.preprocessing.text import Tokenizer\n",
        "from keras_preprocessing.sequence import pad_sequences\n",
        "#max_features = 2000\n",
        "#tokenizer = Tokenizer(num_words = max_features, )\n",
        "tokenizer = Tokenizer()\n",
        "tokenizer.fit_on_texts(complete_data['POSTS'].values)\n",
        "X = tokenizer.texts_to_sequences(complete_data['POSTS'].values)\n",
        "X = pad_sequences(X, padding = 'post' , maxlen=100)\n",
        "Y = pd.get_dummies(complete_data['TAGS']).values\n",
        "#Y= complete_data['TAGS']\n",
        "\n",
        "vocab_size = len(tokenizer.word_index)+1"
      ]
    },
    {
      "cell_type": "code",
      "source": [
        "# from imblearn.under_sampling import RandomUnderSampler\n",
        "# from collections import Counter\n",
        "# rus = RandomUnderSampler(random_state=42, replacement=True)# fit predictor and target variable\n",
        "# x_rus, y_rus = rus.fit_resample(X, Y)\n",
        "\n",
        "# print('original dataset shape:', Counter(Y))\n",
        "# print('Resample dataset shape', Counter(y_rus))"
      ],
      "metadata": {
        "colab": {
          "base_uri": "https://localhost:8080/"
        },
        "id": "CN1iFkyvZmeq",
        "outputId": "3b306540-c6be-4c41-8fa4-fe3c5af94266"
      },
      "execution_count": null,
      "outputs": [
        {
          "output_type": "stream",
          "name": "stdout",
          "text": [
            "original dataset shape: Counter({-1: 8311, 1: 6065})\n",
            "Resample dataset shape Counter({-1: 6065, 1: 6065})\n"
          ]
        }
      ]
    },
    {
      "cell_type": "code",
      "execution_count": null,
      "metadata": {
        "colab": {
          "base_uri": "https://localhost:8080/"
        },
        "id": "cHet92aJPXCw",
        "outputId": "1762d601-e5ca-4625-cdba-c2fdced7c523"
      },
      "outputs": [
        {
          "output_type": "stream",
          "name": "stdout",
          "text": [
            "(10782, 100) (10782, 2)\n",
            "(3594, 100) (3594, 2)\n"
          ]
        }
      ],
      "source": [
        "#Y_rus = pd.get_dummies(y_rus).values\n",
        "from sklearn.model_selection import train_test_split\n",
        "X_train, X_test, Y_train, Y_test = train_test_split(X,Y, test_size = 0.25, random_state = 42)\n",
        "print(X_train.shape,Y_train.shape)\n",
        "print(X_test.shape,Y_test.shape)"
      ]
    },
    {
      "cell_type": "code",
      "execution_count": null,
      "metadata": {
        "colab": {
          "base_uri": "https://localhost:8080/"
        },
        "id": "TI_RHLSTzEBu",
        "outputId": "7080ac1d-9d0e-4850-bbac-50c863921d79"
      },
      "outputs": [
        {
          "output_type": "stream",
          "name": "stderr",
          "text": [
            "100%|██████████| 92516/92516 [00:02<00:00, 45902.23it/s]\n"
          ]
        }
      ],
      "source": [
        "embedding_matrix = np.zeros((vocab_size,300))\n",
        "for word,i in tqdm(tokenizer.word_index.items()):\n",
        "    embedding_value = model.get_word_vector(word)\n",
        "    embedding_matrix[i] = embedding_value"
      ]
    },
    {
      "cell_type": "code",
      "execution_count": null,
      "metadata": {
        "colab": {
          "base_uri": "https://localhost:8080/"
        },
        "id": "zZuPt8MqzNDA",
        "outputId": "aa7c7c16-7e59-4a70-a26d-b1cc243d67e8"
      },
      "outputs": [
        {
          "output_type": "execute_result",
          "data": {
            "text/plain": [
              "(92517, 27755100)"
            ]
          },
          "metadata": {},
          "execution_count": 28
        }
      ],
      "source": [
        "len(embedding_matrix),embedding_matrix.size"
      ]
    },
    {
      "cell_type": "code",
      "execution_count": null,
      "metadata": {
        "colab": {
          "base_uri": "https://localhost:8080/"
        },
        "id": "vEZXyImZ8A94",
        "outputId": "9e2b9d1a-7b6c-4561-f3e2-df188713588b"
      },
      "outputs": [
        {
          "output_type": "stream",
          "name": "stdout",
          "text": [
            "Model: \"sequential_1\"\n",
            "_________________________________________________________________\n",
            " Layer (type)                Output Shape              Param #   \n",
            "=================================================================\n",
            " embedding_1 (Embedding)     (None, None, 300)         27755100  \n",
            "                                                                 \n",
            " bidirectional_1 (Bidirectio  (None, 256)              439296    \n",
            " nal)                                                            \n",
            "                                                                 \n",
            " dense_3 (Dense)             (None, 128)               32896     \n",
            "                                                                 \n",
            " dropout_1 (Dropout)         (None, 128)               0         \n",
            "                                                                 \n",
            " dense_4 (Dense)             (None, 64)                8256      \n",
            "                                                                 \n",
            " dense_5 (Dense)             (None, 2)                 130       \n",
            "                                                                 \n",
            "=================================================================\n",
            "Total params: 28,235,678\n",
            "Trainable params: 480,578\n",
            "Non-trainable params: 27,755,100\n",
            "_________________________________________________________________\n"
          ]
        }
      ],
      "source": [
        "import tensorflow as tf\n",
        "from tensorflow import keras\n",
        "from tensorflow.keras import layers\n",
        "from tensorflow.keras import losses\n",
        "from tensorflow.keras import preprocessing\n",
        "from tensorflow.keras import utils\n",
        "from tensorflow.keras.layers.experimental.preprocessing import TextVectorization\n",
        "\n",
        "\n",
        "from keras.layers import Dense, Embedding, LSTM, SpatialDropout1D, Bidirectional, Dropout\n",
        "embid_dim = 300\n",
        "lstm_out = 128\n",
        "lstm_model = keras.Sequential()\n",
        "lstm_model.add(Embedding(vocab_size, embid_dim, weights = [embedding_matrix] , trainable = False))\n",
        "lstm_model.add(Bidirectional(LSTM(lstm_out, dropout=0.2)))\n",
        "lstm_model.add(Dense(128, activation = 'relu'))\n",
        "lstm_model.add(Dropout(0.5))\n",
        "lstm_model.add(Dense(64, activation = 'relu'))\n",
        "lstm_model.add(Dense(2, activation = 'softmax'))  #if used pd.get dummies above\n",
        "lstm_model.summary()"
      ]
    },
    {
      "cell_type": "code",
      "execution_count": null,
      "metadata": {
        "colab": {
          "base_uri": "https://localhost:8080/"
        },
        "id": "AfWjN-ux8BDW",
        "outputId": "f2d72363-eb7c-43cb-b7fb-c949453d9c96"
      },
      "outputs": [
        {
          "output_type": "stream",
          "name": "stdout",
          "text": [
            "Epoch 1/50\n",
            "54/54 [==============================] - 88s 2s/step - loss: 0.6250 - accuracy: 0.6491 - val_loss: 0.4887 - val_accuracy: 0.7660\n",
            "Epoch 2/50\n",
            "54/54 [==============================] - 76s 1s/step - loss: 0.4625 - accuracy: 0.7876 - val_loss: 0.4331 - val_accuracy: 0.7927\n",
            "Epoch 3/50\n",
            "54/54 [==============================] - 78s 1s/step - loss: 0.4131 - accuracy: 0.8107 - val_loss: 0.3973 - val_accuracy: 0.8152\n",
            "Epoch 4/50\n",
            "54/54 [==============================] - 78s 1s/step - loss: 0.3796 - accuracy: 0.8254 - val_loss: 0.3931 - val_accuracy: 0.8116\n",
            "Epoch 5/50\n",
            "54/54 [==============================] - 76s 1s/step - loss: 0.3658 - accuracy: 0.8306 - val_loss: 0.3884 - val_accuracy: 0.8297\n",
            "Epoch 6/50\n",
            "54/54 [==============================] - 77s 1s/step - loss: 0.3412 - accuracy: 0.8472 - val_loss: 0.3650 - val_accuracy: 0.8392\n",
            "Epoch 7/50\n",
            "54/54 [==============================] - 78s 1s/step - loss: 0.3347 - accuracy: 0.8479 - val_loss: 0.3651 - val_accuracy: 0.8278\n",
            "Epoch 8/50\n",
            "54/54 [==============================] - 76s 1s/step - loss: 0.3030 - accuracy: 0.8591 - val_loss: 0.3450 - val_accuracy: 0.8434\n",
            "Epoch 9/50\n",
            "54/54 [==============================] - 78s 1s/step - loss: 0.2891 - accuracy: 0.8659 - val_loss: 0.3482 - val_accuracy: 0.8356\n",
            "Epoch 10/50\n",
            "54/54 [==============================] - 79s 1s/step - loss: 0.2837 - accuracy: 0.8694 - val_loss: 0.3477 - val_accuracy: 0.8375\n",
            "Epoch 11/50\n",
            "54/54 [==============================] - 78s 1s/step - loss: 0.2643 - accuracy: 0.8804 - val_loss: 0.3507 - val_accuracy: 0.8225\n",
            "Epoch 12/50\n",
            "54/54 [==============================] - 78s 1s/step - loss: 0.2522 - accuracy: 0.8866 - val_loss: 0.3409 - val_accuracy: 0.8456\n",
            "Epoch 13/50\n",
            "54/54 [==============================] - 77s 1s/step - loss: 0.2462 - accuracy: 0.8856 - val_loss: 0.3388 - val_accuracy: 0.8456\n",
            "Epoch 14/50\n",
            "54/54 [==============================] - 75s 1s/step - loss: 0.2444 - accuracy: 0.8915 - val_loss: 0.3472 - val_accuracy: 0.8383\n",
            "Epoch 15/50\n",
            "54/54 [==============================] - 77s 1s/step - loss: 0.2331 - accuracy: 0.8968 - val_loss: 0.3436 - val_accuracy: 0.8492\n",
            "Epoch 16/50\n",
            "54/54 [==============================] - 76s 1s/step - loss: 0.2149 - accuracy: 0.9023 - val_loss: 0.3283 - val_accuracy: 0.8478\n",
            "Epoch 17/50\n",
            "54/54 [==============================] - 78s 1s/step - loss: 0.2134 - accuracy: 0.9037 - val_loss: 0.3180 - val_accuracy: 0.8567\n",
            "Epoch 18/50\n",
            "54/54 [==============================] - 78s 1s/step - loss: 0.2056 - accuracy: 0.9085 - val_loss: 0.3457 - val_accuracy: 0.8567\n",
            "Epoch 19/50\n",
            "54/54 [==============================] - 75s 1s/step - loss: 0.1950 - accuracy: 0.9121 - val_loss: 0.3350 - val_accuracy: 0.8495\n",
            "Epoch 20/50\n",
            "54/54 [==============================] - 77s 1s/step - loss: 0.1907 - accuracy: 0.9180 - val_loss: 0.3570 - val_accuracy: 0.8589\n",
            "Epoch 21/50\n",
            "54/54 [==============================] - 76s 1s/step - loss: 0.1796 - accuracy: 0.9192 - val_loss: 0.3517 - val_accuracy: 0.8523\n",
            "Epoch 22/50\n",
            "54/54 [==============================] - 77s 1s/step - loss: 0.1806 - accuracy: 0.9202 - val_loss: 0.3867 - val_accuracy: 0.8542\n",
            "Epoch 23/50\n",
            "54/54 [==============================] - 75s 1s/step - loss: 0.1679 - accuracy: 0.9270 - val_loss: 0.3807 - val_accuracy: 0.8584\n",
            "Epoch 24/50\n",
            "54/54 [==============================] - 77s 1s/step - loss: 0.1676 - accuracy: 0.9294 - val_loss: 0.3784 - val_accuracy: 0.8648\n",
            "Epoch 25/50\n",
            "54/54 [==============================] - 77s 1s/step - loss: 0.1627 - accuracy: 0.9316 - val_loss: 0.3475 - val_accuracy: 0.8592\n",
            "Epoch 26/50\n",
            "54/54 [==============================] - 76s 1s/step - loss: 0.1500 - accuracy: 0.9342 - val_loss: 0.3658 - val_accuracy: 0.8575\n",
            "Epoch 27/50\n",
            "54/54 [==============================] - 77s 1s/step - loss: 0.1482 - accuracy: 0.9354 - val_loss: 0.3758 - val_accuracy: 0.8703\n"
          ]
        }
      ],
      "source": [
        "early_stopping_monitor = tf.keras.callbacks.EarlyStopping(\n",
        "    monitor='val_loss',\n",
        "    min_delta=0,\n",
        "    patience=10,\n",
        "    verbose=0,\n",
        "    mode='auto',\n",
        "    baseline=None,\n",
        "    restore_best_weights=True\n",
        ")\n",
        "batch_size = 200\n",
        "lstm_model.compile(loss = 'binary_crossentropy', optimizer='adam',metrics = ['accuracy'])\n",
        "history = lstm_model.fit(X_train, Y_train, epochs = 50, batch_size=batch_size, verbose = 1, callbacks=[early_stopping_monitor], validation_data =(X_test, Y_test))"
      ]
    },
    {
      "cell_type": "code",
      "execution_count": null,
      "metadata": {
        "colab": {
          "base_uri": "https://localhost:8080/"
        },
        "id": "iL4hRyBnFWTk",
        "outputId": "661cfbd8-0e2e-4b65-e10f-2205ae262932"
      },
      "outputs": [
        {
          "output_type": "stream",
          "name": "stderr",
          "text": [
            "WARNING:absl:Found untraced functions such as lstm_cell_4_layer_call_fn, lstm_cell_4_layer_call_and_return_conditional_losses, lstm_cell_5_layer_call_fn, lstm_cell_5_layer_call_and_return_conditional_losses while saving (showing 4 of 4). These functions will not be directly callable after loading.\n"
          ]
        }
      ],
      "source": [
        "lstm_model.save('/content/gdrive/MyDrive/Colab Notebooks/')"
      ]
    },
    {
      "cell_type": "code",
      "source": [
        "lstm_model = tf.keras.models.load_model('/content/gdrive/MyDrive/Colab Notebooks')\n",
        "\n",
        "lstm_model.summary()"
      ],
      "metadata": {
        "colab": {
          "base_uri": "https://localhost:8080/"
        },
        "id": "rih-hFv-5bE-",
        "outputId": "193c2211-ee23-44a5-fc54-d60a6105cbc3"
      },
      "execution_count": null,
      "outputs": [
        {
          "output_type": "stream",
          "name": "stdout",
          "text": [
            "Model: \"sequential\"\n",
            "_________________________________________________________________\n",
            " Layer (type)                Output Shape              Param #   \n",
            "=================================================================\n",
            " embedding (Embedding)       (None, None, 300)         25990200  \n",
            "                                                                 \n",
            " bidirectional (Bidirectiona  (None, 256)              439296    \n",
            " l)                                                              \n",
            "                                                                 \n",
            " dense (Dense)               (None, 128)               32896     \n",
            "                                                                 \n",
            " dropout (Dropout)           (None, 128)               0         \n",
            "                                                                 \n",
            " dense_1 (Dense)             (None, 64)                8256      \n",
            "                                                                 \n",
            " dense_2 (Dense)             (None, 2)                 130       \n",
            "                                                                 \n",
            "=================================================================\n",
            "Total params: 26,470,778\n",
            "Trainable params: 480,578\n",
            "Non-trainable params: 25,990,200\n",
            "_________________________________________________________________\n"
          ]
        }
      ]
    },
    {
      "cell_type": "code",
      "source": [
        "Y_test_new=[]\n",
        "for val in Y_test:\n",
        "  if val[0]==1:\n",
        "    Y_test_new.append(0)\n",
        "  else:\n",
        "    Y_test_new.append(1)"
      ],
      "metadata": {
        "id": "gAk8GD9U6r69"
      },
      "execution_count": null,
      "outputs": []
    },
    {
      "cell_type": "code",
      "source": [
        "from sklearn.metrics import classification_report\n",
        "\n",
        "y_pred = lstm_model.predict(X_test, batch_size=64, verbose=1)\n",
        "y_pred_bool = np.argmax(y_pred, axis=1)\n",
        "\n",
        "print(classification_report(Y_test_new, y_pred_bool))\n"
      ],
      "metadata": {
        "colab": {
          "base_uri": "https://localhost:8080/"
        },
        "id": "sglhcrYLiDFz",
        "outputId": "b601bc13-5b32-469c-d360-d7609e2c86f0"
      },
      "execution_count": null,
      "outputs": [
        {
          "output_type": "stream",
          "name": "stdout",
          "text": [
            "57/57 [==============================] - 20s 334ms/step\n",
            "              precision    recall  f1-score   support\n",
            "\n",
            "           0       0.85      0.91      0.88      2114\n",
            "           1       0.86      0.77      0.82      1480\n",
            "\n",
            "    accuracy                           0.86      3594\n",
            "   macro avg       0.86      0.84      0.85      3594\n",
            "weighted avg       0.86      0.86      0.86      3594\n",
            "\n"
          ]
        }
      ]
    },
    {
      "cell_type": "markdown",
      "source": [
        "**Testing the model on completely new/unseen data**"
      ],
      "metadata": {
        "id": "gvDnGemd7u78"
      }
    },
    {
      "cell_type": "code",
      "source": [
        "path = \"/content/gdrive/MyDrive/Colab Notebooks/Unseen_test_data/\"\n",
        "dir_list = os.listdir(path)\n",
        "pd.set_option('display.max_colwidth', None)"
      ],
      "metadata": {
        "id": "0cu3sDoq71Lv"
      },
      "execution_count": null,
      "outputs": []
    },
    {
      "cell_type": "code",
      "source": [
        "all_lines_list=list()\n",
        "labels_list=list()\n",
        "for filename in dir_list:\n",
        "    file_extension_val=filename.split('.')\n",
        "    file_extension=file_extension_val[1]\n",
        "    if(file_extension=='txt'):\n",
        "        label=filename.split('_')\n",
        "        label=label[2]\n",
        "        label=label.split('.')\n",
        "        label=label[0]\n",
        "        labels_list.append(label)\n",
        "        # with open(\"/content/gdrive/MyDrive/Colab Notebooks/Unseen_test_data/\"+filename, encoding='unicode_escape') as file_ptr:\n",
        "        with open(path + \"/\" + filename, encoding='utf-8') as file_ptr:\n",
        "            lines_temp = list()\n",
        "            for line in file_ptr:\n",
        "                if(line.strip()!=\"-----------------------------\"):\n",
        "                    lines_temp.append(line)\n",
        "            all_lines_list.append(lines_temp)"
      ],
      "metadata": {
        "id": "dtARbkQc8sOP"
      },
      "execution_count": null,
      "outputs": []
    },
    {
      "cell_type": "code",
      "source": [
        "df_posts=pd.DataFrame()\n",
        "labels_global_list=list()\n",
        "label_index=0\n",
        "for lst in all_lines_list:\n",
        "    df_temp = pd.DataFrame(lst)\n",
        "    df_posts=df_posts.append(df_temp,ignore_index=True,)\n",
        "#     label_length=len(lst)\n",
        "    for i in range(len(lst)):\n",
        "        labels_global_list.append(labels_list[label_index])\n",
        "    label_index=label_index+1\n",
        "    \n",
        "df_labels = pd.DataFrame(labels_global_list)"
      ],
      "metadata": {
        "id": "61AVeRAs8sUu"
      },
      "execution_count": null,
      "outputs": []
    },
    {
      "cell_type": "code",
      "source": [
        "unseen_complete_data = pd.concat([df_posts, df_labels], axis=1)\n",
        "unseen_complete_data.columns = ['POSTS', 'LABEL']\n",
        "unseen_complete_data"
      ],
      "metadata": {
        "colab": {
          "base_uri": "https://localhost:8080/",
          "height": 919
        },
        "id": "D5AphLcD8sbD",
        "outputId": "38051fbf-458f-47dd-a4ba-2f423eaab0e3"
      },
      "execution_count": null,
      "outputs": [
        {
          "output_type": "execute_result",
          "data": {
            "text/plain": [
              "                                                                                                                                                                                                                                                                                                                                                                                                                                                                                                                                                                                                                                                                                                                                                                                                                                                                                                                                                                                                                                                                                                                                                                                                                                                                                                                                                                                                                                                                                                                                                                                                                                                                                                                                                                                                                                                                                                                                                                                                                                                                                                                                                                                                                                                                                                                                                                                                                                                                                                                                                                                                                                                                                                                                                                                                                                                                                                                                  POSTS  \\\n",
              "0                                                                                                                                                                                                                                                                                                                                                                                                                                                                                                                                                                                                                                                                                                                                                                                                                                                                                                                                                                                                                                                                                                                                                                                                                                                                                                                                                                                                                                                                                                                                                                                                                                                                                                                                                                                                                                                                                                                                                                                                                                                                                                                                                                                                                                                                                                                                                                                                                                                                                                                                                                                                                                                                                                                                                                                                                                                  Does Excel run on Mac? You bet. So do Word, PowerPoint, and all the apps you need.\\n   \n",
              "1                                                                                                                                                                                                                                                                                                                                                                                                                                                                                                                                                                                                                                                                                                                                                                                                                                                                                                                                                                                                                                                                                                                                                                                                                                                                                                                                                                                                                                                                                                                                                                                                                                                                                                                                                                                                                                                                                                                                                                                                                                                                                                                                                                                                                                                                                                                                                                                                                                                                                                                                                                                                                                                                                                                                                                                                                                I'm about to start a new role at Capgemini and containing myself is a real issue.Don't ask 😌#excited\\n   \n",
              "2                                                                                                                                                                                                                                                                                                                                                                                                                                                                                                                                                                                                                                                                                                                                                                                                                                                                                                                                                                                                                                                                                                                                                                                                                                                                                                                                                                                                                                                                                                                                                                                                                                                                                                                                                                                                                                                                                                                                                                                                                                                                                                                                                                                                                                                                                                                                                                                                                                                                                                                                                                                                                                                                                                                                                                                                                                                                                                               New chapter. #excited\\n   \n",
              "3                                                                                                                                                                                                                                                                                                                                                                                                                                                                                                                                                                                                                                                                                                                                                                                                                                                                                                                                                                                                                                                   Flying away from the Nest and setting off for new adventures on the other side of the planet 🗺️This day marks a couple of important milestones:-         My first post ever on LinkedIn 🚀 (Is this really a milestone?)-         My last day working at Nestlé-         The beginning of a new and exciting journey 😍I am thrilled to announce that I’ll be moving to New Zealand as of February 2023 (#excited). Driven by the willingness to enrich ourselves as individuals, to go out of our comfort zone, to experience a new professional and personal environment, and to discover new outdoor experiences, my partner and I have decided to take that step. And why not?Since I graduated from ISIPCA in 2014, the past decade at Nestlé (wow, this sounds like a lot) which started with a 2-years internship has been incredibly rich and I feel very lucky for all the projects and experiences I went through. I met inspiring people and worked on innovative projects. From being part of the Nestlé R&D accelerator to the nesQino™️ journey, and plenty of other initiatives, I enjoyed the diversity of projects, activities, and challenges.The journey has also sometimes been punctuated with some doubts and questions, which were essential to go the extra mile. Those who know me know that I am always eager to learn new things. I don’t know yet what will come next, and I am very curious to see what the future will bring… The next two months will be busy organizing the move (and solving admin stuff), enjoying time with family and friends, recharging, and settling in New Zealand. I’ll be available for work as of February 2023 and I can’t wait to discover what New Zealand has to offer. I would love to start discussions about expatriation experiences, tips about New Zealand, potential work opportunities (including remote), …\\n   \n",
              "4                                                                                                                                                                                                                                                                                                                                                                                                                                                                                                                                                                                                                                                                                                                                                                                                                                                                                                                                                                                                                                                                                                                                                                                                                                                                                                                                                                                                                                                                                                                                                                                                                                                                                                                                                                                                                                                                                                                                                                                                                                                                                                                                                                                                                                                                                                                                                                                                                                                                                                                                                                                                                                        #Excited about the great things to come from this partnership.  Gracias to my Omnicom Media Group familia (Geoffrey Calabrese, Kelly Metz, Amy Darwish) and TelevisaUnivision (Daniel Aversano, Richard Bertodatti) for making this happen! #multiculturalmarketing https://lnkd.in/eVpbW7CU\\n   \n",
              "...                                                                                                                                                                                                                                                                                                                                                                                                                                                                                                                                                                                                                                                                                                                                                                                                                                                                                                                                                                                                                                                                                                                                                                                                                                                                                                                                                                                                                                                                                                                                                                                                                                                                                                                                                                                                                                                                                                                                                                                                                                                                                                                                                                                                                                                                                                                                                                                                                                                                                                                                                                                                                                                                                                                                                                                                                                                                                                                                 ...   \n",
              "2579                                                                                                                                                                                                                                                                                                                                                                                                                                                                                                                                                                                                                                                                                                                                                                                                                                                                                                                                                                                                                                                                                                                                                                                                                                                                                                                                                                                                                                                                                                                                                                                                                                                                                                                                                                                                                                                                                                                                                                                                                                                                                                                                                                                                                                                                                                                                                                                                                                                                                                                                                                                                                                                                                                                                                                                                                                                                Automate testing to catch bugs earlier in your development cycle.\\n   \n",
              "2580  Is Twitter about to go bankrupt?https://lnkd.in/gnQtXcnC#layoff #layoffs #laidoff #job #today #linkedin #talent #searchforjobs #techlayoffs #techjobs #technews #careers #jobopening#W2 #contract #c2c #jobopportunities #career #recruiting #openforjobopportunities #Recession #Recession2022 #Recession2023 #jobsearch #ITRecruitment#java #phython #spring #springboot #microservices #hibernate #datajpa #kafka #aws #gcp #azure #javadeveloper #Akka #scala #benchsalesrecruiters#dotnetdeveloper #dotnet #devops #powerbi #uideveloper #networking #scrummaster #data #opportunity #opportunities #fullstackdeveloper #engineering #techcommunity #layoffsandjobreductions #hiring #team #development #grateful #comment #softwareengineering #frontend#dataanalysis #businessintelligence #processimprovement #industrialengineering #newopportunities #analyst #dataengineer #opentowork #openforwork #twitter #stripe #lyft #amazon #apple #microsoft #facebook #tesla #philips #zillow #convey #jpmc #salesforce #nytimes #nypost #wsj #layoff #layoffs #laidoff #job #today#javafullstackdeveloper #javajobs #hiringimmediately #hiring #hiringtalent #marketing #project # #project #Snap #softwareengineer #work#leadership #digitalhealth #medicaldevice #biotechnology #projectAdditionally #career #opportunities #activelylooking #talent #businessintelligenceanalyst #international #students #CPT #OPT #EAD #OPTEAD #Fulltime #H1B #H4EAD #TN #TNVISA #tnjobs #H1BVISA #Citizens #GC #GCEAD #uscitizens #usajobs #usc #usajob #usa2022 #usa #usa2023 #usaitjobs #uscontractjobs #usjobseeker #usjob#dataanalyst #businessanalyst #businessanalysis #analytics #workplace #outsourcedhr #payroll #onboarding#pgmp #productdevelopment #programmanagement #productmanagement #ProjectManagement #productmanager #programmanager #culture #remotework#jobalert #canadajobs #fulltimeposition #candidatesearch #fulltimejobs #jobfair #jobdescription #jobavailable #jobchangers #canada #canadaworkvisa #fulltime #copr #canadastaffing #canadarecruitment #canadacareers #canadajobseeker #canadaitjob #torontocanada #canadaitjobs #jobhiring #jobforyou #jobalerts #canadaprvisa #canadajobseekers#permanentjobs #permanentjob #permanentrecruitment #permanentrole #opentonewopportunities #torontoitjobs #jobseekers #Recruiting#Jobposting #LinkedIn #Openings #Jobvacancy #Jobalert #Jobhunters #activelyhiring #BulkCanadaJobs #informaticajobs #informatica #bigdata #hadoop#tech #help #economy #jobhunt #network#nyc #denver #colorado #losangeles #boston #tampa #florida #michiganjobs #oregoan #sandiego #houston #dallas #itjobs #washington #dallas#chicago #chicagojobs #dfw #plano #dallas #dallasjobs #austin #austinjobs #Cali #CaliJobs #California #Houston #HoustonJobs #atlanta #atlantajobs#nyc #newyork #nycjobs #newyorkjobs #detroit #michigan #mexico #mexicojobs #siliconvalley\\n   \n",
              "2581                                                                                                                                                                                                                                                                                                                                                                                                                                                                                                                                                                                                                                                                                                                                                                                                                                                                                                                                                                                                                                                                                                                                                                                                                                                                                                                                                                                                                                                                                                                                                                                                                                                                                                                                                                                                                                                                                                                                                                                                                                                                                                                                                                                                                                                                                                                                                                             That moment when the cast of #JurassicWorldDominion surprised 350 students with free laptops.Just one of many surprises for these amazing students during an all-expense-paid trip to Universal Studios to launch our Jurassic World-themed STEAM initiative. Learn more about this cross-company program with Universal Pictures, Universal Parks & Resorts, and the Council for Opportunity in Education to help ensure more young people have access to the resources and opportunities they need to succeed in today’s digital world. #ProjectUP\\n   \n",
              "2582                                                                                                                                                                                                                                                                                                                                                                                                                                                                                                                                                                                                                                                                                                                                                                                                                                                                                                                                                                                                                                                                                                                                                                                                                                                                                                                                                                                                                                                                                                                                                                                                                                                                                                                                                                                                                                                                                                                                                                                                                                                                                                                                                                                                                                                                                                                                                                                                                                                                                                                                                                                                                                                                                                                                                                                                      Develop crucial skills and knowledge in Brown’s Online MPH to address the many health challenges affecting the world today.\\n   \n",
              "2583                                                                                                                                                                                                                                                                                                                                                                                                                                                                                                                                                                                                                                                                                                                                                                                                                                                                                                                                                                                                                                                                                                                                                                                                                                                                                                                                                                                                                                                                                                                                                                                                                                                                                                                                                                                                                                                                                                                                                                                                                                                                                                                                                                                                                                                                                                                                                                                                                                                                                                                                                                                                                                                                                                                                                                                      Propel your future forward by taking courses online to earn a graduate certificate or master's degree from Stanford University. Learn more!\\n   \n",
              "\n",
              "              LABEL  \n",
              "0           excited  \n",
              "1           excited  \n",
              "2           excited  \n",
              "3           excited  \n",
              "4           excited  \n",
              "...             ...  \n",
              "2579  recession2022  \n",
              "2580  recession2022  \n",
              "2581  recession2022  \n",
              "2582  recession2022  \n",
              "2583  recession2022  \n",
              "\n",
              "[2584 rows x 2 columns]"
            ],
            "text/html": [
              "\n",
              "  <div id=\"df-1a3c6f68-0bac-44e8-bc4b-f863bd5c51d0\">\n",
              "    <div class=\"colab-df-container\">\n",
              "      <div>\n",
              "<style scoped>\n",
              "    .dataframe tbody tr th:only-of-type {\n",
              "        vertical-align: middle;\n",
              "    }\n",
              "\n",
              "    .dataframe tbody tr th {\n",
              "        vertical-align: top;\n",
              "    }\n",
              "\n",
              "    .dataframe thead th {\n",
              "        text-align: right;\n",
              "    }\n",
              "</style>\n",
              "<table border=\"1\" class=\"dataframe\">\n",
              "  <thead>\n",
              "    <tr style=\"text-align: right;\">\n",
              "      <th></th>\n",
              "      <th>POSTS</th>\n",
              "      <th>LABEL</th>\n",
              "    </tr>\n",
              "  </thead>\n",
              "  <tbody>\n",
              "    <tr>\n",
              "      <th>0</th>\n",
              "      <td>Does Excel run on Mac? You bet. So do Word, PowerPoint, and all the apps you need.\\n</td>\n",
              "      <td>excited</td>\n",
              "    </tr>\n",
              "    <tr>\n",
              "      <th>1</th>\n",
              "      <td>I'm about to start a new role at Capgemini and containing myself is a real issue.Don't ask 😌#excited\\n</td>\n",
              "      <td>excited</td>\n",
              "    </tr>\n",
              "    <tr>\n",
              "      <th>2</th>\n",
              "      <td>New chapter. #excited\\n</td>\n",
              "      <td>excited</td>\n",
              "    </tr>\n",
              "    <tr>\n",
              "      <th>3</th>\n",
              "      <td>Flying away from the Nest and setting off for new adventures on the other side of the planet 🗺️This day marks a couple of important milestones:-         My first post ever on LinkedIn 🚀 (Is this really a milestone?)-         My last day working at Nestlé-         The beginning of a new and exciting journey 😍I am thrilled to announce that I’ll be moving to New Zealand as of February 2023 (#excited). Driven by the willingness to enrich ourselves as individuals, to go out of our comfort zone, to experience a new professional and personal environment, and to discover new outdoor experiences, my partner and I have decided to take that step. And why not?Since I graduated from ISIPCA in 2014, the past decade at Nestlé (wow, this sounds like a lot) which started with a 2-years internship has been incredibly rich and I feel very lucky for all the projects and experiences I went through. I met inspiring people and worked on innovative projects. From being part of the Nestlé R&amp;D accelerator to the nesQino™️ journey, and plenty of other initiatives, I enjoyed the diversity of projects, activities, and challenges.The journey has also sometimes been punctuated with some doubts and questions, which were essential to go the extra mile. Those who know me know that I am always eager to learn new things. I don’t know yet what will come next, and I am very curious to see what the future will bring… The next two months will be busy organizing the move (and solving admin stuff), enjoying time with family and friends, recharging, and settling in New Zealand. I’ll be available for work as of February 2023 and I can’t wait to discover what New Zealand has to offer. I would love to start discussions about expatriation experiences, tips about New Zealand, potential work opportunities (including remote), …\\n</td>\n",
              "      <td>excited</td>\n",
              "    </tr>\n",
              "    <tr>\n",
              "      <th>4</th>\n",
              "      <td>#Excited about the great things to come from this partnership.  Gracias to my Omnicom Media Group familia (Geoffrey Calabrese, Kelly Metz, Amy Darwish) and TelevisaUnivision (Daniel Aversano, Richard Bertodatti) for making this happen! #multiculturalmarketing https://lnkd.in/eVpbW7CU\\n</td>\n",
              "      <td>excited</td>\n",
              "    </tr>\n",
              "    <tr>\n",
              "      <th>...</th>\n",
              "      <td>...</td>\n",
              "      <td>...</td>\n",
              "    </tr>\n",
              "    <tr>\n",
              "      <th>2579</th>\n",
              "      <td>Automate testing to catch bugs earlier in your development cycle.\\n</td>\n",
              "      <td>recession2022</td>\n",
              "    </tr>\n",
              "    <tr>\n",
              "      <th>2580</th>\n",
              "      <td>Is Twitter about to go bankrupt?https://lnkd.in/gnQtXcnC#layoff #layoffs #laidoff #job #today #linkedin #talent #searchforjobs #techlayoffs #techjobs #technews #careers #jobopening#W2 #contract #c2c #jobopportunities #career #recruiting #openforjobopportunities #Recession #Recession2022 #Recession2023 #jobsearch #ITRecruitment#java #phython #spring #springboot #microservices #hibernate #datajpa #kafka #aws #gcp #azure #javadeveloper #Akka #scala #benchsalesrecruiters#dotnetdeveloper #dotnet #devops #powerbi #uideveloper #networking #scrummaster #data #opportunity #opportunities #fullstackdeveloper #engineering #techcommunity #layoffsandjobreductions #hiring #team #development #grateful #comment #softwareengineering #frontend#dataanalysis #businessintelligence #processimprovement #industrialengineering #newopportunities #analyst #dataengineer #opentowork #openforwork #twitter #stripe #lyft #amazon #apple #microsoft #facebook #tesla #philips #zillow #convey #jpmc #salesforce #nytimes #nypost #wsj #layoff #layoffs #laidoff #job #today#javafullstackdeveloper #javajobs #hiringimmediately #hiring #hiringtalent #marketing #project # #project #Snap #softwareengineer #work#leadership #digitalhealth #medicaldevice #biotechnology #projectAdditionally #career #opportunities #activelylooking #talent #businessintelligenceanalyst #international #students #CPT #OPT #EAD #OPTEAD #Fulltime #H1B #H4EAD #TN #TNVISA #tnjobs #H1BVISA #Citizens #GC #GCEAD #uscitizens #usajobs #usc #usajob #usa2022 #usa #usa2023 #usaitjobs #uscontractjobs #usjobseeker #usjob#dataanalyst #businessanalyst #businessanalysis #analytics #workplace #outsourcedhr #payroll #onboarding#pgmp #productdevelopment #programmanagement #productmanagement #ProjectManagement #productmanager #programmanager #culture #remotework#jobalert #canadajobs #fulltimeposition #candidatesearch #fulltimejobs #jobfair #jobdescription #jobavailable #jobchangers #canada #canadaworkvisa #fulltime #copr #canadastaffing #canadarecruitment #canadacareers #canadajobseeker #canadaitjob #torontocanada #canadaitjobs #jobhiring #jobforyou #jobalerts #canadaprvisa #canadajobseekers#permanentjobs #permanentjob #permanentrecruitment #permanentrole #opentonewopportunities #torontoitjobs #jobseekers #Recruiting#Jobposting #LinkedIn #Openings #Jobvacancy #Jobalert #Jobhunters #activelyhiring #BulkCanadaJobs #informaticajobs #informatica #bigdata #hadoop#tech #help #economy #jobhunt #network#nyc #denver #colorado #losangeles #boston #tampa #florida #michiganjobs #oregoan #sandiego #houston #dallas #itjobs #washington #dallas#chicago #chicagojobs #dfw #plano #dallas #dallasjobs #austin #austinjobs #Cali #CaliJobs #California #Houston #HoustonJobs #atlanta #atlantajobs#nyc #newyork #nycjobs #newyorkjobs #detroit #michigan #mexico #mexicojobs #siliconvalley\\n</td>\n",
              "      <td>recession2022</td>\n",
              "    </tr>\n",
              "    <tr>\n",
              "      <th>2581</th>\n",
              "      <td>That moment when the cast of #JurassicWorldDominion surprised 350 students with free laptops.Just one of many surprises for these amazing students during an all-expense-paid trip to Universal Studios to launch our Jurassic World-themed STEAM initiative. Learn more about this cross-company program with Universal Pictures, Universal Parks &amp; Resorts, and the Council for Opportunity in Education to help ensure more young people have access to the resources and opportunities they need to succeed in today’s digital world. #ProjectUP\\n</td>\n",
              "      <td>recession2022</td>\n",
              "    </tr>\n",
              "    <tr>\n",
              "      <th>2582</th>\n",
              "      <td>Develop crucial skills and knowledge in Brown’s Online MPH to address the many health challenges affecting the world today.\\n</td>\n",
              "      <td>recession2022</td>\n",
              "    </tr>\n",
              "    <tr>\n",
              "      <th>2583</th>\n",
              "      <td>Propel your future forward by taking courses online to earn a graduate certificate or master's degree from Stanford University. Learn more!\\n</td>\n",
              "      <td>recession2022</td>\n",
              "    </tr>\n",
              "  </tbody>\n",
              "</table>\n",
              "<p>2584 rows × 2 columns</p>\n",
              "</div>\n",
              "      <button class=\"colab-df-convert\" onclick=\"convertToInteractive('df-1a3c6f68-0bac-44e8-bc4b-f863bd5c51d0')\"\n",
              "              title=\"Convert this dataframe to an interactive table.\"\n",
              "              style=\"display:none;\">\n",
              "        \n",
              "  <svg xmlns=\"http://www.w3.org/2000/svg\" height=\"24px\"viewBox=\"0 0 24 24\"\n",
              "       width=\"24px\">\n",
              "    <path d=\"M0 0h24v24H0V0z\" fill=\"none\"/>\n",
              "    <path d=\"M18.56 5.44l.94 2.06.94-2.06 2.06-.94-2.06-.94-.94-2.06-.94 2.06-2.06.94zm-11 1L8.5 8.5l.94-2.06 2.06-.94-2.06-.94L8.5 2.5l-.94 2.06-2.06.94zm10 10l.94 2.06.94-2.06 2.06-.94-2.06-.94-.94-2.06-.94 2.06-2.06.94z\"/><path d=\"M17.41 7.96l-1.37-1.37c-.4-.4-.92-.59-1.43-.59-.52 0-1.04.2-1.43.59L10.3 9.45l-7.72 7.72c-.78.78-.78 2.05 0 2.83L4 21.41c.39.39.9.59 1.41.59.51 0 1.02-.2 1.41-.59l7.78-7.78 2.81-2.81c.8-.78.8-2.07 0-2.86zM5.41 20L4 18.59l7.72-7.72 1.47 1.35L5.41 20z\"/>\n",
              "  </svg>\n",
              "      </button>\n",
              "      \n",
              "  <style>\n",
              "    .colab-df-container {\n",
              "      display:flex;\n",
              "      flex-wrap:wrap;\n",
              "      gap: 12px;\n",
              "    }\n",
              "\n",
              "    .colab-df-convert {\n",
              "      background-color: #E8F0FE;\n",
              "      border: none;\n",
              "      border-radius: 50%;\n",
              "      cursor: pointer;\n",
              "      display: none;\n",
              "      fill: #1967D2;\n",
              "      height: 32px;\n",
              "      padding: 0 0 0 0;\n",
              "      width: 32px;\n",
              "    }\n",
              "\n",
              "    .colab-df-convert:hover {\n",
              "      background-color: #E2EBFA;\n",
              "      box-shadow: 0px 1px 2px rgba(60, 64, 67, 0.3), 0px 1px 3px 1px rgba(60, 64, 67, 0.15);\n",
              "      fill: #174EA6;\n",
              "    }\n",
              "\n",
              "    [theme=dark] .colab-df-convert {\n",
              "      background-color: #3B4455;\n",
              "      fill: #D2E3FC;\n",
              "    }\n",
              "\n",
              "    [theme=dark] .colab-df-convert:hover {\n",
              "      background-color: #434B5C;\n",
              "      box-shadow: 0px 1px 3px 1px rgba(0, 0, 0, 0.15);\n",
              "      filter: drop-shadow(0px 1px 2px rgba(0, 0, 0, 0.3));\n",
              "      fill: #FFFFFF;\n",
              "    }\n",
              "  </style>\n",
              "\n",
              "      <script>\n",
              "        const buttonEl =\n",
              "          document.querySelector('#df-1a3c6f68-0bac-44e8-bc4b-f863bd5c51d0 button.colab-df-convert');\n",
              "        buttonEl.style.display =\n",
              "          google.colab.kernel.accessAllowed ? 'block' : 'none';\n",
              "\n",
              "        async function convertToInteractive(key) {\n",
              "          const element = document.querySelector('#df-1a3c6f68-0bac-44e8-bc4b-f863bd5c51d0');\n",
              "          const dataTable =\n",
              "            await google.colab.kernel.invokeFunction('convertToInteractive',\n",
              "                                                     [key], {});\n",
              "          if (!dataTable) return;\n",
              "\n",
              "          const docLinkHtml = 'Like what you see? Visit the ' +\n",
              "            '<a target=\"_blank\" href=https://colab.research.google.com/notebooks/data_table.ipynb>data table notebook</a>'\n",
              "            + ' to learn more about interactive tables.';\n",
              "          element.innerHTML = '';\n",
              "          dataTable['output_type'] = 'display_data';\n",
              "          await google.colab.output.renderOutput(dataTable, element);\n",
              "          const docLink = document.createElement('div');\n",
              "          docLink.innerHTML = docLinkHtml;\n",
              "          element.appendChild(docLink);\n",
              "        }\n",
              "      </script>\n",
              "    </div>\n",
              "  </div>\n",
              "  "
            ]
          },
          "metadata": {},
          "execution_count": 18
        }
      ]
    },
    {
      "cell_type": "code",
      "execution_count": null,
      "metadata": {
        "id": "qMKTB-YX9PuR"
      },
      "outputs": [],
      "source": [
        "#convert to lowercase\n",
        "unseen_complete_data['POSTS']=unseen_complete_data['POSTS'].str.lower()"
      ]
    },
    {
      "cell_type": "code",
      "execution_count": null,
      "metadata": {
        "id": "LZe1AZ0c9PuR"
      },
      "outputs": [],
      "source": [
        "#remove html content\n",
        "unseen_complete_data['POSTS'] = unseen_complete_data['POSTS'].apply(lambda x: re.split('<[^<>]*>', str(x))[0])"
      ]
    },
    {
      "cell_type": "code",
      "execution_count": null,
      "metadata": {
        "id": "T3K3TI8V9PuS"
      },
      "outputs": [],
      "source": [
        "def contr(post_text):\n",
        "     posts_body_list=[]\n",
        "     for r in post_text:\n",
        "         decontract_posts_body = contractions.fix(r)\n",
        "         r = ''.join(decontract_posts_body)\n",
        "         r = re.sub(\"\\s\\s+\", \" \", r) # remove extra spaces\n",
        "         posts_body_list.append(r)\n",
        "     return posts_body_list"
      ]
    },
    {
      "cell_type": "code",
      "execution_count": null,
      "metadata": {
        "id": "_MtI6lPR9PuS"
      },
      "outputs": [],
      "source": [
        "unseen_complete_data['POSTS']=contr(unseen_complete_data['POSTS'].values)"
      ]
    },
    {
      "cell_type": "code",
      "execution_count": null,
      "metadata": {
        "id": "bkIQbIFu9PuS"
      },
      "outputs": [],
      "source": [
        "#remove non-alphabetical values\n",
        "unseen_complete_data['POSTS'] = unseen_complete_data['POSTS'].replace('[^a-zA-Z ]', '', regex=True)"
      ]
    },
    {
      "cell_type": "code",
      "execution_count": null,
      "metadata": {
        "id": "a6wowEL29jB1"
      },
      "outputs": [],
      "source": [
        "import numpy as np\n",
        "unseen_complete_data['TAGS']=np.where( (unseen_complete_data['LABEL']=='excited') | (unseen_complete_data['LABEL']=='hiring') | (unseen_complete_data['LABEL']=='positivity') | (unseen_complete_data['LABEL']=='positivevibes') | (unseen_complete_data['LABEL']=='grateful') | (unseen_complete_data['LABEL']=='newjob') | (unseen_complete_data['LABEL']=='blessed') | (unseen_complete_data['LABEL']=='happy') | (unseen_complete_data['LABEL']=='lmao') | (unseen_complete_data['LABEL']=='funny') | (unseen_complete_data['LABEL']=='fun') | (unseen_complete_data['LABEL']=='lol') , 1, -1)"
      ]
    },
    {
      "cell_type": "code",
      "source": [
        "unseen_complete_data=unseen_complete_data.drop_duplicates(keep='last').reset_index()"
      ],
      "metadata": {
        "id": "5lvl0qYu-AvH"
      },
      "execution_count": null,
      "outputs": []
    },
    {
      "cell_type": "code",
      "source": [
        "unseen_complete_data['POSTS'].replace('', np.nan, inplace=True)\n",
        "unseen_complete_data.dropna(subset=['POSTS'], inplace=True)\n",
        "unseen_complete_data"
      ],
      "metadata": {
        "colab": {
          "base_uri": "https://localhost:8080/",
          "height": 919
        },
        "id": "lArmabee-IPN",
        "outputId": "7aa1d4c5-34be-4dfa-9c17-c178188b2f87"
      },
      "execution_count": null,
      "outputs": [
        {
          "output_type": "execute_result",
          "data": {
            "text/plain": [
              "      index  \\\n",
              "0         0   \n",
              "1         1   \n",
              "2         2   \n",
              "3         3   \n",
              "4         4   \n",
              "...     ...   \n",
              "2257   2579   \n",
              "2258   2580   \n",
              "2259   2581   \n",
              "2260   2582   \n",
              "2261   2583   \n",
              "\n",
              "                                                                                                                                                                                                                                                                                                                                                                                                                                                                                                                                                                                                                                                                                                                                                                                                                                                                                                                                                                                                                                                                                                                                                                                                                                                                                                                                                                                                                                                                                                                                                                                                                                                                                                                                                                                                                                                                                                                                                                                                                                                                                                                                                                                                                                                                                                                                                                                                                                                                                                                                                                                                                                       POSTS  \\\n",
              "0                                                                                                                                                                                                                                                                                                                                                                                                                                                                                                                                                                                                                                                                                                                                                                                                                                                                                                                                                                                                                                                                                                                                                                                                                                                                                                                                                                                                                                                                                                                                                                                                                                                                                                                                                                                                                                                                                                                                                                                                                                                                                                                                                                                                                                                                                                                                                                                                                                                                                                                                                              does excel run on mac you bet so do word powerpoint and all the apps you need   \n",
              "1                                                                                                                                                                                                                                                                                                                                                                                                                                                                                                                                                                                                                                                                                                                                                                                                                                                                                                                                                                                                                                                                                                                                                                                                                                                                                                                                                                                                                                                                                                                                                                                                                                                                                                                                                                                                                                                                                                                                                                                                                                                                                                                                                                                                                                                                                                                                                                                                                                                                                                                                        i am about to start a new role at capgemini and containing myself is a real issuedo not ask excited   \n",
              "2                                                                                                                                                                                                                                                                                                                                                                                                                                                                                                                                                                                                                                                                                                                                                                                                                                                                                                                                                                                                                                                                                                                                                                                                                                                                                                                                                                                                                                                                                                                                                                                                                                                                                                                                                                                                                                                                                                                                                                                                                                                                                                                                                                                                                                                                                                                                                                                                                                                                                                                                                                                                                        new chapter excited   \n",
              "3                                                                                                                                                                                                                                                                                                                                                                                                                                                                                                                                                                                                                                                                                                                                                                                                                                                  flying away from the nest and setting off for new adventures on the other side of the planet this day marks a couple of important milestones my first post ever on linkedin  is this really a milestone my last day working at nestl the beginning of a new and exciting journey i am thrilled to announce that i will be moving to new zealand as of february  excited driven by the willingness to enrich ourselves as individuals to go out of our comfort zone to experience a new professional and personal environment and to discover new outdoor experiences my partner and i have decided to take that step and why notsince i graduated from isipca in  the past decade at nestl wow this sounds like a lot which started with a years internship has been incredibly rich and i feel very lucky for all the projects and experiences i went through i met inspiring people and worked on innovative projects from being part of the nestl rd accelerator to the nesqino journey and plenty of other initiatives i enjoyed the diversity of projects activities and challengesthe journey has also sometimes been punctuated with some doubts and questions which were essential to go the extra mile those who know me know that i am always eager to learn new things i do not know yet what will come next and i am very curious to see what the future will bring the next two months will be busy organizing the move and solving admin stuff enjoying time with family and friends recharging and settling in new zealand i will be available for work as of february  and i cannot wait to discover what new zealand has to offer i would love to start discussions about expatriation experiences tips about new zealand potential work opportunities including remote    \n",
              "4                                                                                                                                                                                                                                                                                                                                                                                                                                                                                                                                                                                                                                                                                                                                                                                                                                                                                                                                                                                                                                                                                                                                                                                                                                                                                                                                                                                                                                                                                                                                                                                                                                                                                                                                                                                                                                                                                                                                                                                                                                                                                                                                                                                                                                                                                                                                                                 excited about the great things to come from this partnership gracias to my omnicom media group familia geoffrey calabrese kelly metz amy darwish and televisaunivision daniel aversano richard bertodatti for making this happen multiculturalmarketing httpslnkdinevpbwcu   \n",
              "...                                                                                                                                                                                                                                                                                                                                                                                                                                                                                                                                                                                                                                                                                                                                                                                                                                                                                                                                                                                                                                                                                                                                                                                                                                                                                                                                                                                                                                                                                                                                                                                                                                                                                                                                                                                                                                                                                                                                                                                                                                                                                                                                                                                                                                                                                                                                                                                                                                                                                                                                                                                                                                      ...   \n",
              "2257                                                                                                                                                                                                                                                                                                                                                                                                                                                                                                                                                                                                                                                                                                                                                                                                                                                                                                                                                                                                                                                                                                                                                                                                                                                                                                                                                                                                                                                                                                                                                                                                                                                                                                                                                                                                                                                                                                                                                                                                                                                                                                                                                                                                                                                                                                                                                                                                                                                                                                                                                                        automate testing to catch bugs earlier in your development cycle   \n",
              "2258  is twitter about to go bankrupthttpslnkdingnqtxcnclayoff layoffslaidoff job today linkedin talent searchforjobs techlayoffs techjobs technews careers jobopeningw contract cc jobopportunities career recruiting openforjobopportunities recession recession recession jobsearch itrecruitmentjava phython spring springboot microservices hibernate datajpa kafka aws gcp azure javadeveloper akka scala benchsalesrecruitersdotnetdeveloper dotnet devops powerbi uideveloper networking scrummaster data opportunity opportunities fullstackdeveloper engineering techcommunity layoffsandjobreductions hiring team development grateful comment softwareengineering frontenddataanalysis businessintelligence processimprovementindustrialengineering newopportunities analyst dataengineer opentowork openforwork twitter stripe lyft amazon apple microsoft facebook tesla philips zillow convey jpmc salesforce nytimes nypost wsj layoff layoffslaidoff job todayjavafullstackdeveloper javajobs hiringimmediately hiring hiringtalent marketing project  project snap softwareengineer workleadership digitalhealth medicaldevice biotechnology projectadditionally career opportunities activelylooking talent businessintelligenceanalystinternational students cpt opt ead optead fulltimehb head tn tnvisa tnjobs hbvisa citizens gc gcead uscitizens usajobs usc usajob usa usa usa usaitjobs uscontractjobs usjobseeker usjobdataanalyst businessanalystbusinessanalysis analytics workplace outsourcedhr payroll onboardingpgmp productdevelopment programmanagement productmanagement projectmanagement productmanager programmanager culture remoteworkjobalert canadajobs fulltimeposition candidatesearch fulltimejobs jobfair jobdescription jobavailable jobchangers canada canadaworkvisa fulltime copr canadastaffing canadarecruitment canadacareers canadajobseeker canadaitjob torontocanada canadaitjobsjobhiring jobforyou jobalerts canadaprvisa canadajobseekerspermanentjobs permanentjob permanentrecruitment permanentrole opentonewopportunities torontoitjobs jobseekers recruitingjobposting linkedin openings jobvacancy jobalert jobhunters activelyhiring bulkcanadajobs informaticajobs informatica bigdata hadooptech help economy jobhunt networknyc denver colorado losangeles boston tampa florida michiganjobs oregoan sandiego houston dallas itjobs washington dallaschicago chicagojobs dfw plano dallas dallasjobs austin austinjobs cali calijobs california houston houstonjobs atlanta atlantajobsnyc newyork nycjobs newyorkjobs detroit michiganmexico mexicojobs siliconvalley   \n",
              "2259                                                                                                                                                                                                                                                                                                                                                                                                                                                                                                                                                                                                                                                                                                                                                                                                                                                                                                                                                                                                                                                                                                                                                                                                                                                                                                                                                                                                                                                                                                                                                                                                                                                                                                                                                                                                                                                                                                                                                                                                                                                                                                    that moment when the cast of jurassicworlddominion surprised  students with free laptopsjust one of many surprises for these amazing students during an allexpensepaid trip to universal studios to launch our jurassic worldthemed steam initiative learn more about this crosscompany program with universal pictures universal parks  resorts and the council for opportunity in education to help ensure more young people have access to the resources and opportunities they need to succeed in todays digital world projectup   \n",
              "2260                                                                                                                                                                                                                                                                                                                                                                                                                                                                                                                                                                                                                                                                                                                                                                                                                                                                                                                                                                                                                                                                                                                                                                                                                                                                                                                                                                                                                                                                                                                                                                                                                                                                                                                                                                                                                                                                                                                                                                                                                                                                                                                                                                                                                                                                                                                                                                                                                                                                                                               develop crucial skills and knowledge in browns online mph to address the many health challenges affecting the world today   \n",
              "2261                                                                                                                                                                                                                                                                                                                                                                                                                                                                                                                                                                                                                                                                                                                                                                                                                                                                                                                                                                                                                                                                                                                                                                                                                                                                                                                                                                                                                                                                                                                                                                                                                                                                                                                                                                                                                                                                                                                                                                                                                                                                                                                                                                                                                                                                                                                                                                                                                                                                                                propel your future forward by taking courses online to earn a graduate certificate or masters degree from stanford university learn more   \n",
              "\n",
              "              LABEL  TAGS  \n",
              "0           excited     1  \n",
              "1           excited     1  \n",
              "2           excited     1  \n",
              "3           excited     1  \n",
              "4           excited     1  \n",
              "...             ...   ...  \n",
              "2257  recession2022    -1  \n",
              "2258  recession2022    -1  \n",
              "2259  recession2022    -1  \n",
              "2260  recession2022    -1  \n",
              "2261  recession2022    -1  \n",
              "\n",
              "[2255 rows x 4 columns]"
            ],
            "text/html": [
              "\n",
              "  <div id=\"df-43b5efc6-60cd-4b08-a204-4a230532552e\">\n",
              "    <div class=\"colab-df-container\">\n",
              "      <div>\n",
              "<style scoped>\n",
              "    .dataframe tbody tr th:only-of-type {\n",
              "        vertical-align: middle;\n",
              "    }\n",
              "\n",
              "    .dataframe tbody tr th {\n",
              "        vertical-align: top;\n",
              "    }\n",
              "\n",
              "    .dataframe thead th {\n",
              "        text-align: right;\n",
              "    }\n",
              "</style>\n",
              "<table border=\"1\" class=\"dataframe\">\n",
              "  <thead>\n",
              "    <tr style=\"text-align: right;\">\n",
              "      <th></th>\n",
              "      <th>index</th>\n",
              "      <th>POSTS</th>\n",
              "      <th>LABEL</th>\n",
              "      <th>TAGS</th>\n",
              "    </tr>\n",
              "  </thead>\n",
              "  <tbody>\n",
              "    <tr>\n",
              "      <th>0</th>\n",
              "      <td>0</td>\n",
              "      <td>does excel run on mac you bet so do word powerpoint and all the apps you need</td>\n",
              "      <td>excited</td>\n",
              "      <td>1</td>\n",
              "    </tr>\n",
              "    <tr>\n",
              "      <th>1</th>\n",
              "      <td>1</td>\n",
              "      <td>i am about to start a new role at capgemini and containing myself is a real issuedo not ask excited</td>\n",
              "      <td>excited</td>\n",
              "      <td>1</td>\n",
              "    </tr>\n",
              "    <tr>\n",
              "      <th>2</th>\n",
              "      <td>2</td>\n",
              "      <td>new chapter excited</td>\n",
              "      <td>excited</td>\n",
              "      <td>1</td>\n",
              "    </tr>\n",
              "    <tr>\n",
              "      <th>3</th>\n",
              "      <td>3</td>\n",
              "      <td>flying away from the nest and setting off for new adventures on the other side of the planet this day marks a couple of important milestones my first post ever on linkedin  is this really a milestone my last day working at nestl the beginning of a new and exciting journey i am thrilled to announce that i will be moving to new zealand as of february  excited driven by the willingness to enrich ourselves as individuals to go out of our comfort zone to experience a new professional and personal environment and to discover new outdoor experiences my partner and i have decided to take that step and why notsince i graduated from isipca in  the past decade at nestl wow this sounds like a lot which started with a years internship has been incredibly rich and i feel very lucky for all the projects and experiences i went through i met inspiring people and worked on innovative projects from being part of the nestl rd accelerator to the nesqino journey and plenty of other initiatives i enjoyed the diversity of projects activities and challengesthe journey has also sometimes been punctuated with some doubts and questions which were essential to go the extra mile those who know me know that i am always eager to learn new things i do not know yet what will come next and i am very curious to see what the future will bring the next two months will be busy organizing the move and solving admin stuff enjoying time with family and friends recharging and settling in new zealand i will be available for work as of february  and i cannot wait to discover what new zealand has to offer i would love to start discussions about expatriation experiences tips about new zealand potential work opportunities including remote</td>\n",
              "      <td>excited</td>\n",
              "      <td>1</td>\n",
              "    </tr>\n",
              "    <tr>\n",
              "      <th>4</th>\n",
              "      <td>4</td>\n",
              "      <td>excited about the great things to come from this partnership gracias to my omnicom media group familia geoffrey calabrese kelly metz amy darwish and televisaunivision daniel aversano richard bertodatti for making this happen multiculturalmarketing httpslnkdinevpbwcu</td>\n",
              "      <td>excited</td>\n",
              "      <td>1</td>\n",
              "    </tr>\n",
              "    <tr>\n",
              "      <th>...</th>\n",
              "      <td>...</td>\n",
              "      <td>...</td>\n",
              "      <td>...</td>\n",
              "      <td>...</td>\n",
              "    </tr>\n",
              "    <tr>\n",
              "      <th>2257</th>\n",
              "      <td>2579</td>\n",
              "      <td>automate testing to catch bugs earlier in your development cycle</td>\n",
              "      <td>recession2022</td>\n",
              "      <td>-1</td>\n",
              "    </tr>\n",
              "    <tr>\n",
              "      <th>2258</th>\n",
              "      <td>2580</td>\n",
              "      <td>is twitter about to go bankrupthttpslnkdingnqtxcnclayoff layoffslaidoff job today linkedin talent searchforjobs techlayoffs techjobs technews careers jobopeningw contract cc jobopportunities career recruiting openforjobopportunities recession recession recession jobsearch itrecruitmentjava phython spring springboot microservices hibernate datajpa kafka aws gcp azure javadeveloper akka scala benchsalesrecruitersdotnetdeveloper dotnet devops powerbi uideveloper networking scrummaster data opportunity opportunities fullstackdeveloper engineering techcommunity layoffsandjobreductions hiring team development grateful comment softwareengineering frontenddataanalysis businessintelligence processimprovementindustrialengineering newopportunities analyst dataengineer opentowork openforwork twitter stripe lyft amazon apple microsoft facebook tesla philips zillow convey jpmc salesforce nytimes nypost wsj layoff layoffslaidoff job todayjavafullstackdeveloper javajobs hiringimmediately hiring hiringtalent marketing project  project snap softwareengineer workleadership digitalhealth medicaldevice biotechnology projectadditionally career opportunities activelylooking talent businessintelligenceanalystinternational students cpt opt ead optead fulltimehb head tn tnvisa tnjobs hbvisa citizens gc gcead uscitizens usajobs usc usajob usa usa usa usaitjobs uscontractjobs usjobseeker usjobdataanalyst businessanalystbusinessanalysis analytics workplace outsourcedhr payroll onboardingpgmp productdevelopment programmanagement productmanagement projectmanagement productmanager programmanager culture remoteworkjobalert canadajobs fulltimeposition candidatesearch fulltimejobs jobfair jobdescription jobavailable jobchangers canada canadaworkvisa fulltime copr canadastaffing canadarecruitment canadacareers canadajobseeker canadaitjob torontocanada canadaitjobsjobhiring jobforyou jobalerts canadaprvisa canadajobseekerspermanentjobs permanentjob permanentrecruitment permanentrole opentonewopportunities torontoitjobs jobseekers recruitingjobposting linkedin openings jobvacancy jobalert jobhunters activelyhiring bulkcanadajobs informaticajobs informatica bigdata hadooptech help economy jobhunt networknyc denver colorado losangeles boston tampa florida michiganjobs oregoan sandiego houston dallas itjobs washington dallaschicago chicagojobs dfw plano dallas dallasjobs austin austinjobs cali calijobs california houston houstonjobs atlanta atlantajobsnyc newyork nycjobs newyorkjobs detroit michiganmexico mexicojobs siliconvalley</td>\n",
              "      <td>recession2022</td>\n",
              "      <td>-1</td>\n",
              "    </tr>\n",
              "    <tr>\n",
              "      <th>2259</th>\n",
              "      <td>2581</td>\n",
              "      <td>that moment when the cast of jurassicworlddominion surprised  students with free laptopsjust one of many surprises for these amazing students during an allexpensepaid trip to universal studios to launch our jurassic worldthemed steam initiative learn more about this crosscompany program with universal pictures universal parks  resorts and the council for opportunity in education to help ensure more young people have access to the resources and opportunities they need to succeed in todays digital world projectup</td>\n",
              "      <td>recession2022</td>\n",
              "      <td>-1</td>\n",
              "    </tr>\n",
              "    <tr>\n",
              "      <th>2260</th>\n",
              "      <td>2582</td>\n",
              "      <td>develop crucial skills and knowledge in browns online mph to address the many health challenges affecting the world today</td>\n",
              "      <td>recession2022</td>\n",
              "      <td>-1</td>\n",
              "    </tr>\n",
              "    <tr>\n",
              "      <th>2261</th>\n",
              "      <td>2583</td>\n",
              "      <td>propel your future forward by taking courses online to earn a graduate certificate or masters degree from stanford university learn more</td>\n",
              "      <td>recession2022</td>\n",
              "      <td>-1</td>\n",
              "    </tr>\n",
              "  </tbody>\n",
              "</table>\n",
              "<p>2255 rows × 4 columns</p>\n",
              "</div>\n",
              "      <button class=\"colab-df-convert\" onclick=\"convertToInteractive('df-43b5efc6-60cd-4b08-a204-4a230532552e')\"\n",
              "              title=\"Convert this dataframe to an interactive table.\"\n",
              "              style=\"display:none;\">\n",
              "        \n",
              "  <svg xmlns=\"http://www.w3.org/2000/svg\" height=\"24px\"viewBox=\"0 0 24 24\"\n",
              "       width=\"24px\">\n",
              "    <path d=\"M0 0h24v24H0V0z\" fill=\"none\"/>\n",
              "    <path d=\"M18.56 5.44l.94 2.06.94-2.06 2.06-.94-2.06-.94-.94-2.06-.94 2.06-2.06.94zm-11 1L8.5 8.5l.94-2.06 2.06-.94-2.06-.94L8.5 2.5l-.94 2.06-2.06.94zm10 10l.94 2.06.94-2.06 2.06-.94-2.06-.94-.94-2.06-.94 2.06-2.06.94z\"/><path d=\"M17.41 7.96l-1.37-1.37c-.4-.4-.92-.59-1.43-.59-.52 0-1.04.2-1.43.59L10.3 9.45l-7.72 7.72c-.78.78-.78 2.05 0 2.83L4 21.41c.39.39.9.59 1.41.59.51 0 1.02-.2 1.41-.59l7.78-7.78 2.81-2.81c.8-.78.8-2.07 0-2.86zM5.41 20L4 18.59l7.72-7.72 1.47 1.35L5.41 20z\"/>\n",
              "  </svg>\n",
              "      </button>\n",
              "      \n",
              "  <style>\n",
              "    .colab-df-container {\n",
              "      display:flex;\n",
              "      flex-wrap:wrap;\n",
              "      gap: 12px;\n",
              "    }\n",
              "\n",
              "    .colab-df-convert {\n",
              "      background-color: #E8F0FE;\n",
              "      border: none;\n",
              "      border-radius: 50%;\n",
              "      cursor: pointer;\n",
              "      display: none;\n",
              "      fill: #1967D2;\n",
              "      height: 32px;\n",
              "      padding: 0 0 0 0;\n",
              "      width: 32px;\n",
              "    }\n",
              "\n",
              "    .colab-df-convert:hover {\n",
              "      background-color: #E2EBFA;\n",
              "      box-shadow: 0px 1px 2px rgba(60, 64, 67, 0.3), 0px 1px 3px 1px rgba(60, 64, 67, 0.15);\n",
              "      fill: #174EA6;\n",
              "    }\n",
              "\n",
              "    [theme=dark] .colab-df-convert {\n",
              "      background-color: #3B4455;\n",
              "      fill: #D2E3FC;\n",
              "    }\n",
              "\n",
              "    [theme=dark] .colab-df-convert:hover {\n",
              "      background-color: #434B5C;\n",
              "      box-shadow: 0px 1px 3px 1px rgba(0, 0, 0, 0.15);\n",
              "      filter: drop-shadow(0px 1px 2px rgba(0, 0, 0, 0.3));\n",
              "      fill: #FFFFFF;\n",
              "    }\n",
              "  </style>\n",
              "\n",
              "      <script>\n",
              "        const buttonEl =\n",
              "          document.querySelector('#df-43b5efc6-60cd-4b08-a204-4a230532552e button.colab-df-convert');\n",
              "        buttonEl.style.display =\n",
              "          google.colab.kernel.accessAllowed ? 'block' : 'none';\n",
              "\n",
              "        async function convertToInteractive(key) {\n",
              "          const element = document.querySelector('#df-43b5efc6-60cd-4b08-a204-4a230532552e');\n",
              "          const dataTable =\n",
              "            await google.colab.kernel.invokeFunction('convertToInteractive',\n",
              "                                                     [key], {});\n",
              "          if (!dataTable) return;\n",
              "\n",
              "          const docLinkHtml = 'Like what you see? Visit the ' +\n",
              "            '<a target=\"_blank\" href=https://colab.research.google.com/notebooks/data_table.ipynb>data table notebook</a>'\n",
              "            + ' to learn more about interactive tables.';\n",
              "          element.innerHTML = '';\n",
              "          dataTable['output_type'] = 'display_data';\n",
              "          await google.colab.output.renderOutput(dataTable, element);\n",
              "          const docLink = document.createElement('div');\n",
              "          docLink.innerHTML = docLinkHtml;\n",
              "          element.appendChild(docLink);\n",
              "        }\n",
              "      </script>\n",
              "    </div>\n",
              "  </div>\n",
              "  "
            ]
          },
          "metadata": {},
          "execution_count": 26
        }
      ]
    },
    {
      "cell_type": "code",
      "source": [
        "unseen_complete_data['TAGS'].value_counts()"
      ],
      "metadata": {
        "colab": {
          "base_uri": "https://localhost:8080/"
        },
        "id": "DzzIyGNI9buB",
        "outputId": "8cb3b2c0-2def-4508-9389-ba555a4cc0c4"
      },
      "execution_count": null,
      "outputs": [
        {
          "output_type": "execute_result",
          "data": {
            "text/plain": [
              "-1    1200\n",
              " 1    1055\n",
              "Name: TAGS, dtype: int64"
            ]
          },
          "metadata": {},
          "execution_count": 27
        }
      ]
    },
    {
      "cell_type": "code",
      "source": [
        "from keras.preprocessing.text import Tokenizer\n",
        "from keras_preprocessing.sequence import pad_sequences\n",
        "#max_features = 2000\n",
        "#tokenizer = Tokenizer(num_words = max_features, )\n",
        "# tokenizer = Tokenizer()\n",
        "# tokenizer.fit_on_texts(unseen_complete_data['POSTS'].values)\n",
        "X = tokenizer.texts_to_sequences(unseen_complete_data['POSTS'].values)\n",
        "X = pad_sequences(X, padding = 'post' , maxlen=100)\n",
        "Y = pd.get_dummies(unseen_complete_data['TAGS']).values\n",
        "#Y= complete_data['TAGS'].values\n",
        "\n",
        "vocab_size = len(tokenizer.word_index)+1"
      ],
      "metadata": {
        "id": "1jydPzSJ9brK"
      },
      "execution_count": null,
      "outputs": []
    },
    {
      "cell_type": "code",
      "source": [
        "embedding_matrix = np.zeros((vocab_size,300))\n",
        "for word,i in tqdm(tokenizer.word_index.items()):\n",
        "    embedding_value = model.get_word_vector(word)\n",
        "    embedding_matrix[i] = embedding_value"
      ],
      "metadata": {
        "colab": {
          "base_uri": "https://localhost:8080/"
        },
        "id": "XUKDLUUt9bi8",
        "outputId": "5c6fe121-fc64-40de-ab7e-3b490336f00c"
      },
      "execution_count": null,
      "outputs": [
        {
          "output_type": "stream",
          "name": "stderr",
          "text": [
            "100%|██████████| 92516/92516 [00:02<00:00, 44290.06it/s]\n"
          ]
        }
      ]
    },
    {
      "cell_type": "code",
      "source": [
        "Y_test_new_unseen=[]\n",
        "for val in Y:\n",
        "  if val[0]==1:\n",
        "    Y_test_new_unseen.append(0)\n",
        "  else:\n",
        "    Y_test_new_unseen.append(1)"
      ],
      "metadata": {
        "id": "UYh9RK44-mE1"
      },
      "execution_count": null,
      "outputs": []
    },
    {
      "cell_type": "code",
      "source": [
        "from sklearn.metrics import classification_report\n",
        "\n",
        "y_pred_unseen = lstm_model.predict(X, batch_size=10, verbose=1)\n",
        "y_pred_bool_unseen = np.argmax(y_pred_unseen, axis=1)\n",
        "\n",
        "print(classification_report(Y_test_new_unseen, y_pred_bool_unseen))\n"
      ],
      "metadata": {
        "colab": {
          "base_uri": "https://localhost:8080/"
        },
        "id": "oTIZ_ni5-mPP",
        "outputId": "58ea02f0-38f9-489b-c908-4f4f683b4868"
      },
      "execution_count": null,
      "outputs": [
        {
          "output_type": "stream",
          "name": "stdout",
          "text": [
            "226/226 [==============================] - 18s 78ms/step\n",
            "              precision    recall  f1-score   support\n",
            "\n",
            "           0       0.82      0.89      0.85      1200\n",
            "           1       0.86      0.78      0.82      1055\n",
            "\n",
            "    accuracy                           0.84      2255\n",
            "   macro avg       0.84      0.83      0.83      2255\n",
            "weighted avg       0.84      0.84      0.84      2255\n",
            "\n"
          ]
        }
      ]
    },
    {
      "cell_type": "markdown",
      "source": [
        "**Since false positives matter a lot, we focus on the precision values which are decent**"
      ],
      "metadata": {
        "id": "PuFC2QK1BrP0"
      }
    },
    {
      "cell_type": "markdown",
      "source": [
        "**Bidirectional LSTM using Glove embeddings**"
      ],
      "metadata": {
        "id": "75XYU3swDAL7"
      }
    },
    {
      "cell_type": "code",
      "source": [
        "# !wget http://nlp.stanford.edu/data/glove.6B.zip\n",
        "# !unzip -q glove.6B.zip"
      ],
      "metadata": {
        "colab": {
          "base_uri": "https://localhost:8080/"
        },
        "id": "olKO43GQBaXD",
        "outputId": "4bdcde3b-c133-40ed-ae97-e54060f081c4"
      },
      "execution_count": null,
      "outputs": [
        {
          "output_type": "stream",
          "name": "stdout",
          "text": [
            "--2022-11-21 02:40:29--  http://nlp.stanford.edu/data/glove.6B.zip\n",
            "Resolving nlp.stanford.edu (nlp.stanford.edu)... 171.64.67.140\n",
            "Connecting to nlp.stanford.edu (nlp.stanford.edu)|171.64.67.140|:80... connected.\n",
            "HTTP request sent, awaiting response... 302 Found\n",
            "Location: https://nlp.stanford.edu/data/glove.6B.zip [following]\n",
            "--2022-11-21 02:40:30--  https://nlp.stanford.edu/data/glove.6B.zip\n",
            "Connecting to nlp.stanford.edu (nlp.stanford.edu)|171.64.67.140|:443... connected.\n",
            "HTTP request sent, awaiting response... 301 Moved Permanently\n",
            "Location: https://downloads.cs.stanford.edu/nlp/data/glove.6B.zip [following]\n",
            "--2022-11-21 02:40:30--  https://downloads.cs.stanford.edu/nlp/data/glove.6B.zip\n",
            "Resolving downloads.cs.stanford.edu (downloads.cs.stanford.edu)... 171.64.64.22\n",
            "Connecting to downloads.cs.stanford.edu (downloads.cs.stanford.edu)|171.64.64.22|:443... connected.\n",
            "HTTP request sent, awaiting response... 200 OK\n",
            "Length: 862182613 (822M) [application/zip]\n",
            "Saving to: ‘glove.6B.zip’\n",
            "\n",
            "glove.6B.zip        100%[===================>] 822.24M  5.09MB/s    in 2m 39s  \n",
            "\n",
            "2022-11-21 02:43:10 (5.16 MB/s) - ‘glove.6B.zip’ saved [862182613/862182613]\n",
            "\n"
          ]
        }
      ]
    },
    {
      "cell_type": "code",
      "source": [
        "# path_to_glove_file = os.path.join(\n",
        "#     os.path.expanduser(\"~\"), \".keras/datasets/glove.6B.100d.txt\"\n",
        "# )\n",
        "\n",
        "embeddings_index = {}\n",
        "with open(\"/content/gdrive/MyDrive/Colab Notebooks/glove.6B.300d.txt\") as f:\n",
        "    for line in f:\n",
        "        word, coefs = line.split(maxsplit=1)\n",
        "        coefs = np.fromstring(coefs, \"f\", sep=\" \")\n",
        "        embeddings_index[word] = coefs\n",
        "\n",
        "print(\"Found %s word vectors.\" % len(embeddings_index))"
      ],
      "metadata": {
        "colab": {
          "base_uri": "https://localhost:8080/"
        },
        "id": "0tDEnGjpEej6",
        "outputId": "e3567a2b-9b6b-4e13-b23b-cde693de5f1a"
      },
      "execution_count": null,
      "outputs": [
        {
          "output_type": "stream",
          "name": "stdout",
          "text": [
            "Found 400000 word vectors.\n"
          ]
        }
      ]
    },
    {
      "cell_type": "code",
      "source": [
        "glove_embedding_matrix = np.zeros((vocab_size,300))\n",
        "for word,i in tqdm(tokenizer.word_index.items()):\n",
        "    embedding_value = embeddings_index.get(word)\n",
        "    if embedding_value is not None:\n",
        "        glove_embedding_matrix[i] = embedding_value"
      ],
      "metadata": {
        "colab": {
          "base_uri": "https://localhost:8080/"
        },
        "id": "ZRMP49AYE-_h",
        "outputId": "072b6fa6-e34a-4c6e-eb5d-6b4d3493707e"
      },
      "execution_count": null,
      "outputs": [
        {
          "output_type": "stream",
          "name": "stderr",
          "text": [
            "100%|██████████| 92516/92516 [00:00<00:00, 570631.45it/s]\n"
          ]
        }
      ]
    },
    {
      "cell_type": "code",
      "source": [
        "glove_embedding_matrix.shape"
      ],
      "metadata": {
        "colab": {
          "base_uri": "https://localhost:8080/"
        },
        "id": "QeCyh_mfFfjh",
        "outputId": "187732de-48dc-4ffc-e26a-c71ac6ab499e"
      },
      "execution_count": null,
      "outputs": [
        {
          "output_type": "execute_result",
          "data": {
            "text/plain": [
              "(92517, 300)"
            ]
          },
          "metadata": {},
          "execution_count": 57
        }
      ]
    },
    {
      "cell_type": "code",
      "source": [
        "import tensorflow as tf\n",
        "from tensorflow import keras\n",
        "from tensorflow.keras import layers\n",
        "from tensorflow.keras import losses\n",
        "from tensorflow.keras import preprocessing\n",
        "from tensorflow.keras import utils\n",
        "from tensorflow.keras.layers.experimental.preprocessing import TextVectorization\n",
        "\n",
        "\n",
        "from keras.layers import Dense, Embedding, LSTM, SpatialDropout1D, Bidirectional, Dropout\n",
        "embid_dim = 300\n",
        "lstm_out = 128\n",
        "lstm_model = keras.Sequential()\n",
        "lstm_model.add(Embedding(vocab_size, embid_dim, weights = [glove_embedding_matrix] , trainable = False))\n",
        "lstm_model.add(Bidirectional(LSTM(lstm_out, dropout=0.2)))\n",
        "lstm_model.add(Dense(128, activation = 'relu'))\n",
        "lstm_model.add(Dropout(0.5))\n",
        "lstm_model.add(Dense(64, activation = 'relu'))\n",
        "lstm_model.add(Dense(2, activation = 'softmax'))  #if used pd.get dummies above\n",
        "lstm_model.summary()"
      ],
      "metadata": {
        "colab": {
          "base_uri": "https://localhost:8080/"
        },
        "id": "sSQW_9UHFoAH",
        "outputId": "98e954f1-cd86-42a3-dfb5-974cf8037547"
      },
      "execution_count": null,
      "outputs": [
        {
          "output_type": "stream",
          "name": "stdout",
          "text": [
            "Model: \"sequential_6\"\n",
            "_________________________________________________________________\n",
            " Layer (type)                Output Shape              Param #   \n",
            "=================================================================\n",
            " embedding_6 (Embedding)     (None, None, 300)         27755100  \n",
            "                                                                 \n",
            " bidirectional_6 (Bidirectio  (None, 256)              439296    \n",
            " nal)                                                            \n",
            "                                                                 \n",
            " dense_18 (Dense)            (None, 128)               32896     \n",
            "                                                                 \n",
            " dropout_6 (Dropout)         (None, 128)               0         \n",
            "                                                                 \n",
            " dense_19 (Dense)            (None, 64)                8256      \n",
            "                                                                 \n",
            " dense_20 (Dense)            (None, 2)                 130       \n",
            "                                                                 \n",
            "=================================================================\n",
            "Total params: 28,235,678\n",
            "Trainable params: 480,578\n",
            "Non-trainable params: 27,755,100\n",
            "_________________________________________________________________\n"
          ]
        }
      ]
    },
    {
      "cell_type": "code",
      "source": [
        "early_stopping_monitor = tf.keras.callbacks.EarlyStopping(\n",
        "    monitor='val_loss',\n",
        "    min_delta=0,\n",
        "    patience=10,\n",
        "    verbose=0,\n",
        "    mode='auto',\n",
        "    baseline=None,\n",
        "    restore_best_weights=True\n",
        ")\n",
        "batch_size = 200\n",
        "lstm_model.compile(loss = 'binary_crossentropy', optimizer='adam',metrics = ['accuracy'])\n",
        "history = lstm_model.fit(X_train, Y_train, epochs = 50, batch_size=batch_size, verbose = 1, callbacks=[early_stopping_monitor], validation_data =(X_test, Y_test))"
      ],
      "metadata": {
        "colab": {
          "base_uri": "https://localhost:8080/"
        },
        "id": "c-x_hGPpF40d",
        "outputId": "9419e4d6-03a9-45c2-b063-e573420ce5f3"
      },
      "execution_count": null,
      "outputs": [
        {
          "output_type": "stream",
          "name": "stdout",
          "text": [
            "Epoch 1/50\n",
            "54/54 [==============================] - 89s 2s/step - loss: 0.5533 - accuracy: 0.7101 - val_loss: 0.4389 - val_accuracy: 0.7924\n",
            "Epoch 2/50\n",
            "54/54 [==============================] - 78s 1s/step - loss: 0.3839 - accuracy: 0.8187 - val_loss: 0.3546 - val_accuracy: 0.8253\n",
            "Epoch 3/50\n",
            "54/54 [==============================] - 78s 1s/step - loss: 0.3422 - accuracy: 0.8395 - val_loss: 0.3433 - val_accuracy: 0.8344\n",
            "Epoch 4/50\n",
            "54/54 [==============================] - 89s 2s/step - loss: 0.3070 - accuracy: 0.8557 - val_loss: 0.3421 - val_accuracy: 0.8269\n",
            "Epoch 5/50\n",
            "54/54 [==============================] - 82s 2s/step - loss: 0.2820 - accuracy: 0.8702 - val_loss: 0.3172 - val_accuracy: 0.8408\n",
            "Epoch 6/50\n",
            "54/54 [==============================] - 86s 2s/step - loss: 0.2641 - accuracy: 0.8770 - val_loss: 0.3177 - val_accuracy: 0.8489\n",
            "Epoch 7/50\n",
            "54/54 [==============================] - 91s 2s/step - loss: 0.2369 - accuracy: 0.8915 - val_loss: 0.3236 - val_accuracy: 0.8389\n",
            "Epoch 8/50\n",
            "54/54 [==============================] - 96s 2s/step - loss: 0.2344 - accuracy: 0.8944 - val_loss: 0.3497 - val_accuracy: 0.8333\n",
            "Epoch 9/50\n",
            "54/54 [==============================] - 93s 2s/step - loss: 0.2156 - accuracy: 0.9026 - val_loss: 0.3290 - val_accuracy: 0.8511\n",
            "Epoch 10/50\n",
            "54/54 [==============================] - 80s 1s/step - loss: 0.1910 - accuracy: 0.9155 - val_loss: 0.3396 - val_accuracy: 0.8450\n",
            "Epoch 11/50\n",
            "54/54 [==============================] - 79s 1s/step - loss: 0.1767 - accuracy: 0.9227 - val_loss: 0.3549 - val_accuracy: 0.8453\n",
            "Epoch 12/50\n",
            "54/54 [==============================] - 78s 1s/step - loss: 0.1621 - accuracy: 0.9309 - val_loss: 0.3565 - val_accuracy: 0.8553\n",
            "Epoch 13/50\n",
            "54/54 [==============================] - 78s 1s/step - loss: 0.1389 - accuracy: 0.9401 - val_loss: 0.3891 - val_accuracy: 0.8447\n",
            "Epoch 14/50\n",
            "54/54 [==============================] - 78s 1s/step - loss: 0.1222 - accuracy: 0.9506 - val_loss: 0.4247 - val_accuracy: 0.8612\n",
            "Epoch 15/50\n",
            "54/54 [==============================] - 76s 1s/step - loss: 0.1255 - accuracy: 0.9483 - val_loss: 0.4379 - val_accuracy: 0.8548\n"
          ]
        }
      ]
    },
    {
      "cell_type": "code",
      "source": [
        "lstm_model.save('/content/gdrive/MyDrive/Colab Notebooks/Glove')"
      ],
      "metadata": {
        "colab": {
          "base_uri": "https://localhost:8080/"
        },
        "id": "iYjBvCb9qv6i",
        "outputId": "1f39f994-53d4-4baa-f02a-20e3b477b9ea"
      },
      "execution_count": null,
      "outputs": [
        {
          "output_type": "stream",
          "name": "stderr",
          "text": [
            "WARNING:absl:Found untraced functions such as lstm_cell_19_layer_call_fn, lstm_cell_19_layer_call_and_return_conditional_losses, lstm_cell_20_layer_call_fn, lstm_cell_20_layer_call_and_return_conditional_losses while saving (showing 4 of 4). These functions will not be directly callable after loading.\n"
          ]
        }
      ]
    },
    {
      "cell_type": "code",
      "source": [
        "lstm_model = tf.keras.models.load_model('/content/gdrive/MyDrive/Colab Notebooks/Glove')\n",
        "\n",
        "lstm_model.summary()"
      ],
      "metadata": {
        "colab": {
          "base_uri": "https://localhost:8080/"
        },
        "id": "6Va7KvlCrCPe",
        "outputId": "65090e34-aa0a-4cdd-cff7-2f7eeec3cc1b"
      },
      "execution_count": null,
      "outputs": [
        {
          "output_type": "stream",
          "name": "stdout",
          "text": [
            "Model: \"sequential_6\"\n",
            "_________________________________________________________________\n",
            " Layer (type)                Output Shape              Param #   \n",
            "=================================================================\n",
            " embedding_6 (Embedding)     (None, None, 300)         27755100  \n",
            "                                                                 \n",
            " bidirectional_6 (Bidirectio  (None, 256)              439296    \n",
            " nal)                                                            \n",
            "                                                                 \n",
            " dense_18 (Dense)            (None, 128)               32896     \n",
            "                                                                 \n",
            " dropout_6 (Dropout)         (None, 128)               0         \n",
            "                                                                 \n",
            " dense_19 (Dense)            (None, 64)                8256      \n",
            "                                                                 \n",
            " dense_20 (Dense)            (None, 2)                 130       \n",
            "                                                                 \n",
            "=================================================================\n",
            "Total params: 28,235,678\n",
            "Trainable params: 480,578\n",
            "Non-trainable params: 27,755,100\n",
            "_________________________________________________________________\n"
          ]
        }
      ]
    },
    {
      "cell_type": "code",
      "source": [
        "Y_test_new=[]\n",
        "for val in Y_test:\n",
        "  if val[0]==1:\n",
        "    Y_test_new.append(0)\n",
        "  else:\n",
        "    Y_test_new.append(1)"
      ],
      "metadata": {
        "id": "glzGGZjLp_c-"
      },
      "execution_count": null,
      "outputs": []
    },
    {
      "cell_type": "code",
      "source": [
        "from sklearn.metrics import classification_report\n",
        "\n",
        "y_pred = lstm_model.predict(X_test, batch_size=64, verbose=1)\n",
        "y_pred_bool = np.argmax(y_pred, axis=1)\n",
        "\n",
        "print(classification_report(Y_test_new, y_pred_bool))\n"
      ],
      "metadata": {
        "colab": {
          "base_uri": "https://localhost:8080/"
        },
        "id": "4Akanb9WqGli",
        "outputId": "adac97d6-f545-4503-e4fd-55f4ea1e4f0d"
      },
      "execution_count": null,
      "outputs": [
        {
          "output_type": "stream",
          "name": "stdout",
          "text": [
            "57/57 [==============================] - 15s 244ms/step\n",
            "              precision    recall  f1-score   support\n",
            "\n",
            "           0       0.87      0.86      0.86      2114\n",
            "           1       0.80      0.82      0.81      1480\n",
            "\n",
            "    accuracy                           0.84      3594\n",
            "   macro avg       0.84      0.84      0.84      3594\n",
            "weighted avg       0.84      0.84      0.84      3594\n",
            "\n"
          ]
        }
      ]
    },
    {
      "cell_type": "markdown",
      "source": [
        "**Testing GLOVE on unseen test data**"
      ],
      "metadata": {
        "id": "RmAvdjzzrKEW"
      }
    },
    {
      "cell_type": "code",
      "source": [
        "path = \"/content/gdrive/MyDrive/Colab Notebooks/Unseen_test_data/\"\n",
        "dir_list = os.listdir(path)\n",
        "pd.set_option('display.max_colwidth', None)"
      ],
      "metadata": {
        "id": "V2nBEM9DrYG0"
      },
      "execution_count": null,
      "outputs": []
    },
    {
      "cell_type": "code",
      "source": [
        "all_lines_list=list()\n",
        "labels_list=list()\n",
        "for filename in dir_list:\n",
        "    file_extension_val=filename.split('.')\n",
        "    file_extension=file_extension_val[1]\n",
        "    if(file_extension=='txt'):\n",
        "        label=filename.split('_')\n",
        "        label=label[2]\n",
        "        label=label.split('.')\n",
        "        label=label[0]\n",
        "        labels_list.append(label)\n",
        "        # with open(\"/content/gdrive/MyDrive/Colab Notebooks/Unseen_test_data/\"+filename, encoding='unicode_escape') as file_ptr:\n",
        "        with open(path + \"/\" + filename, encoding='utf-8') as file_ptr:\n",
        "            lines_temp = list()\n",
        "            for line in file_ptr:\n",
        "                if(line.strip()!=\"-----------------------------\"):\n",
        "                    lines_temp.append(line)\n",
        "            all_lines_list.append(lines_temp)"
      ],
      "metadata": {
        "id": "WPH45uvrrYG1"
      },
      "execution_count": null,
      "outputs": []
    },
    {
      "cell_type": "code",
      "source": [
        "df_posts=pd.DataFrame()\n",
        "labels_global_list=list()\n",
        "label_index=0\n",
        "for lst in all_lines_list:\n",
        "    df_temp = pd.DataFrame(lst)\n",
        "    df_posts=df_posts.append(df_temp,ignore_index=True,)\n",
        "#     label_length=len(lst)\n",
        "    for i in range(len(lst)):\n",
        "        labels_global_list.append(labels_list[label_index])\n",
        "    label_index=label_index+1\n",
        "    \n",
        "df_labels = pd.DataFrame(labels_global_list)"
      ],
      "metadata": {
        "id": "Ra0VlRN9rYG1"
      },
      "execution_count": null,
      "outputs": []
    },
    {
      "cell_type": "code",
      "source": [
        "unseen_complete_data = pd.concat([df_posts, df_labels], axis=1)\n",
        "unseen_complete_data.columns = ['POSTS', 'LABEL']\n",
        "unseen_complete_data"
      ],
      "metadata": {
        "colab": {
          "base_uri": "https://localhost:8080/",
          "height": 1000
        },
        "id": "0_Qq243crOgG",
        "outputId": "81fbb744-7948-4f31-d6c0-f2858843e622"
      },
      "execution_count": null,
      "outputs": [
        {
          "output_type": "execute_result",
          "data": {
            "text/plain": [
              "                                                                                                                                                                                                                                                                                                                                                                                                                                                                                                                                                                                                                                                                                                                                                                                                                                                                                                                                                                                                                                                                                                                                                                                                                                                                                                                                                                                                                                                                                                                                                                                                                                                                                                                                                                                                                                                                                                                                                                                                                                                                                                                                                                                                                                                                                                                                                                                                                                                                                                                                                                                                                                                                                                                                                                                                                                                                                                                                  POSTS  \\\n",
              "0                                                                                                                                                                                                                                                                                                                                                                                                                                                                                                                                                                                                                                                                                                                                                                                                                                                                                                                                                                                                                                                                                                                                                                                                                                                                                                                                                                                                                                                                                                                                                                                                                                                                                                                                                                                                                                                                                                                                                                                                                                                                                                                                                                                                                                                                                                                                                                                                                                                                                                                                                                                                                                                                                                                                                                                                                                                  Does Excel run on Mac? You bet. So do Word, PowerPoint, and all the apps you need.\\n   \n",
              "1                                                                                                                                                                                                                                                                                                                                                                                                                                                                                                                                                                                                                                                                                                                                                                                                                                                                                                                                                                                                                                                                                                                                                                                                                                                                                                                                                                                                                                                                                                                                                                                                                                                                                                                                                                                                                                                                                                                                                                                                                                                                                                                                                                                                                                                                                                                                                                                                                                                                                                                                                                                                                                                                                                                                                                                                                                I'm about to start a new role at Capgemini and containing myself is a real issue.Don't ask 😌#excited\\n   \n",
              "2                                                                                                                                                                                                                                                                                                                                                                                                                                                                                                                                                                                                                                                                                                                                                                                                                                                                                                                                                                                                                                                                                                                                                                                                                                                                                                                                                                                                                                                                                                                                                                                                                                                                                                                                                                                                                                                                                                                                                                                                                                                                                                                                                                                                                                                                                                                                                                                                                                                                                                                                                                                                                                                                                                                                                                                                                                                                                                               New chapter. #excited\\n   \n",
              "3                                                                                                                                                                                                                                                                                                                                                                                                                                                                                                                                                                                                                                                                                                                                                                                                                                                                                                                                                                                                                                                   Flying away from the Nest and setting off for new adventures on the other side of the planet 🗺️This day marks a couple of important milestones:-         My first post ever on LinkedIn 🚀 (Is this really a milestone?)-         My last day working at Nestlé-         The beginning of a new and exciting journey 😍I am thrilled to announce that I’ll be moving to New Zealand as of February 2023 (#excited). Driven by the willingness to enrich ourselves as individuals, to go out of our comfort zone, to experience a new professional and personal environment, and to discover new outdoor experiences, my partner and I have decided to take that step. And why not?Since I graduated from ISIPCA in 2014, the past decade at Nestlé (wow, this sounds like a lot) which started with a 2-years internship has been incredibly rich and I feel very lucky for all the projects and experiences I went through. I met inspiring people and worked on innovative projects. From being part of the Nestlé R&D accelerator to the nesQino™️ journey, and plenty of other initiatives, I enjoyed the diversity of projects, activities, and challenges.The journey has also sometimes been punctuated with some doubts and questions, which were essential to go the extra mile. Those who know me know that I am always eager to learn new things. I don’t know yet what will come next, and I am very curious to see what the future will bring… The next two months will be busy organizing the move (and solving admin stuff), enjoying time with family and friends, recharging, and settling in New Zealand. I’ll be available for work as of February 2023 and I can’t wait to discover what New Zealand has to offer. I would love to start discussions about expatriation experiences, tips about New Zealand, potential work opportunities (including remote), …\\n   \n",
              "4                                                                                                                                                                                                                                                                                                                                                                                                                                                                                                                                                                                                                                                                                                                                                                                                                                                                                                                                                                                                                                                                                                                                                                                                                                                                                                                                                                                                                                                                                                                                                                                                                                                                                                                                                                                                                                                                                                                                                                                                                                                                                                                                                                                                                                                                                                                                                                                                                                                                                                                                                                                                                                        #Excited about the great things to come from this partnership.  Gracias to my Omnicom Media Group familia (Geoffrey Calabrese, Kelly Metz, Amy Darwish) and TelevisaUnivision (Daniel Aversano, Richard Bertodatti) for making this happen! #multiculturalmarketing https://lnkd.in/eVpbW7CU\\n   \n",
              "...                                                                                                                                                                                                                                                                                                                                                                                                                                                                                                                                                                                                                                                                                                                                                                                                                                                                                                                                                                                                                                                                                                                                                                                                                                                                                                                                                                                                                                                                                                                                                                                                                                                                                                                                                                                                                                                                                                                                                                                                                                                                                                                                                                                                                                                                                                                                                                                                                                                                                                                                                                                                                                                                                                                                                                                                                                                                                                                                 ...   \n",
              "2579                                                                                                                                                                                                                                                                                                                                                                                                                                                                                                                                                                                                                                                                                                                                                                                                                                                                                                                                                                                                                                                                                                                                                                                                                                                                                                                                                                                                                                                                                                                                                                                                                                                                                                                                                                                                                                                                                                                                                                                                                                                                                                                                                                                                                                                                                                                                                                                                                                                                                                                                                                                                                                                                                                                                                                                                                                                                Automate testing to catch bugs earlier in your development cycle.\\n   \n",
              "2580  Is Twitter about to go bankrupt?https://lnkd.in/gnQtXcnC#layoff #layoffs #laidoff #job #today #linkedin #talent #searchforjobs #techlayoffs #techjobs #technews #careers #jobopening#W2 #contract #c2c #jobopportunities #career #recruiting #openforjobopportunities #Recession #Recession2022 #Recession2023 #jobsearch #ITRecruitment#java #phython #spring #springboot #microservices #hibernate #datajpa #kafka #aws #gcp #azure #javadeveloper #Akka #scala #benchsalesrecruiters#dotnetdeveloper #dotnet #devops #powerbi #uideveloper #networking #scrummaster #data #opportunity #opportunities #fullstackdeveloper #engineering #techcommunity #layoffsandjobreductions #hiring #team #development #grateful #comment #softwareengineering #frontend#dataanalysis #businessintelligence #processimprovement #industrialengineering #newopportunities #analyst #dataengineer #opentowork #openforwork #twitter #stripe #lyft #amazon #apple #microsoft #facebook #tesla #philips #zillow #convey #jpmc #salesforce #nytimes #nypost #wsj #layoff #layoffs #laidoff #job #today#javafullstackdeveloper #javajobs #hiringimmediately #hiring #hiringtalent #marketing #project # #project #Snap #softwareengineer #work#leadership #digitalhealth #medicaldevice #biotechnology #projectAdditionally #career #opportunities #activelylooking #talent #businessintelligenceanalyst #international #students #CPT #OPT #EAD #OPTEAD #Fulltime #H1B #H4EAD #TN #TNVISA #tnjobs #H1BVISA #Citizens #GC #GCEAD #uscitizens #usajobs #usc #usajob #usa2022 #usa #usa2023 #usaitjobs #uscontractjobs #usjobseeker #usjob#dataanalyst #businessanalyst #businessanalysis #analytics #workplace #outsourcedhr #payroll #onboarding#pgmp #productdevelopment #programmanagement #productmanagement #ProjectManagement #productmanager #programmanager #culture #remotework#jobalert #canadajobs #fulltimeposition #candidatesearch #fulltimejobs #jobfair #jobdescription #jobavailable #jobchangers #canada #canadaworkvisa #fulltime #copr #canadastaffing #canadarecruitment #canadacareers #canadajobseeker #canadaitjob #torontocanada #canadaitjobs #jobhiring #jobforyou #jobalerts #canadaprvisa #canadajobseekers#permanentjobs #permanentjob #permanentrecruitment #permanentrole #opentonewopportunities #torontoitjobs #jobseekers #Recruiting#Jobposting #LinkedIn #Openings #Jobvacancy #Jobalert #Jobhunters #activelyhiring #BulkCanadaJobs #informaticajobs #informatica #bigdata #hadoop#tech #help #economy #jobhunt #network#nyc #denver #colorado #losangeles #boston #tampa #florida #michiganjobs #oregoan #sandiego #houston #dallas #itjobs #washington #dallas#chicago #chicagojobs #dfw #plano #dallas #dallasjobs #austin #austinjobs #Cali #CaliJobs #California #Houston #HoustonJobs #atlanta #atlantajobs#nyc #newyork #nycjobs #newyorkjobs #detroit #michigan #mexico #mexicojobs #siliconvalley\\n   \n",
              "2581                                                                                                                                                                                                                                                                                                                                                                                                                                                                                                                                                                                                                                                                                                                                                                                                                                                                                                                                                                                                                                                                                                                                                                                                                                                                                                                                                                                                                                                                                                                                                                                                                                                                                                                                                                                                                                                                                                                                                                                                                                                                                                                                                                                                                                                                                                                                                                             That moment when the cast of #JurassicWorldDominion surprised 350 students with free laptops.Just one of many surprises for these amazing students during an all-expense-paid trip to Universal Studios to launch our Jurassic World-themed STEAM initiative. Learn more about this cross-company program with Universal Pictures, Universal Parks & Resorts, and the Council for Opportunity in Education to help ensure more young people have access to the resources and opportunities they need to succeed in today’s digital world. #ProjectUP\\n   \n",
              "2582                                                                                                                                                                                                                                                                                                                                                                                                                                                                                                                                                                                                                                                                                                                                                                                                                                                                                                                                                                                                                                                                                                                                                                                                                                                                                                                                                                                                                                                                                                                                                                                                                                                                                                                                                                                                                                                                                                                                                                                                                                                                                                                                                                                                                                                                                                                                                                                                                                                                                                                                                                                                                                                                                                                                                                                                      Develop crucial skills and knowledge in Brown’s Online MPH to address the many health challenges affecting the world today.\\n   \n",
              "2583                                                                                                                                                                                                                                                                                                                                                                                                                                                                                                                                                                                                                                                                                                                                                                                                                                                                                                                                                                                                                                                                                                                                                                                                                                                                                                                                                                                                                                                                                                                                                                                                                                                                                                                                                                                                                                                                                                                                                                                                                                                                                                                                                                                                                                                                                                                                                                                                                                                                                                                                                                                                                                                                                                                                                                                      Propel your future forward by taking courses online to earn a graduate certificate or master's degree from Stanford University. Learn more!\\n   \n",
              "\n",
              "              LABEL  \n",
              "0           excited  \n",
              "1           excited  \n",
              "2           excited  \n",
              "3           excited  \n",
              "4           excited  \n",
              "...             ...  \n",
              "2579  recession2022  \n",
              "2580  recession2022  \n",
              "2581  recession2022  \n",
              "2582  recession2022  \n",
              "2583  recession2022  \n",
              "\n",
              "[2584 rows x 2 columns]"
            ],
            "text/html": [
              "\n",
              "  <div id=\"df-34cb9605-f2ba-47d0-9e0a-04a59621ffec\">\n",
              "    <div class=\"colab-df-container\">\n",
              "      <div>\n",
              "<style scoped>\n",
              "    .dataframe tbody tr th:only-of-type {\n",
              "        vertical-align: middle;\n",
              "    }\n",
              "\n",
              "    .dataframe tbody tr th {\n",
              "        vertical-align: top;\n",
              "    }\n",
              "\n",
              "    .dataframe thead th {\n",
              "        text-align: right;\n",
              "    }\n",
              "</style>\n",
              "<table border=\"1\" class=\"dataframe\">\n",
              "  <thead>\n",
              "    <tr style=\"text-align: right;\">\n",
              "      <th></th>\n",
              "      <th>POSTS</th>\n",
              "      <th>LABEL</th>\n",
              "    </tr>\n",
              "  </thead>\n",
              "  <tbody>\n",
              "    <tr>\n",
              "      <th>0</th>\n",
              "      <td>Does Excel run on Mac? You bet. So do Word, PowerPoint, and all the apps you need.\\n</td>\n",
              "      <td>excited</td>\n",
              "    </tr>\n",
              "    <tr>\n",
              "      <th>1</th>\n",
              "      <td>I'm about to start a new role at Capgemini and containing myself is a real issue.Don't ask 😌#excited\\n</td>\n",
              "      <td>excited</td>\n",
              "    </tr>\n",
              "    <tr>\n",
              "      <th>2</th>\n",
              "      <td>New chapter. #excited\\n</td>\n",
              "      <td>excited</td>\n",
              "    </tr>\n",
              "    <tr>\n",
              "      <th>3</th>\n",
              "      <td>Flying away from the Nest and setting off for new adventures on the other side of the planet 🗺️This day marks a couple of important milestones:-         My first post ever on LinkedIn 🚀 (Is this really a milestone?)-         My last day working at Nestlé-         The beginning of a new and exciting journey 😍I am thrilled to announce that I’ll be moving to New Zealand as of February 2023 (#excited). Driven by the willingness to enrich ourselves as individuals, to go out of our comfort zone, to experience a new professional and personal environment, and to discover new outdoor experiences, my partner and I have decided to take that step. And why not?Since I graduated from ISIPCA in 2014, the past decade at Nestlé (wow, this sounds like a lot) which started with a 2-years internship has been incredibly rich and I feel very lucky for all the projects and experiences I went through. I met inspiring people and worked on innovative projects. From being part of the Nestlé R&amp;D accelerator to the nesQino™️ journey, and plenty of other initiatives, I enjoyed the diversity of projects, activities, and challenges.The journey has also sometimes been punctuated with some doubts and questions, which were essential to go the extra mile. Those who know me know that I am always eager to learn new things. I don’t know yet what will come next, and I am very curious to see what the future will bring… The next two months will be busy organizing the move (and solving admin stuff), enjoying time with family and friends, recharging, and settling in New Zealand. I’ll be available for work as of February 2023 and I can’t wait to discover what New Zealand has to offer. I would love to start discussions about expatriation experiences, tips about New Zealand, potential work opportunities (including remote), …\\n</td>\n",
              "      <td>excited</td>\n",
              "    </tr>\n",
              "    <tr>\n",
              "      <th>4</th>\n",
              "      <td>#Excited about the great things to come from this partnership.  Gracias to my Omnicom Media Group familia (Geoffrey Calabrese, Kelly Metz, Amy Darwish) and TelevisaUnivision (Daniel Aversano, Richard Bertodatti) for making this happen! #multiculturalmarketing https://lnkd.in/eVpbW7CU\\n</td>\n",
              "      <td>excited</td>\n",
              "    </tr>\n",
              "    <tr>\n",
              "      <th>...</th>\n",
              "      <td>...</td>\n",
              "      <td>...</td>\n",
              "    </tr>\n",
              "    <tr>\n",
              "      <th>2579</th>\n",
              "      <td>Automate testing to catch bugs earlier in your development cycle.\\n</td>\n",
              "      <td>recession2022</td>\n",
              "    </tr>\n",
              "    <tr>\n",
              "      <th>2580</th>\n",
              "      <td>Is Twitter about to go bankrupt?https://lnkd.in/gnQtXcnC#layoff #layoffs #laidoff #job #today #linkedin #talent #searchforjobs #techlayoffs #techjobs #technews #careers #jobopening#W2 #contract #c2c #jobopportunities #career #recruiting #openforjobopportunities #Recession #Recession2022 #Recession2023 #jobsearch #ITRecruitment#java #phython #spring #springboot #microservices #hibernate #datajpa #kafka #aws #gcp #azure #javadeveloper #Akka #scala #benchsalesrecruiters#dotnetdeveloper #dotnet #devops #powerbi #uideveloper #networking #scrummaster #data #opportunity #opportunities #fullstackdeveloper #engineering #techcommunity #layoffsandjobreductions #hiring #team #development #grateful #comment #softwareengineering #frontend#dataanalysis #businessintelligence #processimprovement #industrialengineering #newopportunities #analyst #dataengineer #opentowork #openforwork #twitter #stripe #lyft #amazon #apple #microsoft #facebook #tesla #philips #zillow #convey #jpmc #salesforce #nytimes #nypost #wsj #layoff #layoffs #laidoff #job #today#javafullstackdeveloper #javajobs #hiringimmediately #hiring #hiringtalent #marketing #project # #project #Snap #softwareengineer #work#leadership #digitalhealth #medicaldevice #biotechnology #projectAdditionally #career #opportunities #activelylooking #talent #businessintelligenceanalyst #international #students #CPT #OPT #EAD #OPTEAD #Fulltime #H1B #H4EAD #TN #TNVISA #tnjobs #H1BVISA #Citizens #GC #GCEAD #uscitizens #usajobs #usc #usajob #usa2022 #usa #usa2023 #usaitjobs #uscontractjobs #usjobseeker #usjob#dataanalyst #businessanalyst #businessanalysis #analytics #workplace #outsourcedhr #payroll #onboarding#pgmp #productdevelopment #programmanagement #productmanagement #ProjectManagement #productmanager #programmanager #culture #remotework#jobalert #canadajobs #fulltimeposition #candidatesearch #fulltimejobs #jobfair #jobdescription #jobavailable #jobchangers #canada #canadaworkvisa #fulltime #copr #canadastaffing #canadarecruitment #canadacareers #canadajobseeker #canadaitjob #torontocanada #canadaitjobs #jobhiring #jobforyou #jobalerts #canadaprvisa #canadajobseekers#permanentjobs #permanentjob #permanentrecruitment #permanentrole #opentonewopportunities #torontoitjobs #jobseekers #Recruiting#Jobposting #LinkedIn #Openings #Jobvacancy #Jobalert #Jobhunters #activelyhiring #BulkCanadaJobs #informaticajobs #informatica #bigdata #hadoop#tech #help #economy #jobhunt #network#nyc #denver #colorado #losangeles #boston #tampa #florida #michiganjobs #oregoan #sandiego #houston #dallas #itjobs #washington #dallas#chicago #chicagojobs #dfw #plano #dallas #dallasjobs #austin #austinjobs #Cali #CaliJobs #California #Houston #HoustonJobs #atlanta #atlantajobs#nyc #newyork #nycjobs #newyorkjobs #detroit #michigan #mexico #mexicojobs #siliconvalley\\n</td>\n",
              "      <td>recession2022</td>\n",
              "    </tr>\n",
              "    <tr>\n",
              "      <th>2581</th>\n",
              "      <td>That moment when the cast of #JurassicWorldDominion surprised 350 students with free laptops.Just one of many surprises for these amazing students during an all-expense-paid trip to Universal Studios to launch our Jurassic World-themed STEAM initiative. Learn more about this cross-company program with Universal Pictures, Universal Parks &amp; Resorts, and the Council for Opportunity in Education to help ensure more young people have access to the resources and opportunities they need to succeed in today’s digital world. #ProjectUP\\n</td>\n",
              "      <td>recession2022</td>\n",
              "    </tr>\n",
              "    <tr>\n",
              "      <th>2582</th>\n",
              "      <td>Develop crucial skills and knowledge in Brown’s Online MPH to address the many health challenges affecting the world today.\\n</td>\n",
              "      <td>recession2022</td>\n",
              "    </tr>\n",
              "    <tr>\n",
              "      <th>2583</th>\n",
              "      <td>Propel your future forward by taking courses online to earn a graduate certificate or master's degree from Stanford University. Learn more!\\n</td>\n",
              "      <td>recession2022</td>\n",
              "    </tr>\n",
              "  </tbody>\n",
              "</table>\n",
              "<p>2584 rows × 2 columns</p>\n",
              "</div>\n",
              "      <button class=\"colab-df-convert\" onclick=\"convertToInteractive('df-34cb9605-f2ba-47d0-9e0a-04a59621ffec')\"\n",
              "              title=\"Convert this dataframe to an interactive table.\"\n",
              "              style=\"display:none;\">\n",
              "        \n",
              "  <svg xmlns=\"http://www.w3.org/2000/svg\" height=\"24px\"viewBox=\"0 0 24 24\"\n",
              "       width=\"24px\">\n",
              "    <path d=\"M0 0h24v24H0V0z\" fill=\"none\"/>\n",
              "    <path d=\"M18.56 5.44l.94 2.06.94-2.06 2.06-.94-2.06-.94-.94-2.06-.94 2.06-2.06.94zm-11 1L8.5 8.5l.94-2.06 2.06-.94-2.06-.94L8.5 2.5l-.94 2.06-2.06.94zm10 10l.94 2.06.94-2.06 2.06-.94-2.06-.94-.94-2.06-.94 2.06-2.06.94z\"/><path d=\"M17.41 7.96l-1.37-1.37c-.4-.4-.92-.59-1.43-.59-.52 0-1.04.2-1.43.59L10.3 9.45l-7.72 7.72c-.78.78-.78 2.05 0 2.83L4 21.41c.39.39.9.59 1.41.59.51 0 1.02-.2 1.41-.59l7.78-7.78 2.81-2.81c.8-.78.8-2.07 0-2.86zM5.41 20L4 18.59l7.72-7.72 1.47 1.35L5.41 20z\"/>\n",
              "  </svg>\n",
              "      </button>\n",
              "      \n",
              "  <style>\n",
              "    .colab-df-container {\n",
              "      display:flex;\n",
              "      flex-wrap:wrap;\n",
              "      gap: 12px;\n",
              "    }\n",
              "\n",
              "    .colab-df-convert {\n",
              "      background-color: #E8F0FE;\n",
              "      border: none;\n",
              "      border-radius: 50%;\n",
              "      cursor: pointer;\n",
              "      display: none;\n",
              "      fill: #1967D2;\n",
              "      height: 32px;\n",
              "      padding: 0 0 0 0;\n",
              "      width: 32px;\n",
              "    }\n",
              "\n",
              "    .colab-df-convert:hover {\n",
              "      background-color: #E2EBFA;\n",
              "      box-shadow: 0px 1px 2px rgba(60, 64, 67, 0.3), 0px 1px 3px 1px rgba(60, 64, 67, 0.15);\n",
              "      fill: #174EA6;\n",
              "    }\n",
              "\n",
              "    [theme=dark] .colab-df-convert {\n",
              "      background-color: #3B4455;\n",
              "      fill: #D2E3FC;\n",
              "    }\n",
              "\n",
              "    [theme=dark] .colab-df-convert:hover {\n",
              "      background-color: #434B5C;\n",
              "      box-shadow: 0px 1px 3px 1px rgba(0, 0, 0, 0.15);\n",
              "      filter: drop-shadow(0px 1px 2px rgba(0, 0, 0, 0.3));\n",
              "      fill: #FFFFFF;\n",
              "    }\n",
              "  </style>\n",
              "\n",
              "      <script>\n",
              "        const buttonEl =\n",
              "          document.querySelector('#df-34cb9605-f2ba-47d0-9e0a-04a59621ffec button.colab-df-convert');\n",
              "        buttonEl.style.display =\n",
              "          google.colab.kernel.accessAllowed ? 'block' : 'none';\n",
              "\n",
              "        async function convertToInteractive(key) {\n",
              "          const element = document.querySelector('#df-34cb9605-f2ba-47d0-9e0a-04a59621ffec');\n",
              "          const dataTable =\n",
              "            await google.colab.kernel.invokeFunction('convertToInteractive',\n",
              "                                                     [key], {});\n",
              "          if (!dataTable) return;\n",
              "\n",
              "          const docLinkHtml = 'Like what you see? Visit the ' +\n",
              "            '<a target=\"_blank\" href=https://colab.research.google.com/notebooks/data_table.ipynb>data table notebook</a>'\n",
              "            + ' to learn more about interactive tables.';\n",
              "          element.innerHTML = '';\n",
              "          dataTable['output_type'] = 'display_data';\n",
              "          await google.colab.output.renderOutput(dataTable, element);\n",
              "          const docLink = document.createElement('div');\n",
              "          docLink.innerHTML = docLinkHtml;\n",
              "          element.appendChild(docLink);\n",
              "        }\n",
              "      </script>\n",
              "    </div>\n",
              "  </div>\n",
              "  "
            ]
          },
          "metadata": {},
          "execution_count": 92
        }
      ]
    },
    {
      "cell_type": "code",
      "execution_count": null,
      "metadata": {
        "id": "5da3LE5ErnXA"
      },
      "outputs": [],
      "source": [
        "#convert to lowercase\n",
        "unseen_complete_data['POSTS']=unseen_complete_data['POSTS'].str.lower()"
      ]
    },
    {
      "cell_type": "code",
      "execution_count": null,
      "metadata": {
        "id": "TtUV76h1rnXB"
      },
      "outputs": [],
      "source": [
        "#remove html content\n",
        "unseen_complete_data['POSTS'] = unseen_complete_data['POSTS'].apply(lambda x: re.split('<[^<>]*>', str(x))[0])"
      ]
    },
    {
      "cell_type": "code",
      "execution_count": null,
      "metadata": {
        "id": "fYWbbBxmrnXC"
      },
      "outputs": [],
      "source": [
        "def contr(post_text):\n",
        "     posts_body_list=[]\n",
        "     for r in post_text:\n",
        "         decontract_posts_body = contractions.fix(r)\n",
        "         r = ''.join(decontract_posts_body)\n",
        "         r = re.sub(\"\\s\\s+\", \" \", r) # remove extra spaces\n",
        "         posts_body_list.append(r)\n",
        "     return posts_body_list"
      ]
    },
    {
      "cell_type": "code",
      "execution_count": null,
      "metadata": {
        "id": "HPHrCrxfrnXD"
      },
      "outputs": [],
      "source": [
        "unseen_complete_data['POSTS']=contr(unseen_complete_data['POSTS'].values)"
      ]
    },
    {
      "cell_type": "code",
      "execution_count": null,
      "metadata": {
        "id": "JavxSOslrnXD"
      },
      "outputs": [],
      "source": [
        "#remove non-alphabetical values\n",
        "unseen_complete_data['POSTS'] = unseen_complete_data['POSTS'].replace('[^a-zA-Z ]', '', regex=True)"
      ]
    },
    {
      "cell_type": "code",
      "execution_count": null,
      "metadata": {
        "id": "JsnJrk-rrnXE"
      },
      "outputs": [],
      "source": [
        "import numpy as np\n",
        "unseen_complete_data['TAGS']=np.where( (unseen_complete_data['LABEL']=='excited') | (unseen_complete_data['LABEL']=='hiring') | (unseen_complete_data['LABEL']=='positivity') | (unseen_complete_data['LABEL']=='positivevibes') | (unseen_complete_data['LABEL']=='grateful') | (unseen_complete_data['LABEL']=='newjob') | (unseen_complete_data['LABEL']=='blessed') | (unseen_complete_data['LABEL']=='happy') | (unseen_complete_data['LABEL']=='lmao') | (unseen_complete_data['LABEL']=='funny') | (unseen_complete_data['LABEL']=='fun') | (unseen_complete_data['LABEL']=='lol') , 1, -1)"
      ]
    },
    {
      "cell_type": "code",
      "source": [
        "unseen_complete_data=unseen_complete_data.drop_duplicates(keep='last').reset_index()"
      ],
      "metadata": {
        "id": "UP1dg_4VrnXF"
      },
      "execution_count": null,
      "outputs": []
    },
    {
      "cell_type": "code",
      "source": [
        "unseen_complete_data['POSTS'].replace('', np.nan, inplace=True)\n",
        "unseen_complete_data.dropna(subset=['POSTS'], inplace=True)\n",
        "unseen_complete_data"
      ],
      "metadata": {
        "colab": {
          "base_uri": "https://localhost:8080/",
          "height": 988
        },
        "id": "GXQtwogUrOp-",
        "outputId": "7b0ca5c5-3609-4e5f-fa06-79c8e6a6cbe1"
      },
      "execution_count": null,
      "outputs": [
        {
          "output_type": "execute_result",
          "data": {
            "text/plain": [
              "      index  \\\n",
              "0         0   \n",
              "1         1   \n",
              "2         2   \n",
              "3         3   \n",
              "4         4   \n",
              "...     ...   \n",
              "2257   2579   \n",
              "2258   2580   \n",
              "2259   2581   \n",
              "2260   2582   \n",
              "2261   2583   \n",
              "\n",
              "                                                                                                                                                                                                                                                                                                                                                                                                                                                                                                                                                                                                                                                                                                                                                                                                                                                                                                                                                                                                                                                                                                                                                                                                                                                                                                                                                                                                                                                                                                                                                                                                                                                                                                                                                                                                                                                                                                                                                                                                                                                                                                                                                                                                                                                                                                                                                                                                                                                                                                                                                                                                                                       POSTS  \\\n",
              "0                                                                                                                                                                                                                                                                                                                                                                                                                                                                                                                                                                                                                                                                                                                                                                                                                                                                                                                                                                                                                                                                                                                                                                                                                                                                                                                                                                                                                                                                                                                                                                                                                                                                                                                                                                                                                                                                                                                                                                                                                                                                                                                                                                                                                                                                                                                                                                                                                                                                                                                                                              does excel run on mac you bet so do word powerpoint and all the apps you need   \n",
              "1                                                                                                                                                                                                                                                                                                                                                                                                                                                                                                                                                                                                                                                                                                                                                                                                                                                                                                                                                                                                                                                                                                                                                                                                                                                                                                                                                                                                                                                                                                                                                                                                                                                                                                                                                                                                                                                                                                                                                                                                                                                                                                                                                                                                                                                                                                                                                                                                                                                                                                                                        i am about to start a new role at capgemini and containing myself is a real issuedo not ask excited   \n",
              "2                                                                                                                                                                                                                                                                                                                                                                                                                                                                                                                                                                                                                                                                                                                                                                                                                                                                                                                                                                                                                                                                                                                                                                                                                                                                                                                                                                                                                                                                                                                                                                                                                                                                                                                                                                                                                                                                                                                                                                                                                                                                                                                                                                                                                                                                                                                                                                                                                                                                                                                                                                                                                        new chapter excited   \n",
              "3                                                                                                                                                                                                                                                                                                                                                                                                                                                                                                                                                                                                                                                                                                                                                                                                                                                  flying away from the nest and setting off for new adventures on the other side of the planet this day marks a couple of important milestones my first post ever on linkedin  is this really a milestone my last day working at nestl the beginning of a new and exciting journey i am thrilled to announce that i will be moving to new zealand as of february  excited driven by the willingness to enrich ourselves as individuals to go out of our comfort zone to experience a new professional and personal environment and to discover new outdoor experiences my partner and i have decided to take that step and why notsince i graduated from isipca in  the past decade at nestl wow this sounds like a lot which started with a years internship has been incredibly rich and i feel very lucky for all the projects and experiences i went through i met inspiring people and worked on innovative projects from being part of the nestl rd accelerator to the nesqino journey and plenty of other initiatives i enjoyed the diversity of projects activities and challengesthe journey has also sometimes been punctuated with some doubts and questions which were essential to go the extra mile those who know me know that i am always eager to learn new things i do not know yet what will come next and i am very curious to see what the future will bring the next two months will be busy organizing the move and solving admin stuff enjoying time with family and friends recharging and settling in new zealand i will be available for work as of february  and i cannot wait to discover what new zealand has to offer i would love to start discussions about expatriation experiences tips about new zealand potential work opportunities including remote    \n",
              "4                                                                                                                                                                                                                                                                                                                                                                                                                                                                                                                                                                                                                                                                                                                                                                                                                                                                                                                                                                                                                                                                                                                                                                                                                                                                                                                                                                                                                                                                                                                                                                                                                                                                                                                                                                                                                                                                                                                                                                                                                                                                                                                                                                                                                                                                                                                                                                 excited about the great things to come from this partnership gracias to my omnicom media group familia geoffrey calabrese kelly metz amy darwish and televisaunivision daniel aversano richard bertodatti for making this happen multiculturalmarketing httpslnkdinevpbwcu   \n",
              "...                                                                                                                                                                                                                                                                                                                                                                                                                                                                                                                                                                                                                                                                                                                                                                                                                                                                                                                                                                                                                                                                                                                                                                                                                                                                                                                                                                                                                                                                                                                                                                                                                                                                                                                                                                                                                                                                                                                                                                                                                                                                                                                                                                                                                                                                                                                                                                                                                                                                                                                                                                                                                                      ...   \n",
              "2257                                                                                                                                                                                                                                                                                                                                                                                                                                                                                                                                                                                                                                                                                                                                                                                                                                                                                                                                                                                                                                                                                                                                                                                                                                                                                                                                                                                                                                                                                                                                                                                                                                                                                                                                                                                                                                                                                                                                                                                                                                                                                                                                                                                                                                                                                                                                                                                                                                                                                                                                                                        automate testing to catch bugs earlier in your development cycle   \n",
              "2258  is twitter about to go bankrupthttpslnkdingnqtxcnclayoff layoffslaidoff job today linkedin talent searchforjobs techlayoffs techjobs technews careers jobopeningw contract cc jobopportunities career recruiting openforjobopportunities recession recession recession jobsearch itrecruitmentjava phython spring springboot microservices hibernate datajpa kafka aws gcp azure javadeveloper akka scala benchsalesrecruitersdotnetdeveloper dotnet devops powerbi uideveloper networking scrummaster data opportunity opportunities fullstackdeveloper engineering techcommunity layoffsandjobreductions hiring team development grateful comment softwareengineering frontenddataanalysis businessintelligence processimprovementindustrialengineering newopportunities analyst dataengineer opentowork openforwork twitter stripe lyft amazon apple microsoft facebook tesla philips zillow convey jpmc salesforce nytimes nypost wsj layoff layoffslaidoff job todayjavafullstackdeveloper javajobs hiringimmediately hiring hiringtalent marketing project  project snap softwareengineer workleadership digitalhealth medicaldevice biotechnology projectadditionally career opportunities activelylooking talent businessintelligenceanalystinternational students cpt opt ead optead fulltimehb head tn tnvisa tnjobs hbvisa citizens gc gcead uscitizens usajobs usc usajob usa usa usa usaitjobs uscontractjobs usjobseeker usjobdataanalyst businessanalystbusinessanalysis analytics workplace outsourcedhr payroll onboardingpgmp productdevelopment programmanagement productmanagement projectmanagement productmanager programmanager culture remoteworkjobalert canadajobs fulltimeposition candidatesearch fulltimejobs jobfair jobdescription jobavailable jobchangers canada canadaworkvisa fulltime copr canadastaffing canadarecruitment canadacareers canadajobseeker canadaitjob torontocanada canadaitjobsjobhiring jobforyou jobalerts canadaprvisa canadajobseekerspermanentjobs permanentjob permanentrecruitment permanentrole opentonewopportunities torontoitjobs jobseekers recruitingjobposting linkedin openings jobvacancy jobalert jobhunters activelyhiring bulkcanadajobs informaticajobs informatica bigdata hadooptech help economy jobhunt networknyc denver colorado losangeles boston tampa florida michiganjobs oregoan sandiego houston dallas itjobs washington dallaschicago chicagojobs dfw plano dallas dallasjobs austin austinjobs cali calijobs california houston houstonjobs atlanta atlantajobsnyc newyork nycjobs newyorkjobs detroit michiganmexico mexicojobs siliconvalley   \n",
              "2259                                                                                                                                                                                                                                                                                                                                                                                                                                                                                                                                                                                                                                                                                                                                                                                                                                                                                                                                                                                                                                                                                                                                                                                                                                                                                                                                                                                                                                                                                                                                                                                                                                                                                                                                                                                                                                                                                                                                                                                                                                                                                                    that moment when the cast of jurassicworlddominion surprised  students with free laptopsjust one of many surprises for these amazing students during an allexpensepaid trip to universal studios to launch our jurassic worldthemed steam initiative learn more about this crosscompany program with universal pictures universal parks  resorts and the council for opportunity in education to help ensure more young people have access to the resources and opportunities they need to succeed in todays digital world projectup   \n",
              "2260                                                                                                                                                                                                                                                                                                                                                                                                                                                                                                                                                                                                                                                                                                                                                                                                                                                                                                                                                                                                                                                                                                                                                                                                                                                                                                                                                                                                                                                                                                                                                                                                                                                                                                                                                                                                                                                                                                                                                                                                                                                                                                                                                                                                                                                                                                                                                                                                                                                                                                               develop crucial skills and knowledge in browns online mph to address the many health challenges affecting the world today   \n",
              "2261                                                                                                                                                                                                                                                                                                                                                                                                                                                                                                                                                                                                                                                                                                                                                                                                                                                                                                                                                                                                                                                                                                                                                                                                                                                                                                                                                                                                                                                                                                                                                                                                                                                                                                                                                                                                                                                                                                                                                                                                                                                                                                                                                                                                                                                                                                                                                                                                                                                                                                propel your future forward by taking courses online to earn a graduate certificate or masters degree from stanford university learn more   \n",
              "\n",
              "              LABEL  TAGS  \n",
              "0           excited     1  \n",
              "1           excited     1  \n",
              "2           excited     1  \n",
              "3           excited     1  \n",
              "4           excited     1  \n",
              "...             ...   ...  \n",
              "2257  recession2022    -1  \n",
              "2258  recession2022    -1  \n",
              "2259  recession2022    -1  \n",
              "2260  recession2022    -1  \n",
              "2261  recession2022    -1  \n",
              "\n",
              "[2255 rows x 4 columns]"
            ],
            "text/html": [
              "\n",
              "  <div id=\"df-99895573-0642-4e4c-aceb-e9e6f9129bd6\">\n",
              "    <div class=\"colab-df-container\">\n",
              "      <div>\n",
              "<style scoped>\n",
              "    .dataframe tbody tr th:only-of-type {\n",
              "        vertical-align: middle;\n",
              "    }\n",
              "\n",
              "    .dataframe tbody tr th {\n",
              "        vertical-align: top;\n",
              "    }\n",
              "\n",
              "    .dataframe thead th {\n",
              "        text-align: right;\n",
              "    }\n",
              "</style>\n",
              "<table border=\"1\" class=\"dataframe\">\n",
              "  <thead>\n",
              "    <tr style=\"text-align: right;\">\n",
              "      <th></th>\n",
              "      <th>index</th>\n",
              "      <th>POSTS</th>\n",
              "      <th>LABEL</th>\n",
              "      <th>TAGS</th>\n",
              "    </tr>\n",
              "  </thead>\n",
              "  <tbody>\n",
              "    <tr>\n",
              "      <th>0</th>\n",
              "      <td>0</td>\n",
              "      <td>does excel run on mac you bet so do word powerpoint and all the apps you need</td>\n",
              "      <td>excited</td>\n",
              "      <td>1</td>\n",
              "    </tr>\n",
              "    <tr>\n",
              "      <th>1</th>\n",
              "      <td>1</td>\n",
              "      <td>i am about to start a new role at capgemini and containing myself is a real issuedo not ask excited</td>\n",
              "      <td>excited</td>\n",
              "      <td>1</td>\n",
              "    </tr>\n",
              "    <tr>\n",
              "      <th>2</th>\n",
              "      <td>2</td>\n",
              "      <td>new chapter excited</td>\n",
              "      <td>excited</td>\n",
              "      <td>1</td>\n",
              "    </tr>\n",
              "    <tr>\n",
              "      <th>3</th>\n",
              "      <td>3</td>\n",
              "      <td>flying away from the nest and setting off for new adventures on the other side of the planet this day marks a couple of important milestones my first post ever on linkedin  is this really a milestone my last day working at nestl the beginning of a new and exciting journey i am thrilled to announce that i will be moving to new zealand as of february  excited driven by the willingness to enrich ourselves as individuals to go out of our comfort zone to experience a new professional and personal environment and to discover new outdoor experiences my partner and i have decided to take that step and why notsince i graduated from isipca in  the past decade at nestl wow this sounds like a lot which started with a years internship has been incredibly rich and i feel very lucky for all the projects and experiences i went through i met inspiring people and worked on innovative projects from being part of the nestl rd accelerator to the nesqino journey and plenty of other initiatives i enjoyed the diversity of projects activities and challengesthe journey has also sometimes been punctuated with some doubts and questions which were essential to go the extra mile those who know me know that i am always eager to learn new things i do not know yet what will come next and i am very curious to see what the future will bring the next two months will be busy organizing the move and solving admin stuff enjoying time with family and friends recharging and settling in new zealand i will be available for work as of february  and i cannot wait to discover what new zealand has to offer i would love to start discussions about expatriation experiences tips about new zealand potential work opportunities including remote</td>\n",
              "      <td>excited</td>\n",
              "      <td>1</td>\n",
              "    </tr>\n",
              "    <tr>\n",
              "      <th>4</th>\n",
              "      <td>4</td>\n",
              "      <td>excited about the great things to come from this partnership gracias to my omnicom media group familia geoffrey calabrese kelly metz amy darwish and televisaunivision daniel aversano richard bertodatti for making this happen multiculturalmarketing httpslnkdinevpbwcu</td>\n",
              "      <td>excited</td>\n",
              "      <td>1</td>\n",
              "    </tr>\n",
              "    <tr>\n",
              "      <th>...</th>\n",
              "      <td>...</td>\n",
              "      <td>...</td>\n",
              "      <td>...</td>\n",
              "      <td>...</td>\n",
              "    </tr>\n",
              "    <tr>\n",
              "      <th>2257</th>\n",
              "      <td>2579</td>\n",
              "      <td>automate testing to catch bugs earlier in your development cycle</td>\n",
              "      <td>recession2022</td>\n",
              "      <td>-1</td>\n",
              "    </tr>\n",
              "    <tr>\n",
              "      <th>2258</th>\n",
              "      <td>2580</td>\n",
              "      <td>is twitter about to go bankrupthttpslnkdingnqtxcnclayoff layoffslaidoff job today linkedin talent searchforjobs techlayoffs techjobs technews careers jobopeningw contract cc jobopportunities career recruiting openforjobopportunities recession recession recession jobsearch itrecruitmentjava phython spring springboot microservices hibernate datajpa kafka aws gcp azure javadeveloper akka scala benchsalesrecruitersdotnetdeveloper dotnet devops powerbi uideveloper networking scrummaster data opportunity opportunities fullstackdeveloper engineering techcommunity layoffsandjobreductions hiring team development grateful comment softwareengineering frontenddataanalysis businessintelligence processimprovementindustrialengineering newopportunities analyst dataengineer opentowork openforwork twitter stripe lyft amazon apple microsoft facebook tesla philips zillow convey jpmc salesforce nytimes nypost wsj layoff layoffslaidoff job todayjavafullstackdeveloper javajobs hiringimmediately hiring hiringtalent marketing project  project snap softwareengineer workleadership digitalhealth medicaldevice biotechnology projectadditionally career opportunities activelylooking talent businessintelligenceanalystinternational students cpt opt ead optead fulltimehb head tn tnvisa tnjobs hbvisa citizens gc gcead uscitizens usajobs usc usajob usa usa usa usaitjobs uscontractjobs usjobseeker usjobdataanalyst businessanalystbusinessanalysis analytics workplace outsourcedhr payroll onboardingpgmp productdevelopment programmanagement productmanagement projectmanagement productmanager programmanager culture remoteworkjobalert canadajobs fulltimeposition candidatesearch fulltimejobs jobfair jobdescription jobavailable jobchangers canada canadaworkvisa fulltime copr canadastaffing canadarecruitment canadacareers canadajobseeker canadaitjob torontocanada canadaitjobsjobhiring jobforyou jobalerts canadaprvisa canadajobseekerspermanentjobs permanentjob permanentrecruitment permanentrole opentonewopportunities torontoitjobs jobseekers recruitingjobposting linkedin openings jobvacancy jobalert jobhunters activelyhiring bulkcanadajobs informaticajobs informatica bigdata hadooptech help economy jobhunt networknyc denver colorado losangeles boston tampa florida michiganjobs oregoan sandiego houston dallas itjobs washington dallaschicago chicagojobs dfw plano dallas dallasjobs austin austinjobs cali calijobs california houston houstonjobs atlanta atlantajobsnyc newyork nycjobs newyorkjobs detroit michiganmexico mexicojobs siliconvalley</td>\n",
              "      <td>recession2022</td>\n",
              "      <td>-1</td>\n",
              "    </tr>\n",
              "    <tr>\n",
              "      <th>2259</th>\n",
              "      <td>2581</td>\n",
              "      <td>that moment when the cast of jurassicworlddominion surprised  students with free laptopsjust one of many surprises for these amazing students during an allexpensepaid trip to universal studios to launch our jurassic worldthemed steam initiative learn more about this crosscompany program with universal pictures universal parks  resorts and the council for opportunity in education to help ensure more young people have access to the resources and opportunities they need to succeed in todays digital world projectup</td>\n",
              "      <td>recession2022</td>\n",
              "      <td>-1</td>\n",
              "    </tr>\n",
              "    <tr>\n",
              "      <th>2260</th>\n",
              "      <td>2582</td>\n",
              "      <td>develop crucial skills and knowledge in browns online mph to address the many health challenges affecting the world today</td>\n",
              "      <td>recession2022</td>\n",
              "      <td>-1</td>\n",
              "    </tr>\n",
              "    <tr>\n",
              "      <th>2261</th>\n",
              "      <td>2583</td>\n",
              "      <td>propel your future forward by taking courses online to earn a graduate certificate or masters degree from stanford university learn more</td>\n",
              "      <td>recession2022</td>\n",
              "      <td>-1</td>\n",
              "    </tr>\n",
              "  </tbody>\n",
              "</table>\n",
              "<p>2255 rows × 4 columns</p>\n",
              "</div>\n",
              "      <button class=\"colab-df-convert\" onclick=\"convertToInteractive('df-99895573-0642-4e4c-aceb-e9e6f9129bd6')\"\n",
              "              title=\"Convert this dataframe to an interactive table.\"\n",
              "              style=\"display:none;\">\n",
              "        \n",
              "  <svg xmlns=\"http://www.w3.org/2000/svg\" height=\"24px\"viewBox=\"0 0 24 24\"\n",
              "       width=\"24px\">\n",
              "    <path d=\"M0 0h24v24H0V0z\" fill=\"none\"/>\n",
              "    <path d=\"M18.56 5.44l.94 2.06.94-2.06 2.06-.94-2.06-.94-.94-2.06-.94 2.06-2.06.94zm-11 1L8.5 8.5l.94-2.06 2.06-.94-2.06-.94L8.5 2.5l-.94 2.06-2.06.94zm10 10l.94 2.06.94-2.06 2.06-.94-2.06-.94-.94-2.06-.94 2.06-2.06.94z\"/><path d=\"M17.41 7.96l-1.37-1.37c-.4-.4-.92-.59-1.43-.59-.52 0-1.04.2-1.43.59L10.3 9.45l-7.72 7.72c-.78.78-.78 2.05 0 2.83L4 21.41c.39.39.9.59 1.41.59.51 0 1.02-.2 1.41-.59l7.78-7.78 2.81-2.81c.8-.78.8-2.07 0-2.86zM5.41 20L4 18.59l7.72-7.72 1.47 1.35L5.41 20z\"/>\n",
              "  </svg>\n",
              "      </button>\n",
              "      \n",
              "  <style>\n",
              "    .colab-df-container {\n",
              "      display:flex;\n",
              "      flex-wrap:wrap;\n",
              "      gap: 12px;\n",
              "    }\n",
              "\n",
              "    .colab-df-convert {\n",
              "      background-color: #E8F0FE;\n",
              "      border: none;\n",
              "      border-radius: 50%;\n",
              "      cursor: pointer;\n",
              "      display: none;\n",
              "      fill: #1967D2;\n",
              "      height: 32px;\n",
              "      padding: 0 0 0 0;\n",
              "      width: 32px;\n",
              "    }\n",
              "\n",
              "    .colab-df-convert:hover {\n",
              "      background-color: #E2EBFA;\n",
              "      box-shadow: 0px 1px 2px rgba(60, 64, 67, 0.3), 0px 1px 3px 1px rgba(60, 64, 67, 0.15);\n",
              "      fill: #174EA6;\n",
              "    }\n",
              "\n",
              "    [theme=dark] .colab-df-convert {\n",
              "      background-color: #3B4455;\n",
              "      fill: #D2E3FC;\n",
              "    }\n",
              "\n",
              "    [theme=dark] .colab-df-convert:hover {\n",
              "      background-color: #434B5C;\n",
              "      box-shadow: 0px 1px 3px 1px rgba(0, 0, 0, 0.15);\n",
              "      filter: drop-shadow(0px 1px 2px rgba(0, 0, 0, 0.3));\n",
              "      fill: #FFFFFF;\n",
              "    }\n",
              "  </style>\n",
              "\n",
              "      <script>\n",
              "        const buttonEl =\n",
              "          document.querySelector('#df-99895573-0642-4e4c-aceb-e9e6f9129bd6 button.colab-df-convert');\n",
              "        buttonEl.style.display =\n",
              "          google.colab.kernel.accessAllowed ? 'block' : 'none';\n",
              "\n",
              "        async function convertToInteractive(key) {\n",
              "          const element = document.querySelector('#df-99895573-0642-4e4c-aceb-e9e6f9129bd6');\n",
              "          const dataTable =\n",
              "            await google.colab.kernel.invokeFunction('convertToInteractive',\n",
              "                                                     [key], {});\n",
              "          if (!dataTable) return;\n",
              "\n",
              "          const docLinkHtml = 'Like what you see? Visit the ' +\n",
              "            '<a target=\"_blank\" href=https://colab.research.google.com/notebooks/data_table.ipynb>data table notebook</a>'\n",
              "            + ' to learn more about interactive tables.';\n",
              "          element.innerHTML = '';\n",
              "          dataTable['output_type'] = 'display_data';\n",
              "          await google.colab.output.renderOutput(dataTable, element);\n",
              "          const docLink = document.createElement('div');\n",
              "          docLink.innerHTML = docLinkHtml;\n",
              "          element.appendChild(docLink);\n",
              "        }\n",
              "      </script>\n",
              "    </div>\n",
              "  </div>\n",
              "  "
            ]
          },
          "metadata": {},
          "execution_count": 100
        }
      ]
    },
    {
      "cell_type": "code",
      "source": [
        "from keras.preprocessing.text import Tokenizer\n",
        "from keras_preprocessing.sequence import pad_sequences\n",
        "#max_features = 2000\n",
        "#tokenizer = Tokenizer(num_words = max_features, )\n",
        "# tokenizer = Tokenizer()\n",
        "# tokenizer.fit_on_texts(unseen_complete_data['POSTS'].values)\n",
        "X = tokenizer.texts_to_sequences(unseen_complete_data['POSTS'].values)\n",
        "X = pad_sequences(X, padding = 'post' , maxlen=100)\n",
        "Y = pd.get_dummies(unseen_complete_data['TAGS']).values\n",
        "#Y= complete_data['TAGS'].values\n",
        "\n",
        "vocab_size = len(tokenizer.word_index)+1"
      ],
      "metadata": {
        "id": "9gxEKv5zr1L0"
      },
      "execution_count": null,
      "outputs": []
    },
    {
      "cell_type": "code",
      "source": [
        "Y_test_new_unseen=[]\n",
        "for val in Y:\n",
        "  if val[0]==1:\n",
        "    Y_test_new_unseen.append(0)\n",
        "  else:\n",
        "    Y_test_new_unseen.append(1)"
      ],
      "metadata": {
        "id": "d6CNfYsQr1L2"
      },
      "execution_count": null,
      "outputs": []
    },
    {
      "cell_type": "code",
      "source": [
        "from sklearn.metrics import classification_report\n",
        "\n",
        "y_pred_unseen = lstm_model.predict(X, batch_size=10, verbose=1)\n",
        "y_pred_bool_unseen = np.argmax(y_pred_unseen, axis=1)\n",
        "\n",
        "print(classification_report(Y_test_new_unseen, y_pred_bool_unseen))\n"
      ],
      "metadata": {
        "colab": {
          "base_uri": "https://localhost:8080/"
        },
        "outputId": "15f219ea-cca3-4b8d-ce92-7f3484dbabe1",
        "id": "457TUncor1L2"
      },
      "execution_count": null,
      "outputs": [
        {
          "output_type": "stream",
          "name": "stdout",
          "text": [
            "226/226 [==============================] - 15s 66ms/step\n",
            "              precision    recall  f1-score   support\n",
            "\n",
            "           0       0.85      0.88      0.86      1200\n",
            "           1       0.85      0.83      0.84      1055\n",
            "\n",
            "    accuracy                           0.85      2255\n",
            "   macro avg       0.85      0.85      0.85      2255\n",
            "weighted avg       0.85      0.85      0.85      2255\n",
            "\n"
          ]
        }
      ]
    },
    {
      "cell_type": "markdown",
      "source": [
        "**LSTM with FastText Embeddings**"
      ],
      "metadata": {
        "id": "bDTW6MonWRZW"
      }
    },
    {
      "cell_type": "code",
      "source": [
        "embedding_matrix = np.zeros((vocab_size,300))\n",
        "for word,i in tqdm(tokenizer.word_index.items()):\n",
        "    embedding_value = model.get_word_vector(word)\n",
        "    embedding_matrix[i] = embedding_value"
      ],
      "metadata": {
        "colab": {
          "base_uri": "https://localhost:8080/"
        },
        "id": "_jLfx2HuWWwW",
        "outputId": "adf98f0a-0a43-40bc-a50b-4c186e0b71e5"
      },
      "execution_count": null,
      "outputs": [
        {
          "output_type": "stream",
          "name": "stderr",
          "text": [
            "100%|██████████| 92516/92516 [00:05<00:00, 15501.59it/s]\n"
          ]
        }
      ]
    },
    {
      "cell_type": "code",
      "source": [
        "len(embedding_matrix),embedding_matrix.size"
      ],
      "metadata": {
        "colab": {
          "base_uri": "https://localhost:8080/"
        },
        "id": "OHPYHdEVWWyy",
        "outputId": "24bdfbd3-85bf-4bf5-ed19-7af08b92e0e3"
      },
      "execution_count": null,
      "outputs": [
        {
          "output_type": "execute_result",
          "data": {
            "text/plain": [
              "(92517, 27755100)"
            ]
          },
          "metadata": {},
          "execution_count": 30
        }
      ]
    },
    {
      "cell_type": "code",
      "source": [
        "import tensorflow as tf\n",
        "from tensorflow import keras\n",
        "from tensorflow.keras import layers\n",
        "from tensorflow.keras import losses\n",
        "from tensorflow.keras import preprocessing\n",
        "from tensorflow.keras import utils\n",
        "from tensorflow.keras.layers.experimental.preprocessing import TextVectorization\n",
        "\n",
        "\n",
        "from keras.layers import Dense, Embedding, LSTM, SpatialDropout1D, Bidirectional, Dropout\n",
        "embid_dim = 300\n",
        "lstm_out = 128\n",
        "vanilla_lstm_model = keras.Sequential()\n",
        "vanilla_lstm_model.add(Embedding(vocab_size, embid_dim, weights = [embedding_matrix] , trainable = False))\n",
        "vanilla_lstm_model.add(LSTM(lstm_out, dropout=0.2))\n",
        "vanilla_lstm_model.add(Dense(128, activation = 'relu'))\n",
        "vanilla_lstm_model.add(Dropout(0.5))\n",
        "vanilla_lstm_model.add(Dense(64, activation = 'relu'))\n",
        "vanilla_lstm_model.add(Dense(2, activation = 'softmax'))  #if used pd.get dummies above\n",
        "vanilla_lstm_model.summary()"
      ],
      "metadata": {
        "colab": {
          "base_uri": "https://localhost:8080/"
        },
        "id": "1DZ0wiOiWW1q",
        "outputId": "77311565-3134-4175-a3b9-100c57e8f23a"
      },
      "execution_count": null,
      "outputs": [
        {
          "output_type": "stream",
          "name": "stdout",
          "text": [
            "Model: \"sequential_9\"\n",
            "_________________________________________________________________\n",
            " Layer (type)                Output Shape              Param #   \n",
            "=================================================================\n",
            " embedding_9 (Embedding)     (None, None, 300)         27755100  \n",
            "                                                                 \n",
            " lstm_12 (LSTM)              (None, 128)               219648    \n",
            "                                                                 \n",
            " dense_22 (Dense)            (None, 128)               16512     \n",
            "                                                                 \n",
            " dropout_6 (Dropout)         (None, 128)               0         \n",
            "                                                                 \n",
            " dense_23 (Dense)            (None, 64)                8256      \n",
            "                                                                 \n",
            " dense_24 (Dense)            (None, 2)                 130       \n",
            "                                                                 \n",
            "=================================================================\n",
            "Total params: 27,999,646\n",
            "Trainable params: 244,546\n",
            "Non-trainable params: 27,755,100\n",
            "_________________________________________________________________\n"
          ]
        }
      ]
    },
    {
      "cell_type": "code",
      "source": [
        "early_stopping_monitor = tf.keras.callbacks.EarlyStopping(\n",
        "    monitor='val_loss',\n",
        "    min_delta=0,\n",
        "    patience=10,\n",
        "    verbose=0,\n",
        "    mode='auto',\n",
        "    baseline=None,\n",
        "    restore_best_weights=True\n",
        ")\n",
        "batch_size = 200\n",
        "vanilla_lstm_model.compile(loss = 'binary_crossentropy', optimizer='adam',metrics = ['accuracy'])\n",
        "history = vanilla_lstm_model.fit(X_train, Y_train, epochs = 50, batch_size=batch_size, verbose = 1, callbacks=[early_stopping_monitor], validation_data =(X_test, Y_test))"
      ],
      "metadata": {
        "colab": {
          "base_uri": "https://localhost:8080/"
        },
        "id": "Bw64AMscY2Eb",
        "outputId": "101bc59d-cecd-4ea5-e6ff-c8ac4f07011c"
      },
      "execution_count": null,
      "outputs": [
        {
          "output_type": "stream",
          "name": "stdout",
          "text": [
            "Epoch 1/50\n",
            "54/54 [==============================] - 41s 718ms/step - loss: 0.6597 - accuracy: 0.5914 - val_loss: 0.5854 - val_accuracy: 0.6981\n",
            "Epoch 2/50\n",
            "54/54 [==============================] - 42s 784ms/step - loss: 0.4752 - accuracy: 0.7781 - val_loss: 0.4445 - val_accuracy: 0.8077\n",
            "Epoch 3/50\n",
            "54/54 [==============================] - 39s 716ms/step - loss: 0.4136 - accuracy: 0.8110 - val_loss: 0.4001 - val_accuracy: 0.8264\n",
            "Epoch 4/50\n",
            "54/54 [==============================] - 39s 722ms/step - loss: 0.3901 - accuracy: 0.8266 - val_loss: 0.3810 - val_accuracy: 0.8230\n",
            "Epoch 5/50\n",
            "54/54 [==============================] - 38s 703ms/step - loss: 0.3709 - accuracy: 0.8305 - val_loss: 0.3689 - val_accuracy: 0.8300\n",
            "Epoch 6/50\n",
            "54/54 [==============================] - 38s 704ms/step - loss: 0.3567 - accuracy: 0.8371 - val_loss: 0.3543 - val_accuracy: 0.8350\n",
            "Epoch 7/50\n",
            "54/54 [==============================] - 38s 702ms/step - loss: 0.3450 - accuracy: 0.8412 - val_loss: 0.3798 - val_accuracy: 0.8342\n",
            "Epoch 8/50\n",
            "54/54 [==============================] - 42s 786ms/step - loss: 0.3431 - accuracy: 0.8447 - val_loss: 0.3389 - val_accuracy: 0.8378\n",
            "Epoch 9/50\n",
            "54/54 [==============================] - 38s 704ms/step - loss: 0.3095 - accuracy: 0.8564 - val_loss: 0.3555 - val_accuracy: 0.8311\n",
            "Epoch 10/50\n",
            "54/54 [==============================] - 38s 700ms/step - loss: 0.2917 - accuracy: 0.8635 - val_loss: 0.3487 - val_accuracy: 0.8228\n",
            "Epoch 11/50\n",
            "54/54 [==============================] - 38s 705ms/step - loss: 0.3058 - accuracy: 0.8578 - val_loss: 0.3102 - val_accuracy: 0.8525\n",
            "Epoch 12/50\n",
            "54/54 [==============================] - 38s 705ms/step - loss: 0.2810 - accuracy: 0.8689 - val_loss: 0.3058 - val_accuracy: 0.8478\n",
            "Epoch 13/50\n",
            "54/54 [==============================] - 42s 789ms/step - loss: 0.2615 - accuracy: 0.8793 - val_loss: 0.2964 - val_accuracy: 0.8578\n",
            "Epoch 14/50\n",
            "54/54 [==============================] - 38s 708ms/step - loss: 0.2515 - accuracy: 0.8848 - val_loss: 0.3097 - val_accuracy: 0.8556\n",
            "Epoch 15/50\n",
            "54/54 [==============================] - 38s 710ms/step - loss: 0.2521 - accuracy: 0.8878 - val_loss: 0.3122 - val_accuracy: 0.8414\n",
            "Epoch 16/50\n",
            "54/54 [==============================] - 39s 716ms/step - loss: 0.2480 - accuracy: 0.8847 - val_loss: 0.3311 - val_accuracy: 0.8589\n",
            "Epoch 17/50\n",
            "54/54 [==============================] - 38s 707ms/step - loss: 0.2389 - accuracy: 0.8925 - val_loss: 0.2989 - val_accuracy: 0.8667\n",
            "Epoch 18/50\n",
            "54/54 [==============================] - 38s 702ms/step - loss: 0.2330 - accuracy: 0.8949 - val_loss: 0.3066 - val_accuracy: 0.8417\n",
            "Epoch 19/50\n",
            "54/54 [==============================] - 42s 778ms/step - loss: 0.2230 - accuracy: 0.8983 - val_loss: 0.3252 - val_accuracy: 0.8553\n",
            "Epoch 20/50\n",
            "54/54 [==============================] - 38s 701ms/step - loss: 0.2212 - accuracy: 0.8959 - val_loss: 0.3293 - val_accuracy: 0.8587\n",
            "Epoch 21/50\n",
            "54/54 [==============================] - 38s 707ms/step - loss: 0.2110 - accuracy: 0.9047 - val_loss: 0.3270 - val_accuracy: 0.8689\n",
            "Epoch 22/50\n",
            "54/54 [==============================] - 38s 710ms/step - loss: 0.2179 - accuracy: 0.9032 - val_loss: 0.2892 - val_accuracy: 0.8648\n",
            "Epoch 23/50\n",
            "54/54 [==============================] - 38s 707ms/step - loss: 0.1997 - accuracy: 0.9098 - val_loss: 0.3370 - val_accuracy: 0.8628\n",
            "Epoch 24/50\n",
            "54/54 [==============================] - 40s 738ms/step - loss: 0.2070 - accuracy: 0.9091 - val_loss: 0.3028 - val_accuracy: 0.8637\n",
            "Epoch 25/50\n",
            "54/54 [==============================] - 40s 732ms/step - loss: 0.1877 - accuracy: 0.9157 - val_loss: 0.3197 - val_accuracy: 0.8595\n",
            "Epoch 26/50\n",
            "54/54 [==============================] - 38s 700ms/step - loss: 0.1875 - accuracy: 0.9157 - val_loss: 0.2980 - val_accuracy: 0.8620\n",
            "Epoch 27/50\n",
            "54/54 [==============================] - 38s 703ms/step - loss: 0.1871 - accuracy: 0.9150 - val_loss: 0.3334 - val_accuracy: 0.8651\n",
            "Epoch 28/50\n",
            "54/54 [==============================] - 38s 702ms/step - loss: 0.1865 - accuracy: 0.9171 - val_loss: 0.3020 - val_accuracy: 0.8592\n",
            "Epoch 29/50\n",
            "54/54 [==============================] - 38s 711ms/step - loss: 0.1954 - accuracy: 0.9139 - val_loss: 0.3192 - val_accuracy: 0.8645\n",
            "Epoch 30/50\n",
            "54/54 [==============================] - 42s 783ms/step - loss: 0.1771 - accuracy: 0.9192 - val_loss: 0.3509 - val_accuracy: 0.8659\n",
            "Epoch 31/50\n",
            "54/54 [==============================] - 38s 708ms/step - loss: 0.1796 - accuracy: 0.9232 - val_loss: 0.3459 - val_accuracy: 0.8695\n",
            "Epoch 32/50\n",
            "54/54 [==============================] - 38s 706ms/step - loss: 0.1658 - accuracy: 0.9260 - val_loss: 0.3114 - val_accuracy: 0.8720\n"
          ]
        }
      ]
    },
    {
      "cell_type": "code",
      "source": [
        "vanilla_lstm_model.save('/content/gdrive/MyDrive/Colab Notebooks/')"
      ],
      "metadata": {
        "colab": {
          "base_uri": "https://localhost:8080/"
        },
        "id": "o-EK_biCZ4N8",
        "outputId": "d677ed3b-9e58-430a-bb62-246f32bf5027"
      },
      "execution_count": null,
      "outputs": [
        {
          "output_type": "stream",
          "name": "stderr",
          "text": [
            "WARNING:absl:Found untraced functions such as lstm_cell_14_layer_call_fn, lstm_cell_14_layer_call_and_return_conditional_losses while saving (showing 2 of 2). These functions will not be directly callable after loading.\n"
          ]
        }
      ]
    },
    {
      "cell_type": "code",
      "source": [
        "Y_test_new=[]\n",
        "for val in Y_test:\n",
        "  if val[0]==1:\n",
        "    Y_test_new.append(0)\n",
        "  else:\n",
        "    Y_test_new.append(1)"
      ],
      "metadata": {
        "id": "TzB3DiqCaPXX"
      },
      "execution_count": null,
      "outputs": []
    },
    {
      "cell_type": "code",
      "source": [
        "from sklearn.metrics import classification_report\n",
        "\n",
        "y_pred = vanilla_lstm_model.predict(X_test, batch_size=64, verbose=1)\n",
        "y_pred_bool = np.argmax(y_pred, axis=1)\n",
        "\n",
        "print(classification_report(Y_test_new, y_pred_bool))\n"
      ],
      "metadata": {
        "colab": {
          "base_uri": "https://localhost:8080/"
        },
        "outputId": "f35b74bb-e0e0-4902-e6fa-3e602fa7508b",
        "id": "4uYDLoUAaPXZ"
      },
      "execution_count": null,
      "outputs": [
        {
          "output_type": "stream",
          "name": "stdout",
          "text": [
            "57/57 [==============================] - 7s 110ms/step\n",
            "              precision    recall  f1-score   support\n",
            "\n",
            "           0       0.85      0.94      0.89      2114\n",
            "           1       0.90      0.75      0.82      1480\n",
            "\n",
            "    accuracy                           0.86      3594\n",
            "   macro avg       0.87      0.85      0.86      3594\n",
            "weighted avg       0.87      0.86      0.86      3594\n",
            "\n"
          ]
        }
      ]
    },
    {
      "cell_type": "markdown",
      "source": [
        "**Vanilla LSTM model on completely unseen data with FastText Embeddings**"
      ],
      "metadata": {
        "id": "bCgr8L4panAU"
      }
    },
    {
      "cell_type": "code",
      "source": [
        "path = \"/content/gdrive/MyDrive/Colab Notebooks/Unseen_test_data/\"\n",
        "dir_list = os.listdir(path)\n",
        "pd.set_option('display.max_colwidth', None)"
      ],
      "metadata": {
        "id": "-X6HGZauakWm"
      },
      "execution_count": null,
      "outputs": []
    },
    {
      "cell_type": "code",
      "source": [
        "all_lines_list=list()\n",
        "labels_list=list()\n",
        "for filename in dir_list:\n",
        "    file_extension_val=filename.split('.')\n",
        "    file_extension=file_extension_val[1]\n",
        "    if(file_extension=='txt'):\n",
        "        label=filename.split('_')\n",
        "        label=label[2]\n",
        "        label=label.split('.')\n",
        "        label=label[0]\n",
        "        labels_list.append(label)\n",
        "        # with open(\"/content/gdrive/MyDrive/Colab Notebooks/Unseen_test_data/\"+filename, encoding='unicode_escape') as file_ptr:\n",
        "        with open(path + \"/\" + filename, encoding='utf-8') as file_ptr:\n",
        "            lines_temp = list()\n",
        "            for line in file_ptr:\n",
        "                if(line.strip()!=\"-----------------------------\"):\n",
        "                    lines_temp.append(line)\n",
        "            all_lines_list.append(lines_temp)"
      ],
      "metadata": {
        "id": "TYGfBOyzakWn"
      },
      "execution_count": null,
      "outputs": []
    },
    {
      "cell_type": "code",
      "source": [
        "df_posts=pd.DataFrame()\n",
        "labels_global_list=list()\n",
        "label_index=0\n",
        "for lst in all_lines_list:\n",
        "    df_temp = pd.DataFrame(lst)\n",
        "    df_posts=df_posts.append(df_temp,ignore_index=True,)\n",
        "#     label_length=len(lst)\n",
        "    for i in range(len(lst)):\n",
        "        labels_global_list.append(labels_list[label_index])\n",
        "    label_index=label_index+1\n",
        "    \n",
        "df_labels = pd.DataFrame(labels_global_list)"
      ],
      "metadata": {
        "id": "OmMqEHX9akWo"
      },
      "execution_count": null,
      "outputs": []
    },
    {
      "cell_type": "code",
      "source": [
        "unseen_complete_data = pd.concat([df_posts, df_labels], axis=1)\n",
        "unseen_complete_data.columns = ['POSTS', 'LABEL']\n",
        "unseen_complete_data"
      ],
      "metadata": {
        "colab": {
          "base_uri": "https://localhost:8080/",
          "height": 919
        },
        "outputId": "2e4032f1-f479-4211-fdbd-0eb54df31544",
        "id": "UFwUCguJakWo"
      },
      "execution_count": null,
      "outputs": [
        {
          "output_type": "execute_result",
          "data": {
            "text/plain": [
              "                                                                                                                                                                                                                                                                                                                                                                                                                                                                                                                                                                                                                                                                                                                                                                                                                                                                                                                                                                                                                                                                                                                                                                                                                                                                                                                                                                                                                                                                                                                                                                                                                                                                                                                                                                                                                                                                                                                                                                                                                                                                                                                                                                                                                                                                                                                                                                                                                                                                                                                                                                                                                                                                                                                                                                                                                                                                                                                                  POSTS  \\\n",
              "0                                                                                                                                                                                                                                                                                                                                                                                                                                                                                                                                                                                                                                                                                                                                                                                                                                                                                                                                                                                                                                                                                                                                                                                                                                                                                                                                                                                                                                                                                                                                                                                                                                                                                                                                                                                                                                                                                                                                                                                                                                                                                                                                                                                                                                                                                                                                                                                                                                                                                                                                                                                                                                                                                                                                                                                                                                                  Does Excel run on Mac? You bet. So do Word, PowerPoint, and all the apps you need.\\n   \n",
              "1                                                                                                                                                                                                                                                                                                                                                                                                                                                                                                                                                                                                                                                                                                                                                                                                                                                                                                                                                                                                                                                                                                                                                                                                                                                                                                                                                                                                                                                                                                                                                                                                                                                                                                                                                                                                                                                                                                                                                                                                                                                                                                                                                                                                                                                                                                                                                                                                                                                                                                                                                                                                                                                                                                                                                                                                                                I'm about to start a new role at Capgemini and containing myself is a real issue.Don't ask 😌#excited\\n   \n",
              "2                                                                                                                                                                                                                                                                                                                                                                                                                                                                                                                                                                                                                                                                                                                                                                                                                                                                                                                                                                                                                                                                                                                                                                                                                                                                                                                                                                                                                                                                                                                                                                                                                                                                                                                                                                                                                                                                                                                                                                                                                                                                                                                                                                                                                                                                                                                                                                                                                                                                                                                                                                                                                                                                                                                                                                                                                                                                                                               New chapter. #excited\\n   \n",
              "3                                                                                                                                                                                                                                                                                                                                                                                                                                                                                                                                                                                                                                                                                                                                                                                                                                                                                                                                                                                                                                                   Flying away from the Nest and setting off for new adventures on the other side of the planet 🗺️This day marks a couple of important milestones:-         My first post ever on LinkedIn 🚀 (Is this really a milestone?)-         My last day working at Nestlé-         The beginning of a new and exciting journey 😍I am thrilled to announce that I’ll be moving to New Zealand as of February 2023 (#excited). Driven by the willingness to enrich ourselves as individuals, to go out of our comfort zone, to experience a new professional and personal environment, and to discover new outdoor experiences, my partner and I have decided to take that step. And why not?Since I graduated from ISIPCA in 2014, the past decade at Nestlé (wow, this sounds like a lot) which started with a 2-years internship has been incredibly rich and I feel very lucky for all the projects and experiences I went through. I met inspiring people and worked on innovative projects. From being part of the Nestlé R&D accelerator to the nesQino™️ journey, and plenty of other initiatives, I enjoyed the diversity of projects, activities, and challenges.The journey has also sometimes been punctuated with some doubts and questions, which were essential to go the extra mile. Those who know me know that I am always eager to learn new things. I don’t know yet what will come next, and I am very curious to see what the future will bring… The next two months will be busy organizing the move (and solving admin stuff), enjoying time with family and friends, recharging, and settling in New Zealand. I’ll be available for work as of February 2023 and I can’t wait to discover what New Zealand has to offer. I would love to start discussions about expatriation experiences, tips about New Zealand, potential work opportunities (including remote), …\\n   \n",
              "4                                                                                                                                                                                                                                                                                                                                                                                                                                                                                                                                                                                                                                                                                                                                                                                                                                                                                                                                                                                                                                                                                                                                                                                                                                                                                                                                                                                                                                                                                                                                                                                                                                                                                                                                                                                                                                                                                                                                                                                                                                                                                                                                                                                                                                                                                                                                                                                                                                                                                                                                                                                                                                        #Excited about the great things to come from this partnership.  Gracias to my Omnicom Media Group familia (Geoffrey Calabrese, Kelly Metz, Amy Darwish) and TelevisaUnivision (Daniel Aversano, Richard Bertodatti) for making this happen! #multiculturalmarketing https://lnkd.in/eVpbW7CU\\n   \n",
              "...                                                                                                                                                                                                                                                                                                                                                                                                                                                                                                                                                                                                                                                                                                                                                                                                                                                                                                                                                                                                                                                                                                                                                                                                                                                                                                                                                                                                                                                                                                                                                                                                                                                                                                                                                                                                                                                                                                                                                                                                                                                                                                                                                                                                                                                                                                                                                                                                                                                                                                                                                                                                                                                                                                                                                                                                                                                                                                                                 ...   \n",
              "2579                                                                                                                                                                                                                                                                                                                                                                                                                                                                                                                                                                                                                                                                                                                                                                                                                                                                                                                                                                                                                                                                                                                                                                                                                                                                                                                                                                                                                                                                                                                                                                                                                                                                                                                                                                                                                                                                                                                                                                                                                                                                                                                                                                                                                                                                                                                                                                                                                                                                                                                                                                                                                                                                                                                                                                                                                                                                Automate testing to catch bugs earlier in your development cycle.\\n   \n",
              "2580  Is Twitter about to go bankrupt?https://lnkd.in/gnQtXcnC#layoff #layoffs #laidoff #job #today #linkedin #talent #searchforjobs #techlayoffs #techjobs #technews #careers #jobopening#W2 #contract #c2c #jobopportunities #career #recruiting #openforjobopportunities #Recession #Recession2022 #Recession2023 #jobsearch #ITRecruitment#java #phython #spring #springboot #microservices #hibernate #datajpa #kafka #aws #gcp #azure #javadeveloper #Akka #scala #benchsalesrecruiters#dotnetdeveloper #dotnet #devops #powerbi #uideveloper #networking #scrummaster #data #opportunity #opportunities #fullstackdeveloper #engineering #techcommunity #layoffsandjobreductions #hiring #team #development #grateful #comment #softwareengineering #frontend#dataanalysis #businessintelligence #processimprovement #industrialengineering #newopportunities #analyst #dataengineer #opentowork #openforwork #twitter #stripe #lyft #amazon #apple #microsoft #facebook #tesla #philips #zillow #convey #jpmc #salesforce #nytimes #nypost #wsj #layoff #layoffs #laidoff #job #today#javafullstackdeveloper #javajobs #hiringimmediately #hiring #hiringtalent #marketing #project # #project #Snap #softwareengineer #work#leadership #digitalhealth #medicaldevice #biotechnology #projectAdditionally #career #opportunities #activelylooking #talent #businessintelligenceanalyst #international #students #CPT #OPT #EAD #OPTEAD #Fulltime #H1B #H4EAD #TN #TNVISA #tnjobs #H1BVISA #Citizens #GC #GCEAD #uscitizens #usajobs #usc #usajob #usa2022 #usa #usa2023 #usaitjobs #uscontractjobs #usjobseeker #usjob#dataanalyst #businessanalyst #businessanalysis #analytics #workplace #outsourcedhr #payroll #onboarding#pgmp #productdevelopment #programmanagement #productmanagement #ProjectManagement #productmanager #programmanager #culture #remotework#jobalert #canadajobs #fulltimeposition #candidatesearch #fulltimejobs #jobfair #jobdescription #jobavailable #jobchangers #canada #canadaworkvisa #fulltime #copr #canadastaffing #canadarecruitment #canadacareers #canadajobseeker #canadaitjob #torontocanada #canadaitjobs #jobhiring #jobforyou #jobalerts #canadaprvisa #canadajobseekers#permanentjobs #permanentjob #permanentrecruitment #permanentrole #opentonewopportunities #torontoitjobs #jobseekers #Recruiting#Jobposting #LinkedIn #Openings #Jobvacancy #Jobalert #Jobhunters #activelyhiring #BulkCanadaJobs #informaticajobs #informatica #bigdata #hadoop#tech #help #economy #jobhunt #network#nyc #denver #colorado #losangeles #boston #tampa #florida #michiganjobs #oregoan #sandiego #houston #dallas #itjobs #washington #dallas#chicago #chicagojobs #dfw #plano #dallas #dallasjobs #austin #austinjobs #Cali #CaliJobs #California #Houston #HoustonJobs #atlanta #atlantajobs#nyc #newyork #nycjobs #newyorkjobs #detroit #michigan #mexico #mexicojobs #siliconvalley\\n   \n",
              "2581                                                                                                                                                                                                                                                                                                                                                                                                                                                                                                                                                                                                                                                                                                                                                                                                                                                                                                                                                                                                                                                                                                                                                                                                                                                                                                                                                                                                                                                                                                                                                                                                                                                                                                                                                                                                                                                                                                                                                                                                                                                                                                                                                                                                                                                                                                                                                                             That moment when the cast of #JurassicWorldDominion surprised 350 students with free laptops.Just one of many surprises for these amazing students during an all-expense-paid trip to Universal Studios to launch our Jurassic World-themed STEAM initiative. Learn more about this cross-company program with Universal Pictures, Universal Parks & Resorts, and the Council for Opportunity in Education to help ensure more young people have access to the resources and opportunities they need to succeed in today’s digital world. #ProjectUP\\n   \n",
              "2582                                                                                                                                                                                                                                                                                                                                                                                                                                                                                                                                                                                                                                                                                                                                                                                                                                                                                                                                                                                                                                                                                                                                                                                                                                                                                                                                                                                                                                                                                                                                                                                                                                                                                                                                                                                                                                                                                                                                                                                                                                                                                                                                                                                                                                                                                                                                                                                                                                                                                                                                                                                                                                                                                                                                                                                                      Develop crucial skills and knowledge in Brown’s Online MPH to address the many health challenges affecting the world today.\\n   \n",
              "2583                                                                                                                                                                                                                                                                                                                                                                                                                                                                                                                                                                                                                                                                                                                                                                                                                                                                                                                                                                                                                                                                                                                                                                                                                                                                                                                                                                                                                                                                                                                                                                                                                                                                                                                                                                                                                                                                                                                                                                                                                                                                                                                                                                                                                                                                                                                                                                                                                                                                                                                                                                                                                                                                                                                                                                                      Propel your future forward by taking courses online to earn a graduate certificate or master's degree from Stanford University. Learn more!\\n   \n",
              "\n",
              "              LABEL  \n",
              "0           excited  \n",
              "1           excited  \n",
              "2           excited  \n",
              "3           excited  \n",
              "4           excited  \n",
              "...             ...  \n",
              "2579  recession2022  \n",
              "2580  recession2022  \n",
              "2581  recession2022  \n",
              "2582  recession2022  \n",
              "2583  recession2022  \n",
              "\n",
              "[2584 rows x 2 columns]"
            ],
            "text/html": [
              "\n",
              "  <div id=\"df-cd46b16a-ac05-4036-a45e-90a55e356dd8\">\n",
              "    <div class=\"colab-df-container\">\n",
              "      <div>\n",
              "<style scoped>\n",
              "    .dataframe tbody tr th:only-of-type {\n",
              "        vertical-align: middle;\n",
              "    }\n",
              "\n",
              "    .dataframe tbody tr th {\n",
              "        vertical-align: top;\n",
              "    }\n",
              "\n",
              "    .dataframe thead th {\n",
              "        text-align: right;\n",
              "    }\n",
              "</style>\n",
              "<table border=\"1\" class=\"dataframe\">\n",
              "  <thead>\n",
              "    <tr style=\"text-align: right;\">\n",
              "      <th></th>\n",
              "      <th>POSTS</th>\n",
              "      <th>LABEL</th>\n",
              "    </tr>\n",
              "  </thead>\n",
              "  <tbody>\n",
              "    <tr>\n",
              "      <th>0</th>\n",
              "      <td>Does Excel run on Mac? You bet. So do Word, PowerPoint, and all the apps you need.\\n</td>\n",
              "      <td>excited</td>\n",
              "    </tr>\n",
              "    <tr>\n",
              "      <th>1</th>\n",
              "      <td>I'm about to start a new role at Capgemini and containing myself is a real issue.Don't ask 😌#excited\\n</td>\n",
              "      <td>excited</td>\n",
              "    </tr>\n",
              "    <tr>\n",
              "      <th>2</th>\n",
              "      <td>New chapter. #excited\\n</td>\n",
              "      <td>excited</td>\n",
              "    </tr>\n",
              "    <tr>\n",
              "      <th>3</th>\n",
              "      <td>Flying away from the Nest and setting off for new adventures on the other side of the planet 🗺️This day marks a couple of important milestones:-         My first post ever on LinkedIn 🚀 (Is this really a milestone?)-         My last day working at Nestlé-         The beginning of a new and exciting journey 😍I am thrilled to announce that I’ll be moving to New Zealand as of February 2023 (#excited). Driven by the willingness to enrich ourselves as individuals, to go out of our comfort zone, to experience a new professional and personal environment, and to discover new outdoor experiences, my partner and I have decided to take that step. And why not?Since I graduated from ISIPCA in 2014, the past decade at Nestlé (wow, this sounds like a lot) which started with a 2-years internship has been incredibly rich and I feel very lucky for all the projects and experiences I went through. I met inspiring people and worked on innovative projects. From being part of the Nestlé R&amp;D accelerator to the nesQino™️ journey, and plenty of other initiatives, I enjoyed the diversity of projects, activities, and challenges.The journey has also sometimes been punctuated with some doubts and questions, which were essential to go the extra mile. Those who know me know that I am always eager to learn new things. I don’t know yet what will come next, and I am very curious to see what the future will bring… The next two months will be busy organizing the move (and solving admin stuff), enjoying time with family and friends, recharging, and settling in New Zealand. I’ll be available for work as of February 2023 and I can’t wait to discover what New Zealand has to offer. I would love to start discussions about expatriation experiences, tips about New Zealand, potential work opportunities (including remote), …\\n</td>\n",
              "      <td>excited</td>\n",
              "    </tr>\n",
              "    <tr>\n",
              "      <th>4</th>\n",
              "      <td>#Excited about the great things to come from this partnership.  Gracias to my Omnicom Media Group familia (Geoffrey Calabrese, Kelly Metz, Amy Darwish) and TelevisaUnivision (Daniel Aversano, Richard Bertodatti) for making this happen! #multiculturalmarketing https://lnkd.in/eVpbW7CU\\n</td>\n",
              "      <td>excited</td>\n",
              "    </tr>\n",
              "    <tr>\n",
              "      <th>...</th>\n",
              "      <td>...</td>\n",
              "      <td>...</td>\n",
              "    </tr>\n",
              "    <tr>\n",
              "      <th>2579</th>\n",
              "      <td>Automate testing to catch bugs earlier in your development cycle.\\n</td>\n",
              "      <td>recession2022</td>\n",
              "    </tr>\n",
              "    <tr>\n",
              "      <th>2580</th>\n",
              "      <td>Is Twitter about to go bankrupt?https://lnkd.in/gnQtXcnC#layoff #layoffs #laidoff #job #today #linkedin #talent #searchforjobs #techlayoffs #techjobs #technews #careers #jobopening#W2 #contract #c2c #jobopportunities #career #recruiting #openforjobopportunities #Recession #Recession2022 #Recession2023 #jobsearch #ITRecruitment#java #phython #spring #springboot #microservices #hibernate #datajpa #kafka #aws #gcp #azure #javadeveloper #Akka #scala #benchsalesrecruiters#dotnetdeveloper #dotnet #devops #powerbi #uideveloper #networking #scrummaster #data #opportunity #opportunities #fullstackdeveloper #engineering #techcommunity #layoffsandjobreductions #hiring #team #development #grateful #comment #softwareengineering #frontend#dataanalysis #businessintelligence #processimprovement #industrialengineering #newopportunities #analyst #dataengineer #opentowork #openforwork #twitter #stripe #lyft #amazon #apple #microsoft #facebook #tesla #philips #zillow #convey #jpmc #salesforce #nytimes #nypost #wsj #layoff #layoffs #laidoff #job #today#javafullstackdeveloper #javajobs #hiringimmediately #hiring #hiringtalent #marketing #project # #project #Snap #softwareengineer #work#leadership #digitalhealth #medicaldevice #biotechnology #projectAdditionally #career #opportunities #activelylooking #talent #businessintelligenceanalyst #international #students #CPT #OPT #EAD #OPTEAD #Fulltime #H1B #H4EAD #TN #TNVISA #tnjobs #H1BVISA #Citizens #GC #GCEAD #uscitizens #usajobs #usc #usajob #usa2022 #usa #usa2023 #usaitjobs #uscontractjobs #usjobseeker #usjob#dataanalyst #businessanalyst #businessanalysis #analytics #workplace #outsourcedhr #payroll #onboarding#pgmp #productdevelopment #programmanagement #productmanagement #ProjectManagement #productmanager #programmanager #culture #remotework#jobalert #canadajobs #fulltimeposition #candidatesearch #fulltimejobs #jobfair #jobdescription #jobavailable #jobchangers #canada #canadaworkvisa #fulltime #copr #canadastaffing #canadarecruitment #canadacareers #canadajobseeker #canadaitjob #torontocanada #canadaitjobs #jobhiring #jobforyou #jobalerts #canadaprvisa #canadajobseekers#permanentjobs #permanentjob #permanentrecruitment #permanentrole #opentonewopportunities #torontoitjobs #jobseekers #Recruiting#Jobposting #LinkedIn #Openings #Jobvacancy #Jobalert #Jobhunters #activelyhiring #BulkCanadaJobs #informaticajobs #informatica #bigdata #hadoop#tech #help #economy #jobhunt #network#nyc #denver #colorado #losangeles #boston #tampa #florida #michiganjobs #oregoan #sandiego #houston #dallas #itjobs #washington #dallas#chicago #chicagojobs #dfw #plano #dallas #dallasjobs #austin #austinjobs #Cali #CaliJobs #California #Houston #HoustonJobs #atlanta #atlantajobs#nyc #newyork #nycjobs #newyorkjobs #detroit #michigan #mexico #mexicojobs #siliconvalley\\n</td>\n",
              "      <td>recession2022</td>\n",
              "    </tr>\n",
              "    <tr>\n",
              "      <th>2581</th>\n",
              "      <td>That moment when the cast of #JurassicWorldDominion surprised 350 students with free laptops.Just one of many surprises for these amazing students during an all-expense-paid trip to Universal Studios to launch our Jurassic World-themed STEAM initiative. Learn more about this cross-company program with Universal Pictures, Universal Parks &amp; Resorts, and the Council for Opportunity in Education to help ensure more young people have access to the resources and opportunities they need to succeed in today’s digital world. #ProjectUP\\n</td>\n",
              "      <td>recession2022</td>\n",
              "    </tr>\n",
              "    <tr>\n",
              "      <th>2582</th>\n",
              "      <td>Develop crucial skills and knowledge in Brown’s Online MPH to address the many health challenges affecting the world today.\\n</td>\n",
              "      <td>recession2022</td>\n",
              "    </tr>\n",
              "    <tr>\n",
              "      <th>2583</th>\n",
              "      <td>Propel your future forward by taking courses online to earn a graduate certificate or master's degree from Stanford University. Learn more!\\n</td>\n",
              "      <td>recession2022</td>\n",
              "    </tr>\n",
              "  </tbody>\n",
              "</table>\n",
              "<p>2584 rows × 2 columns</p>\n",
              "</div>\n",
              "      <button class=\"colab-df-convert\" onclick=\"convertToInteractive('df-cd46b16a-ac05-4036-a45e-90a55e356dd8')\"\n",
              "              title=\"Convert this dataframe to an interactive table.\"\n",
              "              style=\"display:none;\">\n",
              "        \n",
              "  <svg xmlns=\"http://www.w3.org/2000/svg\" height=\"24px\"viewBox=\"0 0 24 24\"\n",
              "       width=\"24px\">\n",
              "    <path d=\"M0 0h24v24H0V0z\" fill=\"none\"/>\n",
              "    <path d=\"M18.56 5.44l.94 2.06.94-2.06 2.06-.94-2.06-.94-.94-2.06-.94 2.06-2.06.94zm-11 1L8.5 8.5l.94-2.06 2.06-.94-2.06-.94L8.5 2.5l-.94 2.06-2.06.94zm10 10l.94 2.06.94-2.06 2.06-.94-2.06-.94-.94-2.06-.94 2.06-2.06.94z\"/><path d=\"M17.41 7.96l-1.37-1.37c-.4-.4-.92-.59-1.43-.59-.52 0-1.04.2-1.43.59L10.3 9.45l-7.72 7.72c-.78.78-.78 2.05 0 2.83L4 21.41c.39.39.9.59 1.41.59.51 0 1.02-.2 1.41-.59l7.78-7.78 2.81-2.81c.8-.78.8-2.07 0-2.86zM5.41 20L4 18.59l7.72-7.72 1.47 1.35L5.41 20z\"/>\n",
              "  </svg>\n",
              "      </button>\n",
              "      \n",
              "  <style>\n",
              "    .colab-df-container {\n",
              "      display:flex;\n",
              "      flex-wrap:wrap;\n",
              "      gap: 12px;\n",
              "    }\n",
              "\n",
              "    .colab-df-convert {\n",
              "      background-color: #E8F0FE;\n",
              "      border: none;\n",
              "      border-radius: 50%;\n",
              "      cursor: pointer;\n",
              "      display: none;\n",
              "      fill: #1967D2;\n",
              "      height: 32px;\n",
              "      padding: 0 0 0 0;\n",
              "      width: 32px;\n",
              "    }\n",
              "\n",
              "    .colab-df-convert:hover {\n",
              "      background-color: #E2EBFA;\n",
              "      box-shadow: 0px 1px 2px rgba(60, 64, 67, 0.3), 0px 1px 3px 1px rgba(60, 64, 67, 0.15);\n",
              "      fill: #174EA6;\n",
              "    }\n",
              "\n",
              "    [theme=dark] .colab-df-convert {\n",
              "      background-color: #3B4455;\n",
              "      fill: #D2E3FC;\n",
              "    }\n",
              "\n",
              "    [theme=dark] .colab-df-convert:hover {\n",
              "      background-color: #434B5C;\n",
              "      box-shadow: 0px 1px 3px 1px rgba(0, 0, 0, 0.15);\n",
              "      filter: drop-shadow(0px 1px 2px rgba(0, 0, 0, 0.3));\n",
              "      fill: #FFFFFF;\n",
              "    }\n",
              "  </style>\n",
              "\n",
              "      <script>\n",
              "        const buttonEl =\n",
              "          document.querySelector('#df-cd46b16a-ac05-4036-a45e-90a55e356dd8 button.colab-df-convert');\n",
              "        buttonEl.style.display =\n",
              "          google.colab.kernel.accessAllowed ? 'block' : 'none';\n",
              "\n",
              "        async function convertToInteractive(key) {\n",
              "          const element = document.querySelector('#df-cd46b16a-ac05-4036-a45e-90a55e356dd8');\n",
              "          const dataTable =\n",
              "            await google.colab.kernel.invokeFunction('convertToInteractive',\n",
              "                                                     [key], {});\n",
              "          if (!dataTable) return;\n",
              "\n",
              "          const docLinkHtml = 'Like what you see? Visit the ' +\n",
              "            '<a target=\"_blank\" href=https://colab.research.google.com/notebooks/data_table.ipynb>data table notebook</a>'\n",
              "            + ' to learn more about interactive tables.';\n",
              "          element.innerHTML = '';\n",
              "          dataTable['output_type'] = 'display_data';\n",
              "          await google.colab.output.renderOutput(dataTable, element);\n",
              "          const docLink = document.createElement('div');\n",
              "          docLink.innerHTML = docLinkHtml;\n",
              "          element.appendChild(docLink);\n",
              "        }\n",
              "      </script>\n",
              "    </div>\n",
              "  </div>\n",
              "  "
            ]
          },
          "metadata": {},
          "execution_count": 23
        }
      ]
    },
    {
      "cell_type": "code",
      "execution_count": null,
      "metadata": {
        "id": "0LcBRMpEakWp"
      },
      "outputs": [],
      "source": [
        "#convert to lowercase\n",
        "unseen_complete_data['POSTS']=unseen_complete_data['POSTS'].str.lower()"
      ]
    },
    {
      "cell_type": "code",
      "execution_count": null,
      "metadata": {
        "id": "ZOawhCucakWp"
      },
      "outputs": [],
      "source": [
        "#remove html content\n",
        "unseen_complete_data['POSTS'] = unseen_complete_data['POSTS'].apply(lambda x: re.split('<[^<>]*>', str(x))[0])"
      ]
    },
    {
      "cell_type": "code",
      "execution_count": null,
      "metadata": {
        "id": "66F9AL5IakWp"
      },
      "outputs": [],
      "source": [
        "def contr(post_text):\n",
        "     posts_body_list=[]\n",
        "     for r in post_text:\n",
        "         decontract_posts_body = contractions.fix(r)\n",
        "         r = ''.join(decontract_posts_body)\n",
        "         r = re.sub(\"\\s\\s+\", \" \", r) # remove extra spaces\n",
        "         posts_body_list.append(r)\n",
        "     return posts_body_list"
      ]
    },
    {
      "cell_type": "code",
      "execution_count": null,
      "metadata": {
        "id": "BiA08nd2akWq"
      },
      "outputs": [],
      "source": [
        "unseen_complete_data['POSTS']=contr(unseen_complete_data['POSTS'].values)"
      ]
    },
    {
      "cell_type": "code",
      "execution_count": null,
      "metadata": {
        "id": "DGAdn4QzakWr"
      },
      "outputs": [],
      "source": [
        "#remove non-alphabetical values\n",
        "unseen_complete_data['POSTS'] = unseen_complete_data['POSTS'].replace('[^a-zA-Z ]', '', regex=True)"
      ]
    },
    {
      "cell_type": "code",
      "execution_count": null,
      "metadata": {
        "id": "1YzgBZ6gakWr"
      },
      "outputs": [],
      "source": [
        "import numpy as np\n",
        "unseen_complete_data['TAGS']=np.where( (unseen_complete_data['LABEL']=='excited') | (unseen_complete_data['LABEL']=='hiring') | (unseen_complete_data['LABEL']=='positivity') | (unseen_complete_data['LABEL']=='positivevibes') | (unseen_complete_data['LABEL']=='grateful') | (unseen_complete_data['LABEL']=='newjob') | (unseen_complete_data['LABEL']=='blessed') | (unseen_complete_data['LABEL']=='happy') | (unseen_complete_data['LABEL']=='lmao') | (unseen_complete_data['LABEL']=='funny') | (unseen_complete_data['LABEL']=='fun') | (unseen_complete_data['LABEL']=='lol') , 1, -1)"
      ]
    },
    {
      "cell_type": "code",
      "source": [
        "unseen_complete_data=unseen_complete_data.drop_duplicates(keep='last').reset_index()"
      ],
      "metadata": {
        "id": "vsL5vdfpakWr"
      },
      "execution_count": null,
      "outputs": []
    },
    {
      "cell_type": "code",
      "source": [
        "unseen_complete_data['POSTS'].replace('', np.nan, inplace=True)\n",
        "unseen_complete_data.dropna(subset=['POSTS'], inplace=True)\n",
        "unseen_complete_data"
      ],
      "metadata": {
        "id": "9R2DGo0ZakWs",
        "colab": {
          "base_uri": "https://localhost:8080/",
          "height": 919
        },
        "outputId": "8667d0fa-7126-4546-ccef-a0cf8a8320f2"
      },
      "execution_count": null,
      "outputs": [
        {
          "output_type": "execute_result",
          "data": {
            "text/plain": [
              "      index  \\\n",
              "0         0   \n",
              "1         1   \n",
              "2         2   \n",
              "3         3   \n",
              "4         4   \n",
              "...     ...   \n",
              "2257   2579   \n",
              "2258   2580   \n",
              "2259   2581   \n",
              "2260   2582   \n",
              "2261   2583   \n",
              "\n",
              "                                                                                                                                                                                                                                                                                                                                                                                                                                                                                                                                                                                                                                                                                                                                                                                                                                                                                                                                                                                                                                                                                                                                                                                                                                                                                                                                                                                                                                                                                                                                                                                                                                                                                                                                                                                                                                                                                                                                                                                                                                                                                                                                                                                                                                                                                                                                                                                                                                                                                                                                                                                                                                       POSTS  \\\n",
              "0                                                                                                                                                                                                                                                                                                                                                                                                                                                                                                                                                                                                                                                                                                                                                                                                                                                                                                                                                                                                                                                                                                                                                                                                                                                                                                                                                                                                                                                                                                                                                                                                                                                                                                                                                                                                                                                                                                                                                                                                                                                                                                                                                                                                                                                                                                                                                                                                                                                                                                                                                              does excel run on mac you bet so do word powerpoint and all the apps you need   \n",
              "1                                                                                                                                                                                                                                                                                                                                                                                                                                                                                                                                                                                                                                                                                                                                                                                                                                                                                                                                                                                                                                                                                                                                                                                                                                                                                                                                                                                                                                                                                                                                                                                                                                                                                                                                                                                                                                                                                                                                                                                                                                                                                                                                                                                                                                                                                                                                                                                                                                                                                                                                        i am about to start a new role at capgemini and containing myself is a real issuedo not ask excited   \n",
              "2                                                                                                                                                                                                                                                                                                                                                                                                                                                                                                                                                                                                                                                                                                                                                                                                                                                                                                                                                                                                                                                                                                                                                                                                                                                                                                                                                                                                                                                                                                                                                                                                                                                                                                                                                                                                                                                                                                                                                                                                                                                                                                                                                                                                                                                                                                                                                                                                                                                                                                                                                                                                                        new chapter excited   \n",
              "3                                                                                                                                                                                                                                                                                                                                                                                                                                                                                                                                                                                                                                                                                                                                                                                                                                                  flying away from the nest and setting off for new adventures on the other side of the planet this day marks a couple of important milestones my first post ever on linkedin  is this really a milestone my last day working at nestl the beginning of a new and exciting journey i am thrilled to announce that i will be moving to new zealand as of february  excited driven by the willingness to enrich ourselves as individuals to go out of our comfort zone to experience a new professional and personal environment and to discover new outdoor experiences my partner and i have decided to take that step and why notsince i graduated from isipca in  the past decade at nestl wow this sounds like a lot which started with a years internship has been incredibly rich and i feel very lucky for all the projects and experiences i went through i met inspiring people and worked on innovative projects from being part of the nestl rd accelerator to the nesqino journey and plenty of other initiatives i enjoyed the diversity of projects activities and challengesthe journey has also sometimes been punctuated with some doubts and questions which were essential to go the extra mile those who know me know that i am always eager to learn new things i do not know yet what will come next and i am very curious to see what the future will bring the next two months will be busy organizing the move and solving admin stuff enjoying time with family and friends recharging and settling in new zealand i will be available for work as of february  and i cannot wait to discover what new zealand has to offer i would love to start discussions about expatriation experiences tips about new zealand potential work opportunities including remote    \n",
              "4                                                                                                                                                                                                                                                                                                                                                                                                                                                                                                                                                                                                                                                                                                                                                                                                                                                                                                                                                                                                                                                                                                                                                                                                                                                                                                                                                                                                                                                                                                                                                                                                                                                                                                                                                                                                                                                                                                                                                                                                                                                                                                                                                                                                                                                                                                                                                                 excited about the great things to come from this partnership gracias to my omnicom media group familia geoffrey calabrese kelly metz amy darwish and televisaunivision daniel aversano richard bertodatti for making this happen multiculturalmarketing httpslnkdinevpbwcu   \n",
              "...                                                                                                                                                                                                                                                                                                                                                                                                                                                                                                                                                                                                                                                                                                                                                                                                                                                                                                                                                                                                                                                                                                                                                                                                                                                                                                                                                                                                                                                                                                                                                                                                                                                                                                                                                                                                                                                                                                                                                                                                                                                                                                                                                                                                                                                                                                                                                                                                                                                                                                                                                                                                                                      ...   \n",
              "2257                                                                                                                                                                                                                                                                                                                                                                                                                                                                                                                                                                                                                                                                                                                                                                                                                                                                                                                                                                                                                                                                                                                                                                                                                                                                                                                                                                                                                                                                                                                                                                                                                                                                                                                                                                                                                                                                                                                                                                                                                                                                                                                                                                                                                                                                                                                                                                                                                                                                                                                                                                        automate testing to catch bugs earlier in your development cycle   \n",
              "2258  is twitter about to go bankrupthttpslnkdingnqtxcnclayoff layoffslaidoff job today linkedin talent searchforjobs techlayoffs techjobs technews careers jobopeningw contract cc jobopportunities career recruiting openforjobopportunities recession recession recession jobsearch itrecruitmentjava phython spring springboot microservices hibernate datajpa kafka aws gcp azure javadeveloper akka scala benchsalesrecruitersdotnetdeveloper dotnet devops powerbi uideveloper networking scrummaster data opportunity opportunities fullstackdeveloper engineering techcommunity layoffsandjobreductions hiring team development grateful comment softwareengineering frontenddataanalysis businessintelligence processimprovementindustrialengineering newopportunities analyst dataengineer opentowork openforwork twitter stripe lyft amazon apple microsoft facebook tesla philips zillow convey jpmc salesforce nytimes nypost wsj layoff layoffslaidoff job todayjavafullstackdeveloper javajobs hiringimmediately hiring hiringtalent marketing project  project snap softwareengineer workleadership digitalhealth medicaldevice biotechnology projectadditionally career opportunities activelylooking talent businessintelligenceanalystinternational students cpt opt ead optead fulltimehb head tn tnvisa tnjobs hbvisa citizens gc gcead uscitizens usajobs usc usajob usa usa usa usaitjobs uscontractjobs usjobseeker usjobdataanalyst businessanalystbusinessanalysis analytics workplace outsourcedhr payroll onboardingpgmp productdevelopment programmanagement productmanagement projectmanagement productmanager programmanager culture remoteworkjobalert canadajobs fulltimeposition candidatesearch fulltimejobs jobfair jobdescription jobavailable jobchangers canada canadaworkvisa fulltime copr canadastaffing canadarecruitment canadacareers canadajobseeker canadaitjob torontocanada canadaitjobsjobhiring jobforyou jobalerts canadaprvisa canadajobseekerspermanentjobs permanentjob permanentrecruitment permanentrole opentonewopportunities torontoitjobs jobseekers recruitingjobposting linkedin openings jobvacancy jobalert jobhunters activelyhiring bulkcanadajobs informaticajobs informatica bigdata hadooptech help economy jobhunt networknyc denver colorado losangeles boston tampa florida michiganjobs oregoan sandiego houston dallas itjobs washington dallaschicago chicagojobs dfw plano dallas dallasjobs austin austinjobs cali calijobs california houston houstonjobs atlanta atlantajobsnyc newyork nycjobs newyorkjobs detroit michiganmexico mexicojobs siliconvalley   \n",
              "2259                                                                                                                                                                                                                                                                                                                                                                                                                                                                                                                                                                                                                                                                                                                                                                                                                                                                                                                                                                                                                                                                                                                                                                                                                                                                                                                                                                                                                                                                                                                                                                                                                                                                                                                                                                                                                                                                                                                                                                                                                                                                                                    that moment when the cast of jurassicworlddominion surprised  students with free laptopsjust one of many surprises for these amazing students during an allexpensepaid trip to universal studios to launch our jurassic worldthemed steam initiative learn more about this crosscompany program with universal pictures universal parks  resorts and the council for opportunity in education to help ensure more young people have access to the resources and opportunities they need to succeed in todays digital world projectup   \n",
              "2260                                                                                                                                                                                                                                                                                                                                                                                                                                                                                                                                                                                                                                                                                                                                                                                                                                                                                                                                                                                                                                                                                                                                                                                                                                                                                                                                                                                                                                                                                                                                                                                                                                                                                                                                                                                                                                                                                                                                                                                                                                                                                                                                                                                                                                                                                                                                                                                                                                                                                                               develop crucial skills and knowledge in browns online mph to address the many health challenges affecting the world today   \n",
              "2261                                                                                                                                                                                                                                                                                                                                                                                                                                                                                                                                                                                                                                                                                                                                                                                                                                                                                                                                                                                                                                                                                                                                                                                                                                                                                                                                                                                                                                                                                                                                                                                                                                                                                                                                                                                                                                                                                                                                                                                                                                                                                                                                                                                                                                                                                                                                                                                                                                                                                                propel your future forward by taking courses online to earn a graduate certificate or masters degree from stanford university learn more   \n",
              "\n",
              "              LABEL  TAGS  \n",
              "0           excited     1  \n",
              "1           excited     1  \n",
              "2           excited     1  \n",
              "3           excited     1  \n",
              "4           excited     1  \n",
              "...             ...   ...  \n",
              "2257  recession2022    -1  \n",
              "2258  recession2022    -1  \n",
              "2259  recession2022    -1  \n",
              "2260  recession2022    -1  \n",
              "2261  recession2022    -1  \n",
              "\n",
              "[2255 rows x 4 columns]"
            ],
            "text/html": [
              "\n",
              "  <div id=\"df-d800c546-0751-4e8a-802d-289bd17924d2\">\n",
              "    <div class=\"colab-df-container\">\n",
              "      <div>\n",
              "<style scoped>\n",
              "    .dataframe tbody tr th:only-of-type {\n",
              "        vertical-align: middle;\n",
              "    }\n",
              "\n",
              "    .dataframe tbody tr th {\n",
              "        vertical-align: top;\n",
              "    }\n",
              "\n",
              "    .dataframe thead th {\n",
              "        text-align: right;\n",
              "    }\n",
              "</style>\n",
              "<table border=\"1\" class=\"dataframe\">\n",
              "  <thead>\n",
              "    <tr style=\"text-align: right;\">\n",
              "      <th></th>\n",
              "      <th>index</th>\n",
              "      <th>POSTS</th>\n",
              "      <th>LABEL</th>\n",
              "      <th>TAGS</th>\n",
              "    </tr>\n",
              "  </thead>\n",
              "  <tbody>\n",
              "    <tr>\n",
              "      <th>0</th>\n",
              "      <td>0</td>\n",
              "      <td>does excel run on mac you bet so do word powerpoint and all the apps you need</td>\n",
              "      <td>excited</td>\n",
              "      <td>1</td>\n",
              "    </tr>\n",
              "    <tr>\n",
              "      <th>1</th>\n",
              "      <td>1</td>\n",
              "      <td>i am about to start a new role at capgemini and containing myself is a real issuedo not ask excited</td>\n",
              "      <td>excited</td>\n",
              "      <td>1</td>\n",
              "    </tr>\n",
              "    <tr>\n",
              "      <th>2</th>\n",
              "      <td>2</td>\n",
              "      <td>new chapter excited</td>\n",
              "      <td>excited</td>\n",
              "      <td>1</td>\n",
              "    </tr>\n",
              "    <tr>\n",
              "      <th>3</th>\n",
              "      <td>3</td>\n",
              "      <td>flying away from the nest and setting off for new adventures on the other side of the planet this day marks a couple of important milestones my first post ever on linkedin  is this really a milestone my last day working at nestl the beginning of a new and exciting journey i am thrilled to announce that i will be moving to new zealand as of february  excited driven by the willingness to enrich ourselves as individuals to go out of our comfort zone to experience a new professional and personal environment and to discover new outdoor experiences my partner and i have decided to take that step and why notsince i graduated from isipca in  the past decade at nestl wow this sounds like a lot which started with a years internship has been incredibly rich and i feel very lucky for all the projects and experiences i went through i met inspiring people and worked on innovative projects from being part of the nestl rd accelerator to the nesqino journey and plenty of other initiatives i enjoyed the diversity of projects activities and challengesthe journey has also sometimes been punctuated with some doubts and questions which were essential to go the extra mile those who know me know that i am always eager to learn new things i do not know yet what will come next and i am very curious to see what the future will bring the next two months will be busy organizing the move and solving admin stuff enjoying time with family and friends recharging and settling in new zealand i will be available for work as of february  and i cannot wait to discover what new zealand has to offer i would love to start discussions about expatriation experiences tips about new zealand potential work opportunities including remote</td>\n",
              "      <td>excited</td>\n",
              "      <td>1</td>\n",
              "    </tr>\n",
              "    <tr>\n",
              "      <th>4</th>\n",
              "      <td>4</td>\n",
              "      <td>excited about the great things to come from this partnership gracias to my omnicom media group familia geoffrey calabrese kelly metz amy darwish and televisaunivision daniel aversano richard bertodatti for making this happen multiculturalmarketing httpslnkdinevpbwcu</td>\n",
              "      <td>excited</td>\n",
              "      <td>1</td>\n",
              "    </tr>\n",
              "    <tr>\n",
              "      <th>...</th>\n",
              "      <td>...</td>\n",
              "      <td>...</td>\n",
              "      <td>...</td>\n",
              "      <td>...</td>\n",
              "    </tr>\n",
              "    <tr>\n",
              "      <th>2257</th>\n",
              "      <td>2579</td>\n",
              "      <td>automate testing to catch bugs earlier in your development cycle</td>\n",
              "      <td>recession2022</td>\n",
              "      <td>-1</td>\n",
              "    </tr>\n",
              "    <tr>\n",
              "      <th>2258</th>\n",
              "      <td>2580</td>\n",
              "      <td>is twitter about to go bankrupthttpslnkdingnqtxcnclayoff layoffslaidoff job today linkedin talent searchforjobs techlayoffs techjobs technews careers jobopeningw contract cc jobopportunities career recruiting openforjobopportunities recession recession recession jobsearch itrecruitmentjava phython spring springboot microservices hibernate datajpa kafka aws gcp azure javadeveloper akka scala benchsalesrecruitersdotnetdeveloper dotnet devops powerbi uideveloper networking scrummaster data opportunity opportunities fullstackdeveloper engineering techcommunity layoffsandjobreductions hiring team development grateful comment softwareengineering frontenddataanalysis businessintelligence processimprovementindustrialengineering newopportunities analyst dataengineer opentowork openforwork twitter stripe lyft amazon apple microsoft facebook tesla philips zillow convey jpmc salesforce nytimes nypost wsj layoff layoffslaidoff job todayjavafullstackdeveloper javajobs hiringimmediately hiring hiringtalent marketing project  project snap softwareengineer workleadership digitalhealth medicaldevice biotechnology projectadditionally career opportunities activelylooking talent businessintelligenceanalystinternational students cpt opt ead optead fulltimehb head tn tnvisa tnjobs hbvisa citizens gc gcead uscitizens usajobs usc usajob usa usa usa usaitjobs uscontractjobs usjobseeker usjobdataanalyst businessanalystbusinessanalysis analytics workplace outsourcedhr payroll onboardingpgmp productdevelopment programmanagement productmanagement projectmanagement productmanager programmanager culture remoteworkjobalert canadajobs fulltimeposition candidatesearch fulltimejobs jobfair jobdescription jobavailable jobchangers canada canadaworkvisa fulltime copr canadastaffing canadarecruitment canadacareers canadajobseeker canadaitjob torontocanada canadaitjobsjobhiring jobforyou jobalerts canadaprvisa canadajobseekerspermanentjobs permanentjob permanentrecruitment permanentrole opentonewopportunities torontoitjobs jobseekers recruitingjobposting linkedin openings jobvacancy jobalert jobhunters activelyhiring bulkcanadajobs informaticajobs informatica bigdata hadooptech help economy jobhunt networknyc denver colorado losangeles boston tampa florida michiganjobs oregoan sandiego houston dallas itjobs washington dallaschicago chicagojobs dfw plano dallas dallasjobs austin austinjobs cali calijobs california houston houstonjobs atlanta atlantajobsnyc newyork nycjobs newyorkjobs detroit michiganmexico mexicojobs siliconvalley</td>\n",
              "      <td>recession2022</td>\n",
              "      <td>-1</td>\n",
              "    </tr>\n",
              "    <tr>\n",
              "      <th>2259</th>\n",
              "      <td>2581</td>\n",
              "      <td>that moment when the cast of jurassicworlddominion surprised  students with free laptopsjust one of many surprises for these amazing students during an allexpensepaid trip to universal studios to launch our jurassic worldthemed steam initiative learn more about this crosscompany program with universal pictures universal parks  resorts and the council for opportunity in education to help ensure more young people have access to the resources and opportunities they need to succeed in todays digital world projectup</td>\n",
              "      <td>recession2022</td>\n",
              "      <td>-1</td>\n",
              "    </tr>\n",
              "    <tr>\n",
              "      <th>2260</th>\n",
              "      <td>2582</td>\n",
              "      <td>develop crucial skills and knowledge in browns online mph to address the many health challenges affecting the world today</td>\n",
              "      <td>recession2022</td>\n",
              "      <td>-1</td>\n",
              "    </tr>\n",
              "    <tr>\n",
              "      <th>2261</th>\n",
              "      <td>2583</td>\n",
              "      <td>propel your future forward by taking courses online to earn a graduate certificate or masters degree from stanford university learn more</td>\n",
              "      <td>recession2022</td>\n",
              "      <td>-1</td>\n",
              "    </tr>\n",
              "  </tbody>\n",
              "</table>\n",
              "<p>2255 rows × 4 columns</p>\n",
              "</div>\n",
              "      <button class=\"colab-df-convert\" onclick=\"convertToInteractive('df-d800c546-0751-4e8a-802d-289bd17924d2')\"\n",
              "              title=\"Convert this dataframe to an interactive table.\"\n",
              "              style=\"display:none;\">\n",
              "        \n",
              "  <svg xmlns=\"http://www.w3.org/2000/svg\" height=\"24px\"viewBox=\"0 0 24 24\"\n",
              "       width=\"24px\">\n",
              "    <path d=\"M0 0h24v24H0V0z\" fill=\"none\"/>\n",
              "    <path d=\"M18.56 5.44l.94 2.06.94-2.06 2.06-.94-2.06-.94-.94-2.06-.94 2.06-2.06.94zm-11 1L8.5 8.5l.94-2.06 2.06-.94-2.06-.94L8.5 2.5l-.94 2.06-2.06.94zm10 10l.94 2.06.94-2.06 2.06-.94-2.06-.94-.94-2.06-.94 2.06-2.06.94z\"/><path d=\"M17.41 7.96l-1.37-1.37c-.4-.4-.92-.59-1.43-.59-.52 0-1.04.2-1.43.59L10.3 9.45l-7.72 7.72c-.78.78-.78 2.05 0 2.83L4 21.41c.39.39.9.59 1.41.59.51 0 1.02-.2 1.41-.59l7.78-7.78 2.81-2.81c.8-.78.8-2.07 0-2.86zM5.41 20L4 18.59l7.72-7.72 1.47 1.35L5.41 20z\"/>\n",
              "  </svg>\n",
              "      </button>\n",
              "      \n",
              "  <style>\n",
              "    .colab-df-container {\n",
              "      display:flex;\n",
              "      flex-wrap:wrap;\n",
              "      gap: 12px;\n",
              "    }\n",
              "\n",
              "    .colab-df-convert {\n",
              "      background-color: #E8F0FE;\n",
              "      border: none;\n",
              "      border-radius: 50%;\n",
              "      cursor: pointer;\n",
              "      display: none;\n",
              "      fill: #1967D2;\n",
              "      height: 32px;\n",
              "      padding: 0 0 0 0;\n",
              "      width: 32px;\n",
              "    }\n",
              "\n",
              "    .colab-df-convert:hover {\n",
              "      background-color: #E2EBFA;\n",
              "      box-shadow: 0px 1px 2px rgba(60, 64, 67, 0.3), 0px 1px 3px 1px rgba(60, 64, 67, 0.15);\n",
              "      fill: #174EA6;\n",
              "    }\n",
              "\n",
              "    [theme=dark] .colab-df-convert {\n",
              "      background-color: #3B4455;\n",
              "      fill: #D2E3FC;\n",
              "    }\n",
              "\n",
              "    [theme=dark] .colab-df-convert:hover {\n",
              "      background-color: #434B5C;\n",
              "      box-shadow: 0px 1px 3px 1px rgba(0, 0, 0, 0.15);\n",
              "      filter: drop-shadow(0px 1px 2px rgba(0, 0, 0, 0.3));\n",
              "      fill: #FFFFFF;\n",
              "    }\n",
              "  </style>\n",
              "\n",
              "      <script>\n",
              "        const buttonEl =\n",
              "          document.querySelector('#df-d800c546-0751-4e8a-802d-289bd17924d2 button.colab-df-convert');\n",
              "        buttonEl.style.display =\n",
              "          google.colab.kernel.accessAllowed ? 'block' : 'none';\n",
              "\n",
              "        async function convertToInteractive(key) {\n",
              "          const element = document.querySelector('#df-d800c546-0751-4e8a-802d-289bd17924d2');\n",
              "          const dataTable =\n",
              "            await google.colab.kernel.invokeFunction('convertToInteractive',\n",
              "                                                     [key], {});\n",
              "          if (!dataTable) return;\n",
              "\n",
              "          const docLinkHtml = 'Like what you see? Visit the ' +\n",
              "            '<a target=\"_blank\" href=https://colab.research.google.com/notebooks/data_table.ipynb>data table notebook</a>'\n",
              "            + ' to learn more about interactive tables.';\n",
              "          element.innerHTML = '';\n",
              "          dataTable['output_type'] = 'display_data';\n",
              "          await google.colab.output.renderOutput(dataTable, element);\n",
              "          const docLink = document.createElement('div');\n",
              "          docLink.innerHTML = docLinkHtml;\n",
              "          element.appendChild(docLink);\n",
              "        }\n",
              "      </script>\n",
              "    </div>\n",
              "  </div>\n",
              "  "
            ]
          },
          "metadata": {},
          "execution_count": 31
        }
      ]
    },
    {
      "cell_type": "code",
      "source": [
        "unseen_complete_data['TAGS'].value_counts()"
      ],
      "metadata": {
        "id": "q05rkhMpakWt",
        "colab": {
          "base_uri": "https://localhost:8080/"
        },
        "outputId": "904b5844-e212-44df-b177-9e4b2ad4bcb0"
      },
      "execution_count": null,
      "outputs": [
        {
          "output_type": "execute_result",
          "data": {
            "text/plain": [
              "-1    1200\n",
              " 1    1055\n",
              "Name: TAGS, dtype: int64"
            ]
          },
          "metadata": {},
          "execution_count": 32
        }
      ]
    },
    {
      "cell_type": "code",
      "source": [
        "from keras.preprocessing.text import Tokenizer\n",
        "from keras_preprocessing.sequence import pad_sequences\n",
        "#max_features = 2000\n",
        "#tokenizer = Tokenizer(num_words = max_features, )\n",
        "# tokenizer = Tokenizer()\n",
        "# tokenizer.fit_on_texts(unseen_complete_data['POSTS'].values)\n",
        "X = tokenizer.texts_to_sequences(unseen_complete_data['POSTS'].values)\n",
        "X = pad_sequences(X, padding = 'post' , maxlen=100)\n",
        "Y = pd.get_dummies(unseen_complete_data['TAGS']).values\n",
        "#Y= complete_data['TAGS'].values\n",
        "\n",
        "vocab_size = len(tokenizer.word_index)+1"
      ],
      "metadata": {
        "id": "B2dlaosbakWt"
      },
      "execution_count": null,
      "outputs": []
    },
    {
      "cell_type": "code",
      "source": [
        "embedding_matrix = np.zeros((vocab_size,300))\n",
        "for word,i in tqdm(tokenizer.word_index.items()):\n",
        "    embedding_value = model.get_word_vector(word)\n",
        "    embedding_matrix[i] = embedding_value"
      ],
      "metadata": {
        "colab": {
          "base_uri": "https://localhost:8080/"
        },
        "outputId": "b1ed377c-1a54-4385-a314-475045ac2f7a",
        "id": "2FBSn--aakWu"
      },
      "execution_count": null,
      "outputs": [
        {
          "output_type": "stream",
          "name": "stderr",
          "text": [
            "100%|██████████| 92516/92516 [00:02<00:00, 33315.13it/s]\n"
          ]
        }
      ]
    },
    {
      "cell_type": "code",
      "source": [
        "Y_test_new_unseen=[]\n",
        "for val in Y:\n",
        "  if val[0]==1:\n",
        "    Y_test_new_unseen.append(0)\n",
        "  else:\n",
        "    Y_test_new_unseen.append(1)"
      ],
      "metadata": {
        "id": "IH92y-KfakWu"
      },
      "execution_count": null,
      "outputs": []
    },
    {
      "cell_type": "code",
      "source": [
        "from sklearn.metrics import classification_report\n",
        "\n",
        "y_pred_unseen = vanilla_lstm_model.predict(X, batch_size=10, verbose=1)\n",
        "y_pred_bool_unseen = np.argmax(y_pred_unseen, axis=1)\n",
        "\n",
        "print(classification_report(Y_test_new_unseen, y_pred_bool_unseen))\n"
      ],
      "metadata": {
        "colab": {
          "base_uri": "https://localhost:8080/"
        },
        "outputId": "260552f1-9da9-46dc-a989-93648fc1426c",
        "id": "rphMhzwqakWv"
      },
      "execution_count": null,
      "outputs": [
        {
          "output_type": "stream",
          "name": "stdout",
          "text": [
            "226/226 [==============================] - 13s 57ms/step\n",
            "              precision    recall  f1-score   support\n",
            "\n",
            "           0       0.81      0.92      0.86      1200\n",
            "           1       0.90      0.75      0.82      1055\n",
            "\n",
            "    accuracy                           0.84      2255\n",
            "   macro avg       0.85      0.84      0.84      2255\n",
            "weighted avg       0.85      0.84      0.84      2255\n",
            "\n"
          ]
        }
      ]
    },
    {
      "cell_type": "markdown",
      "source": [
        "**Vanilla LSTM model with Glove Embeddings**"
      ],
      "metadata": {
        "id": "60ywTOmFa05b"
      }
    },
    {
      "cell_type": "code",
      "source": [
        "import tensorflow as tf\n",
        "from tensorflow import keras\n",
        "from tensorflow.keras import layers\n",
        "from tensorflow.keras import losses\n",
        "from tensorflow.keras import preprocessing\n",
        "from tensorflow.keras import utils\n",
        "from tensorflow.keras.layers.experimental.preprocessing import TextVectorization\n",
        "\n",
        "\n",
        "from keras.layers import Dense, Embedding, LSTM, SpatialDropout1D, Bidirectional, Dropout\n",
        "embid_dim = 300\n",
        "lstm_out = 128\n",
        "glove_vanialla_lstm_model = keras.Sequential()\n",
        "glove_vanialla_lstm_model.add(Embedding(vocab_size, embid_dim, weights = [glove_embedding_matrix] , trainable = False))\n",
        "glove_vanialla_lstm_model.add(LSTM(lstm_out, dropout=0.2))\n",
        "glove_vanialla_lstm_model.add(Dense(128, activation = 'relu'))\n",
        "glove_vanialla_lstm_model.add(Dropout(0.5))\n",
        "glove_vanialla_lstm_model.add(Dense(64, activation = 'relu'))\n",
        "glove_vanialla_lstm_model.add(Dense(2, activation = 'softmax'))  #if used pd.get dummies above\n",
        "glove_vanialla_lstm_model.summary()"
      ],
      "metadata": {
        "colab": {
          "base_uri": "https://localhost:8080/"
        },
        "outputId": "99461721-49c4-43aa-94e6-dacd0fd11a36",
        "id": "OU8nrx6Z5UsI"
      },
      "execution_count": null,
      "outputs": [
        {
          "output_type": "stream",
          "name": "stdout",
          "text": [
            "Model: \"sequential_11\"\n",
            "_________________________________________________________________\n",
            " Layer (type)                Output Shape              Param #   \n",
            "=================================================================\n",
            " embedding_11 (Embedding)    (None, None, 300)         27755100  \n",
            "                                                                 \n",
            " lstm_14 (LSTM)              (None, 128)               219648    \n",
            "                                                                 \n",
            " dense_28 (Dense)            (None, 128)               16512     \n",
            "                                                                 \n",
            " dropout_8 (Dropout)         (None, 128)               0         \n",
            "                                                                 \n",
            " dense_29 (Dense)            (None, 64)                8256      \n",
            "                                                                 \n",
            " dense_30 (Dense)            (None, 2)                 130       \n",
            "                                                                 \n",
            "=================================================================\n",
            "Total params: 27,999,646\n",
            "Trainable params: 244,546\n",
            "Non-trainable params: 27,755,100\n",
            "_________________________________________________________________\n"
          ]
        }
      ]
    },
    {
      "cell_type": "code",
      "source": [
        "early_stopping_monitor = tf.keras.callbacks.EarlyStopping(\n",
        "    monitor='val_loss',\n",
        "    min_delta=0,\n",
        "    patience=10,\n",
        "    verbose=0,\n",
        "    mode='auto',\n",
        "    baseline=None,\n",
        "    restore_best_weights=True\n",
        ")\n",
        "batch_size = 200\n",
        "glove_vanialla_lstm_model.compile(loss = 'binary_crossentropy', optimizer='adam',metrics = ['accuracy'])\n",
        "history = glove_vanialla_lstm_model.fit(X_train, Y_train, epochs = 50, batch_size=batch_size, verbose = 1, callbacks=[early_stopping_monitor], validation_data =(X_test, Y_test))"
      ],
      "metadata": {
        "colab": {
          "base_uri": "https://localhost:8080/"
        },
        "outputId": "43396400-f4a9-4cf4-d1fe-417b2643d960",
        "id": "uN1HEmXQ5UsO"
      },
      "execution_count": null,
      "outputs": [
        {
          "output_type": "stream",
          "name": "stdout",
          "text": [
            "Epoch 1/50\n",
            "54/54 [==============================] - 49s 854ms/step - loss: 0.5955 - accuracy: 0.6646 - val_loss: 0.4536 - val_accuracy: 0.7902\n",
            "Epoch 2/50\n",
            "54/54 [==============================] - 41s 748ms/step - loss: 0.4195 - accuracy: 0.7996 - val_loss: 0.3922 - val_accuracy: 0.8175\n",
            "Epoch 3/50\n",
            "54/54 [==============================] - 38s 713ms/step - loss: 0.4299 - accuracy: 0.7865 - val_loss: 0.4367 - val_accuracy: 0.7938\n",
            "Epoch 4/50\n",
            "54/54 [==============================] - 38s 703ms/step - loss: 0.3640 - accuracy: 0.8218 - val_loss: 0.3625 - val_accuracy: 0.8086\n",
            "Epoch 5/50\n",
            "54/54 [==============================] - 39s 720ms/step - loss: 0.3281 - accuracy: 0.8340 - val_loss: 0.3501 - val_accuracy: 0.8395\n",
            "Epoch 6/50\n",
            "54/54 [==============================] - 39s 718ms/step - loss: 0.3067 - accuracy: 0.8527 - val_loss: 0.3762 - val_accuracy: 0.8097\n",
            "Epoch 7/50\n",
            "54/54 [==============================] - 42s 789ms/step - loss: 0.3020 - accuracy: 0.8506 - val_loss: 0.3471 - val_accuracy: 0.8514\n",
            "Epoch 8/50\n",
            "54/54 [==============================] - 39s 718ms/step - loss: 0.2853 - accuracy: 0.8588 - val_loss: 0.3394 - val_accuracy: 0.8442\n",
            "Epoch 9/50\n",
            "54/54 [==============================] - 38s 705ms/step - loss: 0.2683 - accuracy: 0.8734 - val_loss: 0.3337 - val_accuracy: 0.8470\n",
            "Epoch 10/50\n",
            "54/54 [==============================] - 38s 712ms/step - loss: 0.2550 - accuracy: 0.8785 - val_loss: 0.3159 - val_accuracy: 0.8475\n",
            "Epoch 11/50\n",
            "54/54 [==============================] - 38s 712ms/step - loss: 0.2405 - accuracy: 0.8873 - val_loss: 0.3130 - val_accuracy: 0.8573\n",
            "Epoch 12/50\n",
            "54/54 [==============================] - 42s 778ms/step - loss: 0.2251 - accuracy: 0.9006 - val_loss: 0.3445 - val_accuracy: 0.8559\n",
            "Epoch 13/50\n",
            "54/54 [==============================] - 38s 702ms/step - loss: 0.2115 - accuracy: 0.9026 - val_loss: 0.3326 - val_accuracy: 0.8545\n",
            "Epoch 14/50\n",
            "54/54 [==============================] - 38s 701ms/step - loss: 0.2037 - accuracy: 0.9057 - val_loss: 0.3198 - val_accuracy: 0.8561\n",
            "Epoch 15/50\n",
            "54/54 [==============================] - 38s 698ms/step - loss: 0.2094 - accuracy: 0.9059 - val_loss: 0.3141 - val_accuracy: 0.8536\n",
            "Epoch 16/50\n",
            "54/54 [==============================] - 42s 776ms/step - loss: 0.1978 - accuracy: 0.9123 - val_loss: 0.3447 - val_accuracy: 0.8659\n",
            "Epoch 17/50\n",
            "54/54 [==============================] - 38s 702ms/step - loss: 0.1888 - accuracy: 0.9175 - val_loss: 0.3489 - val_accuracy: 0.8592\n",
            "Epoch 18/50\n",
            "54/54 [==============================] - 38s 711ms/step - loss: 0.1680 - accuracy: 0.9286 - val_loss: 0.3783 - val_accuracy: 0.8548\n",
            "Epoch 19/50\n",
            "54/54 [==============================] - 40s 752ms/step - loss: 0.1582 - accuracy: 0.9369 - val_loss: 0.3935 - val_accuracy: 0.8595\n",
            "Epoch 20/50\n",
            "54/54 [==============================] - 39s 714ms/step - loss: 0.1581 - accuracy: 0.9318 - val_loss: 0.4798 - val_accuracy: 0.8614\n",
            "Epoch 21/50\n",
            "54/54 [==============================] - 38s 701ms/step - loss: 0.1522 - accuracy: 0.9418 - val_loss: 0.3348 - val_accuracy: 0.8553\n"
          ]
        }
      ]
    },
    {
      "cell_type": "code",
      "source": [
        "glove_vanialla_lstm_model.save('/content/gdrive/MyDrive/Colab Notebooks/Glove')"
      ],
      "metadata": {
        "colab": {
          "base_uri": "https://localhost:8080/"
        },
        "outputId": "fd9035f5-a06e-4e5d-df27-26b922b18978",
        "id": "JSd6_eLI5UsO"
      },
      "execution_count": null,
      "outputs": [
        {
          "output_type": "stream",
          "name": "stderr",
          "text": [
            "WARNING:absl:Found untraced functions such as lstm_cell_16_layer_call_fn, lstm_cell_16_layer_call_and_return_conditional_losses while saving (showing 2 of 2). These functions will not be directly callable after loading.\n"
          ]
        }
      ]
    },
    {
      "cell_type": "code",
      "source": [
        "glove_vanialla_lstm_model = tf.keras.models.load_model('/content/gdrive/MyDrive/Colab Notebooks/Glove')\n",
        "\n",
        "glove_vanialla_lstm_model.summary()"
      ],
      "metadata": {
        "colab": {
          "base_uri": "https://localhost:8080/"
        },
        "outputId": "b115440b-0075-438f-f447-17cb82a239bf",
        "id": "-uOU3ecH5UsO"
      },
      "execution_count": null,
      "outputs": [
        {
          "output_type": "stream",
          "name": "stdout",
          "text": [
            "Model: \"sequential_11\"\n",
            "_________________________________________________________________\n",
            " Layer (type)                Output Shape              Param #   \n",
            "=================================================================\n",
            " embedding_11 (Embedding)    (None, None, 300)         27755100  \n",
            "                                                                 \n",
            " lstm_14 (LSTM)              (None, 128)               219648    \n",
            "                                                                 \n",
            " dense_28 (Dense)            (None, 128)               16512     \n",
            "                                                                 \n",
            " dropout_8 (Dropout)         (None, 128)               0         \n",
            "                                                                 \n",
            " dense_29 (Dense)            (None, 64)                8256      \n",
            "                                                                 \n",
            " dense_30 (Dense)            (None, 2)                 130       \n",
            "                                                                 \n",
            "=================================================================\n",
            "Total params: 27,999,646\n",
            "Trainable params: 244,546\n",
            "Non-trainable params: 27,755,100\n",
            "_________________________________________________________________\n"
          ]
        }
      ]
    },
    {
      "cell_type": "code",
      "source": [
        "Y_test_new=[]\n",
        "for val in Y_test:\n",
        "  if val[0]==1:\n",
        "    Y_test_new.append(0)\n",
        "  else:\n",
        "    Y_test_new.append(1)"
      ],
      "metadata": {
        "id": "auYeSmeD5UsO"
      },
      "execution_count": null,
      "outputs": []
    },
    {
      "cell_type": "code",
      "source": [
        "from sklearn.metrics import classification_report\n",
        "\n",
        "y_pred = glove_vanialla_lstm_model.predict(X_test, batch_size=64, verbose=1)\n",
        "y_pred_bool = np.argmax(y_pred, axis=1)\n",
        "\n",
        "print(classification_report(Y_test_new, y_pred_bool))\n"
      ],
      "metadata": {
        "colab": {
          "base_uri": "https://localhost:8080/"
        },
        "outputId": "9a0678bc-fbb8-4bf3-8f16-d3812601f57d",
        "id": "33DrBOjQ5UsO"
      },
      "execution_count": null,
      "outputs": [
        {
          "output_type": "stream",
          "name": "stdout",
          "text": [
            "57/57 [==============================] - 7s 109ms/step\n",
            "              precision    recall  f1-score   support\n",
            "\n",
            "           0       0.86      0.91      0.88      2114\n",
            "           1       0.86      0.78      0.82      1480\n",
            "\n",
            "    accuracy                           0.86      3594\n",
            "   macro avg       0.86      0.85      0.85      3594\n",
            "weighted avg       0.86      0.86      0.86      3594\n",
            "\n"
          ]
        }
      ]
    },
    {
      "cell_type": "markdown",
      "source": [
        "**Vaniall LSTM with Glove Embeddings on Unseen Test Data**"
      ],
      "metadata": {
        "id": "ZKugNt3d9fWw"
      }
    },
    {
      "cell_type": "code",
      "execution_count": null,
      "metadata": {
        "id": "KfnFDWJQ9wP-"
      },
      "outputs": [],
      "source": [
        "#convert to lowercase\n",
        "unseen_complete_data['POSTS']=unseen_complete_data['POSTS'].str.lower()"
      ]
    },
    {
      "cell_type": "code",
      "execution_count": null,
      "metadata": {
        "id": "pdcb9ZjA9wP_"
      },
      "outputs": [],
      "source": [
        "#remove html content\n",
        "unseen_complete_data['POSTS'] = unseen_complete_data['POSTS'].apply(lambda x: re.split('<[^<>]*>', str(x))[0])"
      ]
    },
    {
      "cell_type": "code",
      "execution_count": null,
      "metadata": {
        "id": "ICMc39wL9wP_"
      },
      "outputs": [],
      "source": [
        "def contr(post_text):\n",
        "     posts_body_list=[]\n",
        "     for r in post_text:\n",
        "         decontract_posts_body = contractions.fix(r)\n",
        "         r = ''.join(decontract_posts_body)\n",
        "         r = re.sub(\"\\s\\s+\", \" \", r) # remove extra spaces\n",
        "         posts_body_list.append(r)\n",
        "     return posts_body_list"
      ]
    },
    {
      "cell_type": "code",
      "execution_count": null,
      "metadata": {
        "id": "lz_CfoaS9wP_"
      },
      "outputs": [],
      "source": [
        "unseen_complete_data['POSTS']=contr(unseen_complete_data['POSTS'].values)"
      ]
    },
    {
      "cell_type": "code",
      "execution_count": null,
      "metadata": {
        "id": "chMANCVt9wP_"
      },
      "outputs": [],
      "source": [
        "#remove non-alphabetical values\n",
        "unseen_complete_data['POSTS'] = unseen_complete_data['POSTS'].replace('[^a-zA-Z ]', '', regex=True)"
      ]
    },
    {
      "cell_type": "code",
      "execution_count": null,
      "metadata": {
        "id": "TCTXVOUB9wQA"
      },
      "outputs": [],
      "source": [
        "import numpy as np\n",
        "unseen_complete_data['TAGS']=np.where( (unseen_complete_data['LABEL']=='excited') | (unseen_complete_data['LABEL']=='hiring') | (unseen_complete_data['LABEL']=='positivity') | (unseen_complete_data['LABEL']=='positivevibes') | (unseen_complete_data['LABEL']=='grateful') | (unseen_complete_data['LABEL']=='newjob') | (unseen_complete_data['LABEL']=='blessed') | (unseen_complete_data['LABEL']=='happy') | (unseen_complete_data['LABEL']=='lmao') | (unseen_complete_data['LABEL']=='funny') | (unseen_complete_data['LABEL']=='fun') | (unseen_complete_data['LABEL']=='lol') , 1, -1)"
      ]
    },
    {
      "cell_type": "code",
      "source": [
        "unseen_complete_data=unseen_complete_data.drop_duplicates(keep='last').reset_index()"
      ],
      "metadata": {
        "id": "Uan0hhHo9wQA"
      },
      "execution_count": null,
      "outputs": []
    },
    {
      "cell_type": "code",
      "source": [
        "unseen_complete_data['POSTS'].replace('', np.nan, inplace=True)\n",
        "unseen_complete_data.dropna(subset=['POSTS'], inplace=True)\n",
        "unseen_complete_data"
      ],
      "metadata": {
        "colab": {
          "base_uri": "https://localhost:8080/",
          "height": 936
        },
        "outputId": "305b1921-1489-4ead-828e-a8c50e35e59e",
        "id": "6jo-d0LO9wQA"
      },
      "execution_count": null,
      "outputs": [
        {
          "output_type": "execute_result",
          "data": {
            "text/plain": [
              "      level_0  index  \\\n",
              "0           0      0   \n",
              "1           1      1   \n",
              "2           2      2   \n",
              "3           3      3   \n",
              "4           4      4   \n",
              "...       ...    ...   \n",
              "2250     2257   2579   \n",
              "2251     2258   2580   \n",
              "2252     2259   2581   \n",
              "2253     2260   2582   \n",
              "2254     2261   2583   \n",
              "\n",
              "                                                                                                                                                                                                                                                                                                                                                                                                                                                                                                                                                                                                                                                                                                                                                                                                                                                                                                                                                                                                                                                                                                                                                                                                                                                                                                                                                                                                                                                                                                                                                                                                                                                                                                                                                                                                                                                                                                                                                                                                                                                                                                                                                                                                                                                                                                                                                                                                                                                                                                                                                                                                                                      POSTS  \\\n",
              "0                                                                                                                                                                                                                                                                                                                                                                                                                                                                                                                                                                                                                                                                                                                                                                                                                                                                                                                                                                                                                                                                                                                                                                                                                                                                                                                                                                                                                                                                                                                                                                                                                                                                                                                                                                                                                                                                                                                                                                                                                                                                                                                                                                                                                                                                                                                                                                                                                                                                                                                                                             does excel run on mac you bet so do word powerpoint and all the apps you need   \n",
              "1                                                                                                                                                                                                                                                                                                                                                                                                                                                                                                                                                                                                                                                                                                                                                                                                                                                                                                                                                                                                                                                                                                                                                                                                                                                                                                                                                                                                                                                                                                                                                                                                                                                                                                                                                                                                                                                                                                                                                                                                                                                                                                                                                                                                                                                                                                                                                                                                                                                                                                                                       i am about to start a new role at capgemini and containing myself is a real issuedo not ask excited   \n",
              "2                                                                                                                                                                                                                                                                                                                                                                                                                                                                                                                                                                                                                                                                                                                                                                                                                                                                                                                                                                                                                                                                                                                                                                                                                                                                                                                                                                                                                                                                                                                                                                                                                                                                                                                                                                                                                                                                                                                                                                                                                                                                                                                                                                                                                                                                                                                                                                                                                                                                                                                                                                                                                       new chapter excited   \n",
              "3                                                                                                                                                                                                                                                                                                                                                                                                                                                                                                                                                                                                                                                                                                                                                                                                                                                     flying away from the nest and setting off for new adventures on the other side of the planet this day marks a couple of important milestones my first post ever on linkedin is this really a milestone my last day working at nestl the beginning of a new and exciting journey i am thrilled to announce that i will be moving to new zealand as of february excited driven by the willingness to enrich ourselves as individuals to go out of our comfort zone to experience a new professional and personal environment and to discover new outdoor experiences my partner and i have decided to take that step and why notsince i graduated from isipca in the past decade at nestl wow this sounds like a lot which started with a years internship has been incredibly rich and i feel very lucky for all the projects and experiences i went through i met inspiring people and worked on innovative projects from being part of the nestl rd accelerator to the nesqino journey and plenty of other initiatives i enjoyed the diversity of projects activities and challengesthe journey has also sometimes been punctuated with some doubts and questions which were essential to go the extra mile those who know me know that i am always eager to learn new things i do not know yet what will come next and i am very curious to see what the future will bring the next two months will be busy organizing the move and solving admin stuff enjoying time with family and friends recharging and settling in new zealand i will be available for work as of february and i cannot wait to discover what new zealand has to offer i would love to start discussions about expatriation experiences tips about new zealand potential work opportunities including remote    \n",
              "4                                                                                                                                                                                                                                                                                                                                                                                                                                                                                                                                                                                                                                                                                                                                                                                                                                                                                                                                                                                                                                                                                                                                                                                                                                                                                                                                                                                                                                                                                                                                                                                                                                                                                                                                                                                                                                                                                                                                                                                                                                                                                                                                                                                                                                                                                                                                                                excited about the great things to come from this partnership gracias to my omnicom media group familia geoffrey calabrese kelly metz amy darwish and televisaunivision daniel aversano richard bertodatti for making this happen multiculturalmarketing httpslnkdinevpbwcu   \n",
              "...                                                                                                                                                                                                                                                                                                                                                                                                                                                                                                                                                                                                                                                                                                                                                                                                                                                                                                                                                                                                                                                                                                                                                                                                                                                                                                                                                                                                                                                                                                                                                                                                                                                                                                                                                                                                                                                                                                                                                                                                                                                                                                                                                                                                                                                                                                                                                                                                                                                                                                                                                                                                                                     ...   \n",
              "2250                                                                                                                                                                                                                                                                                                                                                                                                                                                                                                                                                                                                                                                                                                                                                                                                                                                                                                                                                                                                                                                                                                                                                                                                                                                                                                                                                                                                                                                                                                                                                                                                                                                                                                                                                                                                                                                                                                                                                                                                                                                                                                                                                                                                                                                                                                                                                                                                                                                                                                                                                                       automate testing to catch bugs earlier in your development cycle   \n",
              "2251  is twitter about to go bankrupthttpslnkdingnqtxcnclayoff layoffslaidoff job today linkedin talent searchforjobs techlayoffs techjobs technews careers jobopeningw contract cc jobopportunities career recruiting openforjobopportunities recession recession recession jobsearch itrecruitmentjava phython spring springboot microservices hibernate datajpa kafka aws gcp azure javadeveloper akka scala benchsalesrecruitersdotnetdeveloper dotnet devops powerbi uideveloper networking scrummaster data opportunity opportunities fullstackdeveloper engineering techcommunity layoffsandjobreductions hiring team development grateful comment softwareengineering frontenddataanalysis businessintelligence processimprovementindustrialengineering newopportunities analyst dataengineer opentowork openforwork twitter stripe lyft amazon apple microsoft facebook tesla philips zillow convey jpmc salesforce nytimes nypost wsj layoff layoffslaidoff job todayjavafullstackdeveloper javajobs hiringimmediately hiring hiringtalent marketing project project snap softwareengineer workleadership digitalhealth medicaldevice biotechnology projectadditionally career opportunities activelylooking talent businessintelligenceanalystinternational students cpt opt ead optead fulltimehb head tn tnvisa tnjobs hbvisa citizens gc gcead uscitizens usajobs usc usajob usa usa usa usaitjobs uscontractjobs usjobseeker usjobdataanalyst businessanalystbusinessanalysis analytics workplace outsourcedhr payroll onboardingpgmp productdevelopment programmanagement productmanagement projectmanagement productmanager programmanager culture remoteworkjobalert canadajobs fulltimeposition candidatesearch fulltimejobs jobfair jobdescription jobavailable jobchangers canada canadaworkvisa fulltime copr canadastaffing canadarecruitment canadacareers canadajobseeker canadaitjob torontocanada canadaitjobsjobhiring jobforyou jobalerts canadaprvisa canadajobseekerspermanentjobs permanentjob permanentrecruitment permanentrole opentonewopportunities torontoitjobs jobseekers recruitingjobposting linkedin openings jobvacancy jobalert jobhunters activelyhiring bulkcanadajobs informaticajobs informatica bigdata hadooptech help economy jobhunt networknyc denver colorado losangeles boston tampa florida michiganjobs oregoan sandiego houston dallas itjobs washington dallaschicago chicagojobs dfw plano dallas dallasjobs austin austinjobs cali calijobs california houston houstonjobs atlanta atlantajobsnyc newyork nycjobs newyorkjobs detroit michiganmexico mexicojobs siliconvalley   \n",
              "2252                                                                                                                                                                                                                                                                                                                                                                                                                                                                                                                                                                                                                                                                                                                                                                                                                                                                                                                                                                                                                                                                                                                                                                                                                                                                                                                                                                                                                                                                                                                                                                                                                                                                                                                                                                                                                                                                                                                                                                                                                                                                                                     that moment when the cast of jurassicworlddominion surprised students with free laptopsjust one of many surprises for these amazing students during an allexpensepaid trip to universal studios to launch our jurassic worldthemed steam initiative learn more about this crosscompany program with universal pictures universal parks resorts and the council for opportunity in education to help ensure more young people have access to the resources and opportunities they need to succeed in todays digital world projectup   \n",
              "2253                                                                                                                                                                                                                                                                                                                                                                                                                                                                                                                                                                                                                                                                                                                                                                                                                                                                                                                                                                                                                                                                                                                                                                                                                                                                                                                                                                                                                                                                                                                                                                                                                                                                                                                                                                                                                                                                                                                                                                                                                                                                                                                                                                                                                                                                                                                                                                                                                                                                                                              develop crucial skills and knowledge in browns online mph to address the many health challenges affecting the world today   \n",
              "2254                                                                                                                                                                                                                                                                                                                                                                                                                                                                                                                                                                                                                                                                                                                                                                                                                                                                                                                                                                                                                                                                                                                                                                                                                                                                                                                                                                                                                                                                                                                                                                                                                                                                                                                                                                                                                                                                                                                                                                                                                                                                                                                                                                                                                                                                                                                                                                                                                                                                                               propel your future forward by taking courses online to earn a graduate certificate or masters degree from stanford university learn more   \n",
              "\n",
              "              LABEL  TAGS  \n",
              "0           excited     1  \n",
              "1           excited     1  \n",
              "2           excited     1  \n",
              "3           excited     1  \n",
              "4           excited     1  \n",
              "...             ...   ...  \n",
              "2250  recession2022    -1  \n",
              "2251  recession2022    -1  \n",
              "2252  recession2022    -1  \n",
              "2253  recession2022    -1  \n",
              "2254  recession2022    -1  \n",
              "\n",
              "[2255 rows x 5 columns]"
            ],
            "text/html": [
              "\n",
              "  <div id=\"df-ff83dbb6-96e5-4ad4-b75a-756f2be6e104\">\n",
              "    <div class=\"colab-df-container\">\n",
              "      <div>\n",
              "<style scoped>\n",
              "    .dataframe tbody tr th:only-of-type {\n",
              "        vertical-align: middle;\n",
              "    }\n",
              "\n",
              "    .dataframe tbody tr th {\n",
              "        vertical-align: top;\n",
              "    }\n",
              "\n",
              "    .dataframe thead th {\n",
              "        text-align: right;\n",
              "    }\n",
              "</style>\n",
              "<table border=\"1\" class=\"dataframe\">\n",
              "  <thead>\n",
              "    <tr style=\"text-align: right;\">\n",
              "      <th></th>\n",
              "      <th>level_0</th>\n",
              "      <th>index</th>\n",
              "      <th>POSTS</th>\n",
              "      <th>LABEL</th>\n",
              "      <th>TAGS</th>\n",
              "    </tr>\n",
              "  </thead>\n",
              "  <tbody>\n",
              "    <tr>\n",
              "      <th>0</th>\n",
              "      <td>0</td>\n",
              "      <td>0</td>\n",
              "      <td>does excel run on mac you bet so do word powerpoint and all the apps you need</td>\n",
              "      <td>excited</td>\n",
              "      <td>1</td>\n",
              "    </tr>\n",
              "    <tr>\n",
              "      <th>1</th>\n",
              "      <td>1</td>\n",
              "      <td>1</td>\n",
              "      <td>i am about to start a new role at capgemini and containing myself is a real issuedo not ask excited</td>\n",
              "      <td>excited</td>\n",
              "      <td>1</td>\n",
              "    </tr>\n",
              "    <tr>\n",
              "      <th>2</th>\n",
              "      <td>2</td>\n",
              "      <td>2</td>\n",
              "      <td>new chapter excited</td>\n",
              "      <td>excited</td>\n",
              "      <td>1</td>\n",
              "    </tr>\n",
              "    <tr>\n",
              "      <th>3</th>\n",
              "      <td>3</td>\n",
              "      <td>3</td>\n",
              "      <td>flying away from the nest and setting off for new adventures on the other side of the planet this day marks a couple of important milestones my first post ever on linkedin is this really a milestone my last day working at nestl the beginning of a new and exciting journey i am thrilled to announce that i will be moving to new zealand as of february excited driven by the willingness to enrich ourselves as individuals to go out of our comfort zone to experience a new professional and personal environment and to discover new outdoor experiences my partner and i have decided to take that step and why notsince i graduated from isipca in the past decade at nestl wow this sounds like a lot which started with a years internship has been incredibly rich and i feel very lucky for all the projects and experiences i went through i met inspiring people and worked on innovative projects from being part of the nestl rd accelerator to the nesqino journey and plenty of other initiatives i enjoyed the diversity of projects activities and challengesthe journey has also sometimes been punctuated with some doubts and questions which were essential to go the extra mile those who know me know that i am always eager to learn new things i do not know yet what will come next and i am very curious to see what the future will bring the next two months will be busy organizing the move and solving admin stuff enjoying time with family and friends recharging and settling in new zealand i will be available for work as of february and i cannot wait to discover what new zealand has to offer i would love to start discussions about expatriation experiences tips about new zealand potential work opportunities including remote</td>\n",
              "      <td>excited</td>\n",
              "      <td>1</td>\n",
              "    </tr>\n",
              "    <tr>\n",
              "      <th>4</th>\n",
              "      <td>4</td>\n",
              "      <td>4</td>\n",
              "      <td>excited about the great things to come from this partnership gracias to my omnicom media group familia geoffrey calabrese kelly metz amy darwish and televisaunivision daniel aversano richard bertodatti for making this happen multiculturalmarketing httpslnkdinevpbwcu</td>\n",
              "      <td>excited</td>\n",
              "      <td>1</td>\n",
              "    </tr>\n",
              "    <tr>\n",
              "      <th>...</th>\n",
              "      <td>...</td>\n",
              "      <td>...</td>\n",
              "      <td>...</td>\n",
              "      <td>...</td>\n",
              "      <td>...</td>\n",
              "    </tr>\n",
              "    <tr>\n",
              "      <th>2250</th>\n",
              "      <td>2257</td>\n",
              "      <td>2579</td>\n",
              "      <td>automate testing to catch bugs earlier in your development cycle</td>\n",
              "      <td>recession2022</td>\n",
              "      <td>-1</td>\n",
              "    </tr>\n",
              "    <tr>\n",
              "      <th>2251</th>\n",
              "      <td>2258</td>\n",
              "      <td>2580</td>\n",
              "      <td>is twitter about to go bankrupthttpslnkdingnqtxcnclayoff layoffslaidoff job today linkedin talent searchforjobs techlayoffs techjobs technews careers jobopeningw contract cc jobopportunities career recruiting openforjobopportunities recession recession recession jobsearch itrecruitmentjava phython spring springboot microservices hibernate datajpa kafka aws gcp azure javadeveloper akka scala benchsalesrecruitersdotnetdeveloper dotnet devops powerbi uideveloper networking scrummaster data opportunity opportunities fullstackdeveloper engineering techcommunity layoffsandjobreductions hiring team development grateful comment softwareengineering frontenddataanalysis businessintelligence processimprovementindustrialengineering newopportunities analyst dataengineer opentowork openforwork twitter stripe lyft amazon apple microsoft facebook tesla philips zillow convey jpmc salesforce nytimes nypost wsj layoff layoffslaidoff job todayjavafullstackdeveloper javajobs hiringimmediately hiring hiringtalent marketing project project snap softwareengineer workleadership digitalhealth medicaldevice biotechnology projectadditionally career opportunities activelylooking talent businessintelligenceanalystinternational students cpt opt ead optead fulltimehb head tn tnvisa tnjobs hbvisa citizens gc gcead uscitizens usajobs usc usajob usa usa usa usaitjobs uscontractjobs usjobseeker usjobdataanalyst businessanalystbusinessanalysis analytics workplace outsourcedhr payroll onboardingpgmp productdevelopment programmanagement productmanagement projectmanagement productmanager programmanager culture remoteworkjobalert canadajobs fulltimeposition candidatesearch fulltimejobs jobfair jobdescription jobavailable jobchangers canada canadaworkvisa fulltime copr canadastaffing canadarecruitment canadacareers canadajobseeker canadaitjob torontocanada canadaitjobsjobhiring jobforyou jobalerts canadaprvisa canadajobseekerspermanentjobs permanentjob permanentrecruitment permanentrole opentonewopportunities torontoitjobs jobseekers recruitingjobposting linkedin openings jobvacancy jobalert jobhunters activelyhiring bulkcanadajobs informaticajobs informatica bigdata hadooptech help economy jobhunt networknyc denver colorado losangeles boston tampa florida michiganjobs oregoan sandiego houston dallas itjobs washington dallaschicago chicagojobs dfw plano dallas dallasjobs austin austinjobs cali calijobs california houston houstonjobs atlanta atlantajobsnyc newyork nycjobs newyorkjobs detroit michiganmexico mexicojobs siliconvalley</td>\n",
              "      <td>recession2022</td>\n",
              "      <td>-1</td>\n",
              "    </tr>\n",
              "    <tr>\n",
              "      <th>2252</th>\n",
              "      <td>2259</td>\n",
              "      <td>2581</td>\n",
              "      <td>that moment when the cast of jurassicworlddominion surprised students with free laptopsjust one of many surprises for these amazing students during an allexpensepaid trip to universal studios to launch our jurassic worldthemed steam initiative learn more about this crosscompany program with universal pictures universal parks resorts and the council for opportunity in education to help ensure more young people have access to the resources and opportunities they need to succeed in todays digital world projectup</td>\n",
              "      <td>recession2022</td>\n",
              "      <td>-1</td>\n",
              "    </tr>\n",
              "    <tr>\n",
              "      <th>2253</th>\n",
              "      <td>2260</td>\n",
              "      <td>2582</td>\n",
              "      <td>develop crucial skills and knowledge in browns online mph to address the many health challenges affecting the world today</td>\n",
              "      <td>recession2022</td>\n",
              "      <td>-1</td>\n",
              "    </tr>\n",
              "    <tr>\n",
              "      <th>2254</th>\n",
              "      <td>2261</td>\n",
              "      <td>2583</td>\n",
              "      <td>propel your future forward by taking courses online to earn a graduate certificate or masters degree from stanford university learn more</td>\n",
              "      <td>recession2022</td>\n",
              "      <td>-1</td>\n",
              "    </tr>\n",
              "  </tbody>\n",
              "</table>\n",
              "<p>2255 rows × 5 columns</p>\n",
              "</div>\n",
              "      <button class=\"colab-df-convert\" onclick=\"convertToInteractive('df-ff83dbb6-96e5-4ad4-b75a-756f2be6e104')\"\n",
              "              title=\"Convert this dataframe to an interactive table.\"\n",
              "              style=\"display:none;\">\n",
              "        \n",
              "  <svg xmlns=\"http://www.w3.org/2000/svg\" height=\"24px\"viewBox=\"0 0 24 24\"\n",
              "       width=\"24px\">\n",
              "    <path d=\"M0 0h24v24H0V0z\" fill=\"none\"/>\n",
              "    <path d=\"M18.56 5.44l.94 2.06.94-2.06 2.06-.94-2.06-.94-.94-2.06-.94 2.06-2.06.94zm-11 1L8.5 8.5l.94-2.06 2.06-.94-2.06-.94L8.5 2.5l-.94 2.06-2.06.94zm10 10l.94 2.06.94-2.06 2.06-.94-2.06-.94-.94-2.06-.94 2.06-2.06.94z\"/><path d=\"M17.41 7.96l-1.37-1.37c-.4-.4-.92-.59-1.43-.59-.52 0-1.04.2-1.43.59L10.3 9.45l-7.72 7.72c-.78.78-.78 2.05 0 2.83L4 21.41c.39.39.9.59 1.41.59.51 0 1.02-.2 1.41-.59l7.78-7.78 2.81-2.81c.8-.78.8-2.07 0-2.86zM5.41 20L4 18.59l7.72-7.72 1.47 1.35L5.41 20z\"/>\n",
              "  </svg>\n",
              "      </button>\n",
              "      \n",
              "  <style>\n",
              "    .colab-df-container {\n",
              "      display:flex;\n",
              "      flex-wrap:wrap;\n",
              "      gap: 12px;\n",
              "    }\n",
              "\n",
              "    .colab-df-convert {\n",
              "      background-color: #E8F0FE;\n",
              "      border: none;\n",
              "      border-radius: 50%;\n",
              "      cursor: pointer;\n",
              "      display: none;\n",
              "      fill: #1967D2;\n",
              "      height: 32px;\n",
              "      padding: 0 0 0 0;\n",
              "      width: 32px;\n",
              "    }\n",
              "\n",
              "    .colab-df-convert:hover {\n",
              "      background-color: #E2EBFA;\n",
              "      box-shadow: 0px 1px 2px rgba(60, 64, 67, 0.3), 0px 1px 3px 1px rgba(60, 64, 67, 0.15);\n",
              "      fill: #174EA6;\n",
              "    }\n",
              "\n",
              "    [theme=dark] .colab-df-convert {\n",
              "      background-color: #3B4455;\n",
              "      fill: #D2E3FC;\n",
              "    }\n",
              "\n",
              "    [theme=dark] .colab-df-convert:hover {\n",
              "      background-color: #434B5C;\n",
              "      box-shadow: 0px 1px 3px 1px rgba(0, 0, 0, 0.15);\n",
              "      filter: drop-shadow(0px 1px 2px rgba(0, 0, 0, 0.3));\n",
              "      fill: #FFFFFF;\n",
              "    }\n",
              "  </style>\n",
              "\n",
              "      <script>\n",
              "        const buttonEl =\n",
              "          document.querySelector('#df-ff83dbb6-96e5-4ad4-b75a-756f2be6e104 button.colab-df-convert');\n",
              "        buttonEl.style.display =\n",
              "          google.colab.kernel.accessAllowed ? 'block' : 'none';\n",
              "\n",
              "        async function convertToInteractive(key) {\n",
              "          const element = document.querySelector('#df-ff83dbb6-96e5-4ad4-b75a-756f2be6e104');\n",
              "          const dataTable =\n",
              "            await google.colab.kernel.invokeFunction('convertToInteractive',\n",
              "                                                     [key], {});\n",
              "          if (!dataTable) return;\n",
              "\n",
              "          const docLinkHtml = 'Like what you see? Visit the ' +\n",
              "            '<a target=\"_blank\" href=https://colab.research.google.com/notebooks/data_table.ipynb>data table notebook</a>'\n",
              "            + ' to learn more about interactive tables.';\n",
              "          element.innerHTML = '';\n",
              "          dataTable['output_type'] = 'display_data';\n",
              "          await google.colab.output.renderOutput(dataTable, element);\n",
              "          const docLink = document.createElement('div');\n",
              "          docLink.innerHTML = docLinkHtml;\n",
              "          element.appendChild(docLink);\n",
              "        }\n",
              "      </script>\n",
              "    </div>\n",
              "  </div>\n",
              "  "
            ]
          },
          "metadata": {},
          "execution_count": 126
        }
      ]
    },
    {
      "cell_type": "code",
      "source": [
        "from keras.preprocessing.text import Tokenizer\n",
        "from keras_preprocessing.sequence import pad_sequences\n",
        "#max_features = 2000\n",
        "#tokenizer = Tokenizer(num_words = max_features, )\n",
        "# tokenizer = Tokenizer()\n",
        "# tokenizer.fit_on_texts(unseen_complete_data['POSTS'].values)\n",
        "X = tokenizer.texts_to_sequences(unseen_complete_data['POSTS'].values)\n",
        "X = pad_sequences(X, padding = 'post' , maxlen=100)\n",
        "Y = pd.get_dummies(unseen_complete_data['TAGS']).values\n",
        "#Y= complete_data['TAGS'].values\n",
        "\n",
        "vocab_size = len(tokenizer.word_index)+1"
      ],
      "metadata": {
        "id": "39vs35go9wQA"
      },
      "execution_count": null,
      "outputs": []
    },
    {
      "cell_type": "code",
      "source": [
        "Y_test_new_unseen=[]\n",
        "for val in Y:\n",
        "  if val[0]==1:\n",
        "    Y_test_new_unseen.append(0)\n",
        "  else:\n",
        "    Y_test_new_unseen.append(1)"
      ],
      "metadata": {
        "id": "CyaEc5Wh9wQB"
      },
      "execution_count": null,
      "outputs": []
    },
    {
      "cell_type": "code",
      "source": [
        "from sklearn.metrics import classification_report\n",
        "\n",
        "y_pred_unseen = glove_vanialla_lstm_model.predict(X, batch_size=10, verbose=1)\n",
        "y_pred_bool_unseen = np.argmax(y_pred_unseen, axis=1)\n",
        "\n",
        "print(classification_report(Y_test_new_unseen, y_pred_bool_unseen))\n"
      ],
      "metadata": {
        "colab": {
          "base_uri": "https://localhost:8080/"
        },
        "outputId": "92540c68-c80f-4c63-a7ff-5c2cbdc35a6d",
        "id": "JfvmHxmY9wQB"
      },
      "execution_count": null,
      "outputs": [
        {
          "output_type": "stream",
          "name": "stdout",
          "text": [
            "226/226 [==============================] - 9s 39ms/step\n",
            "              precision    recall  f1-score   support\n",
            "\n",
            "           0       0.83      0.91      0.87      1200\n",
            "           1       0.88      0.79      0.83      1055\n",
            "\n",
            "    accuracy                           0.85      2255\n",
            "   macro avg       0.86      0.85      0.85      2255\n",
            "weighted avg       0.85      0.85      0.85      2255\n",
            "\n"
          ]
        }
      ]
    },
    {
      "cell_type": "markdown",
      "source": [
        "**Stacked GRU (More complex models) with FastText Embeddings**"
      ],
      "metadata": {
        "id": "1KJ_cKC4-EwO"
      }
    },
    {
      "cell_type": "code",
      "source": [
        "import tensorflow as tf\n",
        "from tensorflow import keras\n",
        "\n",
        "from keras.layers import Dense, Embedding, LSTM, SpatialDropout1D, Bidirectional, Dropout, GRU\n",
        "embedd_dim = 300\n",
        "stacked_gru = 128\n",
        "stacked_gru = keras.Sequential()\n",
        "stacked_gru.add(Embedding(vocab_size, embedd_dim, weights = [embedding_matrix] , trainable = False))\n",
        "stacked_gru.add(Bidirectional(GRU(128, dropout=0.2, return_sequences = True)))\n",
        "stacked_gru.add(Bidirectional(GRU(64, dropout=0.2)))\n",
        "stacked_gru.add(Dense(128, activation = 'relu'))\n",
        "stacked_gru.add(Dropout(0.5))\n",
        "stacked_gru.add(Dense(64, activation = 'relu'))\n",
        "stacked_gru.add(Dropout(0.5))\n",
        "stacked_gru.add(Dense(2, activation = 'softmax'))  #if used pd.get dummies above\n",
        "stacked_gru.summary()\n"
      ],
      "metadata": {
        "colab": {
          "base_uri": "https://localhost:8080/"
        },
        "id": "iJR6pf9N-K1l",
        "outputId": "4ae26d25-c389-4d9e-ec60-c54f3a530443"
      },
      "execution_count": null,
      "outputs": [
        {
          "output_type": "stream",
          "name": "stdout",
          "text": [
            "Model: \"sequential\"\n",
            "_________________________________________________________________\n",
            " Layer (type)                Output Shape              Param #   \n",
            "=================================================================\n",
            " embedding (Embedding)       (None, None, 300)         27755100  \n",
            "                                                                 \n",
            " bidirectional (Bidirectiona  (None, None, 256)        330240    \n",
            " l)                                                              \n",
            "                                                                 \n",
            " bidirectional_1 (Bidirectio  (None, 128)              123648    \n",
            " nal)                                                            \n",
            "                                                                 \n",
            " dense (Dense)               (None, 128)               16512     \n",
            "                                                                 \n",
            " dropout (Dropout)           (None, 128)               0         \n",
            "                                                                 \n",
            " dense_1 (Dense)             (None, 64)                8256      \n",
            "                                                                 \n",
            " dropout_1 (Dropout)         (None, 64)                0         \n",
            "                                                                 \n",
            " dense_2 (Dense)             (None, 2)                 130       \n",
            "                                                                 \n",
            "=================================================================\n",
            "Total params: 28,233,886\n",
            "Trainable params: 478,786\n",
            "Non-trainable params: 27,755,100\n",
            "_________________________________________________________________\n"
          ]
        }
      ]
    },
    {
      "cell_type": "code",
      "source": [
        "early_stopping_monitor = tf.keras.callbacks.EarlyStopping(\n",
        "    monitor='val_loss',\n",
        "    min_delta=0,\n",
        "    patience=10,\n",
        "    verbose=0,\n",
        "    mode='auto',\n",
        "    baseline=None,\n",
        "    restore_best_weights=True\n",
        ")\n",
        "batch_size = 200\n",
        "stacked_gru.compile(loss = 'binary_crossentropy', optimizer='adam',metrics = ['accuracy'])\n",
        "history = stacked_gru.fit(X_train, Y_train, epochs = 50, batch_size=batch_size, verbose = 1, callbacks=[early_stopping_monitor], validation_data =(X_test, Y_test))"
      ],
      "metadata": {
        "colab": {
          "base_uri": "https://localhost:8080/"
        },
        "id": "q4IV2GoQ-LAr",
        "outputId": "e42a1805-ef52-406c-a6d2-d6e96585ee44"
      },
      "execution_count": null,
      "outputs": [
        {
          "output_type": "stream",
          "name": "stdout",
          "text": [
            "Epoch 1/50\n",
            "54/54 [==============================] - 103s 2s/step - loss: 0.6624 - accuracy: 0.5970 - val_loss: 0.5587 - val_accuracy: 0.7204\n",
            "Epoch 2/50\n",
            "54/54 [==============================] - 94s 2s/step - loss: 0.5038 - accuracy: 0.7634 - val_loss: 0.4335 - val_accuracy: 0.8011\n",
            "Epoch 3/50\n",
            "54/54 [==============================] - 93s 2s/step - loss: 0.4287 - accuracy: 0.8101 - val_loss: 0.4062 - val_accuracy: 0.8114\n",
            "Epoch 4/50\n",
            "54/54 [==============================] - 91s 2s/step - loss: 0.3970 - accuracy: 0.8225 - val_loss: 0.4054 - val_accuracy: 0.8024\n",
            "Epoch 5/50\n",
            "54/54 [==============================] - 93s 2s/step - loss: 0.3637 - accuracy: 0.8348 - val_loss: 0.3555 - val_accuracy: 0.8347\n",
            "Epoch 6/50\n",
            "54/54 [==============================] - 93s 2s/step - loss: 0.3319 - accuracy: 0.8460 - val_loss: 0.3525 - val_accuracy: 0.8347\n",
            "Epoch 7/50\n",
            "54/54 [==============================] - 91s 2s/step - loss: 0.3328 - accuracy: 0.8472 - val_loss: 0.3706 - val_accuracy: 0.8097\n",
            "Epoch 8/50\n",
            "54/54 [==============================] - 93s 2s/step - loss: 0.3128 - accuracy: 0.8577 - val_loss: 0.3243 - val_accuracy: 0.8428\n",
            "Epoch 9/50\n",
            "54/54 [==============================] - 93s 2s/step - loss: 0.2878 - accuracy: 0.8638 - val_loss: 0.3064 - val_accuracy: 0.8539\n",
            "Epoch 10/50\n",
            "54/54 [==============================] - 91s 2s/step - loss: 0.2826 - accuracy: 0.8669 - val_loss: 0.3082 - val_accuracy: 0.8553\n",
            "Epoch 11/50\n",
            "54/54 [==============================] - 93s 2s/step - loss: 0.2571 - accuracy: 0.8844 - val_loss: 0.3015 - val_accuracy: 0.8575\n",
            "Epoch 12/50\n",
            "54/54 [==============================] - 93s 2s/step - loss: 0.2490 - accuracy: 0.8864 - val_loss: 0.2913 - val_accuracy: 0.8606\n",
            "Epoch 13/50\n",
            "54/54 [==============================] - 91s 2s/step - loss: 0.2409 - accuracy: 0.8920 - val_loss: 0.2875 - val_accuracy: 0.8659\n",
            "Epoch 14/50\n",
            "54/54 [==============================] - 93s 2s/step - loss: 0.2214 - accuracy: 0.8984 - val_loss: 0.3106 - val_accuracy: 0.8687\n",
            "Epoch 15/50\n",
            "54/54 [==============================] - 93s 2s/step - loss: 0.2089 - accuracy: 0.9027 - val_loss: 0.3051 - val_accuracy: 0.8659\n",
            "Epoch 16/50\n",
            "54/54 [==============================] - 91s 2s/step - loss: 0.2008 - accuracy: 0.9086 - val_loss: 0.2933 - val_accuracy: 0.8712\n",
            "Epoch 17/50\n",
            "54/54 [==============================] - 93s 2s/step - loss: 0.1943 - accuracy: 0.9098 - val_loss: 0.2890 - val_accuracy: 0.8695\n",
            "Epoch 18/50\n",
            "54/54 [==============================] - 93s 2s/step - loss: 0.1863 - accuracy: 0.9163 - val_loss: 0.2958 - val_accuracy: 0.8742\n",
            "Epoch 19/50\n",
            "54/54 [==============================] - 92s 2s/step - loss: 0.1835 - accuracy: 0.9148 - val_loss: 0.2940 - val_accuracy: 0.8703\n",
            "Epoch 20/50\n",
            "54/54 [==============================] - 93s 2s/step - loss: 0.1756 - accuracy: 0.9182 - val_loss: 0.3392 - val_accuracy: 0.8514\n",
            "Epoch 21/50\n",
            "54/54 [==============================] - 93s 2s/step - loss: 0.1712 - accuracy: 0.9225 - val_loss: 0.2861 - val_accuracy: 0.8723\n",
            "Epoch 22/50\n",
            "54/54 [==============================] - 91s 2s/step - loss: 0.1645 - accuracy: 0.9251 - val_loss: 0.3068 - val_accuracy: 0.8792\n",
            "Epoch 23/50\n",
            "54/54 [==============================] - 93s 2s/step - loss: 0.1578 - accuracy: 0.9277 - val_loss: 0.3657 - val_accuracy: 0.8648\n",
            "Epoch 24/50\n",
            "54/54 [==============================] - 92s 2s/step - loss: 0.1632 - accuracy: 0.9270 - val_loss: 0.2927 - val_accuracy: 0.8753\n",
            "Epoch 25/50\n",
            "54/54 [==============================] - 91s 2s/step - loss: 0.1495 - accuracy: 0.9341 - val_loss: 0.3154 - val_accuracy: 0.8837\n",
            "Epoch 26/50\n",
            "54/54 [==============================] - 93s 2s/step - loss: 0.1456 - accuracy: 0.9345 - val_loss: 0.3243 - val_accuracy: 0.8776\n",
            "Epoch 27/50\n",
            "54/54 [==============================] - 93s 2s/step - loss: 0.1409 - accuracy: 0.9361 - val_loss: 0.2970 - val_accuracy: 0.8804\n",
            "Epoch 28/50\n",
            "54/54 [==============================] - 91s 2s/step - loss: 0.1345 - accuracy: 0.9382 - val_loss: 0.3204 - val_accuracy: 0.8781\n",
            "Epoch 29/50\n",
            "54/54 [==============================] - 92s 2s/step - loss: 0.1377 - accuracy: 0.9390 - val_loss: 0.2974 - val_accuracy: 0.8826\n",
            "Epoch 30/50\n",
            "54/54 [==============================] - 92s 2s/step - loss: 0.1320 - accuracy: 0.9405 - val_loss: 0.3382 - val_accuracy: 0.8829\n",
            "Epoch 31/50\n",
            "54/54 [==============================] - 91s 2s/step - loss: 0.1214 - accuracy: 0.9438 - val_loss: 0.3866 - val_accuracy: 0.8712\n"
          ]
        }
      ]
    },
    {
      "cell_type": "code",
      "source": [
        "stacked_gru.save('/content/gdrive/MyDrive/Colab Notebooks/StackedGRU')"
      ],
      "metadata": {
        "colab": {
          "base_uri": "https://localhost:8080/"
        },
        "id": "1Xg2cDvZ-LIk",
        "outputId": "47e2fa00-79cc-454e-ce26-72690fdbb93e"
      },
      "execution_count": null,
      "outputs": [
        {
          "output_type": "stream",
          "name": "stderr",
          "text": [
            "WARNING:absl:Found untraced functions such as gru_cell_1_layer_call_fn, gru_cell_1_layer_call_and_return_conditional_losses, gru_cell_2_layer_call_fn, gru_cell_2_layer_call_and_return_conditional_losses, gru_cell_4_layer_call_fn while saving (showing 5 of 8). These functions will not be directly callable after loading.\n"
          ]
        }
      ]
    },
    {
      "cell_type": "code",
      "source": [
        "Y_test_new=[]\n",
        "for val in Y_test:\n",
        "  if val[0]==1:\n",
        "    Y_test_new.append(0)\n",
        "  else:\n",
        "    Y_test_new.append(1)"
      ],
      "metadata": {
        "id": "squnNhlDKcvq"
      },
      "execution_count": null,
      "outputs": []
    },
    {
      "cell_type": "code",
      "source": [
        "from sklearn.metrics import classification_report\n",
        "\n",
        "y_pred = stacked_gru.predict(X_test, batch_size=64, verbose=1)\n",
        "y_pred_bool = np.argmax(y_pred, axis=1)\n",
        "\n",
        "print(classification_report(Y_test_new, y_pred_bool))\n"
      ],
      "metadata": {
        "colab": {
          "base_uri": "https://localhost:8080/"
        },
        "outputId": "1f30d727-4d14-463e-9f20-54804ced1554",
        "id": "AKcVHwyeKcvr"
      },
      "execution_count": null,
      "outputs": [
        {
          "output_type": "stream",
          "name": "stdout",
          "text": [
            "57/57 [==============================] - 14s 222ms/step\n",
            "              precision    recall  f1-score   support\n",
            "\n",
            "           0       0.88      0.91      0.89      2114\n",
            "           1       0.87      0.81      0.84      1480\n",
            "\n",
            "    accuracy                           0.87      3594\n",
            "   macro avg       0.87      0.86      0.87      3594\n",
            "weighted avg       0.87      0.87      0.87      3594\n",
            "\n"
          ]
        }
      ]
    },
    {
      "cell_type": "markdown",
      "source": [
        "**Stacked GRU with FastText Embeddings on unseen data**"
      ],
      "metadata": {
        "id": "ZLNeSd9eKpaH"
      }
    },
    {
      "cell_type": "code",
      "source": [
        "from sklearn.metrics import classification_report\n",
        "\n",
        "y_pred_unseen = stacked_gru.predict(X, batch_size=10, verbose=1)\n",
        "y_pred_bool_unseen = np.argmax(y_pred_unseen, axis=1)\n",
        "\n",
        "print(classification_report(Y_test_new_unseen, y_pred_bool_unseen))"
      ],
      "metadata": {
        "colab": {
          "base_uri": "https://localhost:8080/"
        },
        "id": "rmz3bgFUKYI-",
        "outputId": "f799bc3e-469b-4a48-cb54-4c89ae636321"
      },
      "execution_count": null,
      "outputs": [
        {
          "output_type": "stream",
          "name": "stdout",
          "text": [
            "226/226 [==============================] - 13s 59ms/step\n",
            "              precision    recall  f1-score   support\n",
            "\n",
            "           0       0.84      0.90      0.87      1200\n",
            "           1       0.87      0.81      0.84      1055\n",
            "\n",
            "    accuracy                           0.86      2255\n",
            "   macro avg       0.86      0.85      0.86      2255\n",
            "weighted avg       0.86      0.86      0.86      2255\n",
            "\n"
          ]
        }
      ]
    },
    {
      "cell_type": "markdown",
      "source": [
        "**Stacked GRU with Glove Embeddings**"
      ],
      "metadata": {
        "id": "7PnXtz9LLjeA"
      }
    },
    {
      "cell_type": "code",
      "source": [
        "import tensorflow as tf\n",
        "from tensorflow import keras\n",
        "\n",
        "from keras.layers import Dense, Embedding, LSTM, SpatialDropout1D, Bidirectional, Dropout, GRU\n",
        "embedd_dim = 300\n",
        "stacked_gru_glove = 128\n",
        "stacked_gru_glove = keras.Sequential()\n",
        "stacked_gru_glove.add(Embedding(vocab_size, embedd_dim, weights = [glove_embedding_matrix] , trainable = False))\n",
        "stacked_gru_glove.add(Bidirectional(GRU(128, dropout=0.2, return_sequences = True)))\n",
        "stacked_gru_glove.add(Bidirectional(GRU(64, dropout=0.2)))\n",
        "stacked_gru_glove.add(Dense(128, activation = 'relu'))\n",
        "stacked_gru_glove.add(Dropout(0.5))\n",
        "stacked_gru_glove.add(Dense(64, activation = 'relu'))\n",
        "stacked_gru_glove.add(Dropout(0.5))\n",
        "stacked_gru_glove.add(Dense(2, activation = 'softmax'))  #if used pd.get dummies above\n",
        "stacked_gru_glove.summary()\n"
      ],
      "metadata": {
        "colab": {
          "base_uri": "https://localhost:8080/"
        },
        "id": "0qj4K-T6KYLt",
        "outputId": "6bf1228f-7b8c-45fe-cac3-b03fdc04c4cb"
      },
      "execution_count": null,
      "outputs": [
        {
          "output_type": "stream",
          "name": "stdout",
          "text": [
            "Model: \"sequential_1\"\n",
            "_________________________________________________________________\n",
            " Layer (type)                Output Shape              Param #   \n",
            "=================================================================\n",
            " embedding_1 (Embedding)     (None, None, 300)         27755100  \n",
            "                                                                 \n",
            " bidirectional_2 (Bidirectio  (None, None, 256)        330240    \n",
            " nal)                                                            \n",
            "                                                                 \n",
            " bidirectional_3 (Bidirectio  (None, 128)              123648    \n",
            " nal)                                                            \n",
            "                                                                 \n",
            " dense_3 (Dense)             (None, 128)               16512     \n",
            "                                                                 \n",
            " dropout_2 (Dropout)         (None, 128)               0         \n",
            "                                                                 \n",
            " dense_4 (Dense)             (None, 64)                8256      \n",
            "                                                                 \n",
            " dropout_3 (Dropout)         (None, 64)                0         \n",
            "                                                                 \n",
            " dense_5 (Dense)             (None, 2)                 130       \n",
            "                                                                 \n",
            "=================================================================\n",
            "Total params: 28,233,886\n",
            "Trainable params: 478,786\n",
            "Non-trainable params: 27,755,100\n",
            "_________________________________________________________________\n"
          ]
        }
      ]
    },
    {
      "cell_type": "code",
      "source": [
        "early_stopping_monitor = tf.keras.callbacks.EarlyStopping(\n",
        "    monitor='val_loss',\n",
        "    min_delta=0,\n",
        "    patience=10,\n",
        "    verbose=0,\n",
        "    mode='auto',\n",
        "    baseline=None,\n",
        "    restore_best_weights=True\n",
        ")\n",
        "batch_size = 200\n",
        "stacked_gru_glove.compile(loss = 'binary_crossentropy', optimizer='adam',metrics = ['accuracy'])\n",
        "history = stacked_gru_glove.fit(X_train, Y_train, epochs = 50, batch_size=batch_size, verbose = 1, callbacks=[early_stopping_monitor], validation_data =(X_test, Y_test))"
      ],
      "metadata": {
        "colab": {
          "base_uri": "https://localhost:8080/"
        },
        "id": "ZIIPOSVsMQiX",
        "outputId": "c379ec77-0366-4772-e709-c09ec49c2afb"
      },
      "execution_count": null,
      "outputs": [
        {
          "output_type": "stream",
          "name": "stdout",
          "text": [
            "Epoch 1/50\n",
            "54/54 [==============================] - 107s 2s/step - loss: 0.6175 - accuracy: 0.6539 - val_loss: 0.4915 - val_accuracy: 0.7571\n",
            "Epoch 2/50\n",
            "54/54 [==============================] - 94s 2s/step - loss: 0.4426 - accuracy: 0.7986 - val_loss: 0.3679 - val_accuracy: 0.8152\n",
            "Epoch 3/50\n",
            "54/54 [==============================] - 95s 2s/step - loss: 0.3384 - accuracy: 0.8383 - val_loss: 0.3381 - val_accuracy: 0.8358\n",
            "Epoch 4/50\n",
            "54/54 [==============================] - 97s 2s/step - loss: 0.3005 - accuracy: 0.8593 - val_loss: 0.3227 - val_accuracy: 0.8331\n",
            "Epoch 5/50\n",
            "54/54 [==============================] - 93s 2s/step - loss: 0.2709 - accuracy: 0.8702 - val_loss: 0.3172 - val_accuracy: 0.8453\n",
            "Epoch 6/50\n",
            "54/54 [==============================] - 93s 2s/step - loss: 0.2515 - accuracy: 0.8842 - val_loss: 0.3021 - val_accuracy: 0.8528\n",
            "Epoch 7/50\n",
            "54/54 [==============================] - 95s 2s/step - loss: 0.2321 - accuracy: 0.8968 - val_loss: 0.3402 - val_accuracy: 0.8453\n",
            "Epoch 8/50\n",
            "54/54 [==============================] - 93s 2s/step - loss: 0.2256 - accuracy: 0.8958 - val_loss: 0.3172 - val_accuracy: 0.8478\n",
            "Epoch 9/50\n",
            "54/54 [==============================] - 93s 2s/step - loss: 0.2000 - accuracy: 0.9096 - val_loss: 0.3515 - val_accuracy: 0.8542\n",
            "Epoch 10/50\n",
            "54/54 [==============================] - 93s 2s/step - loss: 0.1924 - accuracy: 0.9118 - val_loss: 0.3382 - val_accuracy: 0.8553\n",
            "Epoch 11/50\n",
            "54/54 [==============================] - 93s 2s/step - loss: 0.1737 - accuracy: 0.9187 - val_loss: 0.3431 - val_accuracy: 0.8536\n",
            "Epoch 12/50\n",
            "54/54 [==============================] - 95s 2s/step - loss: 0.1617 - accuracy: 0.9280 - val_loss: 0.3662 - val_accuracy: 0.8453\n",
            "Epoch 13/50\n",
            "54/54 [==============================] - 93s 2s/step - loss: 0.1453 - accuracy: 0.9319 - val_loss: 0.3884 - val_accuracy: 0.8564\n",
            "Epoch 14/50\n",
            "54/54 [==============================] - 99s 2s/step - loss: 0.1401 - accuracy: 0.9402 - val_loss: 0.3655 - val_accuracy: 0.8559\n",
            "Epoch 15/50\n",
            "54/54 [==============================] - 94s 2s/step - loss: 0.1283 - accuracy: 0.9449 - val_loss: 0.4313 - val_accuracy: 0.8570\n",
            "Epoch 16/50\n",
            "54/54 [==============================] - 92s 2s/step - loss: 0.1174 - accuracy: 0.9531 - val_loss: 0.4096 - val_accuracy: 0.8634\n"
          ]
        }
      ]
    },
    {
      "cell_type": "code",
      "source": [
        "from sklearn.metrics import classification_report\n",
        "\n",
        "y_pred = stacked_gru_glove.predict(X_test, batch_size=64, verbose=1)\n",
        "y_pred_bool = np.argmax(y_pred, axis=1)\n",
        "\n",
        "print(classification_report(Y_test_new, y_pred_bool))"
      ],
      "metadata": {
        "colab": {
          "base_uri": "https://localhost:8080/"
        },
        "id": "TB4ehX2wTha0",
        "outputId": "d9d158da-d873-467f-87aa-9246f62375ff"
      },
      "execution_count": null,
      "outputs": [
        {
          "output_type": "stream",
          "name": "stdout",
          "text": [
            "57/57 [==============================] - 13s 233ms/step\n",
            "              precision    recall  f1-score   support\n",
            "\n",
            "           0       0.86      0.90      0.88      2114\n",
            "           1       0.84      0.79      0.82      1480\n",
            "\n",
            "    accuracy                           0.85      3594\n",
            "   macro avg       0.85      0.84      0.85      3594\n",
            "weighted avg       0.85      0.85      0.85      3594\n",
            "\n"
          ]
        }
      ]
    },
    {
      "cell_type": "markdown",
      "source": [
        "**Stacked Glove on unseen data**"
      ],
      "metadata": {
        "id": "cUf8QmgcTUo-"
      }
    },
    {
      "cell_type": "code",
      "source": [
        "from sklearn.metrics import classification_report\n",
        "\n",
        "y_pred_unseen = stacked_gru_glove.predict(X, batch_size=10, verbose=1)\n",
        "y_pred_bool_unseen = np.argmax(y_pred_unseen, axis=1)\n",
        "\n",
        "print(classification_report(Y_test_new_unseen, y_pred_bool_unseen))"
      ],
      "metadata": {
        "colab": {
          "base_uri": "https://localhost:8080/"
        },
        "id": "l-30s5F8MQoW",
        "outputId": "a749202b-23f0-4580-f578-3f31713983c7"
      },
      "execution_count": null,
      "outputs": [
        {
          "output_type": "stream",
          "name": "stdout",
          "text": [
            "226/226 [==============================] - 13s 58ms/step\n",
            "              precision    recall  f1-score   support\n",
            "\n",
            "           0       0.84      0.91      0.87      1200\n",
            "           1       0.89      0.80      0.84      1055\n",
            "\n",
            "    accuracy                           0.86      2255\n",
            "   macro avg       0.86      0.85      0.86      2255\n",
            "weighted avg       0.86      0.86      0.86      2255\n",
            "\n"
          ]
        }
      ]
    },
    {
      "cell_type": "markdown",
      "source": [
        "**Stacked GRU-LSTM with more complex architecture**"
      ],
      "metadata": {
        "id": "ZrwmNFQCT1Lk"
      }
    },
    {
      "cell_type": "code",
      "source": [
        "embedd_dim = 300\n",
        "stacked_gru_lstm = 128\n",
        "stacked_gru_lstm = keras.Sequential()\n",
        "stacked_gru_lstm.add(Embedding(vocab_size, embedd_dim, weights = [glove_embedding_matrix] , trainable = False))\n",
        "stacked_gru_lstm.add(Bidirectional(GRU(256, dropout=0.2, return_sequences = True)))\n",
        "stacked_gru_lstm.add(Bidirectional(GRU(128, dropout=0.2, return_sequences = True)))\n",
        "stacked_gru_lstm.add(Bidirectional(LSTM(64, dropout=0.2, return_sequences = True)))\n",
        "stacked_gru_lstm.add(Bidirectional(GRU(32, dropout=0.2)))\n",
        "stacked_gru_lstm.add(Dense(128, activation = 'relu'))\n",
        "stacked_gru_lstm.add(Dropout(0.2))\n",
        "stacked_gru_lstm.add(Dense(64, activation = 'relu'))\n",
        "stacked_gru_lstm.add(Dropout(0.2))\n",
        "stacked_gru_lstm.add(Dense(2, activation = 'softmax'))  #if used pd.get dummies above\n",
        "stacked_gru_lstm.summary()"
      ],
      "metadata": {
        "colab": {
          "base_uri": "https://localhost:8080/",
          "height": 235
        },
        "id": "mWUNrvRlT0RV",
        "outputId": "98b3a14c-7adf-4a97-ae9b-3324461c1f16"
      },
      "execution_count": null,
      "outputs": [
        {
          "output_type": "error",
          "ename": "NameError",
          "evalue": "ignored",
          "traceback": [
            "\u001b[0;31m---------------------------------------------------------------------------\u001b[0m",
            "\u001b[0;31mNameError\u001b[0m                                 Traceback (most recent call last)",
            "\u001b[0;32m<ipython-input-29-af570b39b8ec>\u001b[0m in \u001b[0;36m<module>\u001b[0;34m\u001b[0m\n\u001b[1;32m      1\u001b[0m \u001b[0membedd_dim\u001b[0m \u001b[0;34m=\u001b[0m \u001b[0;36m300\u001b[0m\u001b[0;34m\u001b[0m\u001b[0;34m\u001b[0m\u001b[0m\n\u001b[1;32m      2\u001b[0m \u001b[0mstacked_gru_lstm\u001b[0m \u001b[0;34m=\u001b[0m \u001b[0;36m128\u001b[0m\u001b[0;34m\u001b[0m\u001b[0;34m\u001b[0m\u001b[0m\n\u001b[0;32m----> 3\u001b[0;31m \u001b[0mstacked_gru_lstm\u001b[0m \u001b[0;34m=\u001b[0m \u001b[0mkeras\u001b[0m\u001b[0;34m.\u001b[0m\u001b[0mSequential\u001b[0m\u001b[0;34m(\u001b[0m\u001b[0;34m)\u001b[0m\u001b[0;34m\u001b[0m\u001b[0;34m\u001b[0m\u001b[0m\n\u001b[0m\u001b[1;32m      4\u001b[0m \u001b[0mstacked_gru_lstm\u001b[0m\u001b[0;34m.\u001b[0m\u001b[0madd\u001b[0m\u001b[0;34m(\u001b[0m\u001b[0mEmbedding\u001b[0m\u001b[0;34m(\u001b[0m\u001b[0mvocab_size\u001b[0m\u001b[0;34m,\u001b[0m \u001b[0membedd_dim\u001b[0m\u001b[0;34m,\u001b[0m \u001b[0mweights\u001b[0m \u001b[0;34m=\u001b[0m \u001b[0;34m[\u001b[0m\u001b[0mglove_embedding_matrix\u001b[0m\u001b[0;34m]\u001b[0m \u001b[0;34m,\u001b[0m \u001b[0mtrainable\u001b[0m \u001b[0;34m=\u001b[0m \u001b[0;32mFalse\u001b[0m\u001b[0;34m)\u001b[0m\u001b[0;34m)\u001b[0m\u001b[0;34m\u001b[0m\u001b[0;34m\u001b[0m\u001b[0m\n\u001b[1;32m      5\u001b[0m \u001b[0mstacked_gru_lstm\u001b[0m\u001b[0;34m.\u001b[0m\u001b[0madd\u001b[0m\u001b[0;34m(\u001b[0m\u001b[0mBidirectional\u001b[0m\u001b[0;34m(\u001b[0m\u001b[0mGRU\u001b[0m\u001b[0;34m(\u001b[0m\u001b[0;36m256\u001b[0m\u001b[0;34m,\u001b[0m \u001b[0mdropout\u001b[0m\u001b[0;34m=\u001b[0m\u001b[0;36m0.2\u001b[0m\u001b[0;34m,\u001b[0m \u001b[0mreturn_sequences\u001b[0m \u001b[0;34m=\u001b[0m \u001b[0;32mTrue\u001b[0m\u001b[0;34m)\u001b[0m\u001b[0;34m)\u001b[0m\u001b[0;34m)\u001b[0m\u001b[0;34m\u001b[0m\u001b[0;34m\u001b[0m\u001b[0m\n",
            "\u001b[0;31mNameError\u001b[0m: name 'keras' is not defined"
          ]
        }
      ]
    },
    {
      "cell_type": "code",
      "source": [
        "early_stopping_monitor = tf.keras.callbacks.EarlyStopping(\n",
        "    monitor='val_loss',\n",
        "    min_delta=0,\n",
        "    patience=15,\n",
        "    verbose=0,\n",
        "    mode='auto',\n",
        "    baseline=None,\n",
        "    restore_best_weights=True\n",
        ")\n",
        "batch_size = 200\n",
        "stacked_gru_lstm.compile(loss = 'binary_crossentropy', optimizer='adam',metrics = ['accuracy'])\n",
        "history = stacked_gru_lstm.fit(X_train, Y_train, epochs = 50, batch_size=batch_size, verbose = 1, callbacks=[early_stopping_monitor], validation_data =(X_test, Y_test))"
      ],
      "metadata": {
        "colab": {
          "base_uri": "https://localhost:8080/"
        },
        "id": "avAR4-ADT0rU",
        "outputId": "5fabe0f0-5161-4666-cab9-ce110488b77d"
      },
      "execution_count": null,
      "outputs": [
        {
          "output_type": "stream",
          "name": "stdout",
          "text": [
            "Epoch 1/50\n",
            "54/54 [==============================] - 299s 5s/step - loss: 0.5294 - accuracy: 0.7260 - val_loss: 0.4232 - val_accuracy: 0.8011\n",
            "Epoch 2/50\n",
            "54/54 [==============================] - 272s 5s/step - loss: 0.3632 - accuracy: 0.8309 - val_loss: 0.3742 - val_accuracy: 0.8203\n",
            "Epoch 3/50\n",
            "54/54 [==============================] - 272s 5s/step - loss: 0.3108 - accuracy: 0.8506 - val_loss: 0.3188 - val_accuracy: 0.8383\n",
            "Epoch 4/50\n",
            "54/54 [==============================] - 272s 5s/step - loss: 0.2839 - accuracy: 0.8660 - val_loss: 0.3132 - val_accuracy: 0.8434\n",
            "Epoch 5/50\n",
            "54/54 [==============================] - 272s 5s/step - loss: 0.2616 - accuracy: 0.8744 - val_loss: 0.3027 - val_accuracy: 0.8548\n",
            "Epoch 6/50\n",
            "54/54 [==============================] - 272s 5s/step - loss: 0.2457 - accuracy: 0.8831 - val_loss: 0.3148 - val_accuracy: 0.8497\n",
            "Epoch 7/50\n",
            "54/54 [==============================] - 271s 5s/step - loss: 0.2291 - accuracy: 0.8892 - val_loss: 0.3132 - val_accuracy: 0.8495\n",
            "Epoch 8/50\n",
            "54/54 [==============================] - 272s 5s/step - loss: 0.2097 - accuracy: 0.9004 - val_loss: 0.3137 - val_accuracy: 0.8445\n",
            "Epoch 9/50\n",
            "54/54 [==============================] - 272s 5s/step - loss: 0.1991 - accuracy: 0.9084 - val_loss: 0.3280 - val_accuracy: 0.8592\n",
            "Epoch 10/50\n",
            "54/54 [==============================] - 271s 5s/step - loss: 0.1779 - accuracy: 0.9194 - val_loss: 0.3385 - val_accuracy: 0.8561\n",
            "Epoch 11/50\n",
            "54/54 [==============================] - 272s 5s/step - loss: 0.1605 - accuracy: 0.9293 - val_loss: 0.3309 - val_accuracy: 0.8581\n",
            "Epoch 12/50\n",
            "54/54 [==============================] - 271s 5s/step - loss: 0.1450 - accuracy: 0.9361 - val_loss: 0.3438 - val_accuracy: 0.8606\n",
            "Epoch 13/50\n",
            "54/54 [==============================] - 270s 5s/step - loss: 0.1401 - accuracy: 0.9381 - val_loss: 0.3752 - val_accuracy: 0.8545\n",
            "Epoch 14/50\n",
            "54/54 [==============================] - 271s 5s/step - loss: 0.1230 - accuracy: 0.9479 - val_loss: 0.4171 - val_accuracy: 0.8651\n",
            "Epoch 15/50\n",
            "54/54 [==============================] - 271s 5s/step - loss: 0.1148 - accuracy: 0.9509 - val_loss: 0.4594 - val_accuracy: 0.8684\n",
            "Epoch 16/50\n",
            "54/54 [==============================] - 271s 5s/step - loss: 0.1030 - accuracy: 0.9563 - val_loss: 0.3979 - val_accuracy: 0.8628\n",
            "Epoch 17/50\n",
            "54/54 [==============================] - 273s 5s/step - loss: 0.0959 - accuracy: 0.9619 - val_loss: 0.4426 - val_accuracy: 0.8631\n",
            "Epoch 18/50\n",
            "54/54 [==============================] - 274s 5s/step - loss: 0.0900 - accuracy: 0.9633 - val_loss: 0.4670 - val_accuracy: 0.8609\n",
            "Epoch 19/50\n",
            "54/54 [==============================] - 273s 5s/step - loss: 0.0880 - accuracy: 0.9640 - val_loss: 0.4756 - val_accuracy: 0.8656\n",
            "Epoch 20/50\n",
            "54/54 [==============================] - 272s 5s/step - loss: 0.0806 - accuracy: 0.9674 - val_loss: 0.4628 - val_accuracy: 0.8595\n"
          ]
        }
      ]
    },
    {
      "cell_type": "code",
      "source": [
        "from sklearn.metrics import classification_report\n",
        "\n",
        "y_pred = stacked_gru_lstm.predict(X_test, batch_size=64, verbose=1)\n",
        "y_pred_bool = np.argmax(y_pred, axis=1)\n",
        "\n",
        "print(classification_report(Y_test_new, y_pred_bool))"
      ],
      "metadata": {
        "colab": {
          "base_uri": "https://localhost:8080/"
        },
        "id": "wqJT337aT0uO",
        "outputId": "9ac51988-4987-4028-a9ef-2c5e581949e4"
      },
      "execution_count": null,
      "outputs": [
        {
          "output_type": "stream",
          "name": "stdout",
          "text": [
            "57/57 [==============================] - 37s 581ms/step\n",
            "              precision    recall  f1-score   support\n",
            "\n",
            "           0       0.83      0.95      0.88      2114\n",
            "           1       0.91      0.72      0.80      1480\n",
            "\n",
            "    accuracy                           0.85      3594\n",
            "   macro avg       0.87      0.83      0.84      3594\n",
            "weighted avg       0.86      0.85      0.85      3594\n",
            "\n"
          ]
        }
      ]
    },
    {
      "cell_type": "markdown",
      "source": [
        "**Deep Bidirectional LSTM with glove on unseen data**"
      ],
      "metadata": {
        "id": "bW_csYVktWtD"
      }
    },
    {
      "cell_type": "code",
      "source": [
        "from sklearn.metrics import classification_report\n",
        "\n",
        "y_pred_unseen = stacked_gru_lstm.predict(X, batch_size=10, verbose=1)\n",
        "y_pred_bool_unseen = np.argmax(y_pred_unseen, axis=1)\n",
        "\n",
        "print(classification_report(Y_test_new_unseen, y_pred_bool_unseen))"
      ],
      "metadata": {
        "colab": {
          "base_uri": "https://localhost:8080/"
        },
        "id": "JUCY4s3vT0zQ",
        "outputId": "b7f64a1a-6b14-46ac-cd81-b6936ea45b71"
      },
      "execution_count": null,
      "outputs": [
        {
          "output_type": "stream",
          "name": "stdout",
          "text": [
            "226/226 [==============================] - 37s 164ms/step\n",
            "              precision    recall  f1-score   support\n",
            "\n",
            "           0       0.80      0.96      0.87      1200\n",
            "           1       0.94      0.72      0.81      1055\n",
            "\n",
            "    accuracy                           0.85      2255\n",
            "   macro avg       0.87      0.84      0.84      2255\n",
            "weighted avg       0.86      0.85      0.84      2255\n",
            "\n"
          ]
        }
      ]
    },
    {
      "cell_type": "markdown",
      "source": [
        "**Deep Bidirectional LSTM with fast text**"
      ],
      "metadata": {
        "id": "lOTGyYvEtv7C"
      }
    },
    {
      "cell_type": "code",
      "source": [
        "import tensorflow as tf\n",
        "from tensorflow import keras\n",
        "from keras.layers import Dense, Embedding, LSTM, SpatialDropout1D, Bidirectional, Dropout, GRU\n",
        "embedd_dim = 300\n",
        "stacked_gru_lstm_fast = 128\n",
        "stacked_gru_lstm_fast = keras.Sequential()\n",
        "stacked_gru_lstm_fast.add(Embedding(vocab_size, embedd_dim, weights = [embedding_matrix] , trainable = False))\n",
        "stacked_gru_lstm_fast.add(Bidirectional(GRU(256, dropout=0.2, return_sequences = True)))\n",
        "stacked_gru_lstm_fast.add(Bidirectional(GRU(128, dropout=0.2, return_sequences = True)))\n",
        "stacked_gru_lstm_fast.add(Bidirectional(LSTM(64, dropout=0.2, return_sequences = True)))\n",
        "stacked_gru_lstm_fast.add(Bidirectional(GRU(32, dropout=0.2)))\n",
        "stacked_gru_lstm_fast.add(Dense(128, activation = 'relu'))\n",
        "stacked_gru_lstm_fast.add(Dropout(0.2))\n",
        "stacked_gru_lstm_fast.add(Dense(64, activation = 'relu'))\n",
        "stacked_gru_lstm_fast.add(Dropout(0.2))\n",
        "stacked_gru_lstm_fast.add(Dense(2, activation = 'softmax'))  #if used pd.get dummies above\n",
        "stacked_gru_lstm_fast.summary()"
      ],
      "metadata": {
        "colab": {
          "base_uri": "https://localhost:8080/"
        },
        "id": "DmFBU9VPt0-x",
        "outputId": "6052883f-d7a4-4938-c5ac-768dae671907"
      },
      "execution_count": null,
      "outputs": [
        {
          "output_type": "stream",
          "name": "stdout",
          "text": [
            "Model: \"sequential\"\n",
            "_________________________________________________________________\n",
            " Layer (type)                Output Shape              Param #   \n",
            "=================================================================\n",
            " embedding (Embedding)       (None, None, 300)         27755100  \n",
            "                                                                 \n",
            " bidirectional (Bidirectiona  (None, None, 512)        857088    \n",
            " l)                                                              \n",
            "                                                                 \n",
            " bidirectional_1 (Bidirectio  (None, None, 256)        493056    \n",
            " nal)                                                            \n",
            "                                                                 \n",
            " bidirectional_2 (Bidirectio  (None, None, 128)        164352    \n",
            " nal)                                                            \n",
            "                                                                 \n",
            " bidirectional_3 (Bidirectio  (None, 64)               31104     \n",
            " nal)                                                            \n",
            "                                                                 \n",
            " dense (Dense)               (None, 128)               8320      \n",
            "                                                                 \n",
            " dropout (Dropout)           (None, 128)               0         \n",
            "                                                                 \n",
            " dense_1 (Dense)             (None, 64)                8256      \n",
            "                                                                 \n",
            " dropout_1 (Dropout)         (None, 64)                0         \n",
            "                                                                 \n",
            " dense_2 (Dense)             (None, 2)                 130       \n",
            "                                                                 \n",
            "=================================================================\n",
            "Total params: 29,317,406\n",
            "Trainable params: 1,562,306\n",
            "Non-trainable params: 27,755,100\n",
            "_________________________________________________________________\n"
          ]
        }
      ]
    },
    {
      "cell_type": "code",
      "source": [
        "early_stopping_monitor = tf.keras.callbacks.EarlyStopping(\n",
        "    monitor='val_loss',\n",
        "    min_delta=0,\n",
        "    patience=15,\n",
        "    verbose=0,\n",
        "    mode='auto',\n",
        "    baseline=None,\n",
        "    restore_best_weights=True\n",
        ")\n",
        "batch_size = 200\n",
        "stacked_gru_lstm_fast.compile(loss = 'binary_crossentropy', optimizer='adam',metrics = ['accuracy'])\n",
        "history = stacked_gru_lstm_fast.fit(X_train, Y_train, epochs = 30, batch_size=batch_size, verbose = 1, callbacks=[early_stopping_monitor], validation_data =(X_test, Y_test))"
      ],
      "metadata": {
        "colab": {
          "base_uri": "https://localhost:8080/"
        },
        "id": "bHoPbncTt1CI",
        "outputId": "23cadce6-519f-4500-ed22-a844fa640f03"
      },
      "execution_count": null,
      "outputs": [
        {
          "output_type": "stream",
          "name": "stdout",
          "text": [
            "Epoch 1/30\n",
            "54/54 [==============================] - 370s 6s/step - loss: 0.5645 - accuracy: 0.7020 - val_loss: 0.4634 - val_accuracy: 0.7852\n",
            "Epoch 2/30\n",
            "54/54 [==============================] - 340s 6s/step - loss: 0.4265 - accuracy: 0.7937 - val_loss: 0.3956 - val_accuracy: 0.8136\n",
            "Epoch 3/30\n",
            "54/54 [==============================] - 345s 6s/step - loss: 0.3905 - accuracy: 0.8144 - val_loss: 0.4350 - val_accuracy: 0.8044\n",
            "Epoch 4/30\n",
            "54/54 [==============================] - 334s 6s/step - loss: 0.3370 - accuracy: 0.8403 - val_loss: 0.3193 - val_accuracy: 0.8450\n",
            "Epoch 5/30\n",
            "54/54 [==============================] - 340s 6s/step - loss: 0.3355 - accuracy: 0.8465 - val_loss: 0.3069 - val_accuracy: 0.8436\n",
            "Epoch 6/30\n",
            "54/54 [==============================] - 337s 6s/step - loss: 0.2707 - accuracy: 0.8707 - val_loss: 0.2858 - val_accuracy: 0.8609\n",
            "Epoch 7/30\n",
            "54/54 [==============================] - 340s 6s/step - loss: 0.2523 - accuracy: 0.8780 - val_loss: 0.2796 - val_accuracy: 0.8620\n",
            "Epoch 8/30\n",
            "54/54 [==============================] - 337s 6s/step - loss: 0.2417 - accuracy: 0.8858 - val_loss: 0.2852 - val_accuracy: 0.8612\n",
            "Epoch 9/30\n",
            "54/54 [==============================] - 333s 6s/step - loss: 0.2277 - accuracy: 0.8903 - val_loss: 0.2645 - val_accuracy: 0.8723\n",
            "Epoch 10/30\n",
            "54/54 [==============================] - 334s 6s/step - loss: 0.2149 - accuracy: 0.8994 - val_loss: 0.2727 - val_accuracy: 0.8653\n",
            "Epoch 11/30\n",
            "54/54 [==============================] - 343s 6s/step - loss: 0.2136 - accuracy: 0.8982 - val_loss: 0.2659 - val_accuracy: 0.8684\n",
            "Epoch 12/30\n",
            "54/54 [==============================] - 337s 6s/step - loss: 0.2044 - accuracy: 0.9073 - val_loss: 0.2641 - val_accuracy: 0.8801\n",
            "Epoch 13/30\n",
            "54/54 [==============================] - 333s 6s/step - loss: 0.1969 - accuracy: 0.9065 - val_loss: 0.2827 - val_accuracy: 0.8656\n",
            "Epoch 14/30\n",
            "54/54 [==============================] - 331s 6s/step - loss: 0.1946 - accuracy: 0.9085 - val_loss: 0.2522 - val_accuracy: 0.8831\n",
            "Epoch 15/30\n",
            "54/54 [==============================] - 332s 6s/step - loss: 0.1782 - accuracy: 0.9164 - val_loss: 0.2504 - val_accuracy: 0.8815\n",
            "Epoch 16/30\n",
            "54/54 [==============================] - 326s 6s/step - loss: 0.1827 - accuracy: 0.9150 - val_loss: 0.2542 - val_accuracy: 0.8801\n",
            "Epoch 17/30\n",
            "54/54 [==============================] - 328s 6s/step - loss: 0.1762 - accuracy: 0.9180 - val_loss: 0.2617 - val_accuracy: 0.8829\n",
            "Epoch 18/30\n",
            "54/54 [==============================] - 333s 6s/step - loss: 0.1657 - accuracy: 0.9233 - val_loss: 0.2558 - val_accuracy: 0.8817\n",
            "Epoch 19/30\n",
            "54/54 [==============================] - 333s 6s/step - loss: 0.1618 - accuracy: 0.9258 - val_loss: 0.2843 - val_accuracy: 0.8751\n",
            "Epoch 20/30\n",
            "54/54 [==============================] - 344s 6s/step - loss: 0.1488 - accuracy: 0.9327 - val_loss: 0.2661 - val_accuracy: 0.8895\n",
            "Epoch 21/30\n",
            "54/54 [==============================] - 331s 6s/step - loss: 0.1515 - accuracy: 0.9292 - val_loss: 0.2735 - val_accuracy: 0.8804\n",
            "Epoch 22/30\n",
            "54/54 [==============================] - 324s 6s/step - loss: 0.1482 - accuracy: 0.9316 - val_loss: 0.2624 - val_accuracy: 0.8895\n",
            "Epoch 23/30\n",
            "54/54 [==============================] - 326s 6s/step - loss: 0.1371 - accuracy: 0.9400 - val_loss: 0.3002 - val_accuracy: 0.8843\n",
            "Epoch 24/30\n",
            "54/54 [==============================] - 325s 6s/step - loss: 0.1359 - accuracy: 0.9393 - val_loss: 0.2840 - val_accuracy: 0.8856\n",
            "Epoch 25/30\n",
            "54/54 [==============================] - 330s 6s/step - loss: 0.1257 - accuracy: 0.9430 - val_loss: 0.2978 - val_accuracy: 0.8870\n",
            "Epoch 26/30\n",
            "54/54 [==============================] - 319s 6s/step - loss: 0.1198 - accuracy: 0.9466 - val_loss: 0.3194 - val_accuracy: 0.8829\n",
            "Epoch 27/30\n",
            "54/54 [==============================] - 331s 6s/step - loss: 0.1219 - accuracy: 0.9451 - val_loss: 0.2985 - val_accuracy: 0.8920\n",
            "Epoch 28/30\n",
            "54/54 [==============================] - 346s 6s/step - loss: 0.1152 - accuracy: 0.9498 - val_loss: 0.3479 - val_accuracy: 0.8826\n",
            "Epoch 29/30\n",
            "35/54 [==================>...........] - ETA: 1:53 - loss: 0.1066 - accuracy: 0.9537"
          ]
        }
      ]
    },
    {
      "cell_type": "code",
      "source": [
        "stacked_gru_lstm_fast.save('/content/gdrive/MyDrive/Colab Notebooks/')"
      ],
      "metadata": {
        "colab": {
          "base_uri": "https://localhost:8080/"
        },
        "id": "Ilo8DjZmc8kG",
        "outputId": "9bd6f7d8-47d0-45d0-ee6c-967ca6f5efa4"
      },
      "execution_count": null,
      "outputs": [
        {
          "output_type": "stream",
          "name": "stderr",
          "text": [
            "WARNING:absl:Found untraced functions such as gru_cell_1_layer_call_fn, gru_cell_1_layer_call_and_return_conditional_losses, gru_cell_2_layer_call_fn, gru_cell_2_layer_call_and_return_conditional_losses, gru_cell_4_layer_call_fn while saving (showing 5 of 16). These functions will not be directly callable after loading.\n"
          ]
        }
      ]
    },
    {
      "cell_type": "code",
      "source": [
        "from sklearn.metrics import classification_report\n",
        "\n",
        "y_pred = stacked_gru_lstm_fast.predict(X_test, batch_size=64, verbose=1)\n",
        "y_pred_bool = np.argmax(y_pred, axis=1)\n",
        "\n",
        "print(classification_report(Y_test_new, y_pred_bool))"
      ],
      "metadata": {
        "id": "diBQa04tt1II",
        "colab": {
          "base_uri": "https://localhost:8080/"
        },
        "outputId": "17d69469-d5c6-49d4-c061-40c26fec4d3f"
      },
      "execution_count": null,
      "outputs": [
        {
          "output_type": "stream",
          "name": "stdout",
          "text": [
            "57/57 [==============================] - 33s 573ms/step\n",
            "              precision    recall  f1-score   support\n",
            "\n",
            "           0       0.86      0.96      0.91      2114\n",
            "           1       0.93      0.78      0.85      1480\n",
            "\n",
            "    accuracy                           0.89      3594\n",
            "   macro avg       0.90      0.87      0.88      3594\n",
            "weighted avg       0.89      0.89      0.88      3594\n",
            "\n"
          ]
        }
      ]
    },
    {
      "cell_type": "markdown",
      "source": [
        "**Deep bidirectional LSTM on unseen data with fast text**"
      ],
      "metadata": {
        "id": "1saxRh-txTP_"
      }
    },
    {
      "cell_type": "code",
      "source": [
        "from sklearn.metrics import classification_report\n",
        "\n",
        "y_pred_unseen = stacked_gru_lstm_fast.predict(X, batch_size=10, verbose=1)\n",
        "y_pred_bool_unseen = np.argmax(y_pred_unseen, axis=1)\n",
        "\n",
        "print(classification_report(Y_test_new_unseen, y_pred_bool_unseen))"
      ],
      "metadata": {
        "id": "Sjv08cYRt1LO",
        "colab": {
          "base_uri": "https://localhost:8080/"
        },
        "outputId": "55c4530d-d9c6-4752-db81-eda2ab8db48f"
      },
      "execution_count": null,
      "outputs": [
        {
          "output_type": "stream",
          "name": "stdout",
          "text": [
            "226/226 [==============================] - 36s 160ms/step\n",
            "              precision    recall  f1-score   support\n",
            "\n",
            "           0       0.83      0.96      0.89      1200\n",
            "           1       0.94      0.78      0.85      1055\n",
            "\n",
            "    accuracy                           0.88      2255\n",
            "   macro avg       0.89      0.87      0.87      2255\n",
            "weighted avg       0.88      0.88      0.87      2255\n",
            "\n"
          ]
        }
      ]
    },
    {
      "cell_type": "code",
      "source": [
        "unseen_complete_data"
      ],
      "metadata": {
        "colab": {
          "base_uri": "https://localhost:8080/",
          "height": 919
        },
        "id": "ebnNBzBuN2F7",
        "outputId": "b4bff3fe-287b-4cc5-e745-28a060bda526"
      },
      "execution_count": null,
      "outputs": [
        {
          "output_type": "execute_result",
          "data": {
            "text/plain": [
              "      index  \\\n",
              "0         0   \n",
              "1         1   \n",
              "2         2   \n",
              "3         3   \n",
              "4         4   \n",
              "...     ...   \n",
              "2257   2579   \n",
              "2258   2580   \n",
              "2259   2581   \n",
              "2260   2582   \n",
              "2261   2583   \n",
              "\n",
              "                                                                                                                                                                                                                                                                                                                                                                                                                                                                                                                                                                                                                                                                                                                                                                                                                                                                                                                                                                                                                                                                                                                                                                                                                                                                                                                                                                                                                                                                                                                                                                                                                                                                                                                                                                                                                                                                                                                                                                                                                                                                                                                                                                                                                                                                                                                                                                                                                                                                                                                                                                                                                                       POSTS  \\\n",
              "0                                                                                                                                                                                                                                                                                                                                                                                                                                                                                                                                                                                                                                                                                                                                                                                                                                                                                                                                                                                                                                                                                                                                                                                                                                                                                                                                                                                                                                                                                                                                                                                                                                                                                                                                                                                                                                                                                                                                                                                                                                                                                                                                                                                                                                                                                                                                                                                                                                                                                                                                                              does excel run on mac you bet so do word powerpoint and all the apps you need   \n",
              "1                                                                                                                                                                                                                                                                                                                                                                                                                                                                                                                                                                                                                                                                                                                                                                                                                                                                                                                                                                                                                                                                                                                                                                                                                                                                                                                                                                                                                                                                                                                                                                                                                                                                                                                                                                                                                                                                                                                                                                                                                                                                                                                                                                                                                                                                                                                                                                                                                                                                                                                                        i am about to start a new role at capgemini and containing myself is a real issuedo not ask excited   \n",
              "2                                                                                                                                                                                                                                                                                                                                                                                                                                                                                                                                                                                                                                                                                                                                                                                                                                                                                                                                                                                                                                                                                                                                                                                                                                                                                                                                                                                                                                                                                                                                                                                                                                                                                                                                                                                                                                                                                                                                                                                                                                                                                                                                                                                                                                                                                                                                                                                                                                                                                                                                                                                                                        new chapter excited   \n",
              "3                                                                                                                                                                                                                                                                                                                                                                                                                                                                                                                                                                                                                                                                                                                                                                                                                                                  flying away from the nest and setting off for new adventures on the other side of the planet this day marks a couple of important milestones my first post ever on linkedin  is this really a milestone my last day working at nestl the beginning of a new and exciting journey i am thrilled to announce that i will be moving to new zealand as of february  excited driven by the willingness to enrich ourselves as individuals to go out of our comfort zone to experience a new professional and personal environment and to discover new outdoor experiences my partner and i have decided to take that step and why notsince i graduated from isipca in  the past decade at nestl wow this sounds like a lot which started with a years internship has been incredibly rich and i feel very lucky for all the projects and experiences i went through i met inspiring people and worked on innovative projects from being part of the nestl rd accelerator to the nesqino journey and plenty of other initiatives i enjoyed the diversity of projects activities and challengesthe journey has also sometimes been punctuated with some doubts and questions which were essential to go the extra mile those who know me know that i am always eager to learn new things i do not know yet what will come next and i am very curious to see what the future will bring the next two months will be busy organizing the move and solving admin stuff enjoying time with family and friends recharging and settling in new zealand i will be available for work as of february  and i cannot wait to discover what new zealand has to offer i would love to start discussions about expatriation experiences tips about new zealand potential work opportunities including remote    \n",
              "4                                                                                                                                                                                                                                                                                                                                                                                                                                                                                                                                                                                                                                                                                                                                                                                                                                                                                                                                                                                                                                                                                                                                                                                                                                                                                                                                                                                                                                                                                                                                                                                                                                                                                                                                                                                                                                                                                                                                                                                                                                                                                                                                                                                                                                                                                                                                                                 excited about the great things to come from this partnership gracias to my omnicom media group familia geoffrey calabrese kelly metz amy darwish and televisaunivision daniel aversano richard bertodatti for making this happen multiculturalmarketing httpslnkdinevpbwcu   \n",
              "...                                                                                                                                                                                                                                                                                                                                                                                                                                                                                                                                                                                                                                                                                                                                                                                                                                                                                                                                                                                                                                                                                                                                                                                                                                                                                                                                                                                                                                                                                                                                                                                                                                                                                                                                                                                                                                                                                                                                                                                                                                                                                                                                                                                                                                                                                                                                                                                                                                                                                                                                                                                                                                      ...   \n",
              "2257                                                                                                                                                                                                                                                                                                                                                                                                                                                                                                                                                                                                                                                                                                                                                                                                                                                                                                                                                                                                                                                                                                                                                                                                                                                                                                                                                                                                                                                                                                                                                                                                                                                                                                                                                                                                                                                                                                                                                                                                                                                                                                                                                                                                                                                                                                                                                                                                                                                                                                                                                                        automate testing to catch bugs earlier in your development cycle   \n",
              "2258  is twitter about to go bankrupthttpslnkdingnqtxcnclayoff layoffslaidoff job today linkedin talent searchforjobs techlayoffs techjobs technews careers jobopeningw contract cc jobopportunities career recruiting openforjobopportunities recession recession recession jobsearch itrecruitmentjava phython spring springboot microservices hibernate datajpa kafka aws gcp azure javadeveloper akka scala benchsalesrecruitersdotnetdeveloper dotnet devops powerbi uideveloper networking scrummaster data opportunity opportunities fullstackdeveloper engineering techcommunity layoffsandjobreductions hiring team development grateful comment softwareengineering frontenddataanalysis businessintelligence processimprovementindustrialengineering newopportunities analyst dataengineer opentowork openforwork twitter stripe lyft amazon apple microsoft facebook tesla philips zillow convey jpmc salesforce nytimes nypost wsj layoff layoffslaidoff job todayjavafullstackdeveloper javajobs hiringimmediately hiring hiringtalent marketing project  project snap softwareengineer workleadership digitalhealth medicaldevice biotechnology projectadditionally career opportunities activelylooking talent businessintelligenceanalystinternational students cpt opt ead optead fulltimehb head tn tnvisa tnjobs hbvisa citizens gc gcead uscitizens usajobs usc usajob usa usa usa usaitjobs uscontractjobs usjobseeker usjobdataanalyst businessanalystbusinessanalysis analytics workplace outsourcedhr payroll onboardingpgmp productdevelopment programmanagement productmanagement projectmanagement productmanager programmanager culture remoteworkjobalert canadajobs fulltimeposition candidatesearch fulltimejobs jobfair jobdescription jobavailable jobchangers canada canadaworkvisa fulltime copr canadastaffing canadarecruitment canadacareers canadajobseeker canadaitjob torontocanada canadaitjobsjobhiring jobforyou jobalerts canadaprvisa canadajobseekerspermanentjobs permanentjob permanentrecruitment permanentrole opentonewopportunities torontoitjobs jobseekers recruitingjobposting linkedin openings jobvacancy jobalert jobhunters activelyhiring bulkcanadajobs informaticajobs informatica bigdata hadooptech help economy jobhunt networknyc denver colorado losangeles boston tampa florida michiganjobs oregoan sandiego houston dallas itjobs washington dallaschicago chicagojobs dfw plano dallas dallasjobs austin austinjobs cali calijobs california houston houstonjobs atlanta atlantajobsnyc newyork nycjobs newyorkjobs detroit michiganmexico mexicojobs siliconvalley   \n",
              "2259                                                                                                                                                                                                                                                                                                                                                                                                                                                                                                                                                                                                                                                                                                                                                                                                                                                                                                                                                                                                                                                                                                                                                                                                                                                                                                                                                                                                                                                                                                                                                                                                                                                                                                                                                                                                                                                                                                                                                                                                                                                                                                    that moment when the cast of jurassicworlddominion surprised  students with free laptopsjust one of many surprises for these amazing students during an allexpensepaid trip to universal studios to launch our jurassic worldthemed steam initiative learn more about this crosscompany program with universal pictures universal parks  resorts and the council for opportunity in education to help ensure more young people have access to the resources and opportunities they need to succeed in todays digital world projectup   \n",
              "2260                                                                                                                                                                                                                                                                                                                                                                                                                                                                                                                                                                                                                                                                                                                                                                                                                                                                                                                                                                                                                                                                                                                                                                                                                                                                                                                                                                                                                                                                                                                                                                                                                                                                                                                                                                                                                                                                                                                                                                                                                                                                                                                                                                                                                                                                                                                                                                                                                                                                                                               develop crucial skills and knowledge in browns online mph to address the many health challenges affecting the world today   \n",
              "2261                                                                                                                                                                                                                                                                                                                                                                                                                                                                                                                                                                                                                                                                                                                                                                                                                                                                                                                                                                                                                                                                                                                                                                                                                                                                                                                                                                                                                                                                                                                                                                                                                                                                                                                                                                                                                                                                                                                                                                                                                                                                                                                                                                                                                                                                                                                                                                                                                                                                                                propel your future forward by taking courses online to earn a graduate certificate or masters degree from stanford university learn more   \n",
              "\n",
              "              LABEL  TAGS  \n",
              "0           excited     1  \n",
              "1           excited     1  \n",
              "2           excited     1  \n",
              "3           excited     1  \n",
              "4           excited     1  \n",
              "...             ...   ...  \n",
              "2257  recession2022    -1  \n",
              "2258  recession2022    -1  \n",
              "2259  recession2022    -1  \n",
              "2260  recession2022    -1  \n",
              "2261  recession2022    -1  \n",
              "\n",
              "[2255 rows x 4 columns]"
            ],
            "text/html": [
              "\n",
              "  <div id=\"df-edf6facf-22a1-4fc2-81bd-1e251b4fd94c\">\n",
              "    <div class=\"colab-df-container\">\n",
              "      <div>\n",
              "<style scoped>\n",
              "    .dataframe tbody tr th:only-of-type {\n",
              "        vertical-align: middle;\n",
              "    }\n",
              "\n",
              "    .dataframe tbody tr th {\n",
              "        vertical-align: top;\n",
              "    }\n",
              "\n",
              "    .dataframe thead th {\n",
              "        text-align: right;\n",
              "    }\n",
              "</style>\n",
              "<table border=\"1\" class=\"dataframe\">\n",
              "  <thead>\n",
              "    <tr style=\"text-align: right;\">\n",
              "      <th></th>\n",
              "      <th>index</th>\n",
              "      <th>POSTS</th>\n",
              "      <th>LABEL</th>\n",
              "      <th>TAGS</th>\n",
              "    </tr>\n",
              "  </thead>\n",
              "  <tbody>\n",
              "    <tr>\n",
              "      <th>0</th>\n",
              "      <td>0</td>\n",
              "      <td>does excel run on mac you bet so do word powerpoint and all the apps you need</td>\n",
              "      <td>excited</td>\n",
              "      <td>1</td>\n",
              "    </tr>\n",
              "    <tr>\n",
              "      <th>1</th>\n",
              "      <td>1</td>\n",
              "      <td>i am about to start a new role at capgemini and containing myself is a real issuedo not ask excited</td>\n",
              "      <td>excited</td>\n",
              "      <td>1</td>\n",
              "    </tr>\n",
              "    <tr>\n",
              "      <th>2</th>\n",
              "      <td>2</td>\n",
              "      <td>new chapter excited</td>\n",
              "      <td>excited</td>\n",
              "      <td>1</td>\n",
              "    </tr>\n",
              "    <tr>\n",
              "      <th>3</th>\n",
              "      <td>3</td>\n",
              "      <td>flying away from the nest and setting off for new adventures on the other side of the planet this day marks a couple of important milestones my first post ever on linkedin  is this really a milestone my last day working at nestl the beginning of a new and exciting journey i am thrilled to announce that i will be moving to new zealand as of february  excited driven by the willingness to enrich ourselves as individuals to go out of our comfort zone to experience a new professional and personal environment and to discover new outdoor experiences my partner and i have decided to take that step and why notsince i graduated from isipca in  the past decade at nestl wow this sounds like a lot which started with a years internship has been incredibly rich and i feel very lucky for all the projects and experiences i went through i met inspiring people and worked on innovative projects from being part of the nestl rd accelerator to the nesqino journey and plenty of other initiatives i enjoyed the diversity of projects activities and challengesthe journey has also sometimes been punctuated with some doubts and questions which were essential to go the extra mile those who know me know that i am always eager to learn new things i do not know yet what will come next and i am very curious to see what the future will bring the next two months will be busy organizing the move and solving admin stuff enjoying time with family and friends recharging and settling in new zealand i will be available for work as of february  and i cannot wait to discover what new zealand has to offer i would love to start discussions about expatriation experiences tips about new zealand potential work opportunities including remote</td>\n",
              "      <td>excited</td>\n",
              "      <td>1</td>\n",
              "    </tr>\n",
              "    <tr>\n",
              "      <th>4</th>\n",
              "      <td>4</td>\n",
              "      <td>excited about the great things to come from this partnership gracias to my omnicom media group familia geoffrey calabrese kelly metz amy darwish and televisaunivision daniel aversano richard bertodatti for making this happen multiculturalmarketing httpslnkdinevpbwcu</td>\n",
              "      <td>excited</td>\n",
              "      <td>1</td>\n",
              "    </tr>\n",
              "    <tr>\n",
              "      <th>...</th>\n",
              "      <td>...</td>\n",
              "      <td>...</td>\n",
              "      <td>...</td>\n",
              "      <td>...</td>\n",
              "    </tr>\n",
              "    <tr>\n",
              "      <th>2257</th>\n",
              "      <td>2579</td>\n",
              "      <td>automate testing to catch bugs earlier in your development cycle</td>\n",
              "      <td>recession2022</td>\n",
              "      <td>-1</td>\n",
              "    </tr>\n",
              "    <tr>\n",
              "      <th>2258</th>\n",
              "      <td>2580</td>\n",
              "      <td>is twitter about to go bankrupthttpslnkdingnqtxcnclayoff layoffslaidoff job today linkedin talent searchforjobs techlayoffs techjobs technews careers jobopeningw contract cc jobopportunities career recruiting openforjobopportunities recession recession recession jobsearch itrecruitmentjava phython spring springboot microservices hibernate datajpa kafka aws gcp azure javadeveloper akka scala benchsalesrecruitersdotnetdeveloper dotnet devops powerbi uideveloper networking scrummaster data opportunity opportunities fullstackdeveloper engineering techcommunity layoffsandjobreductions hiring team development grateful comment softwareengineering frontenddataanalysis businessintelligence processimprovementindustrialengineering newopportunities analyst dataengineer opentowork openforwork twitter stripe lyft amazon apple microsoft facebook tesla philips zillow convey jpmc salesforce nytimes nypost wsj layoff layoffslaidoff job todayjavafullstackdeveloper javajobs hiringimmediately hiring hiringtalent marketing project  project snap softwareengineer workleadership digitalhealth medicaldevice biotechnology projectadditionally career opportunities activelylooking talent businessintelligenceanalystinternational students cpt opt ead optead fulltimehb head tn tnvisa tnjobs hbvisa citizens gc gcead uscitizens usajobs usc usajob usa usa usa usaitjobs uscontractjobs usjobseeker usjobdataanalyst businessanalystbusinessanalysis analytics workplace outsourcedhr payroll onboardingpgmp productdevelopment programmanagement productmanagement projectmanagement productmanager programmanager culture remoteworkjobalert canadajobs fulltimeposition candidatesearch fulltimejobs jobfair jobdescription jobavailable jobchangers canada canadaworkvisa fulltime copr canadastaffing canadarecruitment canadacareers canadajobseeker canadaitjob torontocanada canadaitjobsjobhiring jobforyou jobalerts canadaprvisa canadajobseekerspermanentjobs permanentjob permanentrecruitment permanentrole opentonewopportunities torontoitjobs jobseekers recruitingjobposting linkedin openings jobvacancy jobalert jobhunters activelyhiring bulkcanadajobs informaticajobs informatica bigdata hadooptech help economy jobhunt networknyc denver colorado losangeles boston tampa florida michiganjobs oregoan sandiego houston dallas itjobs washington dallaschicago chicagojobs dfw plano dallas dallasjobs austin austinjobs cali calijobs california houston houstonjobs atlanta atlantajobsnyc newyork nycjobs newyorkjobs detroit michiganmexico mexicojobs siliconvalley</td>\n",
              "      <td>recession2022</td>\n",
              "      <td>-1</td>\n",
              "    </tr>\n",
              "    <tr>\n",
              "      <th>2259</th>\n",
              "      <td>2581</td>\n",
              "      <td>that moment when the cast of jurassicworlddominion surprised  students with free laptopsjust one of many surprises for these amazing students during an allexpensepaid trip to universal studios to launch our jurassic worldthemed steam initiative learn more about this crosscompany program with universal pictures universal parks  resorts and the council for opportunity in education to help ensure more young people have access to the resources and opportunities they need to succeed in todays digital world projectup</td>\n",
              "      <td>recession2022</td>\n",
              "      <td>-1</td>\n",
              "    </tr>\n",
              "    <tr>\n",
              "      <th>2260</th>\n",
              "      <td>2582</td>\n",
              "      <td>develop crucial skills and knowledge in browns online mph to address the many health challenges affecting the world today</td>\n",
              "      <td>recession2022</td>\n",
              "      <td>-1</td>\n",
              "    </tr>\n",
              "    <tr>\n",
              "      <th>2261</th>\n",
              "      <td>2583</td>\n",
              "      <td>propel your future forward by taking courses online to earn a graduate certificate or masters degree from stanford university learn more</td>\n",
              "      <td>recession2022</td>\n",
              "      <td>-1</td>\n",
              "    </tr>\n",
              "  </tbody>\n",
              "</table>\n",
              "<p>2255 rows × 4 columns</p>\n",
              "</div>\n",
              "      <button class=\"colab-df-convert\" onclick=\"convertToInteractive('df-edf6facf-22a1-4fc2-81bd-1e251b4fd94c')\"\n",
              "              title=\"Convert this dataframe to an interactive table.\"\n",
              "              style=\"display:none;\">\n",
              "        \n",
              "  <svg xmlns=\"http://www.w3.org/2000/svg\" height=\"24px\"viewBox=\"0 0 24 24\"\n",
              "       width=\"24px\">\n",
              "    <path d=\"M0 0h24v24H0V0z\" fill=\"none\"/>\n",
              "    <path d=\"M18.56 5.44l.94 2.06.94-2.06 2.06-.94-2.06-.94-.94-2.06-.94 2.06-2.06.94zm-11 1L8.5 8.5l.94-2.06 2.06-.94-2.06-.94L8.5 2.5l-.94 2.06-2.06.94zm10 10l.94 2.06.94-2.06 2.06-.94-2.06-.94-.94-2.06-.94 2.06-2.06.94z\"/><path d=\"M17.41 7.96l-1.37-1.37c-.4-.4-.92-.59-1.43-.59-.52 0-1.04.2-1.43.59L10.3 9.45l-7.72 7.72c-.78.78-.78 2.05 0 2.83L4 21.41c.39.39.9.59 1.41.59.51 0 1.02-.2 1.41-.59l7.78-7.78 2.81-2.81c.8-.78.8-2.07 0-2.86zM5.41 20L4 18.59l7.72-7.72 1.47 1.35L5.41 20z\"/>\n",
              "  </svg>\n",
              "      </button>\n",
              "      \n",
              "  <style>\n",
              "    .colab-df-container {\n",
              "      display:flex;\n",
              "      flex-wrap:wrap;\n",
              "      gap: 12px;\n",
              "    }\n",
              "\n",
              "    .colab-df-convert {\n",
              "      background-color: #E8F0FE;\n",
              "      border: none;\n",
              "      border-radius: 50%;\n",
              "      cursor: pointer;\n",
              "      display: none;\n",
              "      fill: #1967D2;\n",
              "      height: 32px;\n",
              "      padding: 0 0 0 0;\n",
              "      width: 32px;\n",
              "    }\n",
              "\n",
              "    .colab-df-convert:hover {\n",
              "      background-color: #E2EBFA;\n",
              "      box-shadow: 0px 1px 2px rgba(60, 64, 67, 0.3), 0px 1px 3px 1px rgba(60, 64, 67, 0.15);\n",
              "      fill: #174EA6;\n",
              "    }\n",
              "\n",
              "    [theme=dark] .colab-df-convert {\n",
              "      background-color: #3B4455;\n",
              "      fill: #D2E3FC;\n",
              "    }\n",
              "\n",
              "    [theme=dark] .colab-df-convert:hover {\n",
              "      background-color: #434B5C;\n",
              "      box-shadow: 0px 1px 3px 1px rgba(0, 0, 0, 0.15);\n",
              "      filter: drop-shadow(0px 1px 2px rgba(0, 0, 0, 0.3));\n",
              "      fill: #FFFFFF;\n",
              "    }\n",
              "  </style>\n",
              "\n",
              "      <script>\n",
              "        const buttonEl =\n",
              "          document.querySelector('#df-edf6facf-22a1-4fc2-81bd-1e251b4fd94c button.colab-df-convert');\n",
              "        buttonEl.style.display =\n",
              "          google.colab.kernel.accessAllowed ? 'block' : 'none';\n",
              "\n",
              "        async function convertToInteractive(key) {\n",
              "          const element = document.querySelector('#df-edf6facf-22a1-4fc2-81bd-1e251b4fd94c');\n",
              "          const dataTable =\n",
              "            await google.colab.kernel.invokeFunction('convertToInteractive',\n",
              "                                                     [key], {});\n",
              "          if (!dataTable) return;\n",
              "\n",
              "          const docLinkHtml = 'Like what you see? Visit the ' +\n",
              "            '<a target=\"_blank\" href=https://colab.research.google.com/notebooks/data_table.ipynb>data table notebook</a>'\n",
              "            + ' to learn more about interactive tables.';\n",
              "          element.innerHTML = '';\n",
              "          dataTable['output_type'] = 'display_data';\n",
              "          await google.colab.output.renderOutput(dataTable, element);\n",
              "          const docLink = document.createElement('div');\n",
              "          docLink.innerHTML = docLinkHtml;\n",
              "          element.appendChild(docLink);\n",
              "        }\n",
              "      </script>\n",
              "    </div>\n",
              "  </div>\n",
              "  "
            ]
          },
          "metadata": {},
          "execution_count": 28
        }
      ]
    },
    {
      "cell_type": "code",
      "source": [
        "!pip install transformers"
      ],
      "metadata": {
        "colab": {
          "base_uri": "https://localhost:8080/"
        },
        "id": "lSq19tsDOSoo",
        "outputId": "eec47166-2fc3-43f5-a181-f311ce60e902"
      },
      "execution_count": null,
      "outputs": [
        {
          "output_type": "stream",
          "name": "stdout",
          "text": [
            "Looking in indexes: https://pypi.org/simple, https://us-python.pkg.dev/colab-wheels/public/simple/\n",
            "Collecting transformers\n",
            "  Downloading transformers-4.25.1-py3-none-any.whl (5.8 MB)\n",
            "\u001b[K     |████████████████████████████████| 5.8 MB 7.3 MB/s \n",
            "\u001b[?25hRequirement already satisfied: regex!=2019.12.17 in /usr/local/lib/python3.8/dist-packages (from transformers) (2022.6.2)\n",
            "Requirement already satisfied: packaging>=20.0 in /usr/local/lib/python3.8/dist-packages (from transformers) (21.3)\n",
            "Requirement already satisfied: numpy>=1.17 in /usr/local/lib/python3.8/dist-packages (from transformers) (1.21.6)\n",
            "Requirement already satisfied: requests in /usr/local/lib/python3.8/dist-packages (from transformers) (2.23.0)\n",
            "Collecting tokenizers!=0.11.3,<0.14,>=0.11.1\n",
            "  Downloading tokenizers-0.13.2-cp38-cp38-manylinux_2_17_x86_64.manylinux2014_x86_64.whl (7.6 MB)\n",
            "\u001b[K     |████████████████████████████████| 7.6 MB 36.4 MB/s \n",
            "\u001b[?25hRequirement already satisfied: tqdm>=4.27 in /usr/local/lib/python3.8/dist-packages (from transformers) (4.64.1)\n",
            "Requirement already satisfied: filelock in /usr/local/lib/python3.8/dist-packages (from transformers) (3.8.0)\n",
            "Collecting huggingface-hub<1.0,>=0.10.0\n",
            "  Downloading huggingface_hub-0.11.1-py3-none-any.whl (182 kB)\n",
            "\u001b[K     |████████████████████████████████| 182 kB 65.1 MB/s \n",
            "\u001b[?25hRequirement already satisfied: pyyaml>=5.1 in /usr/local/lib/python3.8/dist-packages (from transformers) (6.0)\n",
            "Requirement already satisfied: typing-extensions>=3.7.4.3 in /usr/local/lib/python3.8/dist-packages (from huggingface-hub<1.0,>=0.10.0->transformers) (4.4.0)\n",
            "Requirement already satisfied: pyparsing!=3.0.5,>=2.0.2 in /usr/local/lib/python3.8/dist-packages (from packaging>=20.0->transformers) (3.0.9)\n",
            "Requirement already satisfied: certifi>=2017.4.17 in /usr/local/lib/python3.8/dist-packages (from requests->transformers) (2022.9.24)\n",
            "Requirement already satisfied: chardet<4,>=3.0.2 in /usr/local/lib/python3.8/dist-packages (from requests->transformers) (3.0.4)\n",
            "Requirement already satisfied: urllib3!=1.25.0,!=1.25.1,<1.26,>=1.21.1 in /usr/local/lib/python3.8/dist-packages (from requests->transformers) (1.24.3)\n",
            "Requirement already satisfied: idna<3,>=2.5 in /usr/local/lib/python3.8/dist-packages (from requests->transformers) (2.10)\n",
            "Installing collected packages: tokenizers, huggingface-hub, transformers\n",
            "Successfully installed huggingface-hub-0.11.1 tokenizers-0.13.2 transformers-4.25.1\n"
          ]
        }
      ]
    },
    {
      "cell_type": "code",
      "source": [
        "from transformers import AutoTokenizer, AutoModelForSequenceClassification, pipeline\n",
        "from transformers import pipeline\n",
        "classifier = pipeline(\"text-classification\",model='bhadresh-savani/distilbert-base-uncased-sentiment-sst2', return_all_scores=True)\n",
        "tokenizer = AutoTokenizer.from_pretrained(\"bhadresh-savani/distilbert-base-uncased-sentiment-sst2\", model_max_length=512)"
      ],
      "metadata": {
        "colab": {
          "base_uri": "https://localhost:8080/",
          "height": 209,
          "referenced_widgets": [
            "ee57e9f765df424badfa1f5584fba14f",
            "f1b2e7dc45794606805e27516ca70e05",
            "b749ea26ff7544d4966785d0846e15b9",
            "94caa9fdc03c49b698086bce488c3403",
            "97512ee416fb41a68fd990290766226f",
            "04a61ec8f7494906a65830b43ee6fa82",
            "a8f6c9ae08bb4c4a9f6dbb43cff26f67",
            "1be4ad42c98f4d49a36b2ac61bded0bb",
            "d8002f2ac8cb46eaa297600336c0c280",
            "85042b332bac4f788310c82e042aedad",
            "36b40ae747364801a41273e3aa0100ea",
            "e12d1d21640b4d038499431239a45cc2",
            "ce8085fb82b548339630b8bba1740bba",
            "08d300539c514dd99aae3d9329ea1760",
            "e28925191e914ca684b59325d8ec1c84",
            "a83d08d9a122407a8d8fdd7dadf5efd7",
            "1e8ddefeb4e74542a65643a5506d8c41",
            "73a3b13c5d8347a390c713cf4dae9bfd",
            "e1ebc63a9a4b4eafb9adea8b5d56001e",
            "fd45bc2ec9524c00a568bbb766592d9a",
            "bfa253d1374643aeac5cbcac7c2b2d38",
            "b4a89d39b62d4330bd91d0fa4db101e8",
            "9f8f88780d91402eb610526a570670db",
            "6e4b43bf13a844e491bf221105e7705d",
            "92f1f5f8bdc84b3b81d3c955f5d9526c",
            "c0aa616a1f0c4ad58e4ca473d82c3802",
            "d9519e4871304dfeaac3779239eda89d",
            "47f63552fe744f59a32e684bbc887186",
            "040bc517cae045fabf5c9300d5ca626a",
            "ef335a0d63fa468bbcca1ab809dcae35",
            "ea8746a4c6ea48f7b6c7a369ce895016",
            "747a6420011c43ffa2c54d04e72c3a0d",
            "b4ed2417b51d4698bfcfe343411c734b",
            "c9e7b2407c1c4b58bcf7508a8c940584",
            "9b7e11ee16184e7caecda1b05f4d7735",
            "2080dad073dd47f8afda497692d89c10",
            "b4b0f169482e4e2892735195695d6188",
            "835c6729ea904eed9d7f4ab67b803fb7",
            "a6f14c83bb2b4598a57e933b594bf1a0",
            "e5b4bfda1ebe43fdacb608f71dfb9846",
            "2d13e65ff8684862b4455b12916618e5",
            "f11cfcf742504e758bbe005322813b4d",
            "f73e476982574729b47542ad4de4a042",
            "afa5019d881a4b39bd26b7126a32fe5a",
            "101b15bc6fe6404cb03d211da642575a",
            "1abcb7368b5947ae87ccbb2d277b25b6",
            "30b5126818854e32bdeabcf3e0c5b313",
            "9d01e0f495494882877bee340a3d8551",
            "d0595db4afe647e6a3daccc5cb281ccd",
            "07433ad1018e43208045d61dfffe29ea",
            "3735361ec0bd4ab3bffca419d8506253",
            "f7d3c122330b4007821462daf2604764",
            "a3132545afcd4be186ff8afa311ef35d",
            "9b3a0cda588f40a0a3a2642e0f304f3c",
            "aae2e7104c3e4d3ab62b2ffeb86941d2",
            "be540c2fb7b44621b4a641e550735801",
            "e6eb70b293fe4001b0d3e3a9c8ce2a3f",
            "2b080b98e01645bfb282d7ec4e6e2068",
            "4183b5a6b0fc46dcbbe9b8534ceb62f0",
            "a917b49d2ba343d9ab467745fb56075d",
            "fcde52cb617e48c4aaba776feaefd366",
            "d776b8ffa97942098ac94e43d41e3735",
            "7ffe440b40bd4511901f52c3b8fb7bba",
            "aae57e6f5e2845bb94cd45fd7013ad74",
            "817a7ccdf7fd4c4cb75233316ec1239c",
            "33120ded3bc4439baa2f7a1b670cdcc8"
          ]
        },
        "id": "6oI_hT0ON2Z3",
        "outputId": "05a6e67e-1bca-470e-d60d-e60c260bd7a0"
      },
      "execution_count": null,
      "outputs": [
        {
          "output_type": "display_data",
          "data": {
            "text/plain": [
              "Downloading:   0%|          | 0.00/771 [00:00<?, ?B/s]"
            ],
            "application/vnd.jupyter.widget-view+json": {
              "version_major": 2,
              "version_minor": 0,
              "model_id": "ee57e9f765df424badfa1f5584fba14f"
            }
          },
          "metadata": {}
        },
        {
          "output_type": "display_data",
          "data": {
            "text/plain": [
              "Downloading:   0%|          | 0.00/263M [00:00<?, ?B/s]"
            ],
            "application/vnd.jupyter.widget-view+json": {
              "version_major": 2,
              "version_minor": 0,
              "model_id": "e12d1d21640b4d038499431239a45cc2"
            }
          },
          "metadata": {}
        },
        {
          "output_type": "display_data",
          "data": {
            "text/plain": [
              "Downloading:   0%|          | 0.00/320 [00:00<?, ?B/s]"
            ],
            "application/vnd.jupyter.widget-view+json": {
              "version_major": 2,
              "version_minor": 0,
              "model_id": "9f8f88780d91402eb610526a570670db"
            }
          },
          "metadata": {}
        },
        {
          "output_type": "display_data",
          "data": {
            "text/plain": [
              "Downloading:   0%|          | 0.00/213k [00:00<?, ?B/s]"
            ],
            "application/vnd.jupyter.widget-view+json": {
              "version_major": 2,
              "version_minor": 0,
              "model_id": "c9e7b2407c1c4b58bcf7508a8c940584"
            }
          },
          "metadata": {}
        },
        {
          "output_type": "display_data",
          "data": {
            "text/plain": [
              "Downloading:   0%|          | 0.00/436k [00:00<?, ?B/s]"
            ],
            "application/vnd.jupyter.widget-view+json": {
              "version_major": 2,
              "version_minor": 0,
              "model_id": "101b15bc6fe6404cb03d211da642575a"
            }
          },
          "metadata": {}
        },
        {
          "output_type": "display_data",
          "data": {
            "text/plain": [
              "Downloading:   0%|          | 0.00/112 [00:00<?, ?B/s]"
            ],
            "application/vnd.jupyter.widget-view+json": {
              "version_major": 2,
              "version_minor": 0,
              "model_id": "be540c2fb7b44621b4a641e550735801"
            }
          },
          "metadata": {}
        }
      ]
    },
    {
      "cell_type": "code",
      "source": [
        "pred=classifier(list(list(unseen_complete_data['POSTS'])),padding=True, truncation=True,max_length=512)"
      ],
      "metadata": {
        "id": "7QP29qdlN2cf"
      },
      "execution_count": null,
      "outputs": []
    },
    {
      "cell_type": "code",
      "source": [
        "#predictions=classifier.predict(list(list(unseen_complete_data['POSTS'])))\n",
        "y_pred=np.array([])\n",
        "for i in range(len(pred)):\n",
        "  lst=pred[i]\n",
        "  max_score=0\n",
        "  for val in lst:\n",
        "    if val['score'] > max_score:\n",
        "      max_score=val['score']\n",
        "      if val['label']==\"POSITIVE\":\n",
        "        final_pred=1\n",
        "      else:\n",
        "        final_pred=0\n",
        "  y_pred=np.append(y_pred,final_pred)\n",
        "print (y_pred)"
      ],
      "metadata": {
        "colab": {
          "base_uri": "https://localhost:8080/"
        },
        "id": "SfMhO2NqN2fm",
        "outputId": "5712fbb4-2dd9-4803-d084-1c2502d55025"
      },
      "execution_count": null,
      "outputs": [
        {
          "output_type": "stream",
          "name": "stdout",
          "text": [
            "[1. 1. 1. ... 1. 1. 1.]\n"
          ]
        }
      ]
    },
    {
      "cell_type": "code",
      "source": [
        "Y = pd.get_dummies(unseen_complete_data['TAGS']).values\n",
        "Y_test_new_unseen=[]\n",
        "for val in Y:\n",
        "  if val[0]==1:\n",
        "    Y_test_new_unseen.append(0)\n",
        "  else:\n",
        "    Y_test_new_unseen.append(1)"
      ],
      "metadata": {
        "id": "ZUuOPPgcIXaC"
      },
      "execution_count": null,
      "outputs": []
    },
    {
      "cell_type": "code",
      "source": [
        "print (Y_test_new_unseen)"
      ],
      "metadata": {
        "colab": {
          "base_uri": "https://localhost:8080/"
        },
        "id": "o6dHL6ZuJ0Rp",
        "outputId": "991d5220-ad6a-4c87-9a1e-77424684a96a"
      },
      "execution_count": null,
      "outputs": [
        {
          "output_type": "stream",
          "name": "stdout",
          "text": [
            "[1, 1, 1, 1, 1, 1, 1, 1, 1, 1, 1, 1, 1, 1, 1, 1, 1, 1, 1, 1, 1, 1, 1, 1, 1, 1, 1, 1, 1, 1, 1, 1, 1, 1, 1, 1, 1, 1, 1, 1, 1, 1, 1, 1, 1, 1, 1, 1, 1, 1, 1, 1, 1, 1, 1, 1, 1, 1, 1, 1, 1, 1, 1, 1, 1, 1, 1, 1, 1, 1, 1, 1, 1, 1, 1, 1, 1, 1, 1, 1, 1, 1, 1, 1, 1, 1, 1, 1, 1, 1, 1, 0, 0, 0, 0, 0, 0, 0, 0, 0, 0, 0, 0, 0, 0, 0, 0, 0, 0, 0, 0, 0, 0, 0, 0, 0, 0, 0, 0, 0, 0, 0, 0, 0, 0, 0, 0, 0, 0, 0, 0, 0, 0, 0, 0, 0, 0, 0, 0, 0, 0, 0, 0, 0, 0, 0, 0, 0, 0, 0, 0, 0, 0, 0, 0, 0, 0, 0, 0, 0, 0, 0, 0, 0, 0, 0, 0, 0, 0, 0, 0, 0, 0, 0, 0, 0, 0, 0, 0, 0, 0, 0, 0, 0, 0, 0, 0, 0, 0, 0, 0, 0, 0, 0, 0, 0, 0, 0, 0, 0, 0, 0, 0, 0, 0, 0, 0, 0, 0, 0, 0, 0, 0, 0, 0, 0, 0, 0, 0, 0, 0, 0, 0, 0, 0, 0, 0, 0, 0, 0, 0, 0, 0, 0, 0, 0, 0, 0, 0, 0, 0, 0, 0, 0, 0, 0, 0, 0, 0, 0, 0, 0, 0, 0, 0, 0, 0, 0, 0, 0, 0, 0, 0, 0, 0, 0, 0, 0, 0, 0, 0, 0, 0, 0, 0, 0, 0, 0, 0, 0, 0, 0, 0, 0, 0, 0, 0, 0, 0, 0, 0, 0, 0, 0, 0, 0, 0, 0, 0, 0, 0, 0, 0, 0, 0, 0, 0, 0, 0, 0, 0, 0, 0, 0, 0, 0, 0, 0, 0, 0, 0, 0, 0, 0, 0, 0, 0, 0, 0, 0, 0, 0, 0, 0, 0, 0, 0, 0, 0, 0, 0, 0, 0, 0, 0, 0, 0, 0, 0, 0, 0, 0, 0, 0, 0, 0, 0, 0, 0, 0, 0, 0, 0, 0, 0, 0, 0, 0, 0, 0, 0, 0, 0, 0, 0, 0, 0, 0, 0, 0, 0, 0, 0, 0, 0, 0, 0, 0, 0, 0, 0, 0, 0, 0, 0, 0, 0, 0, 0, 0, 0, 0, 0, 0, 0, 0, 0, 0, 0, 0, 0, 0, 0, 0, 0, 0, 0, 0, 0, 0, 0, 1, 1, 1, 1, 1, 1, 1, 1, 1, 1, 1, 1, 1, 1, 1, 1, 1, 1, 1, 1, 1, 1, 1, 1, 1, 1, 1, 1, 1, 1, 1, 1, 1, 1, 1, 1, 1, 1, 1, 1, 1, 1, 1, 1, 1, 1, 1, 1, 1, 1, 1, 1, 1, 1, 1, 1, 1, 1, 1, 1, 1, 1, 1, 1, 1, 1, 1, 1, 1, 1, 1, 1, 1, 1, 1, 1, 1, 1, 1, 1, 1, 1, 1, 1, 1, 1, 1, 1, 1, 1, 1, 1, 1, 1, 1, 1, 1, 1, 1, 1, 1, 1, 1, 1, 1, 1, 1, 1, 1, 1, 1, 1, 1, 1, 1, 1, 1, 1, 1, 1, 1, 1, 1, 1, 1, 1, 1, 1, 1, 1, 1, 1, 1, 1, 1, 1, 1, 1, 1, 1, 1, 1, 1, 1, 1, 1, 1, 1, 1, 1, 1, 1, 1, 1, 1, 1, 1, 1, 1, 1, 1, 1, 1, 1, 1, 1, 1, 1, 1, 1, 1, 1, 1, 1, 1, 1, 1, 1, 1, 1, 1, 1, 1, 1, 1, 1, 1, 1, 1, 1, 1, 1, 1, 1, 1, 1, 1, 1, 1, 1, 1, 1, 1, 1, 1, 1, 1, 1, 1, 1, 1, 1, 1, 1, 1, 1, 1, 1, 1, 1, 1, 1, 1, 1, 1, 1, 1, 1, 1, 1, 1, 1, 1, 1, 1, 1, 1, 1, 1, 1, 1, 1, 1, 1, 1, 1, 1, 1, 1, 1, 1, 1, 1, 1, 1, 1, 1, 1, 1, 1, 1, 1, 1, 1, 1, 1, 1, 1, 1, 1, 1, 1, 1, 1, 1, 1, 1, 1, 1, 1, 1, 1, 1, 1, 1, 1, 1, 1, 1, 1, 1, 1, 1, 1, 1, 1, 1, 1, 1, 1, 1, 1, 1, 1, 1, 1, 1, 1, 1, 1, 1, 1, 1, 1, 1, 1, 1, 1, 1, 1, 1, 1, 1, 1, 1, 1, 1, 1, 1, 1, 1, 1, 1, 1, 1, 1, 1, 1, 1, 1, 1, 1, 1, 1, 1, 1, 1, 1, 1, 1, 1, 0, 0, 0, 0, 0, 0, 0, 0, 0, 0, 0, 0, 0, 0, 0, 0, 0, 0, 0, 0, 0, 0, 0, 0, 0, 0, 0, 0, 0, 0, 0, 0, 0, 0, 0, 0, 0, 0, 0, 0, 0, 0, 0, 0, 0, 0, 0, 0, 0, 0, 0, 0, 0, 0, 0, 0, 0, 0, 0, 0, 0, 0, 0, 0, 0, 0, 0, 0, 0, 0, 0, 0, 0, 0, 0, 0, 0, 0, 0, 0, 0, 0, 0, 0, 0, 0, 0, 0, 0, 0, 0, 0, 0, 0, 0, 0, 0, 0, 0, 0, 0, 0, 0, 0, 0, 0, 0, 0, 0, 0, 0, 0, 0, 0, 0, 0, 0, 0, 0, 0, 0, 0, 0, 0, 0, 0, 0, 0, 0, 0, 0, 0, 0, 0, 0, 0, 0, 0, 0, 0, 0, 0, 0, 0, 0, 0, 0, 0, 0, 0, 0, 0, 0, 0, 0, 0, 0, 0, 0, 0, 0, 0, 0, 0, 0, 0, 0, 0, 0, 0, 0, 0, 0, 0, 0, 0, 0, 0, 0, 0, 0, 0, 0, 0, 0, 0, 0, 0, 0, 0, 0, 0, 0, 0, 0, 0, 0, 0, 0, 0, 0, 0, 0, 0, 0, 0, 0, 0, 0, 0, 0, 0, 0, 0, 0, 0, 0, 0, 0, 0, 0, 0, 0, 0, 0, 0, 0, 0, 0, 0, 0, 0, 0, 0, 0, 0, 0, 0, 0, 0, 0, 0, 0, 0, 0, 0, 0, 0, 0, 0, 0, 0, 0, 0, 0, 0, 0, 0, 0, 0, 0, 0, 0, 0, 0, 0, 0, 0, 0, 0, 0, 0, 0, 0, 0, 0, 0, 0, 0, 0, 0, 0, 0, 0, 0, 0, 0, 0, 0, 0, 0, 0, 0, 0, 0, 0, 0, 0, 0, 0, 0, 0, 0, 0, 0, 0, 0, 0, 0, 0, 0, 0, 0, 1, 1, 1, 1, 1, 1, 1, 1, 1, 1, 1, 1, 1, 1, 1, 1, 1, 1, 1, 1, 1, 1, 1, 1, 1, 1, 1, 1, 1, 1, 1, 1, 1, 1, 1, 1, 1, 1, 1, 1, 1, 1, 1, 1, 1, 1, 1, 1, 1, 1, 1, 1, 1, 1, 1, 1, 1, 1, 1, 1, 1, 1, 1, 1, 1, 1, 1, 1, 1, 1, 1, 1, 1, 1, 1, 1, 1, 1, 1, 1, 1, 1, 1, 1, 1, 1, 1, 1, 1, 1, 1, 1, 1, 1, 1, 1, 1, 1, 1, 1, 1, 1, 1, 1, 1, 1, 1, 1, 1, 1, 1, 1, 1, 1, 1, 1, 1, 1, 1, 1, 1, 1, 1, 1, 1, 1, 1, 1, 1, 1, 1, 1, 1, 1, 1, 1, 1, 1, 1, 1, 1, 1, 1, 1, 1, 1, 1, 1, 1, 1, 1, 1, 1, 1, 1, 1, 1, 1, 1, 1, 1, 1, 1, 1, 1, 1, 1, 1, 1, 1, 1, 1, 1, 1, 1, 1, 1, 1, 1, 1, 1, 1, 1, 1, 1, 1, 1, 1, 1, 1, 1, 1, 1, 1, 1, 1, 1, 1, 1, 1, 1, 1, 1, 1, 1, 1, 1, 1, 1, 1, 1, 1, 1, 1, 1, 1, 1, 1, 1, 1, 1, 1, 1, 1, 1, 1, 1, 1, 1, 1, 1, 1, 1, 1, 1, 1, 1, 1, 1, 1, 1, 1, 1, 1, 1, 1, 1, 1, 1, 1, 1, 1, 1, 1, 1, 1, 1, 1, 1, 1, 1, 1, 1, 1, 1, 1, 1, 1, 1, 1, 1, 1, 1, 1, 1, 1, 1, 1, 1, 1, 1, 1, 1, 1, 1, 1, 1, 1, 1, 1, 1, 1, 1, 1, 1, 1, 1, 1, 1, 1, 1, 1, 1, 1, 1, 1, 1, 1, 1, 1, 1, 1, 1, 1, 1, 1, 1, 1, 1, 1, 1, 1, 1, 1, 1, 1, 1, 1, 1, 1, 1, 1, 1, 1, 1, 1, 1, 1, 1, 1, 1, 1, 1, 1, 1, 1, 1, 1, 1, 1, 1, 1, 1, 1, 1, 1, 1, 1, 1, 1, 1, 1, 1, 1, 1, 1, 1, 1, 1, 1, 1, 1, 1, 1, 1, 1, 1, 1, 1, 1, 1, 1, 1, 1, 1, 1, 1, 1, 1, 1, 1, 1, 1, 1, 1, 1, 1, 1, 1, 1, 1, 1, 1, 1, 1, 1, 1, 1, 1, 1, 1, 1, 1, 1, 1, 1, 1, 1, 1, 1, 1, 1, 1, 1, 1, 1, 1, 1, 1, 1, 1, 1, 1, 1, 1, 1, 1, 1, 1, 1, 1, 1, 1, 1, 1, 1, 1, 1, 1, 1, 1, 1, 1, 1, 1, 1, 1, 1, 1, 1, 1, 1, 1, 1, 1, 1, 1, 1, 1, 1, 1, 1, 1, 1, 1, 1, 1, 1, 1, 1, 1, 1, 1, 1, 1, 1, 1, 1, 1, 1, 1, 1, 1, 1, 1, 1, 1, 1, 1, 1, 1, 1, 1, 1, 1, 1, 1, 1, 1, 1, 1, 1, 1, 1, 1, 1, 1, 1, 1, 1, 1, 1, 1, 1, 1, 1, 1, 1, 1, 1, 1, 1, 1, 1, 1, 1, 1, 1, 1, 1, 1, 1, 1, 1, 1, 1, 1, 1, 1, 1, 1, 1, 1, 1, 1, 1, 1, 1, 1, 1, 1, 1, 1, 1, 1, 1, 1, 1, 1, 1, 1, 1, 1, 1, 1, 1, 1, 1, 1, 1, 1, 1, 1, 1, 1, 1, 1, 1, 1, 1, 1, 1, 1, 1, 1, 1, 1, 1, 1, 1, 1, 1, 1, 1, 1, 1, 1, 1, 1, 1, 1, 1, 1, 0, 0, 0, 0, 0, 0, 0, 0, 0, 0, 0, 0, 0, 0, 0, 0, 0, 0, 0, 0, 0, 0, 0, 0, 0, 0, 0, 0, 0, 0, 0, 0, 0, 0, 0, 0, 0, 0, 0, 0, 0, 0, 0, 0, 0, 0, 0, 0, 0, 0, 0, 0, 0, 0, 0, 0, 0, 0, 0, 0, 0, 0, 0, 0, 0, 0, 0, 0, 0, 0, 0, 0, 0, 0, 0, 0, 0, 0, 0, 0, 0, 0, 0, 0, 0, 0, 0, 0, 0, 0, 0, 0, 0, 0, 0, 0, 0, 0, 0, 0, 0, 0, 0, 0, 0, 0, 0, 0, 0, 0, 0, 0, 0, 0, 0, 0, 0, 0, 0, 0, 0, 0, 0, 0, 0, 0, 0, 0, 0, 0, 0, 0, 0, 0, 0, 0, 0, 0, 0, 0, 0, 0, 0, 0, 0, 0, 0, 0, 0, 0, 0, 0, 0, 0, 0, 0, 0, 0, 0, 0, 0, 0, 0, 0, 0, 0, 0, 0, 0, 0, 0, 0, 0, 0, 0, 0, 0, 0, 0, 0, 0, 0, 0, 0, 0, 0, 0, 0, 0, 0, 0, 0, 0, 0, 0, 0, 0, 0, 0, 0, 0, 0, 0, 0, 0, 0, 0, 0, 0, 0, 0, 0, 0, 0, 0, 0, 0, 0, 0, 0, 0, 0, 0, 0, 0, 0, 0, 0, 0, 0, 0, 0, 0, 0, 0, 0, 0, 0, 0, 0, 0, 0, 0, 0, 0, 0, 0, 0, 0, 0, 0, 0, 0, 0, 0, 0, 0, 0, 0, 0, 0, 0, 0, 0, 0, 0, 0, 0, 0, 0, 0, 0, 0, 0, 0, 0, 0, 0, 0, 0, 0, 0, 0, 0, 0, 0, 0, 0, 0, 0, 0, 0, 0, 0, 0, 0, 0, 0, 0, 0, 0, 0, 0, 0, 0, 0, 0, 0, 0, 0, 0, 0, 0, 0, 0, 0, 0, 0, 0, 0, 0, 0, 0, 0, 0, 0, 0, 0, 0, 0, 0, 0, 0, 0, 0, 0, 0, 0, 0, 0, 0, 0, 0, 0, 0, 0, 0, 0, 0, 0, 0, 0, 0, 0, 0, 0, 0, 0, 0, 0, 0, 0, 0, 0, 0, 0, 0, 0, 0, 0, 0, 0, 0, 0, 0, 0, 0, 0, 0, 0, 0, 0, 0, 0, 0, 0, 0, 0, 0, 0, 0, 0, 0, 0, 0, 0, 0, 0, 0, 0, 0, 0, 0, 0, 0, 0, 0, 0, 0, 0, 0, 0, 0, 0, 0, 0, 0, 0, 0, 0, 0, 0, 0, 0, 0, 0, 0, 0, 0, 0, 0, 0, 0, 0, 0, 0, 0, 0, 0, 0, 0, 0, 0, 0, 0, 0, 0, 0, 0, 0, 0, 0, 0, 0, 0, 0, 0, 0, 0, 0, 0, 0, 0, 0, 0, 0, 0, 0, 0, 0, 0, 0, 0, 0, 0, 0, 0, 0, 0, 0, 0, 0, 0, 0, 0, 0, 0, 0, 0, 0, 0, 0, 0, 0, 0, 0, 0, 0, 0, 0, 0, 0, 0, 0, 0, 0, 0, 0, 0, 0, 0, 0, 0, 0, 0, 0, 0, 0, 0, 0, 0, 0, 0, 0, 0, 0, 0, 0, 0, 0, 0, 0, 0, 0, 0, 0, 0, 0, 0, 0, 0, 0, 0, 0, 0, 0, 0, 0, 0, 0, 0, 0, 0, 0, 0, 0, 0]\n"
          ]
        }
      ]
    },
    {
      "cell_type": "code",
      "source": [
        "from sklearn.metrics import classification_report\n",
        "print(classification_report(Y_test_new_unseen, y_pred))"
      ],
      "metadata": {
        "colab": {
          "base_uri": "https://localhost:8080/"
        },
        "id": "7oU-ERvvprss",
        "outputId": "162a5f72-75b6-4fab-f97a-92304581abf9"
      },
      "execution_count": null,
      "outputs": [
        {
          "output_type": "stream",
          "name": "stdout",
          "text": [
            "              precision    recall  f1-score   support\n",
            "\n",
            "           0       0.72      0.57      0.63      1200\n",
            "           1       0.60      0.75      0.67      1055\n",
            "\n",
            "    accuracy                           0.65      2255\n",
            "   macro avg       0.66      0.66      0.65      2255\n",
            "weighted avg       0.67      0.65      0.65      2255\n",
            "\n"
          ]
        }
      ]
    },
    {
      "cell_type": "code",
      "source": [
        "from transformers import AutoTokenizer, AutoModelForSequenceClassification, pipeline\n",
        "from transformers import pipeline\n",
        "classifier = pipeline(\"text-classification\",model='siebert/sentiment-roberta-large-english', return_all_scores=True)\n",
        "tokenizer = AutoTokenizer.from_pretrained(\"siebert/sentiment-roberta-large-english\", model_max_length=512)"
      ],
      "metadata": {
        "colab": {
          "base_uri": "https://localhost:8080/",
          "height": 209,
          "referenced_widgets": [
            "eb575a337aa044e9ba42916d9b946810",
            "1364130d4a08478eb57a23577f5c3d00",
            "fffb15f3fc87464292a7d812937cd8d8",
            "3541afd402124a5cb7442568fc315ed4",
            "d227507be9ac49e8b33b43772f5846a8",
            "7b60a3bcf0ba47bfa67d359f83a6d043",
            "a5ff3d5cda334fd8b8d39c89a4eeed56",
            "3a59b3361a524af098ad99b453ecb356",
            "3563f08582ef4cf1a67176fc42c97052",
            "c63508876bbe4c89bc78b2a5f65e0c7c",
            "71e8420895d140afa929c6a297b1a1db",
            "df03912c797e4d97ae489067343cb03f",
            "8cc3fad9516a460b8047fd32739f6e48",
            "a45ed9f613004d7399f1caac93a3f9bd",
            "c74fb96d2f62462da2eece637ce6d4e8",
            "89a419e48fff43c792125dcf05d5e987",
            "33742d8221424c19a45a89e4e577a137",
            "92fec67b80454810884d382d3734efb9",
            "a12e4f652420408f9b3f6880f81c43b4",
            "92e494785d1341e8a69dee492e328e90",
            "4fde98870d5f4918907876ce9c4259a2",
            "1cea05461dd94137bd6ca659473f999a",
            "2f1c52cabe9a4933ac62d0a0fc851851",
            "3985fae3126743f0962242a2c717df23",
            "44937517b13443a1b4eb006fbf87eef9",
            "26e182c417224b66b2d8c183caafa0c6",
            "aeb6e68dd52a4f2eaa1a20091e708c15",
            "816ff3ba4d5f454f873995f05ddf696f",
            "401f9d8e06bc4a3caec4bfcb5a870809",
            "96826610b5e5419588cf344423953c43",
            "683fab6169dd4fc9ba53f7287b51d277",
            "60f34d46966b495483790037e5565fb5",
            "7b6e2e8a2d9d4b238f35eafed464e537",
            "b18723c9867d40b29bd0cacc2e5e2849",
            "d71814653e5f42f8a8538c95af494566",
            "f0d7799dd3394159acc251680cf6afbc",
            "99bbf8f109f7434a9c86a8b4ab455c63",
            "5ff6353f5dd748a3a731cecfc23c0535",
            "1e6754930b8f450ebf766d1c43469659",
            "6c436f29590b4b6ebcea507ac42d571c",
            "9cad19cd15194d2ea0b0c88f14d15ce5",
            "fe88639f17324faea1f4246e116dcdf2",
            "d590765241434896b1946f58fe586897",
            "dc4688c6b00c48e98ac5928912bb2dc8",
            "3a4bd28d12ed47d8a779ad9a86456dba",
            "6db9356595274c58b179c713e2551b18",
            "1442e9de44cc466ea8ea5f74698ec188",
            "65b5f5b362464a22aedfca94c0b97bb9",
            "ad7c4e10889a41a8ba8e7cf6fa4d1b29",
            "861fb8205dfa47beb31aef1070f10753",
            "d3e7384a146c41d0934421e14cf82082",
            "a7ad22108b6248ee8abb9e2beafbdd1e",
            "180002d34eb646729572e8606509da24",
            "6f367cb1ad0c43ba818576cd5898cd6b",
            "c10f9a0cf4ff49f6aa7ae75f07af34b7",
            "490a06b451774107be70e07ac32c6e82",
            "a03268f5e2d94701b799326350ecdfe6",
            "72e02137181d42f3b130fc16e85b27f0",
            "f54ea2e75d9b41f8bea34d9a07eae85e",
            "8df15d91408e41538f06d359505f4cf4",
            "bb8546a647ea466cb43853848fbbb67c",
            "26cb6622260e4651af22dd76eef2e65b",
            "07b2ee1ea18e4454869246ad843e0d7a",
            "098b1977bad24480b5a2c3a96da9a374",
            "2d0f1476c58d44cfb6d57bb3cb08da17",
            "9fee62b9be24489089ab1000df368a99"
          ]
        },
        "id": "p9mHNNacKrVD",
        "outputId": "0595bf41-393b-4f40-f4ae-3478eb2ec259"
      },
      "execution_count": null,
      "outputs": [
        {
          "output_type": "display_data",
          "data": {
            "text/plain": [
              "Downloading:   0%|          | 0.00/687 [00:00<?, ?B/s]"
            ],
            "application/vnd.jupyter.widget-view+json": {
              "version_major": 2,
              "version_minor": 0,
              "model_id": "eb575a337aa044e9ba42916d9b946810"
            }
          },
          "metadata": {}
        },
        {
          "output_type": "display_data",
          "data": {
            "text/plain": [
              "Downloading:   0%|          | 0.00/1.42G [00:00<?, ?B/s]"
            ],
            "application/vnd.jupyter.widget-view+json": {
              "version_major": 2,
              "version_minor": 0,
              "model_id": "df03912c797e4d97ae489067343cb03f"
            }
          },
          "metadata": {}
        },
        {
          "output_type": "display_data",
          "data": {
            "text/plain": [
              "Downloading:   0%|          | 0.00/256 [00:00<?, ?B/s]"
            ],
            "application/vnd.jupyter.widget-view+json": {
              "version_major": 2,
              "version_minor": 0,
              "model_id": "2f1c52cabe9a4933ac62d0a0fc851851"
            }
          },
          "metadata": {}
        },
        {
          "output_type": "display_data",
          "data": {
            "text/plain": [
              "Downloading:   0%|          | 0.00/798k [00:00<?, ?B/s]"
            ],
            "application/vnd.jupyter.widget-view+json": {
              "version_major": 2,
              "version_minor": 0,
              "model_id": "b18723c9867d40b29bd0cacc2e5e2849"
            }
          },
          "metadata": {}
        },
        {
          "output_type": "display_data",
          "data": {
            "text/plain": [
              "Downloading:   0%|          | 0.00/456k [00:00<?, ?B/s]"
            ],
            "application/vnd.jupyter.widget-view+json": {
              "version_major": 2,
              "version_minor": 0,
              "model_id": "3a4bd28d12ed47d8a779ad9a86456dba"
            }
          },
          "metadata": {}
        },
        {
          "output_type": "display_data",
          "data": {
            "text/plain": [
              "Downloading:   0%|          | 0.00/150 [00:00<?, ?B/s]"
            ],
            "application/vnd.jupyter.widget-view+json": {
              "version_major": 2,
              "version_minor": 0,
              "model_id": "490a06b451774107be70e07ac32c6e82"
            }
          },
          "metadata": {}
        }
      ]
    },
    {
      "cell_type": "code",
      "source": [
        "pred=classifier(list(list(unseen_complete_data['POSTS'])),padding=True, truncation=True,max_length=512)"
      ],
      "metadata": {
        "id": "uxZaQ-OpLHkY"
      },
      "execution_count": null,
      "outputs": []
    },
    {
      "cell_type": "code",
      "source": [
        "#predictions=classifier.predict(list(list(unseen_complete_data['POSTS'])))\n",
        "y_pred=np.array([])\n",
        "for i in range(len(pred)):\n",
        "  lst=pred[i]\n",
        "  max_score=0\n",
        "  for val in lst:\n",
        "    if val['score'] > max_score:\n",
        "      max_score=val['score']\n",
        "      if val['label']==\"POSITIVE\":\n",
        "        final_pred=1\n",
        "      else:\n",
        "        final_pred=0\n",
        "  y_pred=np.append(y_pred,final_pred)\n",
        "print (y_pred)"
      ],
      "metadata": {
        "colab": {
          "base_uri": "https://localhost:8080/"
        },
        "outputId": "eb32fcfd-dc3d-400e-cece-a2033ec36973",
        "id": "K93slJ9HLHkZ"
      },
      "execution_count": null,
      "outputs": [
        {
          "output_type": "stream",
          "name": "stdout",
          "text": [
            "[1. 1. 1. ... 1. 1. 1.]\n"
          ]
        }
      ]
    },
    {
      "cell_type": "code",
      "source": [
        "from sklearn.metrics import classification_report\n",
        "print(classification_report(Y_test_new_unseen, y_pred))"
      ],
      "metadata": {
        "colab": {
          "base_uri": "https://localhost:8080/"
        },
        "outputId": "64e8dadf-2229-4373-f20e-51044ac898c6",
        "id": "bIV3MJH2LHka"
      },
      "execution_count": null,
      "outputs": [
        {
          "output_type": "stream",
          "name": "stdout",
          "text": [
            "              precision    recall  f1-score   support\n",
            "\n",
            "           0       0.73      0.15      0.25      1200\n",
            "           1       0.49      0.93      0.64      1055\n",
            "\n",
            "    accuracy                           0.52      2255\n",
            "   macro avg       0.61      0.54      0.45      2255\n",
            "weighted avg       0.62      0.52      0.44      2255\n",
            "\n"
          ]
        }
      ]
    },
    {
      "cell_type": "code",
      "source": [
        "print (np.unique(y_pred, return_counts=True))"
      ],
      "metadata": {
        "colab": {
          "base_uri": "https://localhost:8080/"
        },
        "id": "-FUtBcJ9Krd6",
        "outputId": "f46c7b25-1c50-4471-b5c4-c2cf65268dfa"
      },
      "execution_count": null,
      "outputs": [
        {
          "output_type": "stream",
          "name": "stdout",
          "text": [
            "(array([0., 1.]), array([ 252, 2003]))\n"
          ]
        }
      ]
    },
    {
      "cell_type": "code",
      "source": [
        "print (np.unique(Y_test_new_unseen, return_counts=True))"
      ],
      "metadata": {
        "colab": {
          "base_uri": "https://localhost:8080/"
        },
        "id": "Fp60MlDeKrgy",
        "outputId": "72cda5a1-32dd-4608-a3ec-cfa91573f75d"
      },
      "execution_count": null,
      "outputs": [
        {
          "output_type": "stream",
          "name": "stdout",
          "text": [
            "(array([0, 1]), array([1200, 1055]))\n"
          ]
        }
      ]
    },
    {
      "cell_type": "code",
      "source": [],
      "metadata": {
        "id": "yRK1SOyMKrqJ"
      },
      "execution_count": null,
      "outputs": []
    }
  ],
  "metadata": {
    "colab": {
      "provenance": []
    },
    "kernelspec": {
      "display_name": "Python 3",
      "name": "python3"
    },
    "language_info": {
      "name": "python"
    },
    "widgets": {
      "application/vnd.jupyter.widget-state+json": {
        "ee57e9f765df424badfa1f5584fba14f": {
          "model_module": "@jupyter-widgets/controls",
          "model_name": "HBoxModel",
          "model_module_version": "1.5.0",
          "state": {
            "_dom_classes": [],
            "_model_module": "@jupyter-widgets/controls",
            "_model_module_version": "1.5.0",
            "_model_name": "HBoxModel",
            "_view_count": null,
            "_view_module": "@jupyter-widgets/controls",
            "_view_module_version": "1.5.0",
            "_view_name": "HBoxView",
            "box_style": "",
            "children": [
              "IPY_MODEL_f1b2e7dc45794606805e27516ca70e05",
              "IPY_MODEL_b749ea26ff7544d4966785d0846e15b9",
              "IPY_MODEL_94caa9fdc03c49b698086bce488c3403"
            ],
            "layout": "IPY_MODEL_97512ee416fb41a68fd990290766226f"
          }
        },
        "f1b2e7dc45794606805e27516ca70e05": {
          "model_module": "@jupyter-widgets/controls",
          "model_name": "HTMLModel",
          "model_module_version": "1.5.0",
          "state": {
            "_dom_classes": [],
            "_model_module": "@jupyter-widgets/controls",
            "_model_module_version": "1.5.0",
            "_model_name": "HTMLModel",
            "_view_count": null,
            "_view_module": "@jupyter-widgets/controls",
            "_view_module_version": "1.5.0",
            "_view_name": "HTMLView",
            "description": "",
            "description_tooltip": null,
            "layout": "IPY_MODEL_04a61ec8f7494906a65830b43ee6fa82",
            "placeholder": "​",
            "style": "IPY_MODEL_a8f6c9ae08bb4c4a9f6dbb43cff26f67",
            "value": "Downloading: 100%"
          }
        },
        "b749ea26ff7544d4966785d0846e15b9": {
          "model_module": "@jupyter-widgets/controls",
          "model_name": "FloatProgressModel",
          "model_module_version": "1.5.0",
          "state": {
            "_dom_classes": [],
            "_model_module": "@jupyter-widgets/controls",
            "_model_module_version": "1.5.0",
            "_model_name": "FloatProgressModel",
            "_view_count": null,
            "_view_module": "@jupyter-widgets/controls",
            "_view_module_version": "1.5.0",
            "_view_name": "ProgressView",
            "bar_style": "success",
            "description": "",
            "description_tooltip": null,
            "layout": "IPY_MODEL_1be4ad42c98f4d49a36b2ac61bded0bb",
            "max": 771,
            "min": 0,
            "orientation": "horizontal",
            "style": "IPY_MODEL_d8002f2ac8cb46eaa297600336c0c280",
            "value": 771
          }
        },
        "94caa9fdc03c49b698086bce488c3403": {
          "model_module": "@jupyter-widgets/controls",
          "model_name": "HTMLModel",
          "model_module_version": "1.5.0",
          "state": {
            "_dom_classes": [],
            "_model_module": "@jupyter-widgets/controls",
            "_model_module_version": "1.5.0",
            "_model_name": "HTMLModel",
            "_view_count": null,
            "_view_module": "@jupyter-widgets/controls",
            "_view_module_version": "1.5.0",
            "_view_name": "HTMLView",
            "description": "",
            "description_tooltip": null,
            "layout": "IPY_MODEL_85042b332bac4f788310c82e042aedad",
            "placeholder": "​",
            "style": "IPY_MODEL_36b40ae747364801a41273e3aa0100ea",
            "value": " 771/771 [00:00&lt;00:00, 5.44kB/s]"
          }
        },
        "97512ee416fb41a68fd990290766226f": {
          "model_module": "@jupyter-widgets/base",
          "model_name": "LayoutModel",
          "model_module_version": "1.2.0",
          "state": {
            "_model_module": "@jupyter-widgets/base",
            "_model_module_version": "1.2.0",
            "_model_name": "LayoutModel",
            "_view_count": null,
            "_view_module": "@jupyter-widgets/base",
            "_view_module_version": "1.2.0",
            "_view_name": "LayoutView",
            "align_content": null,
            "align_items": null,
            "align_self": null,
            "border": null,
            "bottom": null,
            "display": null,
            "flex": null,
            "flex_flow": null,
            "grid_area": null,
            "grid_auto_columns": null,
            "grid_auto_flow": null,
            "grid_auto_rows": null,
            "grid_column": null,
            "grid_gap": null,
            "grid_row": null,
            "grid_template_areas": null,
            "grid_template_columns": null,
            "grid_template_rows": null,
            "height": null,
            "justify_content": null,
            "justify_items": null,
            "left": null,
            "margin": null,
            "max_height": null,
            "max_width": null,
            "min_height": null,
            "min_width": null,
            "object_fit": null,
            "object_position": null,
            "order": null,
            "overflow": null,
            "overflow_x": null,
            "overflow_y": null,
            "padding": null,
            "right": null,
            "top": null,
            "visibility": null,
            "width": null
          }
        },
        "04a61ec8f7494906a65830b43ee6fa82": {
          "model_module": "@jupyter-widgets/base",
          "model_name": "LayoutModel",
          "model_module_version": "1.2.0",
          "state": {
            "_model_module": "@jupyter-widgets/base",
            "_model_module_version": "1.2.0",
            "_model_name": "LayoutModel",
            "_view_count": null,
            "_view_module": "@jupyter-widgets/base",
            "_view_module_version": "1.2.0",
            "_view_name": "LayoutView",
            "align_content": null,
            "align_items": null,
            "align_self": null,
            "border": null,
            "bottom": null,
            "display": null,
            "flex": null,
            "flex_flow": null,
            "grid_area": null,
            "grid_auto_columns": null,
            "grid_auto_flow": null,
            "grid_auto_rows": null,
            "grid_column": null,
            "grid_gap": null,
            "grid_row": null,
            "grid_template_areas": null,
            "grid_template_columns": null,
            "grid_template_rows": null,
            "height": null,
            "justify_content": null,
            "justify_items": null,
            "left": null,
            "margin": null,
            "max_height": null,
            "max_width": null,
            "min_height": null,
            "min_width": null,
            "object_fit": null,
            "object_position": null,
            "order": null,
            "overflow": null,
            "overflow_x": null,
            "overflow_y": null,
            "padding": null,
            "right": null,
            "top": null,
            "visibility": null,
            "width": null
          }
        },
        "a8f6c9ae08bb4c4a9f6dbb43cff26f67": {
          "model_module": "@jupyter-widgets/controls",
          "model_name": "DescriptionStyleModel",
          "model_module_version": "1.5.0",
          "state": {
            "_model_module": "@jupyter-widgets/controls",
            "_model_module_version": "1.5.0",
            "_model_name": "DescriptionStyleModel",
            "_view_count": null,
            "_view_module": "@jupyter-widgets/base",
            "_view_module_version": "1.2.0",
            "_view_name": "StyleView",
            "description_width": ""
          }
        },
        "1be4ad42c98f4d49a36b2ac61bded0bb": {
          "model_module": "@jupyter-widgets/base",
          "model_name": "LayoutModel",
          "model_module_version": "1.2.0",
          "state": {
            "_model_module": "@jupyter-widgets/base",
            "_model_module_version": "1.2.0",
            "_model_name": "LayoutModel",
            "_view_count": null,
            "_view_module": "@jupyter-widgets/base",
            "_view_module_version": "1.2.0",
            "_view_name": "LayoutView",
            "align_content": null,
            "align_items": null,
            "align_self": null,
            "border": null,
            "bottom": null,
            "display": null,
            "flex": null,
            "flex_flow": null,
            "grid_area": null,
            "grid_auto_columns": null,
            "grid_auto_flow": null,
            "grid_auto_rows": null,
            "grid_column": null,
            "grid_gap": null,
            "grid_row": null,
            "grid_template_areas": null,
            "grid_template_columns": null,
            "grid_template_rows": null,
            "height": null,
            "justify_content": null,
            "justify_items": null,
            "left": null,
            "margin": null,
            "max_height": null,
            "max_width": null,
            "min_height": null,
            "min_width": null,
            "object_fit": null,
            "object_position": null,
            "order": null,
            "overflow": null,
            "overflow_x": null,
            "overflow_y": null,
            "padding": null,
            "right": null,
            "top": null,
            "visibility": null,
            "width": null
          }
        },
        "d8002f2ac8cb46eaa297600336c0c280": {
          "model_module": "@jupyter-widgets/controls",
          "model_name": "ProgressStyleModel",
          "model_module_version": "1.5.0",
          "state": {
            "_model_module": "@jupyter-widgets/controls",
            "_model_module_version": "1.5.0",
            "_model_name": "ProgressStyleModel",
            "_view_count": null,
            "_view_module": "@jupyter-widgets/base",
            "_view_module_version": "1.2.0",
            "_view_name": "StyleView",
            "bar_color": null,
            "description_width": ""
          }
        },
        "85042b332bac4f788310c82e042aedad": {
          "model_module": "@jupyter-widgets/base",
          "model_name": "LayoutModel",
          "model_module_version": "1.2.0",
          "state": {
            "_model_module": "@jupyter-widgets/base",
            "_model_module_version": "1.2.0",
            "_model_name": "LayoutModel",
            "_view_count": null,
            "_view_module": "@jupyter-widgets/base",
            "_view_module_version": "1.2.0",
            "_view_name": "LayoutView",
            "align_content": null,
            "align_items": null,
            "align_self": null,
            "border": null,
            "bottom": null,
            "display": null,
            "flex": null,
            "flex_flow": null,
            "grid_area": null,
            "grid_auto_columns": null,
            "grid_auto_flow": null,
            "grid_auto_rows": null,
            "grid_column": null,
            "grid_gap": null,
            "grid_row": null,
            "grid_template_areas": null,
            "grid_template_columns": null,
            "grid_template_rows": null,
            "height": null,
            "justify_content": null,
            "justify_items": null,
            "left": null,
            "margin": null,
            "max_height": null,
            "max_width": null,
            "min_height": null,
            "min_width": null,
            "object_fit": null,
            "object_position": null,
            "order": null,
            "overflow": null,
            "overflow_x": null,
            "overflow_y": null,
            "padding": null,
            "right": null,
            "top": null,
            "visibility": null,
            "width": null
          }
        },
        "36b40ae747364801a41273e3aa0100ea": {
          "model_module": "@jupyter-widgets/controls",
          "model_name": "DescriptionStyleModel",
          "model_module_version": "1.5.0",
          "state": {
            "_model_module": "@jupyter-widgets/controls",
            "_model_module_version": "1.5.0",
            "_model_name": "DescriptionStyleModel",
            "_view_count": null,
            "_view_module": "@jupyter-widgets/base",
            "_view_module_version": "1.2.0",
            "_view_name": "StyleView",
            "description_width": ""
          }
        },
        "e12d1d21640b4d038499431239a45cc2": {
          "model_module": "@jupyter-widgets/controls",
          "model_name": "HBoxModel",
          "model_module_version": "1.5.0",
          "state": {
            "_dom_classes": [],
            "_model_module": "@jupyter-widgets/controls",
            "_model_module_version": "1.5.0",
            "_model_name": "HBoxModel",
            "_view_count": null,
            "_view_module": "@jupyter-widgets/controls",
            "_view_module_version": "1.5.0",
            "_view_name": "HBoxView",
            "box_style": "",
            "children": [
              "IPY_MODEL_ce8085fb82b548339630b8bba1740bba",
              "IPY_MODEL_08d300539c514dd99aae3d9329ea1760",
              "IPY_MODEL_e28925191e914ca684b59325d8ec1c84"
            ],
            "layout": "IPY_MODEL_a83d08d9a122407a8d8fdd7dadf5efd7"
          }
        },
        "ce8085fb82b548339630b8bba1740bba": {
          "model_module": "@jupyter-widgets/controls",
          "model_name": "HTMLModel",
          "model_module_version": "1.5.0",
          "state": {
            "_dom_classes": [],
            "_model_module": "@jupyter-widgets/controls",
            "_model_module_version": "1.5.0",
            "_model_name": "HTMLModel",
            "_view_count": null,
            "_view_module": "@jupyter-widgets/controls",
            "_view_module_version": "1.5.0",
            "_view_name": "HTMLView",
            "description": "",
            "description_tooltip": null,
            "layout": "IPY_MODEL_1e8ddefeb4e74542a65643a5506d8c41",
            "placeholder": "​",
            "style": "IPY_MODEL_73a3b13c5d8347a390c713cf4dae9bfd",
            "value": "Downloading: 100%"
          }
        },
        "08d300539c514dd99aae3d9329ea1760": {
          "model_module": "@jupyter-widgets/controls",
          "model_name": "FloatProgressModel",
          "model_module_version": "1.5.0",
          "state": {
            "_dom_classes": [],
            "_model_module": "@jupyter-widgets/controls",
            "_model_module_version": "1.5.0",
            "_model_name": "FloatProgressModel",
            "_view_count": null,
            "_view_module": "@jupyter-widgets/controls",
            "_view_module_version": "1.5.0",
            "_view_name": "ProgressView",
            "bar_style": "success",
            "description": "",
            "description_tooltip": null,
            "layout": "IPY_MODEL_e1ebc63a9a4b4eafb9adea8b5d56001e",
            "max": 263170801,
            "min": 0,
            "orientation": "horizontal",
            "style": "IPY_MODEL_fd45bc2ec9524c00a568bbb766592d9a",
            "value": 263170801
          }
        },
        "e28925191e914ca684b59325d8ec1c84": {
          "model_module": "@jupyter-widgets/controls",
          "model_name": "HTMLModel",
          "model_module_version": "1.5.0",
          "state": {
            "_dom_classes": [],
            "_model_module": "@jupyter-widgets/controls",
            "_model_module_version": "1.5.0",
            "_model_name": "HTMLModel",
            "_view_count": null,
            "_view_module": "@jupyter-widgets/controls",
            "_view_module_version": "1.5.0",
            "_view_name": "HTMLView",
            "description": "",
            "description_tooltip": null,
            "layout": "IPY_MODEL_bfa253d1374643aeac5cbcac7c2b2d38",
            "placeholder": "​",
            "style": "IPY_MODEL_b4a89d39b62d4330bd91d0fa4db101e8",
            "value": " 263M/263M [00:09&lt;00:00, 28.0MB/s]"
          }
        },
        "a83d08d9a122407a8d8fdd7dadf5efd7": {
          "model_module": "@jupyter-widgets/base",
          "model_name": "LayoutModel",
          "model_module_version": "1.2.0",
          "state": {
            "_model_module": "@jupyter-widgets/base",
            "_model_module_version": "1.2.0",
            "_model_name": "LayoutModel",
            "_view_count": null,
            "_view_module": "@jupyter-widgets/base",
            "_view_module_version": "1.2.0",
            "_view_name": "LayoutView",
            "align_content": null,
            "align_items": null,
            "align_self": null,
            "border": null,
            "bottom": null,
            "display": null,
            "flex": null,
            "flex_flow": null,
            "grid_area": null,
            "grid_auto_columns": null,
            "grid_auto_flow": null,
            "grid_auto_rows": null,
            "grid_column": null,
            "grid_gap": null,
            "grid_row": null,
            "grid_template_areas": null,
            "grid_template_columns": null,
            "grid_template_rows": null,
            "height": null,
            "justify_content": null,
            "justify_items": null,
            "left": null,
            "margin": null,
            "max_height": null,
            "max_width": null,
            "min_height": null,
            "min_width": null,
            "object_fit": null,
            "object_position": null,
            "order": null,
            "overflow": null,
            "overflow_x": null,
            "overflow_y": null,
            "padding": null,
            "right": null,
            "top": null,
            "visibility": null,
            "width": null
          }
        },
        "1e8ddefeb4e74542a65643a5506d8c41": {
          "model_module": "@jupyter-widgets/base",
          "model_name": "LayoutModel",
          "model_module_version": "1.2.0",
          "state": {
            "_model_module": "@jupyter-widgets/base",
            "_model_module_version": "1.2.0",
            "_model_name": "LayoutModel",
            "_view_count": null,
            "_view_module": "@jupyter-widgets/base",
            "_view_module_version": "1.2.0",
            "_view_name": "LayoutView",
            "align_content": null,
            "align_items": null,
            "align_self": null,
            "border": null,
            "bottom": null,
            "display": null,
            "flex": null,
            "flex_flow": null,
            "grid_area": null,
            "grid_auto_columns": null,
            "grid_auto_flow": null,
            "grid_auto_rows": null,
            "grid_column": null,
            "grid_gap": null,
            "grid_row": null,
            "grid_template_areas": null,
            "grid_template_columns": null,
            "grid_template_rows": null,
            "height": null,
            "justify_content": null,
            "justify_items": null,
            "left": null,
            "margin": null,
            "max_height": null,
            "max_width": null,
            "min_height": null,
            "min_width": null,
            "object_fit": null,
            "object_position": null,
            "order": null,
            "overflow": null,
            "overflow_x": null,
            "overflow_y": null,
            "padding": null,
            "right": null,
            "top": null,
            "visibility": null,
            "width": null
          }
        },
        "73a3b13c5d8347a390c713cf4dae9bfd": {
          "model_module": "@jupyter-widgets/controls",
          "model_name": "DescriptionStyleModel",
          "model_module_version": "1.5.0",
          "state": {
            "_model_module": "@jupyter-widgets/controls",
            "_model_module_version": "1.5.0",
            "_model_name": "DescriptionStyleModel",
            "_view_count": null,
            "_view_module": "@jupyter-widgets/base",
            "_view_module_version": "1.2.0",
            "_view_name": "StyleView",
            "description_width": ""
          }
        },
        "e1ebc63a9a4b4eafb9adea8b5d56001e": {
          "model_module": "@jupyter-widgets/base",
          "model_name": "LayoutModel",
          "model_module_version": "1.2.0",
          "state": {
            "_model_module": "@jupyter-widgets/base",
            "_model_module_version": "1.2.0",
            "_model_name": "LayoutModel",
            "_view_count": null,
            "_view_module": "@jupyter-widgets/base",
            "_view_module_version": "1.2.0",
            "_view_name": "LayoutView",
            "align_content": null,
            "align_items": null,
            "align_self": null,
            "border": null,
            "bottom": null,
            "display": null,
            "flex": null,
            "flex_flow": null,
            "grid_area": null,
            "grid_auto_columns": null,
            "grid_auto_flow": null,
            "grid_auto_rows": null,
            "grid_column": null,
            "grid_gap": null,
            "grid_row": null,
            "grid_template_areas": null,
            "grid_template_columns": null,
            "grid_template_rows": null,
            "height": null,
            "justify_content": null,
            "justify_items": null,
            "left": null,
            "margin": null,
            "max_height": null,
            "max_width": null,
            "min_height": null,
            "min_width": null,
            "object_fit": null,
            "object_position": null,
            "order": null,
            "overflow": null,
            "overflow_x": null,
            "overflow_y": null,
            "padding": null,
            "right": null,
            "top": null,
            "visibility": null,
            "width": null
          }
        },
        "fd45bc2ec9524c00a568bbb766592d9a": {
          "model_module": "@jupyter-widgets/controls",
          "model_name": "ProgressStyleModel",
          "model_module_version": "1.5.0",
          "state": {
            "_model_module": "@jupyter-widgets/controls",
            "_model_module_version": "1.5.0",
            "_model_name": "ProgressStyleModel",
            "_view_count": null,
            "_view_module": "@jupyter-widgets/base",
            "_view_module_version": "1.2.0",
            "_view_name": "StyleView",
            "bar_color": null,
            "description_width": ""
          }
        },
        "bfa253d1374643aeac5cbcac7c2b2d38": {
          "model_module": "@jupyter-widgets/base",
          "model_name": "LayoutModel",
          "model_module_version": "1.2.0",
          "state": {
            "_model_module": "@jupyter-widgets/base",
            "_model_module_version": "1.2.0",
            "_model_name": "LayoutModel",
            "_view_count": null,
            "_view_module": "@jupyter-widgets/base",
            "_view_module_version": "1.2.0",
            "_view_name": "LayoutView",
            "align_content": null,
            "align_items": null,
            "align_self": null,
            "border": null,
            "bottom": null,
            "display": null,
            "flex": null,
            "flex_flow": null,
            "grid_area": null,
            "grid_auto_columns": null,
            "grid_auto_flow": null,
            "grid_auto_rows": null,
            "grid_column": null,
            "grid_gap": null,
            "grid_row": null,
            "grid_template_areas": null,
            "grid_template_columns": null,
            "grid_template_rows": null,
            "height": null,
            "justify_content": null,
            "justify_items": null,
            "left": null,
            "margin": null,
            "max_height": null,
            "max_width": null,
            "min_height": null,
            "min_width": null,
            "object_fit": null,
            "object_position": null,
            "order": null,
            "overflow": null,
            "overflow_x": null,
            "overflow_y": null,
            "padding": null,
            "right": null,
            "top": null,
            "visibility": null,
            "width": null
          }
        },
        "b4a89d39b62d4330bd91d0fa4db101e8": {
          "model_module": "@jupyter-widgets/controls",
          "model_name": "DescriptionStyleModel",
          "model_module_version": "1.5.0",
          "state": {
            "_model_module": "@jupyter-widgets/controls",
            "_model_module_version": "1.5.0",
            "_model_name": "DescriptionStyleModel",
            "_view_count": null,
            "_view_module": "@jupyter-widgets/base",
            "_view_module_version": "1.2.0",
            "_view_name": "StyleView",
            "description_width": ""
          }
        },
        "9f8f88780d91402eb610526a570670db": {
          "model_module": "@jupyter-widgets/controls",
          "model_name": "HBoxModel",
          "model_module_version": "1.5.0",
          "state": {
            "_dom_classes": [],
            "_model_module": "@jupyter-widgets/controls",
            "_model_module_version": "1.5.0",
            "_model_name": "HBoxModel",
            "_view_count": null,
            "_view_module": "@jupyter-widgets/controls",
            "_view_module_version": "1.5.0",
            "_view_name": "HBoxView",
            "box_style": "",
            "children": [
              "IPY_MODEL_6e4b43bf13a844e491bf221105e7705d",
              "IPY_MODEL_92f1f5f8bdc84b3b81d3c955f5d9526c",
              "IPY_MODEL_c0aa616a1f0c4ad58e4ca473d82c3802"
            ],
            "layout": "IPY_MODEL_d9519e4871304dfeaac3779239eda89d"
          }
        },
        "6e4b43bf13a844e491bf221105e7705d": {
          "model_module": "@jupyter-widgets/controls",
          "model_name": "HTMLModel",
          "model_module_version": "1.5.0",
          "state": {
            "_dom_classes": [],
            "_model_module": "@jupyter-widgets/controls",
            "_model_module_version": "1.5.0",
            "_model_name": "HTMLModel",
            "_view_count": null,
            "_view_module": "@jupyter-widgets/controls",
            "_view_module_version": "1.5.0",
            "_view_name": "HTMLView",
            "description": "",
            "description_tooltip": null,
            "layout": "IPY_MODEL_47f63552fe744f59a32e684bbc887186",
            "placeholder": "​",
            "style": "IPY_MODEL_040bc517cae045fabf5c9300d5ca626a",
            "value": "Downloading: 100%"
          }
        },
        "92f1f5f8bdc84b3b81d3c955f5d9526c": {
          "model_module": "@jupyter-widgets/controls",
          "model_name": "FloatProgressModel",
          "model_module_version": "1.5.0",
          "state": {
            "_dom_classes": [],
            "_model_module": "@jupyter-widgets/controls",
            "_model_module_version": "1.5.0",
            "_model_name": "FloatProgressModel",
            "_view_count": null,
            "_view_module": "@jupyter-widgets/controls",
            "_view_module_version": "1.5.0",
            "_view_name": "ProgressView",
            "bar_style": "success",
            "description": "",
            "description_tooltip": null,
            "layout": "IPY_MODEL_ef335a0d63fa468bbcca1ab809dcae35",
            "max": 320,
            "min": 0,
            "orientation": "horizontal",
            "style": "IPY_MODEL_ea8746a4c6ea48f7b6c7a369ce895016",
            "value": 320
          }
        },
        "c0aa616a1f0c4ad58e4ca473d82c3802": {
          "model_module": "@jupyter-widgets/controls",
          "model_name": "HTMLModel",
          "model_module_version": "1.5.0",
          "state": {
            "_dom_classes": [],
            "_model_module": "@jupyter-widgets/controls",
            "_model_module_version": "1.5.0",
            "_model_name": "HTMLModel",
            "_view_count": null,
            "_view_module": "@jupyter-widgets/controls",
            "_view_module_version": "1.5.0",
            "_view_name": "HTMLView",
            "description": "",
            "description_tooltip": null,
            "layout": "IPY_MODEL_747a6420011c43ffa2c54d04e72c3a0d",
            "placeholder": "​",
            "style": "IPY_MODEL_b4ed2417b51d4698bfcfe343411c734b",
            "value": " 320/320 [00:00&lt;00:00, 4.07kB/s]"
          }
        },
        "d9519e4871304dfeaac3779239eda89d": {
          "model_module": "@jupyter-widgets/base",
          "model_name": "LayoutModel",
          "model_module_version": "1.2.0",
          "state": {
            "_model_module": "@jupyter-widgets/base",
            "_model_module_version": "1.2.0",
            "_model_name": "LayoutModel",
            "_view_count": null,
            "_view_module": "@jupyter-widgets/base",
            "_view_module_version": "1.2.0",
            "_view_name": "LayoutView",
            "align_content": null,
            "align_items": null,
            "align_self": null,
            "border": null,
            "bottom": null,
            "display": null,
            "flex": null,
            "flex_flow": null,
            "grid_area": null,
            "grid_auto_columns": null,
            "grid_auto_flow": null,
            "grid_auto_rows": null,
            "grid_column": null,
            "grid_gap": null,
            "grid_row": null,
            "grid_template_areas": null,
            "grid_template_columns": null,
            "grid_template_rows": null,
            "height": null,
            "justify_content": null,
            "justify_items": null,
            "left": null,
            "margin": null,
            "max_height": null,
            "max_width": null,
            "min_height": null,
            "min_width": null,
            "object_fit": null,
            "object_position": null,
            "order": null,
            "overflow": null,
            "overflow_x": null,
            "overflow_y": null,
            "padding": null,
            "right": null,
            "top": null,
            "visibility": null,
            "width": null
          }
        },
        "47f63552fe744f59a32e684bbc887186": {
          "model_module": "@jupyter-widgets/base",
          "model_name": "LayoutModel",
          "model_module_version": "1.2.0",
          "state": {
            "_model_module": "@jupyter-widgets/base",
            "_model_module_version": "1.2.0",
            "_model_name": "LayoutModel",
            "_view_count": null,
            "_view_module": "@jupyter-widgets/base",
            "_view_module_version": "1.2.0",
            "_view_name": "LayoutView",
            "align_content": null,
            "align_items": null,
            "align_self": null,
            "border": null,
            "bottom": null,
            "display": null,
            "flex": null,
            "flex_flow": null,
            "grid_area": null,
            "grid_auto_columns": null,
            "grid_auto_flow": null,
            "grid_auto_rows": null,
            "grid_column": null,
            "grid_gap": null,
            "grid_row": null,
            "grid_template_areas": null,
            "grid_template_columns": null,
            "grid_template_rows": null,
            "height": null,
            "justify_content": null,
            "justify_items": null,
            "left": null,
            "margin": null,
            "max_height": null,
            "max_width": null,
            "min_height": null,
            "min_width": null,
            "object_fit": null,
            "object_position": null,
            "order": null,
            "overflow": null,
            "overflow_x": null,
            "overflow_y": null,
            "padding": null,
            "right": null,
            "top": null,
            "visibility": null,
            "width": null
          }
        },
        "040bc517cae045fabf5c9300d5ca626a": {
          "model_module": "@jupyter-widgets/controls",
          "model_name": "DescriptionStyleModel",
          "model_module_version": "1.5.0",
          "state": {
            "_model_module": "@jupyter-widgets/controls",
            "_model_module_version": "1.5.0",
            "_model_name": "DescriptionStyleModel",
            "_view_count": null,
            "_view_module": "@jupyter-widgets/base",
            "_view_module_version": "1.2.0",
            "_view_name": "StyleView",
            "description_width": ""
          }
        },
        "ef335a0d63fa468bbcca1ab809dcae35": {
          "model_module": "@jupyter-widgets/base",
          "model_name": "LayoutModel",
          "model_module_version": "1.2.0",
          "state": {
            "_model_module": "@jupyter-widgets/base",
            "_model_module_version": "1.2.0",
            "_model_name": "LayoutModel",
            "_view_count": null,
            "_view_module": "@jupyter-widgets/base",
            "_view_module_version": "1.2.0",
            "_view_name": "LayoutView",
            "align_content": null,
            "align_items": null,
            "align_self": null,
            "border": null,
            "bottom": null,
            "display": null,
            "flex": null,
            "flex_flow": null,
            "grid_area": null,
            "grid_auto_columns": null,
            "grid_auto_flow": null,
            "grid_auto_rows": null,
            "grid_column": null,
            "grid_gap": null,
            "grid_row": null,
            "grid_template_areas": null,
            "grid_template_columns": null,
            "grid_template_rows": null,
            "height": null,
            "justify_content": null,
            "justify_items": null,
            "left": null,
            "margin": null,
            "max_height": null,
            "max_width": null,
            "min_height": null,
            "min_width": null,
            "object_fit": null,
            "object_position": null,
            "order": null,
            "overflow": null,
            "overflow_x": null,
            "overflow_y": null,
            "padding": null,
            "right": null,
            "top": null,
            "visibility": null,
            "width": null
          }
        },
        "ea8746a4c6ea48f7b6c7a369ce895016": {
          "model_module": "@jupyter-widgets/controls",
          "model_name": "ProgressStyleModel",
          "model_module_version": "1.5.0",
          "state": {
            "_model_module": "@jupyter-widgets/controls",
            "_model_module_version": "1.5.0",
            "_model_name": "ProgressStyleModel",
            "_view_count": null,
            "_view_module": "@jupyter-widgets/base",
            "_view_module_version": "1.2.0",
            "_view_name": "StyleView",
            "bar_color": null,
            "description_width": ""
          }
        },
        "747a6420011c43ffa2c54d04e72c3a0d": {
          "model_module": "@jupyter-widgets/base",
          "model_name": "LayoutModel",
          "model_module_version": "1.2.0",
          "state": {
            "_model_module": "@jupyter-widgets/base",
            "_model_module_version": "1.2.0",
            "_model_name": "LayoutModel",
            "_view_count": null,
            "_view_module": "@jupyter-widgets/base",
            "_view_module_version": "1.2.0",
            "_view_name": "LayoutView",
            "align_content": null,
            "align_items": null,
            "align_self": null,
            "border": null,
            "bottom": null,
            "display": null,
            "flex": null,
            "flex_flow": null,
            "grid_area": null,
            "grid_auto_columns": null,
            "grid_auto_flow": null,
            "grid_auto_rows": null,
            "grid_column": null,
            "grid_gap": null,
            "grid_row": null,
            "grid_template_areas": null,
            "grid_template_columns": null,
            "grid_template_rows": null,
            "height": null,
            "justify_content": null,
            "justify_items": null,
            "left": null,
            "margin": null,
            "max_height": null,
            "max_width": null,
            "min_height": null,
            "min_width": null,
            "object_fit": null,
            "object_position": null,
            "order": null,
            "overflow": null,
            "overflow_x": null,
            "overflow_y": null,
            "padding": null,
            "right": null,
            "top": null,
            "visibility": null,
            "width": null
          }
        },
        "b4ed2417b51d4698bfcfe343411c734b": {
          "model_module": "@jupyter-widgets/controls",
          "model_name": "DescriptionStyleModel",
          "model_module_version": "1.5.0",
          "state": {
            "_model_module": "@jupyter-widgets/controls",
            "_model_module_version": "1.5.0",
            "_model_name": "DescriptionStyleModel",
            "_view_count": null,
            "_view_module": "@jupyter-widgets/base",
            "_view_module_version": "1.2.0",
            "_view_name": "StyleView",
            "description_width": ""
          }
        },
        "c9e7b2407c1c4b58bcf7508a8c940584": {
          "model_module": "@jupyter-widgets/controls",
          "model_name": "HBoxModel",
          "model_module_version": "1.5.0",
          "state": {
            "_dom_classes": [],
            "_model_module": "@jupyter-widgets/controls",
            "_model_module_version": "1.5.0",
            "_model_name": "HBoxModel",
            "_view_count": null,
            "_view_module": "@jupyter-widgets/controls",
            "_view_module_version": "1.5.0",
            "_view_name": "HBoxView",
            "box_style": "",
            "children": [
              "IPY_MODEL_9b7e11ee16184e7caecda1b05f4d7735",
              "IPY_MODEL_2080dad073dd47f8afda497692d89c10",
              "IPY_MODEL_b4b0f169482e4e2892735195695d6188"
            ],
            "layout": "IPY_MODEL_835c6729ea904eed9d7f4ab67b803fb7"
          }
        },
        "9b7e11ee16184e7caecda1b05f4d7735": {
          "model_module": "@jupyter-widgets/controls",
          "model_name": "HTMLModel",
          "model_module_version": "1.5.0",
          "state": {
            "_dom_classes": [],
            "_model_module": "@jupyter-widgets/controls",
            "_model_module_version": "1.5.0",
            "_model_name": "HTMLModel",
            "_view_count": null,
            "_view_module": "@jupyter-widgets/controls",
            "_view_module_version": "1.5.0",
            "_view_name": "HTMLView",
            "description": "",
            "description_tooltip": null,
            "layout": "IPY_MODEL_a6f14c83bb2b4598a57e933b594bf1a0",
            "placeholder": "​",
            "style": "IPY_MODEL_e5b4bfda1ebe43fdacb608f71dfb9846",
            "value": "Downloading: 100%"
          }
        },
        "2080dad073dd47f8afda497692d89c10": {
          "model_module": "@jupyter-widgets/controls",
          "model_name": "FloatProgressModel",
          "model_module_version": "1.5.0",
          "state": {
            "_dom_classes": [],
            "_model_module": "@jupyter-widgets/controls",
            "_model_module_version": "1.5.0",
            "_model_name": "FloatProgressModel",
            "_view_count": null,
            "_view_module": "@jupyter-widgets/controls",
            "_view_module_version": "1.5.0",
            "_view_name": "ProgressView",
            "bar_style": "success",
            "description": "",
            "description_tooltip": null,
            "layout": "IPY_MODEL_2d13e65ff8684862b4455b12916618e5",
            "max": 213450,
            "min": 0,
            "orientation": "horizontal",
            "style": "IPY_MODEL_f11cfcf742504e758bbe005322813b4d",
            "value": 213450
          }
        },
        "b4b0f169482e4e2892735195695d6188": {
          "model_module": "@jupyter-widgets/controls",
          "model_name": "HTMLModel",
          "model_module_version": "1.5.0",
          "state": {
            "_dom_classes": [],
            "_model_module": "@jupyter-widgets/controls",
            "_model_module_version": "1.5.0",
            "_model_name": "HTMLModel",
            "_view_count": null,
            "_view_module": "@jupyter-widgets/controls",
            "_view_module_version": "1.5.0",
            "_view_name": "HTMLView",
            "description": "",
            "description_tooltip": null,
            "layout": "IPY_MODEL_f73e476982574729b47542ad4de4a042",
            "placeholder": "​",
            "style": "IPY_MODEL_afa5019d881a4b39bd26b7126a32fe5a",
            "value": " 213k/213k [00:00&lt;00:00, 501kB/s]"
          }
        },
        "835c6729ea904eed9d7f4ab67b803fb7": {
          "model_module": "@jupyter-widgets/base",
          "model_name": "LayoutModel",
          "model_module_version": "1.2.0",
          "state": {
            "_model_module": "@jupyter-widgets/base",
            "_model_module_version": "1.2.0",
            "_model_name": "LayoutModel",
            "_view_count": null,
            "_view_module": "@jupyter-widgets/base",
            "_view_module_version": "1.2.0",
            "_view_name": "LayoutView",
            "align_content": null,
            "align_items": null,
            "align_self": null,
            "border": null,
            "bottom": null,
            "display": null,
            "flex": null,
            "flex_flow": null,
            "grid_area": null,
            "grid_auto_columns": null,
            "grid_auto_flow": null,
            "grid_auto_rows": null,
            "grid_column": null,
            "grid_gap": null,
            "grid_row": null,
            "grid_template_areas": null,
            "grid_template_columns": null,
            "grid_template_rows": null,
            "height": null,
            "justify_content": null,
            "justify_items": null,
            "left": null,
            "margin": null,
            "max_height": null,
            "max_width": null,
            "min_height": null,
            "min_width": null,
            "object_fit": null,
            "object_position": null,
            "order": null,
            "overflow": null,
            "overflow_x": null,
            "overflow_y": null,
            "padding": null,
            "right": null,
            "top": null,
            "visibility": null,
            "width": null
          }
        },
        "a6f14c83bb2b4598a57e933b594bf1a0": {
          "model_module": "@jupyter-widgets/base",
          "model_name": "LayoutModel",
          "model_module_version": "1.2.0",
          "state": {
            "_model_module": "@jupyter-widgets/base",
            "_model_module_version": "1.2.0",
            "_model_name": "LayoutModel",
            "_view_count": null,
            "_view_module": "@jupyter-widgets/base",
            "_view_module_version": "1.2.0",
            "_view_name": "LayoutView",
            "align_content": null,
            "align_items": null,
            "align_self": null,
            "border": null,
            "bottom": null,
            "display": null,
            "flex": null,
            "flex_flow": null,
            "grid_area": null,
            "grid_auto_columns": null,
            "grid_auto_flow": null,
            "grid_auto_rows": null,
            "grid_column": null,
            "grid_gap": null,
            "grid_row": null,
            "grid_template_areas": null,
            "grid_template_columns": null,
            "grid_template_rows": null,
            "height": null,
            "justify_content": null,
            "justify_items": null,
            "left": null,
            "margin": null,
            "max_height": null,
            "max_width": null,
            "min_height": null,
            "min_width": null,
            "object_fit": null,
            "object_position": null,
            "order": null,
            "overflow": null,
            "overflow_x": null,
            "overflow_y": null,
            "padding": null,
            "right": null,
            "top": null,
            "visibility": null,
            "width": null
          }
        },
        "e5b4bfda1ebe43fdacb608f71dfb9846": {
          "model_module": "@jupyter-widgets/controls",
          "model_name": "DescriptionStyleModel",
          "model_module_version": "1.5.0",
          "state": {
            "_model_module": "@jupyter-widgets/controls",
            "_model_module_version": "1.5.0",
            "_model_name": "DescriptionStyleModel",
            "_view_count": null,
            "_view_module": "@jupyter-widgets/base",
            "_view_module_version": "1.2.0",
            "_view_name": "StyleView",
            "description_width": ""
          }
        },
        "2d13e65ff8684862b4455b12916618e5": {
          "model_module": "@jupyter-widgets/base",
          "model_name": "LayoutModel",
          "model_module_version": "1.2.0",
          "state": {
            "_model_module": "@jupyter-widgets/base",
            "_model_module_version": "1.2.0",
            "_model_name": "LayoutModel",
            "_view_count": null,
            "_view_module": "@jupyter-widgets/base",
            "_view_module_version": "1.2.0",
            "_view_name": "LayoutView",
            "align_content": null,
            "align_items": null,
            "align_self": null,
            "border": null,
            "bottom": null,
            "display": null,
            "flex": null,
            "flex_flow": null,
            "grid_area": null,
            "grid_auto_columns": null,
            "grid_auto_flow": null,
            "grid_auto_rows": null,
            "grid_column": null,
            "grid_gap": null,
            "grid_row": null,
            "grid_template_areas": null,
            "grid_template_columns": null,
            "grid_template_rows": null,
            "height": null,
            "justify_content": null,
            "justify_items": null,
            "left": null,
            "margin": null,
            "max_height": null,
            "max_width": null,
            "min_height": null,
            "min_width": null,
            "object_fit": null,
            "object_position": null,
            "order": null,
            "overflow": null,
            "overflow_x": null,
            "overflow_y": null,
            "padding": null,
            "right": null,
            "top": null,
            "visibility": null,
            "width": null
          }
        },
        "f11cfcf742504e758bbe005322813b4d": {
          "model_module": "@jupyter-widgets/controls",
          "model_name": "ProgressStyleModel",
          "model_module_version": "1.5.0",
          "state": {
            "_model_module": "@jupyter-widgets/controls",
            "_model_module_version": "1.5.0",
            "_model_name": "ProgressStyleModel",
            "_view_count": null,
            "_view_module": "@jupyter-widgets/base",
            "_view_module_version": "1.2.0",
            "_view_name": "StyleView",
            "bar_color": null,
            "description_width": ""
          }
        },
        "f73e476982574729b47542ad4de4a042": {
          "model_module": "@jupyter-widgets/base",
          "model_name": "LayoutModel",
          "model_module_version": "1.2.0",
          "state": {
            "_model_module": "@jupyter-widgets/base",
            "_model_module_version": "1.2.0",
            "_model_name": "LayoutModel",
            "_view_count": null,
            "_view_module": "@jupyter-widgets/base",
            "_view_module_version": "1.2.0",
            "_view_name": "LayoutView",
            "align_content": null,
            "align_items": null,
            "align_self": null,
            "border": null,
            "bottom": null,
            "display": null,
            "flex": null,
            "flex_flow": null,
            "grid_area": null,
            "grid_auto_columns": null,
            "grid_auto_flow": null,
            "grid_auto_rows": null,
            "grid_column": null,
            "grid_gap": null,
            "grid_row": null,
            "grid_template_areas": null,
            "grid_template_columns": null,
            "grid_template_rows": null,
            "height": null,
            "justify_content": null,
            "justify_items": null,
            "left": null,
            "margin": null,
            "max_height": null,
            "max_width": null,
            "min_height": null,
            "min_width": null,
            "object_fit": null,
            "object_position": null,
            "order": null,
            "overflow": null,
            "overflow_x": null,
            "overflow_y": null,
            "padding": null,
            "right": null,
            "top": null,
            "visibility": null,
            "width": null
          }
        },
        "afa5019d881a4b39bd26b7126a32fe5a": {
          "model_module": "@jupyter-widgets/controls",
          "model_name": "DescriptionStyleModel",
          "model_module_version": "1.5.0",
          "state": {
            "_model_module": "@jupyter-widgets/controls",
            "_model_module_version": "1.5.0",
            "_model_name": "DescriptionStyleModel",
            "_view_count": null,
            "_view_module": "@jupyter-widgets/base",
            "_view_module_version": "1.2.0",
            "_view_name": "StyleView",
            "description_width": ""
          }
        },
        "101b15bc6fe6404cb03d211da642575a": {
          "model_module": "@jupyter-widgets/controls",
          "model_name": "HBoxModel",
          "model_module_version": "1.5.0",
          "state": {
            "_dom_classes": [],
            "_model_module": "@jupyter-widgets/controls",
            "_model_module_version": "1.5.0",
            "_model_name": "HBoxModel",
            "_view_count": null,
            "_view_module": "@jupyter-widgets/controls",
            "_view_module_version": "1.5.0",
            "_view_name": "HBoxView",
            "box_style": "",
            "children": [
              "IPY_MODEL_1abcb7368b5947ae87ccbb2d277b25b6",
              "IPY_MODEL_30b5126818854e32bdeabcf3e0c5b313",
              "IPY_MODEL_9d01e0f495494882877bee340a3d8551"
            ],
            "layout": "IPY_MODEL_d0595db4afe647e6a3daccc5cb281ccd"
          }
        },
        "1abcb7368b5947ae87ccbb2d277b25b6": {
          "model_module": "@jupyter-widgets/controls",
          "model_name": "HTMLModel",
          "model_module_version": "1.5.0",
          "state": {
            "_dom_classes": [],
            "_model_module": "@jupyter-widgets/controls",
            "_model_module_version": "1.5.0",
            "_model_name": "HTMLModel",
            "_view_count": null,
            "_view_module": "@jupyter-widgets/controls",
            "_view_module_version": "1.5.0",
            "_view_name": "HTMLView",
            "description": "",
            "description_tooltip": null,
            "layout": "IPY_MODEL_07433ad1018e43208045d61dfffe29ea",
            "placeholder": "​",
            "style": "IPY_MODEL_3735361ec0bd4ab3bffca419d8506253",
            "value": "Downloading: 100%"
          }
        },
        "30b5126818854e32bdeabcf3e0c5b313": {
          "model_module": "@jupyter-widgets/controls",
          "model_name": "FloatProgressModel",
          "model_module_version": "1.5.0",
          "state": {
            "_dom_classes": [],
            "_model_module": "@jupyter-widgets/controls",
            "_model_module_version": "1.5.0",
            "_model_name": "FloatProgressModel",
            "_view_count": null,
            "_view_module": "@jupyter-widgets/controls",
            "_view_module_version": "1.5.0",
            "_view_name": "ProgressView",
            "bar_style": "success",
            "description": "",
            "description_tooltip": null,
            "layout": "IPY_MODEL_f7d3c122330b4007821462daf2604764",
            "max": 435982,
            "min": 0,
            "orientation": "horizontal",
            "style": "IPY_MODEL_a3132545afcd4be186ff8afa311ef35d",
            "value": 435982
          }
        },
        "9d01e0f495494882877bee340a3d8551": {
          "model_module": "@jupyter-widgets/controls",
          "model_name": "HTMLModel",
          "model_module_version": "1.5.0",
          "state": {
            "_dom_classes": [],
            "_model_module": "@jupyter-widgets/controls",
            "_model_module_version": "1.5.0",
            "_model_name": "HTMLModel",
            "_view_count": null,
            "_view_module": "@jupyter-widgets/controls",
            "_view_module_version": "1.5.0",
            "_view_name": "HTMLView",
            "description": "",
            "description_tooltip": null,
            "layout": "IPY_MODEL_9b3a0cda588f40a0a3a2642e0f304f3c",
            "placeholder": "​",
            "style": "IPY_MODEL_aae2e7104c3e4d3ab62b2ffeb86941d2",
            "value": " 436k/436k [00:00&lt;00:00, 1.16MB/s]"
          }
        },
        "d0595db4afe647e6a3daccc5cb281ccd": {
          "model_module": "@jupyter-widgets/base",
          "model_name": "LayoutModel",
          "model_module_version": "1.2.0",
          "state": {
            "_model_module": "@jupyter-widgets/base",
            "_model_module_version": "1.2.0",
            "_model_name": "LayoutModel",
            "_view_count": null,
            "_view_module": "@jupyter-widgets/base",
            "_view_module_version": "1.2.0",
            "_view_name": "LayoutView",
            "align_content": null,
            "align_items": null,
            "align_self": null,
            "border": null,
            "bottom": null,
            "display": null,
            "flex": null,
            "flex_flow": null,
            "grid_area": null,
            "grid_auto_columns": null,
            "grid_auto_flow": null,
            "grid_auto_rows": null,
            "grid_column": null,
            "grid_gap": null,
            "grid_row": null,
            "grid_template_areas": null,
            "grid_template_columns": null,
            "grid_template_rows": null,
            "height": null,
            "justify_content": null,
            "justify_items": null,
            "left": null,
            "margin": null,
            "max_height": null,
            "max_width": null,
            "min_height": null,
            "min_width": null,
            "object_fit": null,
            "object_position": null,
            "order": null,
            "overflow": null,
            "overflow_x": null,
            "overflow_y": null,
            "padding": null,
            "right": null,
            "top": null,
            "visibility": null,
            "width": null
          }
        },
        "07433ad1018e43208045d61dfffe29ea": {
          "model_module": "@jupyter-widgets/base",
          "model_name": "LayoutModel",
          "model_module_version": "1.2.0",
          "state": {
            "_model_module": "@jupyter-widgets/base",
            "_model_module_version": "1.2.0",
            "_model_name": "LayoutModel",
            "_view_count": null,
            "_view_module": "@jupyter-widgets/base",
            "_view_module_version": "1.2.0",
            "_view_name": "LayoutView",
            "align_content": null,
            "align_items": null,
            "align_self": null,
            "border": null,
            "bottom": null,
            "display": null,
            "flex": null,
            "flex_flow": null,
            "grid_area": null,
            "grid_auto_columns": null,
            "grid_auto_flow": null,
            "grid_auto_rows": null,
            "grid_column": null,
            "grid_gap": null,
            "grid_row": null,
            "grid_template_areas": null,
            "grid_template_columns": null,
            "grid_template_rows": null,
            "height": null,
            "justify_content": null,
            "justify_items": null,
            "left": null,
            "margin": null,
            "max_height": null,
            "max_width": null,
            "min_height": null,
            "min_width": null,
            "object_fit": null,
            "object_position": null,
            "order": null,
            "overflow": null,
            "overflow_x": null,
            "overflow_y": null,
            "padding": null,
            "right": null,
            "top": null,
            "visibility": null,
            "width": null
          }
        },
        "3735361ec0bd4ab3bffca419d8506253": {
          "model_module": "@jupyter-widgets/controls",
          "model_name": "DescriptionStyleModel",
          "model_module_version": "1.5.0",
          "state": {
            "_model_module": "@jupyter-widgets/controls",
            "_model_module_version": "1.5.0",
            "_model_name": "DescriptionStyleModel",
            "_view_count": null,
            "_view_module": "@jupyter-widgets/base",
            "_view_module_version": "1.2.0",
            "_view_name": "StyleView",
            "description_width": ""
          }
        },
        "f7d3c122330b4007821462daf2604764": {
          "model_module": "@jupyter-widgets/base",
          "model_name": "LayoutModel",
          "model_module_version": "1.2.0",
          "state": {
            "_model_module": "@jupyter-widgets/base",
            "_model_module_version": "1.2.0",
            "_model_name": "LayoutModel",
            "_view_count": null,
            "_view_module": "@jupyter-widgets/base",
            "_view_module_version": "1.2.0",
            "_view_name": "LayoutView",
            "align_content": null,
            "align_items": null,
            "align_self": null,
            "border": null,
            "bottom": null,
            "display": null,
            "flex": null,
            "flex_flow": null,
            "grid_area": null,
            "grid_auto_columns": null,
            "grid_auto_flow": null,
            "grid_auto_rows": null,
            "grid_column": null,
            "grid_gap": null,
            "grid_row": null,
            "grid_template_areas": null,
            "grid_template_columns": null,
            "grid_template_rows": null,
            "height": null,
            "justify_content": null,
            "justify_items": null,
            "left": null,
            "margin": null,
            "max_height": null,
            "max_width": null,
            "min_height": null,
            "min_width": null,
            "object_fit": null,
            "object_position": null,
            "order": null,
            "overflow": null,
            "overflow_x": null,
            "overflow_y": null,
            "padding": null,
            "right": null,
            "top": null,
            "visibility": null,
            "width": null
          }
        },
        "a3132545afcd4be186ff8afa311ef35d": {
          "model_module": "@jupyter-widgets/controls",
          "model_name": "ProgressStyleModel",
          "model_module_version": "1.5.0",
          "state": {
            "_model_module": "@jupyter-widgets/controls",
            "_model_module_version": "1.5.0",
            "_model_name": "ProgressStyleModel",
            "_view_count": null,
            "_view_module": "@jupyter-widgets/base",
            "_view_module_version": "1.2.0",
            "_view_name": "StyleView",
            "bar_color": null,
            "description_width": ""
          }
        },
        "9b3a0cda588f40a0a3a2642e0f304f3c": {
          "model_module": "@jupyter-widgets/base",
          "model_name": "LayoutModel",
          "model_module_version": "1.2.0",
          "state": {
            "_model_module": "@jupyter-widgets/base",
            "_model_module_version": "1.2.0",
            "_model_name": "LayoutModel",
            "_view_count": null,
            "_view_module": "@jupyter-widgets/base",
            "_view_module_version": "1.2.0",
            "_view_name": "LayoutView",
            "align_content": null,
            "align_items": null,
            "align_self": null,
            "border": null,
            "bottom": null,
            "display": null,
            "flex": null,
            "flex_flow": null,
            "grid_area": null,
            "grid_auto_columns": null,
            "grid_auto_flow": null,
            "grid_auto_rows": null,
            "grid_column": null,
            "grid_gap": null,
            "grid_row": null,
            "grid_template_areas": null,
            "grid_template_columns": null,
            "grid_template_rows": null,
            "height": null,
            "justify_content": null,
            "justify_items": null,
            "left": null,
            "margin": null,
            "max_height": null,
            "max_width": null,
            "min_height": null,
            "min_width": null,
            "object_fit": null,
            "object_position": null,
            "order": null,
            "overflow": null,
            "overflow_x": null,
            "overflow_y": null,
            "padding": null,
            "right": null,
            "top": null,
            "visibility": null,
            "width": null
          }
        },
        "aae2e7104c3e4d3ab62b2ffeb86941d2": {
          "model_module": "@jupyter-widgets/controls",
          "model_name": "DescriptionStyleModel",
          "model_module_version": "1.5.0",
          "state": {
            "_model_module": "@jupyter-widgets/controls",
            "_model_module_version": "1.5.0",
            "_model_name": "DescriptionStyleModel",
            "_view_count": null,
            "_view_module": "@jupyter-widgets/base",
            "_view_module_version": "1.2.0",
            "_view_name": "StyleView",
            "description_width": ""
          }
        },
        "be540c2fb7b44621b4a641e550735801": {
          "model_module": "@jupyter-widgets/controls",
          "model_name": "HBoxModel",
          "model_module_version": "1.5.0",
          "state": {
            "_dom_classes": [],
            "_model_module": "@jupyter-widgets/controls",
            "_model_module_version": "1.5.0",
            "_model_name": "HBoxModel",
            "_view_count": null,
            "_view_module": "@jupyter-widgets/controls",
            "_view_module_version": "1.5.0",
            "_view_name": "HBoxView",
            "box_style": "",
            "children": [
              "IPY_MODEL_e6eb70b293fe4001b0d3e3a9c8ce2a3f",
              "IPY_MODEL_2b080b98e01645bfb282d7ec4e6e2068",
              "IPY_MODEL_4183b5a6b0fc46dcbbe9b8534ceb62f0"
            ],
            "layout": "IPY_MODEL_a917b49d2ba343d9ab467745fb56075d"
          }
        },
        "e6eb70b293fe4001b0d3e3a9c8ce2a3f": {
          "model_module": "@jupyter-widgets/controls",
          "model_name": "HTMLModel",
          "model_module_version": "1.5.0",
          "state": {
            "_dom_classes": [],
            "_model_module": "@jupyter-widgets/controls",
            "_model_module_version": "1.5.0",
            "_model_name": "HTMLModel",
            "_view_count": null,
            "_view_module": "@jupyter-widgets/controls",
            "_view_module_version": "1.5.0",
            "_view_name": "HTMLView",
            "description": "",
            "description_tooltip": null,
            "layout": "IPY_MODEL_fcde52cb617e48c4aaba776feaefd366",
            "placeholder": "​",
            "style": "IPY_MODEL_d776b8ffa97942098ac94e43d41e3735",
            "value": "Downloading: 100%"
          }
        },
        "2b080b98e01645bfb282d7ec4e6e2068": {
          "model_module": "@jupyter-widgets/controls",
          "model_name": "FloatProgressModel",
          "model_module_version": "1.5.0",
          "state": {
            "_dom_classes": [],
            "_model_module": "@jupyter-widgets/controls",
            "_model_module_version": "1.5.0",
            "_model_name": "FloatProgressModel",
            "_view_count": null,
            "_view_module": "@jupyter-widgets/controls",
            "_view_module_version": "1.5.0",
            "_view_name": "ProgressView",
            "bar_style": "success",
            "description": "",
            "description_tooltip": null,
            "layout": "IPY_MODEL_7ffe440b40bd4511901f52c3b8fb7bba",
            "max": 112,
            "min": 0,
            "orientation": "horizontal",
            "style": "IPY_MODEL_aae57e6f5e2845bb94cd45fd7013ad74",
            "value": 112
          }
        },
        "4183b5a6b0fc46dcbbe9b8534ceb62f0": {
          "model_module": "@jupyter-widgets/controls",
          "model_name": "HTMLModel",
          "model_module_version": "1.5.0",
          "state": {
            "_dom_classes": [],
            "_model_module": "@jupyter-widgets/controls",
            "_model_module_version": "1.5.0",
            "_model_name": "HTMLModel",
            "_view_count": null,
            "_view_module": "@jupyter-widgets/controls",
            "_view_module_version": "1.5.0",
            "_view_name": "HTMLView",
            "description": "",
            "description_tooltip": null,
            "layout": "IPY_MODEL_817a7ccdf7fd4c4cb75233316ec1239c",
            "placeholder": "​",
            "style": "IPY_MODEL_33120ded3bc4439baa2f7a1b670cdcc8",
            "value": " 112/112 [00:00&lt;00:00, 1.64kB/s]"
          }
        },
        "a917b49d2ba343d9ab467745fb56075d": {
          "model_module": "@jupyter-widgets/base",
          "model_name": "LayoutModel",
          "model_module_version": "1.2.0",
          "state": {
            "_model_module": "@jupyter-widgets/base",
            "_model_module_version": "1.2.0",
            "_model_name": "LayoutModel",
            "_view_count": null,
            "_view_module": "@jupyter-widgets/base",
            "_view_module_version": "1.2.0",
            "_view_name": "LayoutView",
            "align_content": null,
            "align_items": null,
            "align_self": null,
            "border": null,
            "bottom": null,
            "display": null,
            "flex": null,
            "flex_flow": null,
            "grid_area": null,
            "grid_auto_columns": null,
            "grid_auto_flow": null,
            "grid_auto_rows": null,
            "grid_column": null,
            "grid_gap": null,
            "grid_row": null,
            "grid_template_areas": null,
            "grid_template_columns": null,
            "grid_template_rows": null,
            "height": null,
            "justify_content": null,
            "justify_items": null,
            "left": null,
            "margin": null,
            "max_height": null,
            "max_width": null,
            "min_height": null,
            "min_width": null,
            "object_fit": null,
            "object_position": null,
            "order": null,
            "overflow": null,
            "overflow_x": null,
            "overflow_y": null,
            "padding": null,
            "right": null,
            "top": null,
            "visibility": null,
            "width": null
          }
        },
        "fcde52cb617e48c4aaba776feaefd366": {
          "model_module": "@jupyter-widgets/base",
          "model_name": "LayoutModel",
          "model_module_version": "1.2.0",
          "state": {
            "_model_module": "@jupyter-widgets/base",
            "_model_module_version": "1.2.0",
            "_model_name": "LayoutModel",
            "_view_count": null,
            "_view_module": "@jupyter-widgets/base",
            "_view_module_version": "1.2.0",
            "_view_name": "LayoutView",
            "align_content": null,
            "align_items": null,
            "align_self": null,
            "border": null,
            "bottom": null,
            "display": null,
            "flex": null,
            "flex_flow": null,
            "grid_area": null,
            "grid_auto_columns": null,
            "grid_auto_flow": null,
            "grid_auto_rows": null,
            "grid_column": null,
            "grid_gap": null,
            "grid_row": null,
            "grid_template_areas": null,
            "grid_template_columns": null,
            "grid_template_rows": null,
            "height": null,
            "justify_content": null,
            "justify_items": null,
            "left": null,
            "margin": null,
            "max_height": null,
            "max_width": null,
            "min_height": null,
            "min_width": null,
            "object_fit": null,
            "object_position": null,
            "order": null,
            "overflow": null,
            "overflow_x": null,
            "overflow_y": null,
            "padding": null,
            "right": null,
            "top": null,
            "visibility": null,
            "width": null
          }
        },
        "d776b8ffa97942098ac94e43d41e3735": {
          "model_module": "@jupyter-widgets/controls",
          "model_name": "DescriptionStyleModel",
          "model_module_version": "1.5.0",
          "state": {
            "_model_module": "@jupyter-widgets/controls",
            "_model_module_version": "1.5.0",
            "_model_name": "DescriptionStyleModel",
            "_view_count": null,
            "_view_module": "@jupyter-widgets/base",
            "_view_module_version": "1.2.0",
            "_view_name": "StyleView",
            "description_width": ""
          }
        },
        "7ffe440b40bd4511901f52c3b8fb7bba": {
          "model_module": "@jupyter-widgets/base",
          "model_name": "LayoutModel",
          "model_module_version": "1.2.0",
          "state": {
            "_model_module": "@jupyter-widgets/base",
            "_model_module_version": "1.2.0",
            "_model_name": "LayoutModel",
            "_view_count": null,
            "_view_module": "@jupyter-widgets/base",
            "_view_module_version": "1.2.0",
            "_view_name": "LayoutView",
            "align_content": null,
            "align_items": null,
            "align_self": null,
            "border": null,
            "bottom": null,
            "display": null,
            "flex": null,
            "flex_flow": null,
            "grid_area": null,
            "grid_auto_columns": null,
            "grid_auto_flow": null,
            "grid_auto_rows": null,
            "grid_column": null,
            "grid_gap": null,
            "grid_row": null,
            "grid_template_areas": null,
            "grid_template_columns": null,
            "grid_template_rows": null,
            "height": null,
            "justify_content": null,
            "justify_items": null,
            "left": null,
            "margin": null,
            "max_height": null,
            "max_width": null,
            "min_height": null,
            "min_width": null,
            "object_fit": null,
            "object_position": null,
            "order": null,
            "overflow": null,
            "overflow_x": null,
            "overflow_y": null,
            "padding": null,
            "right": null,
            "top": null,
            "visibility": null,
            "width": null
          }
        },
        "aae57e6f5e2845bb94cd45fd7013ad74": {
          "model_module": "@jupyter-widgets/controls",
          "model_name": "ProgressStyleModel",
          "model_module_version": "1.5.0",
          "state": {
            "_model_module": "@jupyter-widgets/controls",
            "_model_module_version": "1.5.0",
            "_model_name": "ProgressStyleModel",
            "_view_count": null,
            "_view_module": "@jupyter-widgets/base",
            "_view_module_version": "1.2.0",
            "_view_name": "StyleView",
            "bar_color": null,
            "description_width": ""
          }
        },
        "817a7ccdf7fd4c4cb75233316ec1239c": {
          "model_module": "@jupyter-widgets/base",
          "model_name": "LayoutModel",
          "model_module_version": "1.2.0",
          "state": {
            "_model_module": "@jupyter-widgets/base",
            "_model_module_version": "1.2.0",
            "_model_name": "LayoutModel",
            "_view_count": null,
            "_view_module": "@jupyter-widgets/base",
            "_view_module_version": "1.2.0",
            "_view_name": "LayoutView",
            "align_content": null,
            "align_items": null,
            "align_self": null,
            "border": null,
            "bottom": null,
            "display": null,
            "flex": null,
            "flex_flow": null,
            "grid_area": null,
            "grid_auto_columns": null,
            "grid_auto_flow": null,
            "grid_auto_rows": null,
            "grid_column": null,
            "grid_gap": null,
            "grid_row": null,
            "grid_template_areas": null,
            "grid_template_columns": null,
            "grid_template_rows": null,
            "height": null,
            "justify_content": null,
            "justify_items": null,
            "left": null,
            "margin": null,
            "max_height": null,
            "max_width": null,
            "min_height": null,
            "min_width": null,
            "object_fit": null,
            "object_position": null,
            "order": null,
            "overflow": null,
            "overflow_x": null,
            "overflow_y": null,
            "padding": null,
            "right": null,
            "top": null,
            "visibility": null,
            "width": null
          }
        },
        "33120ded3bc4439baa2f7a1b670cdcc8": {
          "model_module": "@jupyter-widgets/controls",
          "model_name": "DescriptionStyleModel",
          "model_module_version": "1.5.0",
          "state": {
            "_model_module": "@jupyter-widgets/controls",
            "_model_module_version": "1.5.0",
            "_model_name": "DescriptionStyleModel",
            "_view_count": null,
            "_view_module": "@jupyter-widgets/base",
            "_view_module_version": "1.2.0",
            "_view_name": "StyleView",
            "description_width": ""
          }
        },
        "eb575a337aa044e9ba42916d9b946810": {
          "model_module": "@jupyter-widgets/controls",
          "model_name": "HBoxModel",
          "model_module_version": "1.5.0",
          "state": {
            "_dom_classes": [],
            "_model_module": "@jupyter-widgets/controls",
            "_model_module_version": "1.5.0",
            "_model_name": "HBoxModel",
            "_view_count": null,
            "_view_module": "@jupyter-widgets/controls",
            "_view_module_version": "1.5.0",
            "_view_name": "HBoxView",
            "box_style": "",
            "children": [
              "IPY_MODEL_1364130d4a08478eb57a23577f5c3d00",
              "IPY_MODEL_fffb15f3fc87464292a7d812937cd8d8",
              "IPY_MODEL_3541afd402124a5cb7442568fc315ed4"
            ],
            "layout": "IPY_MODEL_d227507be9ac49e8b33b43772f5846a8"
          }
        },
        "1364130d4a08478eb57a23577f5c3d00": {
          "model_module": "@jupyter-widgets/controls",
          "model_name": "HTMLModel",
          "model_module_version": "1.5.0",
          "state": {
            "_dom_classes": [],
            "_model_module": "@jupyter-widgets/controls",
            "_model_module_version": "1.5.0",
            "_model_name": "HTMLModel",
            "_view_count": null,
            "_view_module": "@jupyter-widgets/controls",
            "_view_module_version": "1.5.0",
            "_view_name": "HTMLView",
            "description": "",
            "description_tooltip": null,
            "layout": "IPY_MODEL_7b60a3bcf0ba47bfa67d359f83a6d043",
            "placeholder": "​",
            "style": "IPY_MODEL_a5ff3d5cda334fd8b8d39c89a4eeed56",
            "value": "Downloading: 100%"
          }
        },
        "fffb15f3fc87464292a7d812937cd8d8": {
          "model_module": "@jupyter-widgets/controls",
          "model_name": "FloatProgressModel",
          "model_module_version": "1.5.0",
          "state": {
            "_dom_classes": [],
            "_model_module": "@jupyter-widgets/controls",
            "_model_module_version": "1.5.0",
            "_model_name": "FloatProgressModel",
            "_view_count": null,
            "_view_module": "@jupyter-widgets/controls",
            "_view_module_version": "1.5.0",
            "_view_name": "ProgressView",
            "bar_style": "success",
            "description": "",
            "description_tooltip": null,
            "layout": "IPY_MODEL_3a59b3361a524af098ad99b453ecb356",
            "max": 687,
            "min": 0,
            "orientation": "horizontal",
            "style": "IPY_MODEL_3563f08582ef4cf1a67176fc42c97052",
            "value": 687
          }
        },
        "3541afd402124a5cb7442568fc315ed4": {
          "model_module": "@jupyter-widgets/controls",
          "model_name": "HTMLModel",
          "model_module_version": "1.5.0",
          "state": {
            "_dom_classes": [],
            "_model_module": "@jupyter-widgets/controls",
            "_model_module_version": "1.5.0",
            "_model_name": "HTMLModel",
            "_view_count": null,
            "_view_module": "@jupyter-widgets/controls",
            "_view_module_version": "1.5.0",
            "_view_name": "HTMLView",
            "description": "",
            "description_tooltip": null,
            "layout": "IPY_MODEL_c63508876bbe4c89bc78b2a5f65e0c7c",
            "placeholder": "​",
            "style": "IPY_MODEL_71e8420895d140afa929c6a297b1a1db",
            "value": " 687/687 [00:00&lt;00:00, 4.28kB/s]"
          }
        },
        "d227507be9ac49e8b33b43772f5846a8": {
          "model_module": "@jupyter-widgets/base",
          "model_name": "LayoutModel",
          "model_module_version": "1.2.0",
          "state": {
            "_model_module": "@jupyter-widgets/base",
            "_model_module_version": "1.2.0",
            "_model_name": "LayoutModel",
            "_view_count": null,
            "_view_module": "@jupyter-widgets/base",
            "_view_module_version": "1.2.0",
            "_view_name": "LayoutView",
            "align_content": null,
            "align_items": null,
            "align_self": null,
            "border": null,
            "bottom": null,
            "display": null,
            "flex": null,
            "flex_flow": null,
            "grid_area": null,
            "grid_auto_columns": null,
            "grid_auto_flow": null,
            "grid_auto_rows": null,
            "grid_column": null,
            "grid_gap": null,
            "grid_row": null,
            "grid_template_areas": null,
            "grid_template_columns": null,
            "grid_template_rows": null,
            "height": null,
            "justify_content": null,
            "justify_items": null,
            "left": null,
            "margin": null,
            "max_height": null,
            "max_width": null,
            "min_height": null,
            "min_width": null,
            "object_fit": null,
            "object_position": null,
            "order": null,
            "overflow": null,
            "overflow_x": null,
            "overflow_y": null,
            "padding": null,
            "right": null,
            "top": null,
            "visibility": null,
            "width": null
          }
        },
        "7b60a3bcf0ba47bfa67d359f83a6d043": {
          "model_module": "@jupyter-widgets/base",
          "model_name": "LayoutModel",
          "model_module_version": "1.2.0",
          "state": {
            "_model_module": "@jupyter-widgets/base",
            "_model_module_version": "1.2.0",
            "_model_name": "LayoutModel",
            "_view_count": null,
            "_view_module": "@jupyter-widgets/base",
            "_view_module_version": "1.2.0",
            "_view_name": "LayoutView",
            "align_content": null,
            "align_items": null,
            "align_self": null,
            "border": null,
            "bottom": null,
            "display": null,
            "flex": null,
            "flex_flow": null,
            "grid_area": null,
            "grid_auto_columns": null,
            "grid_auto_flow": null,
            "grid_auto_rows": null,
            "grid_column": null,
            "grid_gap": null,
            "grid_row": null,
            "grid_template_areas": null,
            "grid_template_columns": null,
            "grid_template_rows": null,
            "height": null,
            "justify_content": null,
            "justify_items": null,
            "left": null,
            "margin": null,
            "max_height": null,
            "max_width": null,
            "min_height": null,
            "min_width": null,
            "object_fit": null,
            "object_position": null,
            "order": null,
            "overflow": null,
            "overflow_x": null,
            "overflow_y": null,
            "padding": null,
            "right": null,
            "top": null,
            "visibility": null,
            "width": null
          }
        },
        "a5ff3d5cda334fd8b8d39c89a4eeed56": {
          "model_module": "@jupyter-widgets/controls",
          "model_name": "DescriptionStyleModel",
          "model_module_version": "1.5.0",
          "state": {
            "_model_module": "@jupyter-widgets/controls",
            "_model_module_version": "1.5.0",
            "_model_name": "DescriptionStyleModel",
            "_view_count": null,
            "_view_module": "@jupyter-widgets/base",
            "_view_module_version": "1.2.0",
            "_view_name": "StyleView",
            "description_width": ""
          }
        },
        "3a59b3361a524af098ad99b453ecb356": {
          "model_module": "@jupyter-widgets/base",
          "model_name": "LayoutModel",
          "model_module_version": "1.2.0",
          "state": {
            "_model_module": "@jupyter-widgets/base",
            "_model_module_version": "1.2.0",
            "_model_name": "LayoutModel",
            "_view_count": null,
            "_view_module": "@jupyter-widgets/base",
            "_view_module_version": "1.2.0",
            "_view_name": "LayoutView",
            "align_content": null,
            "align_items": null,
            "align_self": null,
            "border": null,
            "bottom": null,
            "display": null,
            "flex": null,
            "flex_flow": null,
            "grid_area": null,
            "grid_auto_columns": null,
            "grid_auto_flow": null,
            "grid_auto_rows": null,
            "grid_column": null,
            "grid_gap": null,
            "grid_row": null,
            "grid_template_areas": null,
            "grid_template_columns": null,
            "grid_template_rows": null,
            "height": null,
            "justify_content": null,
            "justify_items": null,
            "left": null,
            "margin": null,
            "max_height": null,
            "max_width": null,
            "min_height": null,
            "min_width": null,
            "object_fit": null,
            "object_position": null,
            "order": null,
            "overflow": null,
            "overflow_x": null,
            "overflow_y": null,
            "padding": null,
            "right": null,
            "top": null,
            "visibility": null,
            "width": null
          }
        },
        "3563f08582ef4cf1a67176fc42c97052": {
          "model_module": "@jupyter-widgets/controls",
          "model_name": "ProgressStyleModel",
          "model_module_version": "1.5.0",
          "state": {
            "_model_module": "@jupyter-widgets/controls",
            "_model_module_version": "1.5.0",
            "_model_name": "ProgressStyleModel",
            "_view_count": null,
            "_view_module": "@jupyter-widgets/base",
            "_view_module_version": "1.2.0",
            "_view_name": "StyleView",
            "bar_color": null,
            "description_width": ""
          }
        },
        "c63508876bbe4c89bc78b2a5f65e0c7c": {
          "model_module": "@jupyter-widgets/base",
          "model_name": "LayoutModel",
          "model_module_version": "1.2.0",
          "state": {
            "_model_module": "@jupyter-widgets/base",
            "_model_module_version": "1.2.0",
            "_model_name": "LayoutModel",
            "_view_count": null,
            "_view_module": "@jupyter-widgets/base",
            "_view_module_version": "1.2.0",
            "_view_name": "LayoutView",
            "align_content": null,
            "align_items": null,
            "align_self": null,
            "border": null,
            "bottom": null,
            "display": null,
            "flex": null,
            "flex_flow": null,
            "grid_area": null,
            "grid_auto_columns": null,
            "grid_auto_flow": null,
            "grid_auto_rows": null,
            "grid_column": null,
            "grid_gap": null,
            "grid_row": null,
            "grid_template_areas": null,
            "grid_template_columns": null,
            "grid_template_rows": null,
            "height": null,
            "justify_content": null,
            "justify_items": null,
            "left": null,
            "margin": null,
            "max_height": null,
            "max_width": null,
            "min_height": null,
            "min_width": null,
            "object_fit": null,
            "object_position": null,
            "order": null,
            "overflow": null,
            "overflow_x": null,
            "overflow_y": null,
            "padding": null,
            "right": null,
            "top": null,
            "visibility": null,
            "width": null
          }
        },
        "71e8420895d140afa929c6a297b1a1db": {
          "model_module": "@jupyter-widgets/controls",
          "model_name": "DescriptionStyleModel",
          "model_module_version": "1.5.0",
          "state": {
            "_model_module": "@jupyter-widgets/controls",
            "_model_module_version": "1.5.0",
            "_model_name": "DescriptionStyleModel",
            "_view_count": null,
            "_view_module": "@jupyter-widgets/base",
            "_view_module_version": "1.2.0",
            "_view_name": "StyleView",
            "description_width": ""
          }
        },
        "df03912c797e4d97ae489067343cb03f": {
          "model_module": "@jupyter-widgets/controls",
          "model_name": "HBoxModel",
          "model_module_version": "1.5.0",
          "state": {
            "_dom_classes": [],
            "_model_module": "@jupyter-widgets/controls",
            "_model_module_version": "1.5.0",
            "_model_name": "HBoxModel",
            "_view_count": null,
            "_view_module": "@jupyter-widgets/controls",
            "_view_module_version": "1.5.0",
            "_view_name": "HBoxView",
            "box_style": "",
            "children": [
              "IPY_MODEL_8cc3fad9516a460b8047fd32739f6e48",
              "IPY_MODEL_a45ed9f613004d7399f1caac93a3f9bd",
              "IPY_MODEL_c74fb96d2f62462da2eece637ce6d4e8"
            ],
            "layout": "IPY_MODEL_89a419e48fff43c792125dcf05d5e987"
          }
        },
        "8cc3fad9516a460b8047fd32739f6e48": {
          "model_module": "@jupyter-widgets/controls",
          "model_name": "HTMLModel",
          "model_module_version": "1.5.0",
          "state": {
            "_dom_classes": [],
            "_model_module": "@jupyter-widgets/controls",
            "_model_module_version": "1.5.0",
            "_model_name": "HTMLModel",
            "_view_count": null,
            "_view_module": "@jupyter-widgets/controls",
            "_view_module_version": "1.5.0",
            "_view_name": "HTMLView",
            "description": "",
            "description_tooltip": null,
            "layout": "IPY_MODEL_33742d8221424c19a45a89e4e577a137",
            "placeholder": "​",
            "style": "IPY_MODEL_92fec67b80454810884d382d3734efb9",
            "value": "Downloading: 100%"
          }
        },
        "a45ed9f613004d7399f1caac93a3f9bd": {
          "model_module": "@jupyter-widgets/controls",
          "model_name": "FloatProgressModel",
          "model_module_version": "1.5.0",
          "state": {
            "_dom_classes": [],
            "_model_module": "@jupyter-widgets/controls",
            "_model_module_version": "1.5.0",
            "_model_name": "FloatProgressModel",
            "_view_count": null,
            "_view_module": "@jupyter-widgets/controls",
            "_view_module_version": "1.5.0",
            "_view_name": "ProgressView",
            "bar_style": "success",
            "description": "",
            "description_tooltip": null,
            "layout": "IPY_MODEL_a12e4f652420408f9b3f6880f81c43b4",
            "max": 1421616707,
            "min": 0,
            "orientation": "horizontal",
            "style": "IPY_MODEL_92e494785d1341e8a69dee492e328e90",
            "value": 1421616707
          }
        },
        "c74fb96d2f62462da2eece637ce6d4e8": {
          "model_module": "@jupyter-widgets/controls",
          "model_name": "HTMLModel",
          "model_module_version": "1.5.0",
          "state": {
            "_dom_classes": [],
            "_model_module": "@jupyter-widgets/controls",
            "_model_module_version": "1.5.0",
            "_model_name": "HTMLModel",
            "_view_count": null,
            "_view_module": "@jupyter-widgets/controls",
            "_view_module_version": "1.5.0",
            "_view_name": "HTMLView",
            "description": "",
            "description_tooltip": null,
            "layout": "IPY_MODEL_4fde98870d5f4918907876ce9c4259a2",
            "placeholder": "​",
            "style": "IPY_MODEL_1cea05461dd94137bd6ca659473f999a",
            "value": " 1.42G/1.42G [00:38&lt;00:00, 53.9MB/s]"
          }
        },
        "89a419e48fff43c792125dcf05d5e987": {
          "model_module": "@jupyter-widgets/base",
          "model_name": "LayoutModel",
          "model_module_version": "1.2.0",
          "state": {
            "_model_module": "@jupyter-widgets/base",
            "_model_module_version": "1.2.0",
            "_model_name": "LayoutModel",
            "_view_count": null,
            "_view_module": "@jupyter-widgets/base",
            "_view_module_version": "1.2.0",
            "_view_name": "LayoutView",
            "align_content": null,
            "align_items": null,
            "align_self": null,
            "border": null,
            "bottom": null,
            "display": null,
            "flex": null,
            "flex_flow": null,
            "grid_area": null,
            "grid_auto_columns": null,
            "grid_auto_flow": null,
            "grid_auto_rows": null,
            "grid_column": null,
            "grid_gap": null,
            "grid_row": null,
            "grid_template_areas": null,
            "grid_template_columns": null,
            "grid_template_rows": null,
            "height": null,
            "justify_content": null,
            "justify_items": null,
            "left": null,
            "margin": null,
            "max_height": null,
            "max_width": null,
            "min_height": null,
            "min_width": null,
            "object_fit": null,
            "object_position": null,
            "order": null,
            "overflow": null,
            "overflow_x": null,
            "overflow_y": null,
            "padding": null,
            "right": null,
            "top": null,
            "visibility": null,
            "width": null
          }
        },
        "33742d8221424c19a45a89e4e577a137": {
          "model_module": "@jupyter-widgets/base",
          "model_name": "LayoutModel",
          "model_module_version": "1.2.0",
          "state": {
            "_model_module": "@jupyter-widgets/base",
            "_model_module_version": "1.2.0",
            "_model_name": "LayoutModel",
            "_view_count": null,
            "_view_module": "@jupyter-widgets/base",
            "_view_module_version": "1.2.0",
            "_view_name": "LayoutView",
            "align_content": null,
            "align_items": null,
            "align_self": null,
            "border": null,
            "bottom": null,
            "display": null,
            "flex": null,
            "flex_flow": null,
            "grid_area": null,
            "grid_auto_columns": null,
            "grid_auto_flow": null,
            "grid_auto_rows": null,
            "grid_column": null,
            "grid_gap": null,
            "grid_row": null,
            "grid_template_areas": null,
            "grid_template_columns": null,
            "grid_template_rows": null,
            "height": null,
            "justify_content": null,
            "justify_items": null,
            "left": null,
            "margin": null,
            "max_height": null,
            "max_width": null,
            "min_height": null,
            "min_width": null,
            "object_fit": null,
            "object_position": null,
            "order": null,
            "overflow": null,
            "overflow_x": null,
            "overflow_y": null,
            "padding": null,
            "right": null,
            "top": null,
            "visibility": null,
            "width": null
          }
        },
        "92fec67b80454810884d382d3734efb9": {
          "model_module": "@jupyter-widgets/controls",
          "model_name": "DescriptionStyleModel",
          "model_module_version": "1.5.0",
          "state": {
            "_model_module": "@jupyter-widgets/controls",
            "_model_module_version": "1.5.0",
            "_model_name": "DescriptionStyleModel",
            "_view_count": null,
            "_view_module": "@jupyter-widgets/base",
            "_view_module_version": "1.2.0",
            "_view_name": "StyleView",
            "description_width": ""
          }
        },
        "a12e4f652420408f9b3f6880f81c43b4": {
          "model_module": "@jupyter-widgets/base",
          "model_name": "LayoutModel",
          "model_module_version": "1.2.0",
          "state": {
            "_model_module": "@jupyter-widgets/base",
            "_model_module_version": "1.2.0",
            "_model_name": "LayoutModel",
            "_view_count": null,
            "_view_module": "@jupyter-widgets/base",
            "_view_module_version": "1.2.0",
            "_view_name": "LayoutView",
            "align_content": null,
            "align_items": null,
            "align_self": null,
            "border": null,
            "bottom": null,
            "display": null,
            "flex": null,
            "flex_flow": null,
            "grid_area": null,
            "grid_auto_columns": null,
            "grid_auto_flow": null,
            "grid_auto_rows": null,
            "grid_column": null,
            "grid_gap": null,
            "grid_row": null,
            "grid_template_areas": null,
            "grid_template_columns": null,
            "grid_template_rows": null,
            "height": null,
            "justify_content": null,
            "justify_items": null,
            "left": null,
            "margin": null,
            "max_height": null,
            "max_width": null,
            "min_height": null,
            "min_width": null,
            "object_fit": null,
            "object_position": null,
            "order": null,
            "overflow": null,
            "overflow_x": null,
            "overflow_y": null,
            "padding": null,
            "right": null,
            "top": null,
            "visibility": null,
            "width": null
          }
        },
        "92e494785d1341e8a69dee492e328e90": {
          "model_module": "@jupyter-widgets/controls",
          "model_name": "ProgressStyleModel",
          "model_module_version": "1.5.0",
          "state": {
            "_model_module": "@jupyter-widgets/controls",
            "_model_module_version": "1.5.0",
            "_model_name": "ProgressStyleModel",
            "_view_count": null,
            "_view_module": "@jupyter-widgets/base",
            "_view_module_version": "1.2.0",
            "_view_name": "StyleView",
            "bar_color": null,
            "description_width": ""
          }
        },
        "4fde98870d5f4918907876ce9c4259a2": {
          "model_module": "@jupyter-widgets/base",
          "model_name": "LayoutModel",
          "model_module_version": "1.2.0",
          "state": {
            "_model_module": "@jupyter-widgets/base",
            "_model_module_version": "1.2.0",
            "_model_name": "LayoutModel",
            "_view_count": null,
            "_view_module": "@jupyter-widgets/base",
            "_view_module_version": "1.2.0",
            "_view_name": "LayoutView",
            "align_content": null,
            "align_items": null,
            "align_self": null,
            "border": null,
            "bottom": null,
            "display": null,
            "flex": null,
            "flex_flow": null,
            "grid_area": null,
            "grid_auto_columns": null,
            "grid_auto_flow": null,
            "grid_auto_rows": null,
            "grid_column": null,
            "grid_gap": null,
            "grid_row": null,
            "grid_template_areas": null,
            "grid_template_columns": null,
            "grid_template_rows": null,
            "height": null,
            "justify_content": null,
            "justify_items": null,
            "left": null,
            "margin": null,
            "max_height": null,
            "max_width": null,
            "min_height": null,
            "min_width": null,
            "object_fit": null,
            "object_position": null,
            "order": null,
            "overflow": null,
            "overflow_x": null,
            "overflow_y": null,
            "padding": null,
            "right": null,
            "top": null,
            "visibility": null,
            "width": null
          }
        },
        "1cea05461dd94137bd6ca659473f999a": {
          "model_module": "@jupyter-widgets/controls",
          "model_name": "DescriptionStyleModel",
          "model_module_version": "1.5.0",
          "state": {
            "_model_module": "@jupyter-widgets/controls",
            "_model_module_version": "1.5.0",
            "_model_name": "DescriptionStyleModel",
            "_view_count": null,
            "_view_module": "@jupyter-widgets/base",
            "_view_module_version": "1.2.0",
            "_view_name": "StyleView",
            "description_width": ""
          }
        },
        "2f1c52cabe9a4933ac62d0a0fc851851": {
          "model_module": "@jupyter-widgets/controls",
          "model_name": "HBoxModel",
          "model_module_version": "1.5.0",
          "state": {
            "_dom_classes": [],
            "_model_module": "@jupyter-widgets/controls",
            "_model_module_version": "1.5.0",
            "_model_name": "HBoxModel",
            "_view_count": null,
            "_view_module": "@jupyter-widgets/controls",
            "_view_module_version": "1.5.0",
            "_view_name": "HBoxView",
            "box_style": "",
            "children": [
              "IPY_MODEL_3985fae3126743f0962242a2c717df23",
              "IPY_MODEL_44937517b13443a1b4eb006fbf87eef9",
              "IPY_MODEL_26e182c417224b66b2d8c183caafa0c6"
            ],
            "layout": "IPY_MODEL_aeb6e68dd52a4f2eaa1a20091e708c15"
          }
        },
        "3985fae3126743f0962242a2c717df23": {
          "model_module": "@jupyter-widgets/controls",
          "model_name": "HTMLModel",
          "model_module_version": "1.5.0",
          "state": {
            "_dom_classes": [],
            "_model_module": "@jupyter-widgets/controls",
            "_model_module_version": "1.5.0",
            "_model_name": "HTMLModel",
            "_view_count": null,
            "_view_module": "@jupyter-widgets/controls",
            "_view_module_version": "1.5.0",
            "_view_name": "HTMLView",
            "description": "",
            "description_tooltip": null,
            "layout": "IPY_MODEL_816ff3ba4d5f454f873995f05ddf696f",
            "placeholder": "​",
            "style": "IPY_MODEL_401f9d8e06bc4a3caec4bfcb5a870809",
            "value": "Downloading: 100%"
          }
        },
        "44937517b13443a1b4eb006fbf87eef9": {
          "model_module": "@jupyter-widgets/controls",
          "model_name": "FloatProgressModel",
          "model_module_version": "1.5.0",
          "state": {
            "_dom_classes": [],
            "_model_module": "@jupyter-widgets/controls",
            "_model_module_version": "1.5.0",
            "_model_name": "FloatProgressModel",
            "_view_count": null,
            "_view_module": "@jupyter-widgets/controls",
            "_view_module_version": "1.5.0",
            "_view_name": "ProgressView",
            "bar_style": "success",
            "description": "",
            "description_tooltip": null,
            "layout": "IPY_MODEL_96826610b5e5419588cf344423953c43",
            "max": 256,
            "min": 0,
            "orientation": "horizontal",
            "style": "IPY_MODEL_683fab6169dd4fc9ba53f7287b51d277",
            "value": 256
          }
        },
        "26e182c417224b66b2d8c183caafa0c6": {
          "model_module": "@jupyter-widgets/controls",
          "model_name": "HTMLModel",
          "model_module_version": "1.5.0",
          "state": {
            "_dom_classes": [],
            "_model_module": "@jupyter-widgets/controls",
            "_model_module_version": "1.5.0",
            "_model_name": "HTMLModel",
            "_view_count": null,
            "_view_module": "@jupyter-widgets/controls",
            "_view_module_version": "1.5.0",
            "_view_name": "HTMLView",
            "description": "",
            "description_tooltip": null,
            "layout": "IPY_MODEL_60f34d46966b495483790037e5565fb5",
            "placeholder": "​",
            "style": "IPY_MODEL_7b6e2e8a2d9d4b238f35eafed464e537",
            "value": " 256/256 [00:00&lt;00:00, 6.90kB/s]"
          }
        },
        "aeb6e68dd52a4f2eaa1a20091e708c15": {
          "model_module": "@jupyter-widgets/base",
          "model_name": "LayoutModel",
          "model_module_version": "1.2.0",
          "state": {
            "_model_module": "@jupyter-widgets/base",
            "_model_module_version": "1.2.0",
            "_model_name": "LayoutModel",
            "_view_count": null,
            "_view_module": "@jupyter-widgets/base",
            "_view_module_version": "1.2.0",
            "_view_name": "LayoutView",
            "align_content": null,
            "align_items": null,
            "align_self": null,
            "border": null,
            "bottom": null,
            "display": null,
            "flex": null,
            "flex_flow": null,
            "grid_area": null,
            "grid_auto_columns": null,
            "grid_auto_flow": null,
            "grid_auto_rows": null,
            "grid_column": null,
            "grid_gap": null,
            "grid_row": null,
            "grid_template_areas": null,
            "grid_template_columns": null,
            "grid_template_rows": null,
            "height": null,
            "justify_content": null,
            "justify_items": null,
            "left": null,
            "margin": null,
            "max_height": null,
            "max_width": null,
            "min_height": null,
            "min_width": null,
            "object_fit": null,
            "object_position": null,
            "order": null,
            "overflow": null,
            "overflow_x": null,
            "overflow_y": null,
            "padding": null,
            "right": null,
            "top": null,
            "visibility": null,
            "width": null
          }
        },
        "816ff3ba4d5f454f873995f05ddf696f": {
          "model_module": "@jupyter-widgets/base",
          "model_name": "LayoutModel",
          "model_module_version": "1.2.0",
          "state": {
            "_model_module": "@jupyter-widgets/base",
            "_model_module_version": "1.2.0",
            "_model_name": "LayoutModel",
            "_view_count": null,
            "_view_module": "@jupyter-widgets/base",
            "_view_module_version": "1.2.0",
            "_view_name": "LayoutView",
            "align_content": null,
            "align_items": null,
            "align_self": null,
            "border": null,
            "bottom": null,
            "display": null,
            "flex": null,
            "flex_flow": null,
            "grid_area": null,
            "grid_auto_columns": null,
            "grid_auto_flow": null,
            "grid_auto_rows": null,
            "grid_column": null,
            "grid_gap": null,
            "grid_row": null,
            "grid_template_areas": null,
            "grid_template_columns": null,
            "grid_template_rows": null,
            "height": null,
            "justify_content": null,
            "justify_items": null,
            "left": null,
            "margin": null,
            "max_height": null,
            "max_width": null,
            "min_height": null,
            "min_width": null,
            "object_fit": null,
            "object_position": null,
            "order": null,
            "overflow": null,
            "overflow_x": null,
            "overflow_y": null,
            "padding": null,
            "right": null,
            "top": null,
            "visibility": null,
            "width": null
          }
        },
        "401f9d8e06bc4a3caec4bfcb5a870809": {
          "model_module": "@jupyter-widgets/controls",
          "model_name": "DescriptionStyleModel",
          "model_module_version": "1.5.0",
          "state": {
            "_model_module": "@jupyter-widgets/controls",
            "_model_module_version": "1.5.0",
            "_model_name": "DescriptionStyleModel",
            "_view_count": null,
            "_view_module": "@jupyter-widgets/base",
            "_view_module_version": "1.2.0",
            "_view_name": "StyleView",
            "description_width": ""
          }
        },
        "96826610b5e5419588cf344423953c43": {
          "model_module": "@jupyter-widgets/base",
          "model_name": "LayoutModel",
          "model_module_version": "1.2.0",
          "state": {
            "_model_module": "@jupyter-widgets/base",
            "_model_module_version": "1.2.0",
            "_model_name": "LayoutModel",
            "_view_count": null,
            "_view_module": "@jupyter-widgets/base",
            "_view_module_version": "1.2.0",
            "_view_name": "LayoutView",
            "align_content": null,
            "align_items": null,
            "align_self": null,
            "border": null,
            "bottom": null,
            "display": null,
            "flex": null,
            "flex_flow": null,
            "grid_area": null,
            "grid_auto_columns": null,
            "grid_auto_flow": null,
            "grid_auto_rows": null,
            "grid_column": null,
            "grid_gap": null,
            "grid_row": null,
            "grid_template_areas": null,
            "grid_template_columns": null,
            "grid_template_rows": null,
            "height": null,
            "justify_content": null,
            "justify_items": null,
            "left": null,
            "margin": null,
            "max_height": null,
            "max_width": null,
            "min_height": null,
            "min_width": null,
            "object_fit": null,
            "object_position": null,
            "order": null,
            "overflow": null,
            "overflow_x": null,
            "overflow_y": null,
            "padding": null,
            "right": null,
            "top": null,
            "visibility": null,
            "width": null
          }
        },
        "683fab6169dd4fc9ba53f7287b51d277": {
          "model_module": "@jupyter-widgets/controls",
          "model_name": "ProgressStyleModel",
          "model_module_version": "1.5.0",
          "state": {
            "_model_module": "@jupyter-widgets/controls",
            "_model_module_version": "1.5.0",
            "_model_name": "ProgressStyleModel",
            "_view_count": null,
            "_view_module": "@jupyter-widgets/base",
            "_view_module_version": "1.2.0",
            "_view_name": "StyleView",
            "bar_color": null,
            "description_width": ""
          }
        },
        "60f34d46966b495483790037e5565fb5": {
          "model_module": "@jupyter-widgets/base",
          "model_name": "LayoutModel",
          "model_module_version": "1.2.0",
          "state": {
            "_model_module": "@jupyter-widgets/base",
            "_model_module_version": "1.2.0",
            "_model_name": "LayoutModel",
            "_view_count": null,
            "_view_module": "@jupyter-widgets/base",
            "_view_module_version": "1.2.0",
            "_view_name": "LayoutView",
            "align_content": null,
            "align_items": null,
            "align_self": null,
            "border": null,
            "bottom": null,
            "display": null,
            "flex": null,
            "flex_flow": null,
            "grid_area": null,
            "grid_auto_columns": null,
            "grid_auto_flow": null,
            "grid_auto_rows": null,
            "grid_column": null,
            "grid_gap": null,
            "grid_row": null,
            "grid_template_areas": null,
            "grid_template_columns": null,
            "grid_template_rows": null,
            "height": null,
            "justify_content": null,
            "justify_items": null,
            "left": null,
            "margin": null,
            "max_height": null,
            "max_width": null,
            "min_height": null,
            "min_width": null,
            "object_fit": null,
            "object_position": null,
            "order": null,
            "overflow": null,
            "overflow_x": null,
            "overflow_y": null,
            "padding": null,
            "right": null,
            "top": null,
            "visibility": null,
            "width": null
          }
        },
        "7b6e2e8a2d9d4b238f35eafed464e537": {
          "model_module": "@jupyter-widgets/controls",
          "model_name": "DescriptionStyleModel",
          "model_module_version": "1.5.0",
          "state": {
            "_model_module": "@jupyter-widgets/controls",
            "_model_module_version": "1.5.0",
            "_model_name": "DescriptionStyleModel",
            "_view_count": null,
            "_view_module": "@jupyter-widgets/base",
            "_view_module_version": "1.2.0",
            "_view_name": "StyleView",
            "description_width": ""
          }
        },
        "b18723c9867d40b29bd0cacc2e5e2849": {
          "model_module": "@jupyter-widgets/controls",
          "model_name": "HBoxModel",
          "model_module_version": "1.5.0",
          "state": {
            "_dom_classes": [],
            "_model_module": "@jupyter-widgets/controls",
            "_model_module_version": "1.5.0",
            "_model_name": "HBoxModel",
            "_view_count": null,
            "_view_module": "@jupyter-widgets/controls",
            "_view_module_version": "1.5.0",
            "_view_name": "HBoxView",
            "box_style": "",
            "children": [
              "IPY_MODEL_d71814653e5f42f8a8538c95af494566",
              "IPY_MODEL_f0d7799dd3394159acc251680cf6afbc",
              "IPY_MODEL_99bbf8f109f7434a9c86a8b4ab455c63"
            ],
            "layout": "IPY_MODEL_5ff6353f5dd748a3a731cecfc23c0535"
          }
        },
        "d71814653e5f42f8a8538c95af494566": {
          "model_module": "@jupyter-widgets/controls",
          "model_name": "HTMLModel",
          "model_module_version": "1.5.0",
          "state": {
            "_dom_classes": [],
            "_model_module": "@jupyter-widgets/controls",
            "_model_module_version": "1.5.0",
            "_model_name": "HTMLModel",
            "_view_count": null,
            "_view_module": "@jupyter-widgets/controls",
            "_view_module_version": "1.5.0",
            "_view_name": "HTMLView",
            "description": "",
            "description_tooltip": null,
            "layout": "IPY_MODEL_1e6754930b8f450ebf766d1c43469659",
            "placeholder": "​",
            "style": "IPY_MODEL_6c436f29590b4b6ebcea507ac42d571c",
            "value": "Downloading: 100%"
          }
        },
        "f0d7799dd3394159acc251680cf6afbc": {
          "model_module": "@jupyter-widgets/controls",
          "model_name": "FloatProgressModel",
          "model_module_version": "1.5.0",
          "state": {
            "_dom_classes": [],
            "_model_module": "@jupyter-widgets/controls",
            "_model_module_version": "1.5.0",
            "_model_name": "FloatProgressModel",
            "_view_count": null,
            "_view_module": "@jupyter-widgets/controls",
            "_view_module_version": "1.5.0",
            "_view_name": "ProgressView",
            "bar_style": "success",
            "description": "",
            "description_tooltip": null,
            "layout": "IPY_MODEL_9cad19cd15194d2ea0b0c88f14d15ce5",
            "max": 798293,
            "min": 0,
            "orientation": "horizontal",
            "style": "IPY_MODEL_fe88639f17324faea1f4246e116dcdf2",
            "value": 798293
          }
        },
        "99bbf8f109f7434a9c86a8b4ab455c63": {
          "model_module": "@jupyter-widgets/controls",
          "model_name": "HTMLModel",
          "model_module_version": "1.5.0",
          "state": {
            "_dom_classes": [],
            "_model_module": "@jupyter-widgets/controls",
            "_model_module_version": "1.5.0",
            "_model_name": "HTMLModel",
            "_view_count": null,
            "_view_module": "@jupyter-widgets/controls",
            "_view_module_version": "1.5.0",
            "_view_name": "HTMLView",
            "description": "",
            "description_tooltip": null,
            "layout": "IPY_MODEL_d590765241434896b1946f58fe586897",
            "placeholder": "​",
            "style": "IPY_MODEL_dc4688c6b00c48e98ac5928912bb2dc8",
            "value": " 798k/798k [00:00&lt;00:00, 949kB/s]"
          }
        },
        "5ff6353f5dd748a3a731cecfc23c0535": {
          "model_module": "@jupyter-widgets/base",
          "model_name": "LayoutModel",
          "model_module_version": "1.2.0",
          "state": {
            "_model_module": "@jupyter-widgets/base",
            "_model_module_version": "1.2.0",
            "_model_name": "LayoutModel",
            "_view_count": null,
            "_view_module": "@jupyter-widgets/base",
            "_view_module_version": "1.2.0",
            "_view_name": "LayoutView",
            "align_content": null,
            "align_items": null,
            "align_self": null,
            "border": null,
            "bottom": null,
            "display": null,
            "flex": null,
            "flex_flow": null,
            "grid_area": null,
            "grid_auto_columns": null,
            "grid_auto_flow": null,
            "grid_auto_rows": null,
            "grid_column": null,
            "grid_gap": null,
            "grid_row": null,
            "grid_template_areas": null,
            "grid_template_columns": null,
            "grid_template_rows": null,
            "height": null,
            "justify_content": null,
            "justify_items": null,
            "left": null,
            "margin": null,
            "max_height": null,
            "max_width": null,
            "min_height": null,
            "min_width": null,
            "object_fit": null,
            "object_position": null,
            "order": null,
            "overflow": null,
            "overflow_x": null,
            "overflow_y": null,
            "padding": null,
            "right": null,
            "top": null,
            "visibility": null,
            "width": null
          }
        },
        "1e6754930b8f450ebf766d1c43469659": {
          "model_module": "@jupyter-widgets/base",
          "model_name": "LayoutModel",
          "model_module_version": "1.2.0",
          "state": {
            "_model_module": "@jupyter-widgets/base",
            "_model_module_version": "1.2.0",
            "_model_name": "LayoutModel",
            "_view_count": null,
            "_view_module": "@jupyter-widgets/base",
            "_view_module_version": "1.2.0",
            "_view_name": "LayoutView",
            "align_content": null,
            "align_items": null,
            "align_self": null,
            "border": null,
            "bottom": null,
            "display": null,
            "flex": null,
            "flex_flow": null,
            "grid_area": null,
            "grid_auto_columns": null,
            "grid_auto_flow": null,
            "grid_auto_rows": null,
            "grid_column": null,
            "grid_gap": null,
            "grid_row": null,
            "grid_template_areas": null,
            "grid_template_columns": null,
            "grid_template_rows": null,
            "height": null,
            "justify_content": null,
            "justify_items": null,
            "left": null,
            "margin": null,
            "max_height": null,
            "max_width": null,
            "min_height": null,
            "min_width": null,
            "object_fit": null,
            "object_position": null,
            "order": null,
            "overflow": null,
            "overflow_x": null,
            "overflow_y": null,
            "padding": null,
            "right": null,
            "top": null,
            "visibility": null,
            "width": null
          }
        },
        "6c436f29590b4b6ebcea507ac42d571c": {
          "model_module": "@jupyter-widgets/controls",
          "model_name": "DescriptionStyleModel",
          "model_module_version": "1.5.0",
          "state": {
            "_model_module": "@jupyter-widgets/controls",
            "_model_module_version": "1.5.0",
            "_model_name": "DescriptionStyleModel",
            "_view_count": null,
            "_view_module": "@jupyter-widgets/base",
            "_view_module_version": "1.2.0",
            "_view_name": "StyleView",
            "description_width": ""
          }
        },
        "9cad19cd15194d2ea0b0c88f14d15ce5": {
          "model_module": "@jupyter-widgets/base",
          "model_name": "LayoutModel",
          "model_module_version": "1.2.0",
          "state": {
            "_model_module": "@jupyter-widgets/base",
            "_model_module_version": "1.2.0",
            "_model_name": "LayoutModel",
            "_view_count": null,
            "_view_module": "@jupyter-widgets/base",
            "_view_module_version": "1.2.0",
            "_view_name": "LayoutView",
            "align_content": null,
            "align_items": null,
            "align_self": null,
            "border": null,
            "bottom": null,
            "display": null,
            "flex": null,
            "flex_flow": null,
            "grid_area": null,
            "grid_auto_columns": null,
            "grid_auto_flow": null,
            "grid_auto_rows": null,
            "grid_column": null,
            "grid_gap": null,
            "grid_row": null,
            "grid_template_areas": null,
            "grid_template_columns": null,
            "grid_template_rows": null,
            "height": null,
            "justify_content": null,
            "justify_items": null,
            "left": null,
            "margin": null,
            "max_height": null,
            "max_width": null,
            "min_height": null,
            "min_width": null,
            "object_fit": null,
            "object_position": null,
            "order": null,
            "overflow": null,
            "overflow_x": null,
            "overflow_y": null,
            "padding": null,
            "right": null,
            "top": null,
            "visibility": null,
            "width": null
          }
        },
        "fe88639f17324faea1f4246e116dcdf2": {
          "model_module": "@jupyter-widgets/controls",
          "model_name": "ProgressStyleModel",
          "model_module_version": "1.5.0",
          "state": {
            "_model_module": "@jupyter-widgets/controls",
            "_model_module_version": "1.5.0",
            "_model_name": "ProgressStyleModel",
            "_view_count": null,
            "_view_module": "@jupyter-widgets/base",
            "_view_module_version": "1.2.0",
            "_view_name": "StyleView",
            "bar_color": null,
            "description_width": ""
          }
        },
        "d590765241434896b1946f58fe586897": {
          "model_module": "@jupyter-widgets/base",
          "model_name": "LayoutModel",
          "model_module_version": "1.2.0",
          "state": {
            "_model_module": "@jupyter-widgets/base",
            "_model_module_version": "1.2.0",
            "_model_name": "LayoutModel",
            "_view_count": null,
            "_view_module": "@jupyter-widgets/base",
            "_view_module_version": "1.2.0",
            "_view_name": "LayoutView",
            "align_content": null,
            "align_items": null,
            "align_self": null,
            "border": null,
            "bottom": null,
            "display": null,
            "flex": null,
            "flex_flow": null,
            "grid_area": null,
            "grid_auto_columns": null,
            "grid_auto_flow": null,
            "grid_auto_rows": null,
            "grid_column": null,
            "grid_gap": null,
            "grid_row": null,
            "grid_template_areas": null,
            "grid_template_columns": null,
            "grid_template_rows": null,
            "height": null,
            "justify_content": null,
            "justify_items": null,
            "left": null,
            "margin": null,
            "max_height": null,
            "max_width": null,
            "min_height": null,
            "min_width": null,
            "object_fit": null,
            "object_position": null,
            "order": null,
            "overflow": null,
            "overflow_x": null,
            "overflow_y": null,
            "padding": null,
            "right": null,
            "top": null,
            "visibility": null,
            "width": null
          }
        },
        "dc4688c6b00c48e98ac5928912bb2dc8": {
          "model_module": "@jupyter-widgets/controls",
          "model_name": "DescriptionStyleModel",
          "model_module_version": "1.5.0",
          "state": {
            "_model_module": "@jupyter-widgets/controls",
            "_model_module_version": "1.5.0",
            "_model_name": "DescriptionStyleModel",
            "_view_count": null,
            "_view_module": "@jupyter-widgets/base",
            "_view_module_version": "1.2.0",
            "_view_name": "StyleView",
            "description_width": ""
          }
        },
        "3a4bd28d12ed47d8a779ad9a86456dba": {
          "model_module": "@jupyter-widgets/controls",
          "model_name": "HBoxModel",
          "model_module_version": "1.5.0",
          "state": {
            "_dom_classes": [],
            "_model_module": "@jupyter-widgets/controls",
            "_model_module_version": "1.5.0",
            "_model_name": "HBoxModel",
            "_view_count": null,
            "_view_module": "@jupyter-widgets/controls",
            "_view_module_version": "1.5.0",
            "_view_name": "HBoxView",
            "box_style": "",
            "children": [
              "IPY_MODEL_6db9356595274c58b179c713e2551b18",
              "IPY_MODEL_1442e9de44cc466ea8ea5f74698ec188",
              "IPY_MODEL_65b5f5b362464a22aedfca94c0b97bb9"
            ],
            "layout": "IPY_MODEL_ad7c4e10889a41a8ba8e7cf6fa4d1b29"
          }
        },
        "6db9356595274c58b179c713e2551b18": {
          "model_module": "@jupyter-widgets/controls",
          "model_name": "HTMLModel",
          "model_module_version": "1.5.0",
          "state": {
            "_dom_classes": [],
            "_model_module": "@jupyter-widgets/controls",
            "_model_module_version": "1.5.0",
            "_model_name": "HTMLModel",
            "_view_count": null,
            "_view_module": "@jupyter-widgets/controls",
            "_view_module_version": "1.5.0",
            "_view_name": "HTMLView",
            "description": "",
            "description_tooltip": null,
            "layout": "IPY_MODEL_861fb8205dfa47beb31aef1070f10753",
            "placeholder": "​",
            "style": "IPY_MODEL_d3e7384a146c41d0934421e14cf82082",
            "value": "Downloading: 100%"
          }
        },
        "1442e9de44cc466ea8ea5f74698ec188": {
          "model_module": "@jupyter-widgets/controls",
          "model_name": "FloatProgressModel",
          "model_module_version": "1.5.0",
          "state": {
            "_dom_classes": [],
            "_model_module": "@jupyter-widgets/controls",
            "_model_module_version": "1.5.0",
            "_model_name": "FloatProgressModel",
            "_view_count": null,
            "_view_module": "@jupyter-widgets/controls",
            "_view_module_version": "1.5.0",
            "_view_name": "ProgressView",
            "bar_style": "success",
            "description": "",
            "description_tooltip": null,
            "layout": "IPY_MODEL_a7ad22108b6248ee8abb9e2beafbdd1e",
            "max": 456356,
            "min": 0,
            "orientation": "horizontal",
            "style": "IPY_MODEL_180002d34eb646729572e8606509da24",
            "value": 456356
          }
        },
        "65b5f5b362464a22aedfca94c0b97bb9": {
          "model_module": "@jupyter-widgets/controls",
          "model_name": "HTMLModel",
          "model_module_version": "1.5.0",
          "state": {
            "_dom_classes": [],
            "_model_module": "@jupyter-widgets/controls",
            "_model_module_version": "1.5.0",
            "_model_name": "HTMLModel",
            "_view_count": null,
            "_view_module": "@jupyter-widgets/controls",
            "_view_module_version": "1.5.0",
            "_view_name": "HTMLView",
            "description": "",
            "description_tooltip": null,
            "layout": "IPY_MODEL_6f367cb1ad0c43ba818576cd5898cd6b",
            "placeholder": "​",
            "style": "IPY_MODEL_c10f9a0cf4ff49f6aa7ae75f07af34b7",
            "value": " 456k/456k [00:00&lt;00:00, 784kB/s]"
          }
        },
        "ad7c4e10889a41a8ba8e7cf6fa4d1b29": {
          "model_module": "@jupyter-widgets/base",
          "model_name": "LayoutModel",
          "model_module_version": "1.2.0",
          "state": {
            "_model_module": "@jupyter-widgets/base",
            "_model_module_version": "1.2.0",
            "_model_name": "LayoutModel",
            "_view_count": null,
            "_view_module": "@jupyter-widgets/base",
            "_view_module_version": "1.2.0",
            "_view_name": "LayoutView",
            "align_content": null,
            "align_items": null,
            "align_self": null,
            "border": null,
            "bottom": null,
            "display": null,
            "flex": null,
            "flex_flow": null,
            "grid_area": null,
            "grid_auto_columns": null,
            "grid_auto_flow": null,
            "grid_auto_rows": null,
            "grid_column": null,
            "grid_gap": null,
            "grid_row": null,
            "grid_template_areas": null,
            "grid_template_columns": null,
            "grid_template_rows": null,
            "height": null,
            "justify_content": null,
            "justify_items": null,
            "left": null,
            "margin": null,
            "max_height": null,
            "max_width": null,
            "min_height": null,
            "min_width": null,
            "object_fit": null,
            "object_position": null,
            "order": null,
            "overflow": null,
            "overflow_x": null,
            "overflow_y": null,
            "padding": null,
            "right": null,
            "top": null,
            "visibility": null,
            "width": null
          }
        },
        "861fb8205dfa47beb31aef1070f10753": {
          "model_module": "@jupyter-widgets/base",
          "model_name": "LayoutModel",
          "model_module_version": "1.2.0",
          "state": {
            "_model_module": "@jupyter-widgets/base",
            "_model_module_version": "1.2.0",
            "_model_name": "LayoutModel",
            "_view_count": null,
            "_view_module": "@jupyter-widgets/base",
            "_view_module_version": "1.2.0",
            "_view_name": "LayoutView",
            "align_content": null,
            "align_items": null,
            "align_self": null,
            "border": null,
            "bottom": null,
            "display": null,
            "flex": null,
            "flex_flow": null,
            "grid_area": null,
            "grid_auto_columns": null,
            "grid_auto_flow": null,
            "grid_auto_rows": null,
            "grid_column": null,
            "grid_gap": null,
            "grid_row": null,
            "grid_template_areas": null,
            "grid_template_columns": null,
            "grid_template_rows": null,
            "height": null,
            "justify_content": null,
            "justify_items": null,
            "left": null,
            "margin": null,
            "max_height": null,
            "max_width": null,
            "min_height": null,
            "min_width": null,
            "object_fit": null,
            "object_position": null,
            "order": null,
            "overflow": null,
            "overflow_x": null,
            "overflow_y": null,
            "padding": null,
            "right": null,
            "top": null,
            "visibility": null,
            "width": null
          }
        },
        "d3e7384a146c41d0934421e14cf82082": {
          "model_module": "@jupyter-widgets/controls",
          "model_name": "DescriptionStyleModel",
          "model_module_version": "1.5.0",
          "state": {
            "_model_module": "@jupyter-widgets/controls",
            "_model_module_version": "1.5.0",
            "_model_name": "DescriptionStyleModel",
            "_view_count": null,
            "_view_module": "@jupyter-widgets/base",
            "_view_module_version": "1.2.0",
            "_view_name": "StyleView",
            "description_width": ""
          }
        },
        "a7ad22108b6248ee8abb9e2beafbdd1e": {
          "model_module": "@jupyter-widgets/base",
          "model_name": "LayoutModel",
          "model_module_version": "1.2.0",
          "state": {
            "_model_module": "@jupyter-widgets/base",
            "_model_module_version": "1.2.0",
            "_model_name": "LayoutModel",
            "_view_count": null,
            "_view_module": "@jupyter-widgets/base",
            "_view_module_version": "1.2.0",
            "_view_name": "LayoutView",
            "align_content": null,
            "align_items": null,
            "align_self": null,
            "border": null,
            "bottom": null,
            "display": null,
            "flex": null,
            "flex_flow": null,
            "grid_area": null,
            "grid_auto_columns": null,
            "grid_auto_flow": null,
            "grid_auto_rows": null,
            "grid_column": null,
            "grid_gap": null,
            "grid_row": null,
            "grid_template_areas": null,
            "grid_template_columns": null,
            "grid_template_rows": null,
            "height": null,
            "justify_content": null,
            "justify_items": null,
            "left": null,
            "margin": null,
            "max_height": null,
            "max_width": null,
            "min_height": null,
            "min_width": null,
            "object_fit": null,
            "object_position": null,
            "order": null,
            "overflow": null,
            "overflow_x": null,
            "overflow_y": null,
            "padding": null,
            "right": null,
            "top": null,
            "visibility": null,
            "width": null
          }
        },
        "180002d34eb646729572e8606509da24": {
          "model_module": "@jupyter-widgets/controls",
          "model_name": "ProgressStyleModel",
          "model_module_version": "1.5.0",
          "state": {
            "_model_module": "@jupyter-widgets/controls",
            "_model_module_version": "1.5.0",
            "_model_name": "ProgressStyleModel",
            "_view_count": null,
            "_view_module": "@jupyter-widgets/base",
            "_view_module_version": "1.2.0",
            "_view_name": "StyleView",
            "bar_color": null,
            "description_width": ""
          }
        },
        "6f367cb1ad0c43ba818576cd5898cd6b": {
          "model_module": "@jupyter-widgets/base",
          "model_name": "LayoutModel",
          "model_module_version": "1.2.0",
          "state": {
            "_model_module": "@jupyter-widgets/base",
            "_model_module_version": "1.2.0",
            "_model_name": "LayoutModel",
            "_view_count": null,
            "_view_module": "@jupyter-widgets/base",
            "_view_module_version": "1.2.0",
            "_view_name": "LayoutView",
            "align_content": null,
            "align_items": null,
            "align_self": null,
            "border": null,
            "bottom": null,
            "display": null,
            "flex": null,
            "flex_flow": null,
            "grid_area": null,
            "grid_auto_columns": null,
            "grid_auto_flow": null,
            "grid_auto_rows": null,
            "grid_column": null,
            "grid_gap": null,
            "grid_row": null,
            "grid_template_areas": null,
            "grid_template_columns": null,
            "grid_template_rows": null,
            "height": null,
            "justify_content": null,
            "justify_items": null,
            "left": null,
            "margin": null,
            "max_height": null,
            "max_width": null,
            "min_height": null,
            "min_width": null,
            "object_fit": null,
            "object_position": null,
            "order": null,
            "overflow": null,
            "overflow_x": null,
            "overflow_y": null,
            "padding": null,
            "right": null,
            "top": null,
            "visibility": null,
            "width": null
          }
        },
        "c10f9a0cf4ff49f6aa7ae75f07af34b7": {
          "model_module": "@jupyter-widgets/controls",
          "model_name": "DescriptionStyleModel",
          "model_module_version": "1.5.0",
          "state": {
            "_model_module": "@jupyter-widgets/controls",
            "_model_module_version": "1.5.0",
            "_model_name": "DescriptionStyleModel",
            "_view_count": null,
            "_view_module": "@jupyter-widgets/base",
            "_view_module_version": "1.2.0",
            "_view_name": "StyleView",
            "description_width": ""
          }
        },
        "490a06b451774107be70e07ac32c6e82": {
          "model_module": "@jupyter-widgets/controls",
          "model_name": "HBoxModel",
          "model_module_version": "1.5.0",
          "state": {
            "_dom_classes": [],
            "_model_module": "@jupyter-widgets/controls",
            "_model_module_version": "1.5.0",
            "_model_name": "HBoxModel",
            "_view_count": null,
            "_view_module": "@jupyter-widgets/controls",
            "_view_module_version": "1.5.0",
            "_view_name": "HBoxView",
            "box_style": "",
            "children": [
              "IPY_MODEL_a03268f5e2d94701b799326350ecdfe6",
              "IPY_MODEL_72e02137181d42f3b130fc16e85b27f0",
              "IPY_MODEL_f54ea2e75d9b41f8bea34d9a07eae85e"
            ],
            "layout": "IPY_MODEL_8df15d91408e41538f06d359505f4cf4"
          }
        },
        "a03268f5e2d94701b799326350ecdfe6": {
          "model_module": "@jupyter-widgets/controls",
          "model_name": "HTMLModel",
          "model_module_version": "1.5.0",
          "state": {
            "_dom_classes": [],
            "_model_module": "@jupyter-widgets/controls",
            "_model_module_version": "1.5.0",
            "_model_name": "HTMLModel",
            "_view_count": null,
            "_view_module": "@jupyter-widgets/controls",
            "_view_module_version": "1.5.0",
            "_view_name": "HTMLView",
            "description": "",
            "description_tooltip": null,
            "layout": "IPY_MODEL_bb8546a647ea466cb43853848fbbb67c",
            "placeholder": "​",
            "style": "IPY_MODEL_26cb6622260e4651af22dd76eef2e65b",
            "value": "Downloading: 100%"
          }
        },
        "72e02137181d42f3b130fc16e85b27f0": {
          "model_module": "@jupyter-widgets/controls",
          "model_name": "FloatProgressModel",
          "model_module_version": "1.5.0",
          "state": {
            "_dom_classes": [],
            "_model_module": "@jupyter-widgets/controls",
            "_model_module_version": "1.5.0",
            "_model_name": "FloatProgressModel",
            "_view_count": null,
            "_view_module": "@jupyter-widgets/controls",
            "_view_module_version": "1.5.0",
            "_view_name": "ProgressView",
            "bar_style": "success",
            "description": "",
            "description_tooltip": null,
            "layout": "IPY_MODEL_07b2ee1ea18e4454869246ad843e0d7a",
            "max": 150,
            "min": 0,
            "orientation": "horizontal",
            "style": "IPY_MODEL_098b1977bad24480b5a2c3a96da9a374",
            "value": 150
          }
        },
        "f54ea2e75d9b41f8bea34d9a07eae85e": {
          "model_module": "@jupyter-widgets/controls",
          "model_name": "HTMLModel",
          "model_module_version": "1.5.0",
          "state": {
            "_dom_classes": [],
            "_model_module": "@jupyter-widgets/controls",
            "_model_module_version": "1.5.0",
            "_model_name": "HTMLModel",
            "_view_count": null,
            "_view_module": "@jupyter-widgets/controls",
            "_view_module_version": "1.5.0",
            "_view_name": "HTMLView",
            "description": "",
            "description_tooltip": null,
            "layout": "IPY_MODEL_2d0f1476c58d44cfb6d57bb3cb08da17",
            "placeholder": "​",
            "style": "IPY_MODEL_9fee62b9be24489089ab1000df368a99",
            "value": " 150/150 [00:00&lt;00:00, 4.01kB/s]"
          }
        },
        "8df15d91408e41538f06d359505f4cf4": {
          "model_module": "@jupyter-widgets/base",
          "model_name": "LayoutModel",
          "model_module_version": "1.2.0",
          "state": {
            "_model_module": "@jupyter-widgets/base",
            "_model_module_version": "1.2.0",
            "_model_name": "LayoutModel",
            "_view_count": null,
            "_view_module": "@jupyter-widgets/base",
            "_view_module_version": "1.2.0",
            "_view_name": "LayoutView",
            "align_content": null,
            "align_items": null,
            "align_self": null,
            "border": null,
            "bottom": null,
            "display": null,
            "flex": null,
            "flex_flow": null,
            "grid_area": null,
            "grid_auto_columns": null,
            "grid_auto_flow": null,
            "grid_auto_rows": null,
            "grid_column": null,
            "grid_gap": null,
            "grid_row": null,
            "grid_template_areas": null,
            "grid_template_columns": null,
            "grid_template_rows": null,
            "height": null,
            "justify_content": null,
            "justify_items": null,
            "left": null,
            "margin": null,
            "max_height": null,
            "max_width": null,
            "min_height": null,
            "min_width": null,
            "object_fit": null,
            "object_position": null,
            "order": null,
            "overflow": null,
            "overflow_x": null,
            "overflow_y": null,
            "padding": null,
            "right": null,
            "top": null,
            "visibility": null,
            "width": null
          }
        },
        "bb8546a647ea466cb43853848fbbb67c": {
          "model_module": "@jupyter-widgets/base",
          "model_name": "LayoutModel",
          "model_module_version": "1.2.0",
          "state": {
            "_model_module": "@jupyter-widgets/base",
            "_model_module_version": "1.2.0",
            "_model_name": "LayoutModel",
            "_view_count": null,
            "_view_module": "@jupyter-widgets/base",
            "_view_module_version": "1.2.0",
            "_view_name": "LayoutView",
            "align_content": null,
            "align_items": null,
            "align_self": null,
            "border": null,
            "bottom": null,
            "display": null,
            "flex": null,
            "flex_flow": null,
            "grid_area": null,
            "grid_auto_columns": null,
            "grid_auto_flow": null,
            "grid_auto_rows": null,
            "grid_column": null,
            "grid_gap": null,
            "grid_row": null,
            "grid_template_areas": null,
            "grid_template_columns": null,
            "grid_template_rows": null,
            "height": null,
            "justify_content": null,
            "justify_items": null,
            "left": null,
            "margin": null,
            "max_height": null,
            "max_width": null,
            "min_height": null,
            "min_width": null,
            "object_fit": null,
            "object_position": null,
            "order": null,
            "overflow": null,
            "overflow_x": null,
            "overflow_y": null,
            "padding": null,
            "right": null,
            "top": null,
            "visibility": null,
            "width": null
          }
        },
        "26cb6622260e4651af22dd76eef2e65b": {
          "model_module": "@jupyter-widgets/controls",
          "model_name": "DescriptionStyleModel",
          "model_module_version": "1.5.0",
          "state": {
            "_model_module": "@jupyter-widgets/controls",
            "_model_module_version": "1.5.0",
            "_model_name": "DescriptionStyleModel",
            "_view_count": null,
            "_view_module": "@jupyter-widgets/base",
            "_view_module_version": "1.2.0",
            "_view_name": "StyleView",
            "description_width": ""
          }
        },
        "07b2ee1ea18e4454869246ad843e0d7a": {
          "model_module": "@jupyter-widgets/base",
          "model_name": "LayoutModel",
          "model_module_version": "1.2.0",
          "state": {
            "_model_module": "@jupyter-widgets/base",
            "_model_module_version": "1.2.0",
            "_model_name": "LayoutModel",
            "_view_count": null,
            "_view_module": "@jupyter-widgets/base",
            "_view_module_version": "1.2.0",
            "_view_name": "LayoutView",
            "align_content": null,
            "align_items": null,
            "align_self": null,
            "border": null,
            "bottom": null,
            "display": null,
            "flex": null,
            "flex_flow": null,
            "grid_area": null,
            "grid_auto_columns": null,
            "grid_auto_flow": null,
            "grid_auto_rows": null,
            "grid_column": null,
            "grid_gap": null,
            "grid_row": null,
            "grid_template_areas": null,
            "grid_template_columns": null,
            "grid_template_rows": null,
            "height": null,
            "justify_content": null,
            "justify_items": null,
            "left": null,
            "margin": null,
            "max_height": null,
            "max_width": null,
            "min_height": null,
            "min_width": null,
            "object_fit": null,
            "object_position": null,
            "order": null,
            "overflow": null,
            "overflow_x": null,
            "overflow_y": null,
            "padding": null,
            "right": null,
            "top": null,
            "visibility": null,
            "width": null
          }
        },
        "098b1977bad24480b5a2c3a96da9a374": {
          "model_module": "@jupyter-widgets/controls",
          "model_name": "ProgressStyleModel",
          "model_module_version": "1.5.0",
          "state": {
            "_model_module": "@jupyter-widgets/controls",
            "_model_module_version": "1.5.0",
            "_model_name": "ProgressStyleModel",
            "_view_count": null,
            "_view_module": "@jupyter-widgets/base",
            "_view_module_version": "1.2.0",
            "_view_name": "StyleView",
            "bar_color": null,
            "description_width": ""
          }
        },
        "2d0f1476c58d44cfb6d57bb3cb08da17": {
          "model_module": "@jupyter-widgets/base",
          "model_name": "LayoutModel",
          "model_module_version": "1.2.0",
          "state": {
            "_model_module": "@jupyter-widgets/base",
            "_model_module_version": "1.2.0",
            "_model_name": "LayoutModel",
            "_view_count": null,
            "_view_module": "@jupyter-widgets/base",
            "_view_module_version": "1.2.0",
            "_view_name": "LayoutView",
            "align_content": null,
            "align_items": null,
            "align_self": null,
            "border": null,
            "bottom": null,
            "display": null,
            "flex": null,
            "flex_flow": null,
            "grid_area": null,
            "grid_auto_columns": null,
            "grid_auto_flow": null,
            "grid_auto_rows": null,
            "grid_column": null,
            "grid_gap": null,
            "grid_row": null,
            "grid_template_areas": null,
            "grid_template_columns": null,
            "grid_template_rows": null,
            "height": null,
            "justify_content": null,
            "justify_items": null,
            "left": null,
            "margin": null,
            "max_height": null,
            "max_width": null,
            "min_height": null,
            "min_width": null,
            "object_fit": null,
            "object_position": null,
            "order": null,
            "overflow": null,
            "overflow_x": null,
            "overflow_y": null,
            "padding": null,
            "right": null,
            "top": null,
            "visibility": null,
            "width": null
          }
        },
        "9fee62b9be24489089ab1000df368a99": {
          "model_module": "@jupyter-widgets/controls",
          "model_name": "DescriptionStyleModel",
          "model_module_version": "1.5.0",
          "state": {
            "_model_module": "@jupyter-widgets/controls",
            "_model_module_version": "1.5.0",
            "_model_name": "DescriptionStyleModel",
            "_view_count": null,
            "_view_module": "@jupyter-widgets/base",
            "_view_module_version": "1.2.0",
            "_view_name": "StyleView",
            "description_width": ""
          }
        }
      }
    }
  },
  "nbformat": 4,
  "nbformat_minor": 0
}